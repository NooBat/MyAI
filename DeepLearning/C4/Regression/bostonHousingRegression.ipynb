{
 "cells": [
  {
   "cell_type": "markdown",
   "metadata": {},
   "source": [
    "# *Predicting house prices: A regression example*"
   ]
  },
  {
   "cell_type": "markdown",
   "metadata": {},
   "source": [
    "The two previous notebooks were considered classification problems, where the goal is to predict a single discrete label of an input data point. In this notebook, we will look into another common problem in machine learning, called *regression*. \n",
    "\n",
    "*Regression* consists of predicting a continuous value instead of a discrete label: for example, predicting the temperature tomorrow, given meteorological data or predicting the time that a software project will take to complete, given its specifications.\n",
    "\n",
    "Without further ado, let's start importing our libraries and the dataset we are using for this notebook."
   ]
  },
  {
   "cell_type": "code",
   "execution_count": 1,
   "metadata": {},
   "outputs": [],
   "source": [
    "import tensorflow as tf\n",
    "from tensorflow import keras\n",
    "from keras import layers\n",
    "from keras.datasets import boston_housing\n",
    "import matplotlib.pyplot as plt\n",
    "import numpy as np\n",
    "\n",
    "plt.rcParams['figure.figsize'] = (8,8)"
   ]
  },
  {
   "cell_type": "markdown",
   "metadata": {},
   "source": [
    "## The Boston housing price dataset"
   ]
  },
  {
   "cell_type": "markdown",
   "metadata": {},
   "source": [
    "One of the most common tasks for regression is predicting the price. That's why for this notebook, we are going to use the Boston housing price dataset, which consists of the median price of homes in a given Boston suburb in the mid-1970s, given data points about the suburb such as crime rate, the local property tax rate, etc. \n",
    "\n",
    "However, this dataset has very little data points: only 506, splitting between 404 training examples and 102 test samples, so we have to come up with another strategy to train our model, namely ***K-fold cross validation***. Additionally, each feature in the input data has a different scale. For example, some values are proportional, which take values between 0 and 1, others take values between 1 and 12, others take values between 0 and 100, etc. In this case, we will learn a new term called ***Data Normalization***.\n",
    "\n",
    "Ok, now let's load our dataset."
   ]
  },
  {
   "cell_type": "code",
   "execution_count": 2,
   "metadata": {},
   "outputs": [],
   "source": [
    "(train_data, train_targets), (test_data, test_targets) = boston_housing.load_data()"
   ]
  },
  {
   "cell_type": "markdown",
   "metadata": {},
   "source": [
    "Let's take a further look into the data."
   ]
  },
  {
   "cell_type": "code",
   "execution_count": 3,
   "metadata": {},
   "outputs": [
    {
     "name": "stdout",
     "output_type": "stream",
     "text": [
      "(404, 13) (404,)\n",
      "(102, 13) (102,)\n"
     ]
    }
   ],
   "source": [
    "print(train_data.shape, train_targets.shape)\n",
    "print(test_data.shape, test_targets.shape)"
   ]
  },
  {
   "cell_type": "markdown",
   "metadata": {},
   "source": [
    "So the training set have 404 data points. The `train_data` also includes 13 numerical features."
   ]
  },
  {
   "cell_type": "code",
   "execution_count": 4,
   "metadata": {},
   "outputs": [
    {
     "name": "stdout",
     "output_type": "stream",
     "text": [
      "[15.2 42.3 50.  21.1 17.7]\n"
     ]
    }
   ],
   "source": [
    "print(train_targets[:5])"
   ]
  },
  {
   "cell_type": "markdown",
   "metadata": {},
   "source": [
    "The `train_targets` are the median values of owner-occupied homes, in thousands of dollars."
   ]
  },
  {
   "cell_type": "markdown",
   "metadata": {},
   "source": [
    "## Preparing the data"
   ]
  },
  {
   "cell_type": "markdown",
   "metadata": {},
   "source": [
    "We did see that our training features take on different range of values, and this is not the desirable input. The model could adapt to it but it would definitely make learning harder.\n",
    "\n",
    "And the way to deal with this is by doing **feature-wise normalization**: for each feature, we subtract the mean of the feature and then divide by the standard deviation, so that the feature is centered around 0 and has a unit standard deviation.\n",
    "\n",
    "Here is an implementation of the feature-wise normalization in NumPy:"
   ]
  },
  {
   "cell_type": "code",
   "execution_count": 5,
   "metadata": {},
   "outputs": [],
   "source": [
    "mean = train_data.mean(axis=0)\n",
    "train_data -= mean\n",
    "std = train_data.std(axis=0)\n",
    "train_data /= std\n",
    "\n",
    "test_data -= mean\n",
    "test_data /= std"
   ]
  },
  {
   "cell_type": "markdown",
   "metadata": {},
   "source": [
    "Note that the quantities used for normalizing the test data are computed using the training data. You should never use any quantity computed on the test data in your workflow, even for something as simple as data normalization."
   ]
  },
  {
   "cell_type": "markdown",
   "metadata": {},
   "source": [
    "## Building the model"
   ]
  },
  {
   "cell_type": "markdown",
   "metadata": {},
   "source": [
    "Because so few samples are available, we’ll use a very small model with two intermediate layers, each with 64 units. In general, the less training data you have, the worse overfitting will be, and using a small model is one way to mitigate overfitting."
   ]
  },
  {
   "cell_type": "code",
   "execution_count": 6,
   "metadata": {},
   "outputs": [],
   "source": [
    "def build_model():\n",
    "    model = keras.Sequential([\n",
    "        layers.Dense(64, activation='relu'),\n",
    "        layers.Dense(64, activation='relu'),\n",
    "        layers.Dense(1)\n",
    "    ])\n",
    "\n",
    "    model.compile(optimizer='rmsprop',\n",
    "                  loss='mse',\n",
    "                  metrics=['mae'])\n",
    "    \n",
    "    return model"
   ]
  },
  {
   "cell_type": "markdown",
   "metadata": {},
   "source": [
    "The last layer has 1 units and no activation function, which will make it a linear layer. By doing this, the model will be able to predict values in any range.\n",
    "\n",
    "Compiling process is also difference, for `loss`, we are using `mse` which is **mean squared error**, the square of the difference between the predictions and the targets. This is a widely used loss function for regression problems.\n",
    "\n",
    "In `metrics` argument, instead of `accuracy` (since in regression problems there are no such things as accuracy), we are going to monitor a difference metric called `mae`, which is `mean absolute error`, which is the absolute value of the difference between the predicted value and the target value. For example, if our `mae` is 0.5 in this problem, that means we are off from the targets by $500 on average."
   ]
  },
  {
   "cell_type": "markdown",
   "metadata": {},
   "source": [
    "## Validating the approach using K-fold cross validation"
   ]
  },
  {
   "cell_type": "markdown",
   "metadata": {},
   "source": [
    "In cases where our training data is abundant, we can split our training set into train and validation set. However, this time, our training data is scarced. If we do it the usual way, we will end up with little training data and very small validation data, which will affect the validation scores depending on which data points we choose for validating.\n",
    "\n",
    "In order to avoid that, the best practice is to use **K-fold cross-validation**.\n",
    "\n",
    "**K-fold cross validation** consists of splitting the data into K partitions, instantiating K identical models, and training each one on K - 1 partitions while evaluating on the remaining partition. The validation score for the model used is then the average of the K validation scores obtained."
   ]
  },
  {
   "cell_type": "code",
   "execution_count": 7,
   "metadata": {},
   "outputs": [
    {
     "name": "stdout",
     "output_type": "stream",
     "text": [
      "Processing fold #1\n",
      "Metal device set to: Apple M1\n",
      "\n",
      "systemMemory: 16.00 GB\n",
      "maxCacheSize: 5.33 GB\n",
      "\n"
     ]
    },
    {
     "name": "stderr",
     "output_type": "stream",
     "text": [
      "2022-04-11 03:09:01.732729: I tensorflow/core/common_runtime/pluggable_device/pluggable_device_factory.cc:305] Could not identify NUMA node of platform GPU ID 0, defaulting to 0. Your kernel may not have been built with NUMA support.\n",
      "2022-04-11 03:09:01.732882: I tensorflow/core/common_runtime/pluggable_device/pluggable_device_factory.cc:271] Created TensorFlow device (/job:localhost/replica:0/task:0/device:GPU:0 with 0 MB memory) -> physical PluggableDevice (device: 0, name: METAL, pci bus id: <undefined>)\n",
      "2022-04-11 03:09:01.923424: W tensorflow/core/platform/profile_utils/cpu_utils.cc:128] Failed to get CPU frequency: 0 Hz\n",
      "2022-04-11 03:09:02.387408: I tensorflow/core/grappler/optimizers/custom_graph_optimizer_registry.cc:113] Plugin optimizer for device_type GPU is enabled.\n",
      "2022-04-11 03:09:03.009014: I tensorflow/core/grappler/optimizers/custom_graph_optimizer_registry.cc:113] Plugin optimizer for device_type GPU is enabled.\n"
     ]
    },
    {
     "name": "stdout",
     "output_type": "stream",
     "text": [
      "Validation error: 2.2237252385616304\n",
      "Processing fold #2\n"
     ]
    },
    {
     "name": "stderr",
     "output_type": "stream",
     "text": [
      "2022-04-11 03:10:13.880385: I tensorflow/core/grappler/optimizers/custom_graph_optimizer_registry.cc:113] Plugin optimizer for device_type GPU is enabled.\n",
      "2022-04-11 03:10:14.218346: I tensorflow/core/grappler/optimizers/custom_graph_optimizer_registry.cc:113] Plugin optimizer for device_type GPU is enabled.\n"
     ]
    },
    {
     "name": "stdout",
     "output_type": "stream",
     "text": [
      "Validation error: 2.8112025303840635\n",
      "Processing fold #3\n"
     ]
    },
    {
     "name": "stderr",
     "output_type": "stream",
     "text": [
      "2022-04-11 03:11:17.682099: I tensorflow/core/grappler/optimizers/custom_graph_optimizer_registry.cc:113] Plugin optimizer for device_type GPU is enabled.\n",
      "2022-04-11 03:11:18.038207: I tensorflow/core/grappler/optimizers/custom_graph_optimizer_registry.cc:113] Plugin optimizer for device_type GPU is enabled.\n"
     ]
    },
    {
     "name": "stdout",
     "output_type": "stream",
     "text": [
      "Validation error: 2.5152979674339293\n",
      "Processing fold #4\n"
     ]
    },
    {
     "name": "stderr",
     "output_type": "stream",
     "text": [
      "2022-04-11 03:12:21.063756: I tensorflow/core/grappler/optimizers/custom_graph_optimizer_registry.cc:113] Plugin optimizer for device_type GPU is enabled.\n",
      "2022-04-11 03:12:21.425850: I tensorflow/core/grappler/optimizers/custom_graph_optimizer_registry.cc:113] Plugin optimizer for device_type GPU is enabled.\n"
     ]
    },
    {
     "name": "stdout",
     "output_type": "stream",
     "text": [
      "Validation error: 2.387048321247101\n"
     ]
    }
   ],
   "source": [
    "k = 4\n",
    "num_val_samples = len(train_data) // k\n",
    "num_epochs = 500\n",
    "all_mae_scores = []\n",
    "\n",
    "for i in range(k):\n",
    "    print(f\"Processing fold #{i + 1}\")\n",
    "\n",
    "    val_data = train_data[i * num_val_samples : (i + 1) * num_val_samples]\n",
    "    val_targets = train_targets[i * num_val_samples : (i + 1) * num_val_samples]\n",
    "\n",
    "    partial_train_data = np.concatenate(\n",
    "        [train_data[: i * num_val_samples],\n",
    "         train_data[(i + 1) * num_val_samples :]],\n",
    "         axis=0)\n",
    "    partial_train_targets = np.concatenate(\n",
    "        [train_targets[: i * num_val_samples],\n",
    "         train_targets[(i + 1) * num_val_samples : ]],\n",
    "         axis=0)\n",
    "    \n",
    "    model = build_model()\n",
    "\n",
    "    history = model.fit(partial_train_data, partial_train_targets,\n",
    "                        validation_data = (val_data, val_targets),\n",
    "                        epochs=num_epochs, batch_size=16, verbose=0)\n",
    "\n",
    "    mae_history = history.history['val_mae']\n",
    "    print(f'Validation error: {np.mean(mae_history)}')\n",
    "    all_mae_scores.append(mae_history)"
   ]
  },
  {
   "cell_type": "code",
   "execution_count": 8,
   "metadata": {},
   "outputs": [
    {
     "name": "stdout",
     "output_type": "stream",
     "text": [
      "2.4182077646255493\n"
     ]
    }
   ],
   "source": [
    "print(np.mean([mae_score[-1] for mae_score in all_mae_scores]))"
   ]
  },
  {
   "cell_type": "markdown",
   "metadata": {},
   "source": [
    "So our validation score is 2.394, which means that on average our predictions is off by $2,394, which is pretty good for prices ranging from $10,000 to $50,000.\n",
    "\n",
    "We can compute the average of the per-epoch MAE scores for all folds."
   ]
  },
  {
   "cell_type": "code",
   "execution_count": 9,
   "metadata": {},
   "outputs": [],
   "source": [
    "average_mae_history = [\n",
    "    np.mean([x[i] for x in all_mae_scores]) for i in range(num_epochs)]"
   ]
  },
  {
   "cell_type": "markdown",
   "metadata": {},
   "source": [
    "Let's plot this so we can see when will it start overfitting."
   ]
  },
  {
   "cell_type": "code",
   "execution_count": 10,
   "metadata": {},
   "outputs": [
    {
     "data": {
      "image/png": "[encoded data removed]",
      "image/svg+xml": "<?xml version=\"1.0\" encoding=\"utf-8\" standalone=\"no\"?>\n<!DOCTYPE svg PUBLIC \"-//W3C//DTD SVG 1.1//EN\"\n  \"http://www.w3.org/Graphics/SVG/1.1/DTD/svg11.dtd\">\n<svg xmlns:xlink=\"http://www.w3.org/1999/xlink\" width=\"503.74375pt\" height=\"479.63625pt\" viewBox=\"0 0 503.74375 479.63625\" xmlns=\"http://www.w3.org/2000/svg\" version=\"1.1\">\n <metadata>\n  <rdf:RDF xmlns:dc=\"http://purl.org/dc/elements/1.1/\" xmlns:cc=\"http://creativecommons.org/ns#\" xmlns:rdf=\"http://www.w3.org/1999/02/22-rdf-syntax-ns#\">\n   <cc:Work>\n    <dc:type rdf:resource=\"http://purl.org/dc/dcmitype/StillImage\"/>\n    <dc:date>2022-04-11T03:13:24.561645</dc:date>\n    <dc:format>image/svg+xml</dc:format>\n    <dc:creator>\n     <cc:Agent>\n      <dc:title>Matplotlib v3.5.1, https://matplotlib.org/</dc:title>\n     </cc:Agent>\n    </dc:creator>\n   </cc:Work>\n  </rdf:RDF>\n </metadata>\n <defs>\n  <style type=\"text/css\">*{stroke-linejoin: round; stroke-linecap: butt}</style>\n </defs>\n <g id=\"figure_1\">\n  <g id=\"patch_1\">\n   <path d=\"M 0 479.63625 \nL 503.74375 479.63625 \nL 503.74375 0 \nL 0 0 \nL 0 479.63625 \nz\n\" style=\"fill: none\"/>\n  </g>\n  <g id=\"axes_1\">\n   <g id=\"patch_2\">\n    <path d=\"M 50.14375 442.08 \nL 496.54375 442.08 \nL 496.54375 7.2 \nL 50.14375 7.2 \nz\n\" style=\"fill: #ffffff\"/>\n   </g>\n   <g id=\"matplotlib.axis_1\">\n    <g id=\"xtick_1\">\n     <g id=\"line2d_1\">\n      <defs>\n       <path id=\"m4decbcadf7\" d=\"M 0 0 \nL 0 3.5 \n\" style=\"stroke: #000000; stroke-width: 0.8\"/>\n      </defs>\n      <g>\n       <use xlink:href=\"#m4decbcadf7\" x=\"69.621396\" y=\"442.08\" style=\"stroke: #000000; stroke-width: 0.8\"/>\n      </g>\n     </g>\n     <g id=\"text_1\">\n      <!-- 0 -->\n      <g transform=\"translate(66.440146 456.678437)scale(0.1 -0.1)\">\n       <defs>\n        <path id=\"DejaVuSans-30\" d=\"M 2034 4250 \nQ 1547 4250 1301 3770 \nQ 1056 3291 1056 2328 \nQ 1056 1369 1301 889 \nQ 1547 409 2034 409 \nQ 2525 409 2770 889 \nQ 3016 1369 3016 2328 \nQ 3016 3291 2770 3770 \nQ 2525 4250 2034 4250 \nz\nM 2034 4750 \nQ 2819 4750 3233 4129 \nQ 3647 3509 3647 2328 \nQ 3647 1150 3233 529 \nQ 2819 -91 2034 -91 \nQ 1250 -91 836 529 \nQ 422 1150 422 2328 \nQ 422 3509 836 4129 \nQ 1250 4750 2034 4750 \nz\n\" transform=\"scale(0.015625)\"/>\n       </defs>\n       <use xlink:href=\"#DejaVuSans-30\"/>\n      </g>\n     </g>\n    </g>\n    <g id=\"xtick_2\">\n     <g id=\"line2d_2\">\n      <g>\n       <use xlink:href=\"#m4decbcadf7\" x=\"150.947685\" y=\"442.08\" style=\"stroke: #000000; stroke-width: 0.8\"/>\n      </g>\n     </g>\n     <g id=\"text_2\">\n      <!-- 100 -->\n      <g transform=\"translate(141.403935 456.678437)scale(0.1 -0.1)\">\n       <defs>\n        <path id=\"DejaVuSans-31\" d=\"M 794 531 \nL 1825 531 \nL 1825 4091 \nL 703 3866 \nL 703 4441 \nL 1819 4666 \nL 2450 4666 \nL 2450 531 \nL 3481 531 \nL 3481 0 \nL 794 0 \nL 794 531 \nz\n\" transform=\"scale(0.015625)\"/>\n       </defs>\n       <use xlink:href=\"#DejaVuSans-31\"/>\n       <use xlink:href=\"#DejaVuSans-30\" x=\"63.623047\"/>\n       <use xlink:href=\"#DejaVuSans-30\" x=\"127.246094\"/>\n      </g>\n     </g>\n    </g>\n    <g id=\"xtick_3\">\n     <g id=\"line2d_3\">\n      <g>\n       <use xlink:href=\"#m4decbcadf7\" x=\"232.273974\" y=\"442.08\" style=\"stroke: #000000; stroke-width: 0.8\"/>\n      </g>\n     </g>\n     <g id=\"text_3\">\n      <!-- 200 -->\n      <g transform=\"translate(222.730224 456.678437)scale(0.1 -0.1)\">\n       <defs>\n        <path id=\"DejaVuSans-32\" d=\"M 1228 531 \nL 3431 531 \nL 3431 0 \nL 469 0 \nL 469 531 \nQ 828 903 1448 1529 \nQ 2069 2156 2228 2338 \nQ 2531 2678 2651 2914 \nQ 2772 3150 2772 3378 \nQ 2772 3750 2511 3984 \nQ 2250 4219 1831 4219 \nQ 1534 4219 1204 4116 \nQ 875 4013 500 3803 \nL 500 4441 \nQ 881 4594 1212 4672 \nQ 1544 4750 1819 4750 \nQ 2544 4750 2975 4387 \nQ 3406 4025 3406 3419 \nQ 3406 3131 3298 2873 \nQ 3191 2616 2906 2266 \nQ 2828 2175 2409 1742 \nQ 1991 1309 1228 531 \nz\n\" transform=\"scale(0.015625)\"/>\n       </defs>\n       <use xlink:href=\"#DejaVuSans-32\"/>\n       <use xlink:href=\"#DejaVuSans-30\" x=\"63.623047\"/>\n       <use xlink:href=\"#DejaVuSans-30\" x=\"127.246094\"/>\n      </g>\n     </g>\n    </g>\n    <g id=\"xtick_4\">\n     <g id=\"line2d_4\">\n      <g>\n       <use xlink:href=\"#m4decbcadf7\" x=\"313.600263\" y=\"442.08\" style=\"stroke: #000000; stroke-width: 0.8\"/>\n      </g>\n     </g>\n     <g id=\"text_4\">\n      <!-- 300 -->\n      <g transform=\"translate(304.056513 456.678437)scale(0.1 -0.1)\">\n       <defs>\n        <path id=\"DejaVuSans-33\" d=\"M 2597 2516 \nQ 3050 2419 3304 2112 \nQ 3559 1806 3559 1356 \nQ 3559 666 3084 287 \nQ 2609 -91 1734 -91 \nQ 1441 -91 1130 -33 \nQ 819 25 488 141 \nL 488 750 \nQ 750 597 1062 519 \nQ 1375 441 1716 441 \nQ 2309 441 2620 675 \nQ 2931 909 2931 1356 \nQ 2931 1769 2642 2001 \nQ 2353 2234 1838 2234 \nL 1294 2234 \nL 1294 2753 \nL 1863 2753 \nQ 2328 2753 2575 2939 \nQ 2822 3125 2822 3475 \nQ 2822 3834 2567 4026 \nQ 2313 4219 1838 4219 \nQ 1578 4219 1281 4162 \nQ 984 4106 628 3988 \nL 628 4550 \nQ 988 4650 1302 4700 \nQ 1616 4750 1894 4750 \nQ 2613 4750 3031 4423 \nQ 3450 4097 3450 3541 \nQ 3450 3153 3228 2886 \nQ 3006 2619 2597 2516 \nz\n\" transform=\"scale(0.015625)\"/>\n       </defs>\n       <use xlink:href=\"#DejaVuSans-33\"/>\n       <use xlink:href=\"#DejaVuSans-30\" x=\"63.623047\"/>\n       <use xlink:href=\"#DejaVuSans-30\" x=\"127.246094\"/>\n      </g>\n     </g>\n    </g>\n    <g id=\"xtick_5\">\n     <g id=\"line2d_5\">\n      <g>\n       <use xlink:href=\"#m4decbcadf7\" x=\"394.926552\" y=\"442.08\" style=\"stroke: #000000; stroke-width: 0.8\"/>\n      </g>\n     </g>\n     <g id=\"text_5\">\n      <!-- 400 -->\n      <g transform=\"translate(385.382802 456.678437)scale(0.1 -0.1)\">\n       <defs>\n        <path id=\"DejaVuSans-34\" d=\"M 2419 4116 \nL 825 1625 \nL 2419 1625 \nL 2419 4116 \nz\nM 2253 4666 \nL 3047 4666 \nL 3047 1625 \nL 3713 1625 \nL 3713 1100 \nL 3047 1100 \nL 3047 0 \nL 2419 0 \nL 2419 1100 \nL 313 1100 \nL 313 1709 \nL 2253 4666 \nz\n\" transform=\"scale(0.015625)\"/>\n       </defs>\n       <use xlink:href=\"#DejaVuSans-34\"/>\n       <use xlink:href=\"#DejaVuSans-30\" x=\"63.623047\"/>\n       <use xlink:href=\"#DejaVuSans-30\" x=\"127.246094\"/>\n      </g>\n     </g>\n    </g>\n    <g id=\"xtick_6\">\n     <g id=\"line2d_6\">\n      <g>\n       <use xlink:href=\"#m4decbcadf7\" x=\"476.252841\" y=\"442.08\" style=\"stroke: #000000; stroke-width: 0.8\"/>\n      </g>\n     </g>\n     <g id=\"text_6\">\n      <!-- 500 -->\n      <g transform=\"translate(466.709091 456.678437)scale(0.1 -0.1)\">\n       <defs>\n        <path id=\"DejaVuSans-35\" d=\"M 691 4666 \nL 3169 4666 \nL 3169 4134 \nL 1269 4134 \nL 1269 2991 \nQ 1406 3038 1543 3061 \nQ 1681 3084 1819 3084 \nQ 2600 3084 3056 2656 \nQ 3513 2228 3513 1497 \nQ 3513 744 3044 326 \nQ 2575 -91 1722 -91 \nQ 1428 -91 1123 -41 \nQ 819 9 494 109 \nL 494 744 \nQ 775 591 1075 516 \nQ 1375 441 1709 441 \nQ 2250 441 2565 725 \nQ 2881 1009 2881 1497 \nQ 2881 1984 2565 2268 \nQ 2250 2553 1709 2553 \nQ 1456 2553 1204 2497 \nQ 953 2441 691 2322 \nL 691 4666 \nz\n\" transform=\"scale(0.015625)\"/>\n       </defs>\n       <use xlink:href=\"#DejaVuSans-35\"/>\n       <use xlink:href=\"#DejaVuSans-30\" x=\"63.623047\"/>\n       <use xlink:href=\"#DejaVuSans-30\" x=\"127.246094\"/>\n      </g>\n     </g>\n    </g>\n    <g id=\"text_7\">\n     <!-- Epochs -->\n     <g transform=\"translate(255.428125 470.356562)scale(0.1 -0.1)\">\n      <defs>\n       <path id=\"DejaVuSans-45\" d=\"M 628 4666 \nL 3578 4666 \nL 3578 4134 \nL 1259 4134 \nL 1259 2753 \nL 3481 2753 \nL 3481 2222 \nL 1259 2222 \nL 1259 531 \nL 3634 531 \nL 3634 0 \nL 628 0 \nL 628 4666 \nz\n\" transform=\"scale(0.015625)\"/>\n       <path id=\"DejaVuSans-70\" d=\"M 1159 525 \nL 1159 -1331 \nL 581 -1331 \nL 581 3500 \nL 1159 3500 \nL 1159 2969 \nQ 1341 3281 1617 3432 \nQ 1894 3584 2278 3584 \nQ 2916 3584 3314 3078 \nQ 3713 2572 3713 1747 \nQ 3713 922 3314 415 \nQ 2916 -91 2278 -91 \nQ 1894 -91 1617 61 \nQ 1341 213 1159 525 \nz\nM 3116 1747 \nQ 3116 2381 2855 2742 \nQ 2594 3103 2138 3103 \nQ 1681 3103 1420 2742 \nQ 1159 2381 1159 1747 \nQ 1159 1113 1420 752 \nQ 1681 391 2138 391 \nQ 2594 391 2855 752 \nQ 3116 1113 3116 1747 \nz\n\" transform=\"scale(0.015625)\"/>\n       <path id=\"DejaVuSans-6f\" d=\"M 1959 3097 \nQ 1497 3097 1228 2736 \nQ 959 2375 959 1747 \nQ 959 1119 1226 758 \nQ 1494 397 1959 397 \nQ 2419 397 2687 759 \nQ 2956 1122 2956 1747 \nQ 2956 2369 2687 2733 \nQ 2419 3097 1959 3097 \nz\nM 1959 3584 \nQ 2709 3584 3137 3096 \nQ 3566 2609 3566 1747 \nQ 3566 888 3137 398 \nQ 2709 -91 1959 -91 \nQ 1206 -91 779 398 \nQ 353 888 353 1747 \nQ 353 2609 779 3096 \nQ 1206 3584 1959 3584 \nz\n\" transform=\"scale(0.015625)\"/>\n       <path id=\"DejaVuSans-63\" d=\"M 3122 3366 \nL 3122 2828 \nQ 2878 2963 2633 3030 \nQ 2388 3097 2138 3097 \nQ 1578 3097 1268 2742 \nQ 959 2388 959 1747 \nQ 959 1106 1268 751 \nQ 1578 397 2138 397 \nQ 2388 397 2633 464 \nQ 2878 531 3122 666 \nL 3122 134 \nQ 2881 22 2623 -34 \nQ 2366 -91 2075 -91 \nQ 1284 -91 818 406 \nQ 353 903 353 1747 \nQ 353 2603 823 3093 \nQ 1294 3584 2113 3584 \nQ 2378 3584 2631 3529 \nQ 2884 3475 3122 3366 \nz\n\" transform=\"scale(0.015625)\"/>\n       <path id=\"DejaVuSans-68\" d=\"M 3513 2113 \nL 3513 0 \nL 2938 0 \nL 2938 2094 \nQ 2938 2591 2744 2837 \nQ 2550 3084 2163 3084 \nQ 1697 3084 1428 2787 \nQ 1159 2491 1159 1978 \nL 1159 0 \nL 581 0 \nL 581 4863 \nL 1159 4863 \nL 1159 2956 \nQ 1366 3272 1645 3428 \nQ 1925 3584 2291 3584 \nQ 2894 3584 3203 3211 \nQ 3513 2838 3513 2113 \nz\n\" transform=\"scale(0.015625)\"/>\n       <path id=\"DejaVuSans-73\" d=\"M 2834 3397 \nL 2834 2853 \nQ 2591 2978 2328 3040 \nQ 2066 3103 1784 3103 \nQ 1356 3103 1142 2972 \nQ 928 2841 928 2578 \nQ 928 2378 1081 2264 \nQ 1234 2150 1697 2047 \nL 1894 2003 \nQ 2506 1872 2764 1633 \nQ 3022 1394 3022 966 \nQ 3022 478 2636 193 \nQ 2250 -91 1575 -91 \nQ 1294 -91 989 -36 \nQ 684 19 347 128 \nL 347 722 \nQ 666 556 975 473 \nQ 1284 391 1588 391 \nQ 1994 391 2212 530 \nQ 2431 669 2431 922 \nQ 2431 1156 2273 1281 \nQ 2116 1406 1581 1522 \nL 1381 1569 \nQ 847 1681 609 1914 \nQ 372 2147 372 2553 \nQ 372 3047 722 3315 \nQ 1072 3584 1716 3584 \nQ 2034 3584 2315 3537 \nQ 2597 3491 2834 3397 \nz\n\" transform=\"scale(0.015625)\"/>\n      </defs>\n      <use xlink:href=\"#DejaVuSans-45\"/>\n      <use xlink:href=\"#DejaVuSans-70\" x=\"63.183594\"/>\n      <use xlink:href=\"#DejaVuSans-6f\" x=\"126.660156\"/>\n      <use xlink:href=\"#DejaVuSans-63\" x=\"187.841797\"/>\n      <use xlink:href=\"#DejaVuSans-68\" x=\"242.822266\"/>\n      <use xlink:href=\"#DejaVuSans-73\" x=\"306.201172\"/>\n     </g>\n    </g>\n   </g>\n   <g id=\"matplotlib.axis_2\">\n    <g id=\"ytick_1\">\n     <g id=\"line2d_7\">\n      <defs>\n       <path id=\"m6f7cf8d822\" d=\"M 0 0 \nL -3.5 0 \n\" style=\"stroke: #000000; stroke-width: 0.8\"/>\n      </defs>\n      <g>\n       <use xlink:href=\"#m6f7cf8d822\" x=\"50.14375\" y=\"414.774818\" style=\"stroke: #000000; stroke-width: 0.8\"/>\n      </g>\n     </g>\n     <g id=\"text_8\">\n      <!-- 2.5 -->\n      <g transform=\"translate(27.240625 418.574037)scale(0.1 -0.1)\">\n       <defs>\n        <path id=\"DejaVuSans-2e\" d=\"M 684 794 \nL 1344 794 \nL 1344 0 \nL 684 0 \nL 684 794 \nz\n\" transform=\"scale(0.015625)\"/>\n       </defs>\n       <use xlink:href=\"#DejaVuSans-32\"/>\n       <use xlink:href=\"#DejaVuSans-2e\" x=\"63.623047\"/>\n       <use xlink:href=\"#DejaVuSans-35\" x=\"95.410156\"/>\n      </g>\n     </g>\n    </g>\n    <g id=\"ytick_2\">\n     <g id=\"line2d_8\">\n      <g>\n       <use xlink:href=\"#m6f7cf8d822\" x=\"50.14375\" y=\"357.442089\" style=\"stroke: #000000; stroke-width: 0.8\"/>\n      </g>\n     </g>\n     <g id=\"text_9\">\n      <!-- 5.0 -->\n      <g transform=\"translate(27.240625 361.241307)scale(0.1 -0.1)\">\n       <use xlink:href=\"#DejaVuSans-35\"/>\n       <use xlink:href=\"#DejaVuSans-2e\" x=\"63.623047\"/>\n       <use xlink:href=\"#DejaVuSans-30\" x=\"95.410156\"/>\n      </g>\n     </g>\n    </g>\n    <g id=\"ytick_3\">\n     <g id=\"line2d_9\">\n      <g>\n       <use xlink:href=\"#m6f7cf8d822\" x=\"50.14375\" y=\"300.109359\" style=\"stroke: #000000; stroke-width: 0.8\"/>\n      </g>\n     </g>\n     <g id=\"text_10\">\n      <!-- 7.5 -->\n      <g transform=\"translate(27.240625 303.908578)scale(0.1 -0.1)\">\n       <defs>\n        <path id=\"DejaVuSans-37\" d=\"M 525 4666 \nL 3525 4666 \nL 3525 4397 \nL 1831 0 \nL 1172 0 \nL 2766 4134 \nL 525 4134 \nL 525 4666 \nz\n\" transform=\"scale(0.015625)\"/>\n       </defs>\n       <use xlink:href=\"#DejaVuSans-37\"/>\n       <use xlink:href=\"#DejaVuSans-2e\" x=\"63.623047\"/>\n       <use xlink:href=\"#DejaVuSans-35\" x=\"95.410156\"/>\n      </g>\n     </g>\n    </g>\n    <g id=\"ytick_4\">\n     <g id=\"line2d_10\">\n      <g>\n       <use xlink:href=\"#m6f7cf8d822\" x=\"50.14375\" y=\"242.77663\" style=\"stroke: #000000; stroke-width: 0.8\"/>\n      </g>\n     </g>\n     <g id=\"text_11\">\n      <!-- 10.0 -->\n      <g transform=\"translate(20.878125 246.575849)scale(0.1 -0.1)\">\n       <use xlink:href=\"#DejaVuSans-31\"/>\n       <use xlink:href=\"#DejaVuSans-30\" x=\"63.623047\"/>\n       <use xlink:href=\"#DejaVuSans-2e\" x=\"127.246094\"/>\n       <use xlink:href=\"#DejaVuSans-30\" x=\"159.033203\"/>\n      </g>\n     </g>\n    </g>\n    <g id=\"ytick_5\">\n     <g id=\"line2d_11\">\n      <g>\n       <use xlink:href=\"#m6f7cf8d822\" x=\"50.14375\" y=\"185.4439\" style=\"stroke: #000000; stroke-width: 0.8\"/>\n      </g>\n     </g>\n     <g id=\"text_12\">\n      <!-- 12.5 -->\n      <g transform=\"translate(20.878125 189.243119)scale(0.1 -0.1)\">\n       <use xlink:href=\"#DejaVuSans-31\"/>\n       <use xlink:href=\"#DejaVuSans-32\" x=\"63.623047\"/>\n       <use xlink:href=\"#DejaVuSans-2e\" x=\"127.246094\"/>\n       <use xlink:href=\"#DejaVuSans-35\" x=\"159.033203\"/>\n      </g>\n     </g>\n    </g>\n    <g id=\"ytick_6\">\n     <g id=\"line2d_12\">\n      <g>\n       <use xlink:href=\"#m6f7cf8d822\" x=\"50.14375\" y=\"128.111171\" style=\"stroke: #000000; stroke-width: 0.8\"/>\n      </g>\n     </g>\n     <g id=\"text_13\">\n      <!-- 15.0 -->\n      <g transform=\"translate(20.878125 131.91039)scale(0.1 -0.1)\">\n       <use xlink:href=\"#DejaVuSans-31\"/>\n       <use xlink:href=\"#DejaVuSans-35\" x=\"63.623047\"/>\n       <use xlink:href=\"#DejaVuSans-2e\" x=\"127.246094\"/>\n       <use xlink:href=\"#DejaVuSans-30\" x=\"159.033203\"/>\n      </g>\n     </g>\n    </g>\n    <g id=\"ytick_7\">\n     <g id=\"line2d_13\">\n      <g>\n       <use xlink:href=\"#m6f7cf8d822\" x=\"50.14375\" y=\"70.778441\" style=\"stroke: #000000; stroke-width: 0.8\"/>\n      </g>\n     </g>\n     <g id=\"text_14\">\n      <!-- 17.5 -->\n      <g transform=\"translate(20.878125 74.57766)scale(0.1 -0.1)\">\n       <use xlink:href=\"#DejaVuSans-31\"/>\n       <use xlink:href=\"#DejaVuSans-37\" x=\"63.623047\"/>\n       <use xlink:href=\"#DejaVuSans-2e\" x=\"127.246094\"/>\n       <use xlink:href=\"#DejaVuSans-35\" x=\"159.033203\"/>\n      </g>\n     </g>\n    </g>\n    <g id=\"ytick_8\">\n     <g id=\"line2d_14\">\n      <g>\n       <use xlink:href=\"#m6f7cf8d822\" x=\"50.14375\" y=\"13.445712\" style=\"stroke: #000000; stroke-width: 0.8\"/>\n      </g>\n     </g>\n     <g id=\"text_15\">\n      <!-- 20.0 -->\n      <g transform=\"translate(20.878125 17.244931)scale(0.1 -0.1)\">\n       <use xlink:href=\"#DejaVuSans-32\"/>\n       <use xlink:href=\"#DejaVuSans-30\" x=\"63.623047\"/>\n       <use xlink:href=\"#DejaVuSans-2e\" x=\"127.246094\"/>\n       <use xlink:href=\"#DejaVuSans-30\" x=\"159.033203\"/>\n      </g>\n     </g>\n    </g>\n    <g id=\"text_16\">\n     <!-- Valdation MAE -->\n     <g transform=\"translate(14.798437 260.424375)rotate(-90)scale(0.1 -0.1)\">\n      <defs>\n       <path id=\"DejaVuSans-56\" d=\"M 1831 0 \nL 50 4666 \nL 709 4666 \nL 2188 738 \nL 3669 4666 \nL 4325 4666 \nL 2547 0 \nL 1831 0 \nz\n\" transform=\"scale(0.015625)\"/>\n       <path id=\"DejaVuSans-61\" d=\"M 2194 1759 \nQ 1497 1759 1228 1600 \nQ 959 1441 959 1056 \nQ 959 750 1161 570 \nQ 1363 391 1709 391 \nQ 2188 391 2477 730 \nQ 2766 1069 2766 1631 \nL 2766 1759 \nL 2194 1759 \nz\nM 3341 1997 \nL 3341 0 \nL 2766 0 \nL 2766 531 \nQ 2569 213 2275 61 \nQ 1981 -91 1556 -91 \nQ 1019 -91 701 211 \nQ 384 513 384 1019 \nQ 384 1609 779 1909 \nQ 1175 2209 1959 2209 \nL 2766 2209 \nL 2766 2266 \nQ 2766 2663 2505 2880 \nQ 2244 3097 1772 3097 \nQ 1472 3097 1187 3025 \nQ 903 2953 641 2809 \nL 641 3341 \nQ 956 3463 1253 3523 \nQ 1550 3584 1831 3584 \nQ 2591 3584 2966 3190 \nQ 3341 2797 3341 1997 \nz\n\" transform=\"scale(0.015625)\"/>\n       <path id=\"DejaVuSans-6c\" d=\"M 603 4863 \nL 1178 4863 \nL 1178 0 \nL 603 0 \nL 603 4863 \nz\n\" transform=\"scale(0.015625)\"/>\n       <path id=\"DejaVuSans-64\" d=\"M 2906 2969 \nL 2906 4863 \nL 3481 4863 \nL 3481 0 \nL 2906 0 \nL 2906 525 \nQ 2725 213 2448 61 \nQ 2172 -91 1784 -91 \nQ 1150 -91 751 415 \nQ 353 922 353 1747 \nQ 353 2572 751 3078 \nQ 1150 3584 1784 3584 \nQ 2172 3584 2448 3432 \nQ 2725 3281 2906 2969 \nz\nM 947 1747 \nQ 947 1113 1208 752 \nQ 1469 391 1925 391 \nQ 2381 391 2643 752 \nQ 2906 1113 2906 1747 \nQ 2906 2381 2643 2742 \nQ 2381 3103 1925 3103 \nQ 1469 3103 1208 2742 \nQ 947 2381 947 1747 \nz\n\" transform=\"scale(0.015625)\"/>\n       <path id=\"DejaVuSans-74\" d=\"M 1172 4494 \nL 1172 3500 \nL 2356 3500 \nL 2356 3053 \nL 1172 3053 \nL 1172 1153 \nQ 1172 725 1289 603 \nQ 1406 481 1766 481 \nL 2356 481 \nL 2356 0 \nL 1766 0 \nQ 1100 0 847 248 \nQ 594 497 594 1153 \nL 594 3053 \nL 172 3053 \nL 172 3500 \nL 594 3500 \nL 594 4494 \nL 1172 4494 \nz\n\" transform=\"scale(0.015625)\"/>\n       <path id=\"DejaVuSans-69\" d=\"M 603 3500 \nL 1178 3500 \nL 1178 0 \nL 603 0 \nL 603 3500 \nz\nM 603 4863 \nL 1178 4863 \nL 1178 4134 \nL 603 4134 \nL 603 4863 \nz\n\" transform=\"scale(0.015625)\"/>\n       <path id=\"DejaVuSans-6e\" d=\"M 3513 2113 \nL 3513 0 \nL 2938 0 \nL 2938 2094 \nQ 2938 2591 2744 2837 \nQ 2550 3084 2163 3084 \nQ 1697 3084 1428 2787 \nQ 1159 2491 1159 1978 \nL 1159 0 \nL 581 0 \nL 581 3500 \nL 1159 3500 \nL 1159 2956 \nQ 1366 3272 1645 3428 \nQ 1925 3584 2291 3584 \nQ 2894 3584 3203 3211 \nQ 3513 2838 3513 2113 \nz\n\" transform=\"scale(0.015625)\"/>\n       <path id=\"DejaVuSans-20\" transform=\"scale(0.015625)\"/>\n       <path id=\"DejaVuSans-4d\" d=\"M 628 4666 \nL 1569 4666 \nL 2759 1491 \nL 3956 4666 \nL 4897 4666 \nL 4897 0 \nL 4281 0 \nL 4281 4097 \nL 3078 897 \nL 2444 897 \nL 1241 4097 \nL 1241 0 \nL 628 0 \nL 628 4666 \nz\n\" transform=\"scale(0.015625)\"/>\n       <path id=\"DejaVuSans-41\" d=\"M 2188 4044 \nL 1331 1722 \nL 3047 1722 \nL 2188 4044 \nz\nM 1831 4666 \nL 2547 4666 \nL 4325 0 \nL 3669 0 \nL 3244 1197 \nL 1141 1197 \nL 716 0 \nL 50 0 \nL 1831 4666 \nz\n\" transform=\"scale(0.015625)\"/>\n      </defs>\n      <use xlink:href=\"#DejaVuSans-56\"/>\n      <use xlink:href=\"#DejaVuSans-61\" x=\"60.658203\"/>\n      <use xlink:href=\"#DejaVuSans-6c\" x=\"121.9375\"/>\n      <use xlink:href=\"#DejaVuSans-64\" x=\"149.720703\"/>\n      <use xlink:href=\"#DejaVuSans-61\" x=\"213.197266\"/>\n      <use xlink:href=\"#DejaVuSans-74\" x=\"274.476562\"/>\n      <use xlink:href=\"#DejaVuSans-69\" x=\"313.685547\"/>\n      <use xlink:href=\"#DejaVuSans-6f\" x=\"341.46875\"/>\n      <use xlink:href=\"#DejaVuSans-6e\" x=\"402.650391\"/>\n      <use xlink:href=\"#DejaVuSans-20\" x=\"466.029297\"/>\n      <use xlink:href=\"#DejaVuSans-4d\" x=\"497.816406\"/>\n      <use xlink:href=\"#DejaVuSans-41\" x=\"584.095703\"/>\n      <use xlink:href=\"#DejaVuSans-45\" x=\"652.503906\"/>\n     </g>\n    </g>\n   </g>\n   <g id=\"line2d_15\">\n    <path d=\"M 70.434659 26.967273 \nL 71.247922 110.836128 \nL 72.061185 212.487563 \nL 72.874448 297.965902 \nL 73.687711 332.874195 \nL 74.500974 354.051269 \nL 75.314236 369.278415 \nL 76.127499 378.881908 \nL 76.940762 385.533134 \nL 77.754025 389.222726 \nL 78.567288 394.226937 \nL 81.007077 401.187833 \nL 81.82034 404.259414 \nL 82.633602 405.404666 \nL 83.446865 407.496103 \nL 84.260128 408.131091 \nL 85.073391 407.885258 \nL 85.886654 408.659489 \nL 86.699917 410.410713 \nL 87.51318 409.624608 \nL 88.326443 410.745504 \nL 89.139706 412.234208 \nL 89.952968 410.965541 \nL 90.766231 412.640076 \nL 91.579494 413.335104 \nL 92.392757 411.955739 \nL 93.20602 413.945417 \nL 94.019283 414.207916 \nL 94.832546 414.236106 \nL 95.645809 414.095209 \nL 96.459072 413.835097 \nL 97.272334 415.794158 \nL 98.085597 415.171425 \nL 98.89886 415.416593 \nL 99.712123 414.940456 \nL 100.525386 415.990554 \nL 101.338649 415.628015 \nL 102.151912 416.487891 \nL 102.965175 416.04984 \nL 103.778438 416.124556 \nL 104.5917 415.76976 \nL 105.404963 416.647262 \nL 106.218226 415.265992 \nL 107.031489 416.761239 \nL 107.844752 417.171062 \nL 108.658015 416.589848 \nL 109.471278 415.627028 \nL 110.284541 417.198235 \nL 111.097804 417.374301 \nL 111.911066 417.219346 \nL 112.724329 416.711422 \nL 113.537592 416.041908 \nL 114.350855 417.146424 \nL 115.164118 416.520778 \nL 115.977381 417.542336 \nL 117.603907 418.418574 \nL 118.41717 416.272332 \nL 119.230432 416.669205 \nL 120.043695 416.14399 \nL 120.856958 417.848032 \nL 121.670221 419.015945 \nL 122.483484 418.554755 \nL 123.296747 417.458596 \nL 124.11001 418.111401 \nL 124.923273 418.424648 \nL 125.736536 417.780857 \nL 126.549798 417.862437 \nL 127.363061 416.94047 \nL 128.176324 416.988384 \nL 128.989587 418.696164 \nL 129.80285 418.113359 \nL 130.616113 418.634954 \nL 131.429376 417.620327 \nL 132.242639 418.640933 \nL 133.055902 417.84182 \nL 133.869164 417.297367 \nL 134.682427 417.988225 \nL 135.49569 417.416878 \nL 136.308953 418.734543 \nL 137.122216 417.286789 \nL 137.935479 417.436331 \nL 138.748742 417.926091 \nL 139.562005 418.929521 \nL 140.375268 419.135628 \nL 141.18853 417.872196 \nL 142.001793 417.821852 \nL 142.815056 417.893017 \nL 143.628319 417.599371 \nL 144.441582 418.367554 \nL 145.254845 417.887541 \nL 146.068108 419.197605 \nL 146.881371 418.909963 \nL 147.694634 418.955314 \nL 148.507896 419.617892 \nL 149.321159 418.558326 \nL 150.134422 420.159241 \nL 150.947685 419.744594 \nL 151.760948 418.774331 \nL 152.574211 418.781439 \nL 153.387474 418.355306 \nL 154.200737 419.296275 \nL 155.014 417.502019 \nL 155.827262 419.467754 \nL 156.640525 417.850757 \nL 157.453788 419.470786 \nL 158.267051 419.780754 \nL 159.080314 418.340303 \nL 159.893577 418.251662 \nL 160.70684 419.525457 \nL 161.520103 419.942852 \nL 163.146628 419.918475 \nL 163.959891 418.357578 \nL 164.773154 418.775802 \nL 165.586417 419.640601 \nL 166.39968 420.024664 \nL 167.212943 417.407926 \nL 168.026206 420.188535 \nL 168.839469 419.906529 \nL 169.652732 420.085803 \nL 170.465994 417.661447 \nL 171.279257 420.278823 \nL 172.09252 419.573155 \nL 172.905783 419.110304 \nL 173.719046 419.382919 \nL 174.532309 419.925022 \nL 175.345572 418.386157 \nL 176.158835 419.531548 \nL 176.972098 420.044697 \nL 177.78536 419.532934 \nL 178.598623 417.203006 \nL 179.411886 420.821033 \nL 180.225149 420.606176 \nL 181.038412 418.639318 \nL 181.851675 420.224219 \nL 182.664938 420.00363 \nL 183.478201 420.169857 \nL 184.291464 419.78485 \nL 185.104726 420.772636 \nL 185.917989 419.829129 \nL 186.731252 420.139851 \nL 187.544515 419.612091 \nL 188.357778 419.79286 \nL 189.171041 419.031874 \nL 189.984304 420.000677 \nL 190.797567 421.251572 \nL 191.61083 419.21531 \nL 192.424093 420.220842 \nL 193.237355 419.219774 \nL 194.050618 420.32236 \nL 194.863881 420.794601 \nL 195.677144 419.544715 \nL 196.490407 419.660332 \nL 197.30367 420.022298 \nL 198.116933 421.24213 \nL 198.930196 419.775739 \nL 200.556721 420.59095 \nL 201.369984 420.334613 \nL 202.183247 418.956619 \nL 202.99651 418.688138 \nL 203.809773 420.767402 \nL 204.623036 419.922411 \nL 205.436299 420.448793 \nL 207.062825 419.062855 \nL 207.876087 420.160346 \nL 208.68935 420.357574 \nL 209.502613 420.828551 \nL 211.129139 419.773322 \nL 211.942402 420.298564 \nL 212.755665 420.312403 \nL 213.568928 419.408887 \nL 214.382191 418.329104 \nL 215.195453 419.409768 \nL 216.008716 419.466169 \nL 216.821979 418.055684 \nL 217.635242 420.016192 \nL 219.261768 419.998744 \nL 220.075031 420.74106 \nL 220.888294 420.155389 \nL 221.701557 422.312727 \nL 222.514819 420.829873 \nL 223.328082 418.865664 \nL 225.767871 420.578058 \nL 226.581134 421.191428 \nL 227.394397 419.840735 \nL 228.20766 420.856797 \nL 229.020923 420.520799 \nL 229.834185 420.993905 \nL 230.647448 419.657781 \nL 231.460711 420.615251 \nL 232.273974 419.373067 \nL 233.087237 420.315722 \nL 233.9005 419.045631 \nL 234.713763 419.617941 \nL 236.340289 420.420477 \nL 237.153551 417.716389 \nL 237.966814 419.27847 \nL 238.780077 419.927565 \nL 239.59334 419.024414 \nL 240.406603 419.492597 \nL 241.219866 418.799515 \nL 242.033129 418.686618 \nL 242.846392 420.520916 \nL 243.659655 419.196584 \nL 244.472917 420.630423 \nL 245.28618 419.598782 \nL 246.099443 420.37011 \nL 246.912706 420.11135 \nL 247.725969 421.229098 \nL 248.539232 418.509173 \nL 249.352495 421.597817 \nL 250.165758 417.522464 \nL 250.979021 420.143508 \nL 251.792283 419.503048 \nL 252.605546 419.620152 \nL 253.418809 420.507963 \nL 254.232072 419.12723 \nL 255.045335 420.342139 \nL 255.858598 420.354649 \nL 256.671861 418.360098 \nL 257.485124 419.352287 \nL 258.298387 419.628615 \nL 259.111649 420.729362 \nL 259.924912 420.029832 \nL 260.738175 420.894842 \nL 261.551438 421.176159 \nL 262.364701 418.942168 \nL 263.177964 420.085414 \nL 263.991227 420.507572 \nL 264.80449 420.46508 \nL 265.617753 419.124288 \nL 267.244278 420.406325 \nL 268.057541 420.080214 \nL 268.870804 416.790891 \nL 269.684067 419.336651 \nL 270.49733 419.750428 \nL 271.310593 419.315435 \nL 272.123856 419.803432 \nL 272.937119 417.060353 \nL 273.750381 419.485603 \nL 274.563644 419.387011 \nL 275.376907 420.389891 \nL 276.19017 419.152393 \nL 277.003433 420.265884 \nL 278.629959 418.820494 \nL 279.443222 418.380971 \nL 280.256485 419.674146 \nL 281.88301 418.775256 \nL 282.696273 420.022583 \nL 283.509536 417.697255 \nL 284.322799 419.31989 \nL 285.136062 420.178434 \nL 285.949325 419.670773 \nL 286.762588 420.864816 \nL 287.575851 417.051066 \nL 288.389113 419.155156 \nL 289.202376 419.812709 \nL 290.015639 419.25053 \nL 290.828902 418.98421 \nL 291.642165 420.173234 \nL 292.455428 420.439564 \nL 293.268691 419.409224 \nL 294.081954 419.71132 \nL 294.895217 418.961059 \nL 295.708479 420.112481 \nL 296.521742 419.915953 \nL 297.335005 418.099937 \nL 298.148268 418.509214 \nL 298.961531 419.957776 \nL 299.774794 419.472107 \nL 300.588057 419.83443 \nL 301.40132 419.074016 \nL 302.214583 415.928346 \nL 303.027845 419.566766 \nL 303.841108 419.788262 \nL 306.280897 418.217228 \nL 307.09416 418.446467 \nL 307.907423 420.100685 \nL 308.720686 418.841039 \nL 310.347211 419.922364 \nL 311.160474 418.715873 \nL 311.973737 419.222732 \nL 312.787 419.521345 \nL 313.600263 417.941618 \nL 314.413526 415.514281 \nL 315.226789 419.517484 \nL 316.040052 418.582841 \nL 316.853315 417.141776 \nL 317.666577 419.830217 \nL 318.47984 419.491496 \nL 319.293103 418.955318 \nL 320.106366 417.253475 \nL 320.919629 417.056956 \nL 321.732892 418.667963 \nL 322.546155 418.373736 \nL 323.359418 419.508887 \nL 324.172681 419.077399 \nL 324.985943 417.813209 \nL 325.799206 416.30196 \nL 326.612469 418.254926 \nL 327.425732 417.149743 \nL 328.238995 419.869821 \nL 329.052258 417.956497 \nL 329.865521 416.977322 \nL 330.678784 417.64125 \nL 331.492047 417.896292 \nL 332.305309 417.666386 \nL 333.118572 419.27279 \nL 333.931835 417.327533 \nL 334.745098 417.68051 \nL 335.558361 418.434941 \nL 337.184887 418.814939 \nL 337.99815 419.097043 \nL 338.811413 418.776026 \nL 339.624675 419.193028 \nL 340.437938 418.908028 \nL 341.251201 418.118429 \nL 342.064464 418.337595 \nL 342.877727 417.563684 \nL 343.69099 418.730358 \nL 344.504253 417.951059 \nL 345.317516 417.833265 \nL 346.130779 418.634831 \nL 346.944041 417.770764 \nL 347.757304 419.261114 \nL 348.570567 418.101084 \nL 349.38383 418.886034 \nL 350.197093 418.5482 \nL 351.010356 418.332651 \nL 351.823619 416.10972 \nL 352.636882 416.847402 \nL 353.450145 416.925416 \nL 354.263407 418.158138 \nL 355.07667 417.84068 \nL 355.889933 417.251545 \nL 357.516459 416.701617 \nL 358.329722 419.058609 \nL 359.142985 417.518943 \nL 360.769511 419.589615 \nL 361.582774 417.971731 \nL 362.396036 417.616337 \nL 363.209299 417.725304 \nL 364.022562 418.278089 \nL 364.835825 418.622122 \nL 365.649088 418.100045 \nL 366.462351 418.398402 \nL 367.275614 417.801652 \nL 368.088877 416.959307 \nL 368.90214 416.28477 \nL 369.715402 416.6295 \nL 370.528665 417.687167 \nL 371.341928 416.567674 \nL 372.155191 418.202549 \nL 372.968454 417.413029 \nL 373.781717 416.923047 \nL 374.59498 418.924736 \nL 375.408243 416.40589 \nL 376.221506 418.516019 \nL 377.034768 418.92574 \nL 377.848031 417.764402 \nL 378.661294 417.699398 \nL 379.474557 418.37372 \nL 380.28782 416.055374 \nL 381.101083 417.11895 \nL 381.914346 414.662202 \nL 382.727609 416.570337 \nL 383.540872 416.439411 \nL 384.354134 416.972735 \nL 385.167397 417.658108 \nL 385.98066 416.208053 \nL 386.793923 418.271154 \nL 387.607186 417.763962 \nL 388.420449 416.668971 \nL 389.233712 417.774746 \nL 390.046975 416.976446 \nL 390.860238 414.795187 \nL 391.6735 417.215933 \nL 393.300026 418.489961 \nL 394.113289 416.66801 \nL 394.926552 418.384052 \nL 395.739815 417.152658 \nL 396.553078 418.354423 \nL 397.366341 417.868518 \nL 398.179604 418.091436 \nL 398.992866 417.59344 \nL 399.806129 417.825065 \nL 400.619392 417.493431 \nL 401.432655 416.873465 \nL 402.245918 415.541185 \nL 403.059181 416.143347 \nL 403.872444 417.178426 \nL 404.685707 417.138998 \nL 405.49897 416.559525 \nL 406.312232 416.528351 \nL 407.125495 416.941092 \nL 407.938758 417.900412 \nL 408.752021 416.611559 \nL 410.378547 417.318482 \nL 411.19181 416.198022 \nL 412.005073 417.448746 \nL 412.818336 416.234928 \nL 413.631598 417.846157 \nL 414.444861 416.520204 \nL 415.258124 415.46522 \nL 416.071387 416.725609 \nL 416.88465 417.292143 \nL 417.697913 414.430118 \nL 418.511176 417.263815 \nL 419.324439 415.469615 \nL 420.950964 417.910568 \nL 421.764227 417.455008 \nL 422.57749 415.861592 \nL 423.390753 417.16776 \nL 424.204016 416.807478 \nL 425.830542 416.758306 \nL 426.643805 417.141829 \nL 427.457068 415.900979 \nL 428.27033 417.915348 \nL 429.083593 415.439567 \nL 429.896856 415.527888 \nL 430.710119 417.280271 \nL 431.523382 417.378308 \nL 432.336645 417.312414 \nL 433.149908 415.759779 \nL 433.963171 416.621849 \nL 434.776434 417.126181 \nL 435.589696 418.040346 \nL 436.402959 417.246349 \nL 437.216222 417.119249 \nL 438.029485 415.457363 \nL 438.842748 416.792829 \nL 439.656011 416.522735 \nL 440.469274 415.883754 \nL 441.282537 413.832188 \nL 442.0958 417.085292 \nL 442.909062 415.512641 \nL 444.535588 416.729683 \nL 445.348851 416.494276 \nL 446.975377 415.708728 \nL 447.78864 415.805684 \nL 448.601903 415.191618 \nL 449.415166 416.990539 \nL 450.228428 416.775602 \nL 451.854954 414.432738 \nL 452.668217 416.409132 \nL 453.48148 414.911015 \nL 454.294743 416.151674 \nL 455.108006 416.088259 \nL 455.921269 415.018378 \nL 456.734532 417.228791 \nL 457.547794 415.998972 \nL 458.361057 415.205485 \nL 459.17432 415.766735 \nL 459.987583 415.978572 \nL 460.800846 414.850146 \nL 461.614109 415.976069 \nL 462.427372 415.721709 \nL 463.240635 415.270169 \nL 464.053898 416.259851 \nL 466.493686 415.643528 \nL 467.306949 416.853725 \nL 468.120212 415.862166 \nL 468.933475 416.794196 \nL 469.746738 417.481392 \nL 470.560001 416.336659 \nL 471.373264 416.27622 \nL 472.186526 416.410585 \nL 472.999789 416.400575 \nL 473.813052 415.089054 \nL 474.626315 414.26451 \nL 475.439578 416.107651 \nL 476.252841 416.650567 \nL 476.252841 416.650567 \n\" clip-path=\"url(#pdfe166b19e)\" style=\"fill: none; stroke: #1f77b4; stroke-width: 1.5; stroke-linecap: square\"/>\n   </g>\n   <g id=\"patch_3\">\n    <path d=\"M 50.14375 442.08 \nL 50.14375 7.2 \n\" style=\"fill: none; stroke: #000000; stroke-width: 0.8; stroke-linejoin: miter; stroke-linecap: square\"/>\n   </g>\n   <g id=\"patch_4\">\n    <path d=\"M 496.54375 442.08 \nL 496.54375 7.2 \n\" style=\"fill: none; stroke: #000000; stroke-width: 0.8; stroke-linejoin: miter; stroke-linecap: square\"/>\n   </g>\n   <g id=\"patch_5\">\n    <path d=\"M 50.14375 442.08 \nL 496.54375 442.08 \n\" style=\"fill: none; stroke: #000000; stroke-width: 0.8; stroke-linejoin: miter; stroke-linecap: square\"/>\n   </g>\n   <g id=\"patch_6\">\n    <path d=\"M 50.14375 7.2 \nL 496.54375 7.2 \n\" style=\"fill: none; stroke: #000000; stroke-width: 0.8; stroke-linejoin: miter; stroke-linecap: square\"/>\n   </g>\n  </g>\n </g>\n <defs>\n  <clipPath id=\"pdfe166b19e\">\n   <rect x=\"50.14375\" y=\"7.2\" width=\"446.4\" height=\"434.88\"/>\n  </clipPath>\n </defs>\n</svg>\n",
      "text/plain": [
       "<Figure size 576x576 with 1 Axes>"
      ]
     },
     "metadata": {
      "needs_background": "light"
     },
     "output_type": "display_data"
    }
   ],
   "source": [
    "plt.plot(range(1, len(average_mae_history) + 1), average_mae_history)\n",
    "plt.xlabel('Epochs')\n",
    "plt.ylabel('Valdation MAE')\n",
    "plt.show()"
   ]
  },
  {
   "cell_type": "markdown",
   "metadata": {},
   "source": [
    "As it is right now, it's quite hard to read the plot since the first 10 epochs had very high validation MAE. So to make it more readable, let's ignore the first 10 epochs."
   ]
  },
  {
   "cell_type": "code",
   "execution_count": 11,
   "metadata": {},
   "outputs": [
    {
     "data": {
      "image/png": "[encoded data removed]",
      "image/svg+xml": "<?xml version=\"1.0\" encoding=\"utf-8\" standalone=\"no\"?>\n<!DOCTYPE svg PUBLIC \"-//W3C//DTD SVG 1.1//EN\"\n  \"http://www.w3.org/Graphics/SVG/1.1/DTD/svg11.dtd\">\n<svg xmlns:xlink=\"http://www.w3.org/1999/xlink\" width=\"497.38125pt\" height=\"479.63625pt\" viewBox=\"0 0 497.38125 479.63625\" xmlns=\"http://www.w3.org/2000/svg\" version=\"1.1\">\n <metadata>\n  <rdf:RDF xmlns:dc=\"http://purl.org/dc/elements/1.1/\" xmlns:cc=\"http://creativecommons.org/ns#\" xmlns:rdf=\"http://www.w3.org/1999/02/22-rdf-syntax-ns#\">\n   <cc:Work>\n    <dc:type rdf:resource=\"http://purl.org/dc/dcmitype/StillImage\"/>\n    <dc:date>2022-04-11T03:13:24.721657</dc:date>\n    <dc:format>image/svg+xml</dc:format>\n    <dc:creator>\n     <cc:Agent>\n      <dc:title>Matplotlib v3.5.1, https://matplotlib.org/</dc:title>\n     </cc:Agent>\n    </dc:creator>\n   </cc:Work>\n  </rdf:RDF>\n </metadata>\n <defs>\n  <style type=\"text/css\">*{stroke-linejoin: round; stroke-linecap: butt}</style>\n </defs>\n <g id=\"figure_1\">\n  <g id=\"patch_1\">\n   <path d=\"M 0 479.63625 \nL 497.38125 479.63625 \nL 497.38125 0 \nL 0 0 \nL 0 479.63625 \nz\n\" style=\"fill: none\"/>\n  </g>\n  <g id=\"axes_1\">\n   <g id=\"patch_2\">\n    <path d=\"M 43.78125 442.08 \nL 490.18125 442.08 \nL 490.18125 7.2 \nL 43.78125 7.2 \nz\n\" style=\"fill: #ffffff\"/>\n   </g>\n   <g id=\"matplotlib.axis_1\">\n    <g id=\"xtick_1\">\n     <g id=\"line2d_1\">\n      <defs>\n       <path id=\"m221a6c76b6\" d=\"M 0 0 \nL 0 3.5 \n\" style=\"stroke: #000000; stroke-width: 0.8\"/>\n      </defs>\n      <g>\n       <use xlink:href=\"#m221a6c76b6\" x=\"63.242265\" y=\"442.08\" style=\"stroke: #000000; stroke-width: 0.8\"/>\n      </g>\n     </g>\n     <g id=\"text_1\">\n      <!-- 0 -->\n      <g transform=\"translate(60.061015 456.678437)scale(0.1 -0.1)\">\n       <defs>\n        <path id=\"DejaVuSans-30\" d=\"M 2034 4250 \nQ 1547 4250 1301 3770 \nQ 1056 3291 1056 2328 \nQ 1056 1369 1301 889 \nQ 1547 409 2034 409 \nQ 2525 409 2770 889 \nQ 3016 1369 3016 2328 \nQ 3016 3291 2770 3770 \nQ 2525 4250 2034 4250 \nz\nM 2034 4750 \nQ 2819 4750 3233 4129 \nQ 3647 3509 3647 2328 \nQ 3647 1150 3233 529 \nQ 2819 -91 2034 -91 \nQ 1250 -91 836 529 \nQ 422 1150 422 2328 \nQ 422 3509 836 4129 \nQ 1250 4750 2034 4750 \nz\n\" transform=\"scale(0.015625)\"/>\n       </defs>\n       <use xlink:href=\"#DejaVuSans-30\"/>\n      </g>\n     </g>\n    </g>\n    <g id=\"xtick_2\">\n     <g id=\"line2d_2\">\n      <g>\n       <use xlink:href=\"#m221a6c76b6\" x=\"146.231668\" y=\"442.08\" style=\"stroke: #000000; stroke-width: 0.8\"/>\n      </g>\n     </g>\n     <g id=\"text_2\">\n      <!-- 100 -->\n      <g transform=\"translate(136.687918 456.678437)scale(0.1 -0.1)\">\n       <defs>\n        <path id=\"DejaVuSans-31\" d=\"M 794 531 \nL 1825 531 \nL 1825 4091 \nL 703 3866 \nL 703 4441 \nL 1819 4666 \nL 2450 4666 \nL 2450 531 \nL 3481 531 \nL 3481 0 \nL 794 0 \nL 794 531 \nz\n\" transform=\"scale(0.015625)\"/>\n       </defs>\n       <use xlink:href=\"#DejaVuSans-31\"/>\n       <use xlink:href=\"#DejaVuSans-30\" x=\"63.623047\"/>\n       <use xlink:href=\"#DejaVuSans-30\" x=\"127.246094\"/>\n      </g>\n     </g>\n    </g>\n    <g id=\"xtick_3\">\n     <g id=\"line2d_3\">\n      <g>\n       <use xlink:href=\"#m221a6c76b6\" x=\"229.221072\" y=\"442.08\" style=\"stroke: #000000; stroke-width: 0.8\"/>\n      </g>\n     </g>\n     <g id=\"text_3\">\n      <!-- 200 -->\n      <g transform=\"translate(219.677322 456.678437)scale(0.1 -0.1)\">\n       <defs>\n        <path id=\"DejaVuSans-32\" d=\"M 1228 531 \nL 3431 531 \nL 3431 0 \nL 469 0 \nL 469 531 \nQ 828 903 1448 1529 \nQ 2069 2156 2228 2338 \nQ 2531 2678 2651 2914 \nQ 2772 3150 2772 3378 \nQ 2772 3750 2511 3984 \nQ 2250 4219 1831 4219 \nQ 1534 4219 1204 4116 \nQ 875 4013 500 3803 \nL 500 4441 \nQ 881 4594 1212 4672 \nQ 1544 4750 1819 4750 \nQ 2544 4750 2975 4387 \nQ 3406 4025 3406 3419 \nQ 3406 3131 3298 2873 \nQ 3191 2616 2906 2266 \nQ 2828 2175 2409 1742 \nQ 1991 1309 1228 531 \nz\n\" transform=\"scale(0.015625)\"/>\n       </defs>\n       <use xlink:href=\"#DejaVuSans-32\"/>\n       <use xlink:href=\"#DejaVuSans-30\" x=\"63.623047\"/>\n       <use xlink:href=\"#DejaVuSans-30\" x=\"127.246094\"/>\n      </g>\n     </g>\n    </g>\n    <g id=\"xtick_4\">\n     <g id=\"line2d_4\">\n      <g>\n       <use xlink:href=\"#m221a6c76b6\" x=\"312.210475\" y=\"442.08\" style=\"stroke: #000000; stroke-width: 0.8\"/>\n      </g>\n     </g>\n     <g id=\"text_4\">\n      <!-- 300 -->\n      <g transform=\"translate(302.666725 456.678437)scale(0.1 -0.1)\">\n       <defs>\n        <path id=\"DejaVuSans-33\" d=\"M 2597 2516 \nQ 3050 2419 3304 2112 \nQ 3559 1806 3559 1356 \nQ 3559 666 3084 287 \nQ 2609 -91 1734 -91 \nQ 1441 -91 1130 -33 \nQ 819 25 488 141 \nL 488 750 \nQ 750 597 1062 519 \nQ 1375 441 1716 441 \nQ 2309 441 2620 675 \nQ 2931 909 2931 1356 \nQ 2931 1769 2642 2001 \nQ 2353 2234 1838 2234 \nL 1294 2234 \nL 1294 2753 \nL 1863 2753 \nQ 2328 2753 2575 2939 \nQ 2822 3125 2822 3475 \nQ 2822 3834 2567 4026 \nQ 2313 4219 1838 4219 \nQ 1578 4219 1281 4162 \nQ 984 4106 628 3988 \nL 628 4550 \nQ 988 4650 1302 4700 \nQ 1616 4750 1894 4750 \nQ 2613 4750 3031 4423 \nQ 3450 4097 3450 3541 \nQ 3450 3153 3228 2886 \nQ 3006 2619 2597 2516 \nz\n\" transform=\"scale(0.015625)\"/>\n       </defs>\n       <use xlink:href=\"#DejaVuSans-33\"/>\n       <use xlink:href=\"#DejaVuSans-30\" x=\"63.623047\"/>\n       <use xlink:href=\"#DejaVuSans-30\" x=\"127.246094\"/>\n      </g>\n     </g>\n    </g>\n    <g id=\"xtick_5\">\n     <g id=\"line2d_5\">\n      <g>\n       <use xlink:href=\"#m221a6c76b6\" x=\"395.199878\" y=\"442.08\" style=\"stroke: #000000; stroke-width: 0.8\"/>\n      </g>\n     </g>\n     <g id=\"text_5\">\n      <!-- 400 -->\n      <g transform=\"translate(385.656128 456.678437)scale(0.1 -0.1)\">\n       <defs>\n        <path id=\"DejaVuSans-34\" d=\"M 2419 4116 \nL 825 1625 \nL 2419 1625 \nL 2419 4116 \nz\nM 2253 4666 \nL 3047 4666 \nL 3047 1625 \nL 3713 1625 \nL 3713 1100 \nL 3047 1100 \nL 3047 0 \nL 2419 0 \nL 2419 1100 \nL 313 1100 \nL 313 1709 \nL 2253 4666 \nz\n\" transform=\"scale(0.015625)\"/>\n       </defs>\n       <use xlink:href=\"#DejaVuSans-34\"/>\n       <use xlink:href=\"#DejaVuSans-30\" x=\"63.623047\"/>\n       <use xlink:href=\"#DejaVuSans-30\" x=\"127.246094\"/>\n      </g>\n     </g>\n    </g>\n    <g id=\"xtick_6\">\n     <g id=\"line2d_6\">\n      <g>\n       <use xlink:href=\"#m221a6c76b6\" x=\"478.189281\" y=\"442.08\" style=\"stroke: #000000; stroke-width: 0.8\"/>\n      </g>\n     </g>\n     <g id=\"text_6\">\n      <!-- 500 -->\n      <g transform=\"translate(468.645531 456.678437)scale(0.1 -0.1)\">\n       <defs>\n        <path id=\"DejaVuSans-35\" d=\"M 691 4666 \nL 3169 4666 \nL 3169 4134 \nL 1269 4134 \nL 1269 2991 \nQ 1406 3038 1543 3061 \nQ 1681 3084 1819 3084 \nQ 2600 3084 3056 2656 \nQ 3513 2228 3513 1497 \nQ 3513 744 3044 326 \nQ 2575 -91 1722 -91 \nQ 1428 -91 1123 -41 \nQ 819 9 494 109 \nL 494 744 \nQ 775 591 1075 516 \nQ 1375 441 1709 441 \nQ 2250 441 2565 725 \nQ 2881 1009 2881 1497 \nQ 2881 1984 2565 2268 \nQ 2250 2553 1709 2553 \nQ 1456 2553 1204 2497 \nQ 953 2441 691 2322 \nL 691 4666 \nz\n\" transform=\"scale(0.015625)\"/>\n       </defs>\n       <use xlink:href=\"#DejaVuSans-35\"/>\n       <use xlink:href=\"#DejaVuSans-30\" x=\"63.623047\"/>\n       <use xlink:href=\"#DejaVuSans-30\" x=\"127.246094\"/>\n      </g>\n     </g>\n    </g>\n    <g id=\"text_7\">\n     <!-- Epochs -->\n     <g transform=\"translate(249.065625 470.356562)scale(0.1 -0.1)\">\n      <defs>\n       <path id=\"DejaVuSans-45\" d=\"M 628 4666 \nL 3578 4666 \nL 3578 4134 \nL 1259 4134 \nL 1259 2753 \nL 3481 2753 \nL 3481 2222 \nL 1259 2222 \nL 1259 531 \nL 3634 531 \nL 3634 0 \nL 628 0 \nL 628 4666 \nz\n\" transform=\"scale(0.015625)\"/>\n       <path id=\"DejaVuSans-70\" d=\"M 1159 525 \nL 1159 -1331 \nL 581 -1331 \nL 581 3500 \nL 1159 3500 \nL 1159 2969 \nQ 1341 3281 1617 3432 \nQ 1894 3584 2278 3584 \nQ 2916 3584 3314 3078 \nQ 3713 2572 3713 1747 \nQ 3713 922 3314 415 \nQ 2916 -91 2278 -91 \nQ 1894 -91 1617 61 \nQ 1341 213 1159 525 \nz\nM 3116 1747 \nQ 3116 2381 2855 2742 \nQ 2594 3103 2138 3103 \nQ 1681 3103 1420 2742 \nQ 1159 2381 1159 1747 \nQ 1159 1113 1420 752 \nQ 1681 391 2138 391 \nQ 2594 391 2855 752 \nQ 3116 1113 3116 1747 \nz\n\" transform=\"scale(0.015625)\"/>\n       <path id=\"DejaVuSans-6f\" d=\"M 1959 3097 \nQ 1497 3097 1228 2736 \nQ 959 2375 959 1747 \nQ 959 1119 1226 758 \nQ 1494 397 1959 397 \nQ 2419 397 2687 759 \nQ 2956 1122 2956 1747 \nQ 2956 2369 2687 2733 \nQ 2419 3097 1959 3097 \nz\nM 1959 3584 \nQ 2709 3584 3137 3096 \nQ 3566 2609 3566 1747 \nQ 3566 888 3137 398 \nQ 2709 -91 1959 -91 \nQ 1206 -91 779 398 \nQ 353 888 353 1747 \nQ 353 2609 779 3096 \nQ 1206 3584 1959 3584 \nz\n\" transform=\"scale(0.015625)\"/>\n       <path id=\"DejaVuSans-63\" d=\"M 3122 3366 \nL 3122 2828 \nQ 2878 2963 2633 3030 \nQ 2388 3097 2138 3097 \nQ 1578 3097 1268 2742 \nQ 959 2388 959 1747 \nQ 959 1106 1268 751 \nQ 1578 397 2138 397 \nQ 2388 397 2633 464 \nQ 2878 531 3122 666 \nL 3122 134 \nQ 2881 22 2623 -34 \nQ 2366 -91 2075 -91 \nQ 1284 -91 818 406 \nQ 353 903 353 1747 \nQ 353 2603 823 3093 \nQ 1294 3584 2113 3584 \nQ 2378 3584 2631 3529 \nQ 2884 3475 3122 3366 \nz\n\" transform=\"scale(0.015625)\"/>\n       <path id=\"DejaVuSans-68\" d=\"M 3513 2113 \nL 3513 0 \nL 2938 0 \nL 2938 2094 \nQ 2938 2591 2744 2837 \nQ 2550 3084 2163 3084 \nQ 1697 3084 1428 2787 \nQ 1159 2491 1159 1978 \nL 1159 0 \nL 581 0 \nL 581 4863 \nL 1159 4863 \nL 1159 2956 \nQ 1366 3272 1645 3428 \nQ 1925 3584 2291 3584 \nQ 2894 3584 3203 3211 \nQ 3513 2838 3513 2113 \nz\n\" transform=\"scale(0.015625)\"/>\n       <path id=\"DejaVuSans-73\" d=\"M 2834 3397 \nL 2834 2853 \nQ 2591 2978 2328 3040 \nQ 2066 3103 1784 3103 \nQ 1356 3103 1142 2972 \nQ 928 2841 928 2578 \nQ 928 2378 1081 2264 \nQ 1234 2150 1697 2047 \nL 1894 2003 \nQ 2506 1872 2764 1633 \nQ 3022 1394 3022 966 \nQ 3022 478 2636 193 \nQ 2250 -91 1575 -91 \nQ 1294 -91 989 -36 \nQ 684 19 347 128 \nL 347 722 \nQ 666 556 975 473 \nQ 1284 391 1588 391 \nQ 1994 391 2212 530 \nQ 2431 669 2431 922 \nQ 2431 1156 2273 1281 \nQ 2116 1406 1581 1522 \nL 1381 1569 \nQ 847 1681 609 1914 \nQ 372 2147 372 2553 \nQ 372 3047 722 3315 \nQ 1072 3584 1716 3584 \nQ 2034 3584 2315 3537 \nQ 2597 3491 2834 3397 \nz\n\" transform=\"scale(0.015625)\"/>\n      </defs>\n      <use xlink:href=\"#DejaVuSans-45\"/>\n      <use xlink:href=\"#DejaVuSans-70\" x=\"63.183594\"/>\n      <use xlink:href=\"#DejaVuSans-6f\" x=\"126.660156\"/>\n      <use xlink:href=\"#DejaVuSans-63\" x=\"187.841797\"/>\n      <use xlink:href=\"#DejaVuSans-68\" x=\"242.822266\"/>\n      <use xlink:href=\"#DejaVuSans-73\" x=\"306.201172\"/>\n     </g>\n    </g>\n   </g>\n   <g id=\"matplotlib.axis_2\">\n    <g id=\"ytick_1\">\n     <g id=\"line2d_7\">\n      <defs>\n       <path id=\"m4544922e23\" d=\"M 0 0 \nL -3.5 0 \n\" style=\"stroke: #000000; stroke-width: 0.8\"/>\n      </defs>\n      <g>\n       <use xlink:href=\"#m4544922e23\" x=\"43.78125\" y=\"413.050746\" style=\"stroke: #000000; stroke-width: 0.8\"/>\n      </g>\n     </g>\n     <g id=\"text_8\">\n      <!-- 2.2 -->\n      <g transform=\"translate(20.878125 416.849965)scale(0.1 -0.1)\">\n       <defs>\n        <path id=\"DejaVuSans-2e\" d=\"M 684 794 \nL 1344 794 \nL 1344 0 \nL 684 0 \nL 684 794 \nz\n\" transform=\"scale(0.015625)\"/>\n       </defs>\n       <use xlink:href=\"#DejaVuSans-32\"/>\n       <use xlink:href=\"#DejaVuSans-2e\" x=\"63.623047\"/>\n       <use xlink:href=\"#DejaVuSans-32\" x=\"95.410156\"/>\n      </g>\n     </g>\n    </g>\n    <g id=\"ytick_2\">\n     <g id=\"line2d_8\">\n      <g>\n       <use xlink:href=\"#m4544922e23\" x=\"43.78125\" y=\"348.487895\" style=\"stroke: #000000; stroke-width: 0.8\"/>\n      </g>\n     </g>\n     <g id=\"text_9\">\n      <!-- 2.4 -->\n      <g transform=\"translate(20.878125 352.287114)scale(0.1 -0.1)\">\n       <use xlink:href=\"#DejaVuSans-32\"/>\n       <use xlink:href=\"#DejaVuSans-2e\" x=\"63.623047\"/>\n       <use xlink:href=\"#DejaVuSans-34\" x=\"95.410156\"/>\n      </g>\n     </g>\n    </g>\n    <g id=\"ytick_3\">\n     <g id=\"line2d_9\">\n      <g>\n       <use xlink:href=\"#m4544922e23\" x=\"43.78125\" y=\"283.925044\" style=\"stroke: #000000; stroke-width: 0.8\"/>\n      </g>\n     </g>\n     <g id=\"text_10\">\n      <!-- 2.6 -->\n      <g transform=\"translate(20.878125 287.724262)scale(0.1 -0.1)\">\n       <defs>\n        <path id=\"DejaVuSans-36\" d=\"M 2113 2584 \nQ 1688 2584 1439 2293 \nQ 1191 2003 1191 1497 \nQ 1191 994 1439 701 \nQ 1688 409 2113 409 \nQ 2538 409 2786 701 \nQ 3034 994 3034 1497 \nQ 3034 2003 2786 2293 \nQ 2538 2584 2113 2584 \nz\nM 3366 4563 \nL 3366 3988 \nQ 3128 4100 2886 4159 \nQ 2644 4219 2406 4219 \nQ 1781 4219 1451 3797 \nQ 1122 3375 1075 2522 \nQ 1259 2794 1537 2939 \nQ 1816 3084 2150 3084 \nQ 2853 3084 3261 2657 \nQ 3669 2231 3669 1497 \nQ 3669 778 3244 343 \nQ 2819 -91 2113 -91 \nQ 1303 -91 875 529 \nQ 447 1150 447 2328 \nQ 447 3434 972 4092 \nQ 1497 4750 2381 4750 \nQ 2619 4750 2861 4703 \nQ 3103 4656 3366 4563 \nz\n\" transform=\"scale(0.015625)\"/>\n       </defs>\n       <use xlink:href=\"#DejaVuSans-32\"/>\n       <use xlink:href=\"#DejaVuSans-2e\" x=\"63.623047\"/>\n       <use xlink:href=\"#DejaVuSans-36\" x=\"95.410156\"/>\n      </g>\n     </g>\n    </g>\n    <g id=\"ytick_4\">\n     <g id=\"line2d_10\">\n      <g>\n       <use xlink:href=\"#m4544922e23\" x=\"43.78125\" y=\"219.362192\" style=\"stroke: #000000; stroke-width: 0.8\"/>\n      </g>\n     </g>\n     <g id=\"text_11\">\n      <!-- 2.8 -->\n      <g transform=\"translate(20.878125 223.161411)scale(0.1 -0.1)\">\n       <defs>\n        <path id=\"DejaVuSans-38\" d=\"M 2034 2216 \nQ 1584 2216 1326 1975 \nQ 1069 1734 1069 1313 \nQ 1069 891 1326 650 \nQ 1584 409 2034 409 \nQ 2484 409 2743 651 \nQ 3003 894 3003 1313 \nQ 3003 1734 2745 1975 \nQ 2488 2216 2034 2216 \nz\nM 1403 2484 \nQ 997 2584 770 2862 \nQ 544 3141 544 3541 \nQ 544 4100 942 4425 \nQ 1341 4750 2034 4750 \nQ 2731 4750 3128 4425 \nQ 3525 4100 3525 3541 \nQ 3525 3141 3298 2862 \nQ 3072 2584 2669 2484 \nQ 3125 2378 3379 2068 \nQ 3634 1759 3634 1313 \nQ 3634 634 3220 271 \nQ 2806 -91 2034 -91 \nQ 1263 -91 848 271 \nQ 434 634 434 1313 \nQ 434 1759 690 2068 \nQ 947 2378 1403 2484 \nz\nM 1172 3481 \nQ 1172 3119 1398 2916 \nQ 1625 2713 2034 2713 \nQ 2441 2713 2670 2916 \nQ 2900 3119 2900 3481 \nQ 2900 3844 2670 4047 \nQ 2441 4250 2034 4250 \nQ 1625 4250 1398 4047 \nQ 1172 3844 1172 3481 \nz\n\" transform=\"scale(0.015625)\"/>\n       </defs>\n       <use xlink:href=\"#DejaVuSans-32\"/>\n       <use xlink:href=\"#DejaVuSans-2e\" x=\"63.623047\"/>\n       <use xlink:href=\"#DejaVuSans-38\" x=\"95.410156\"/>\n      </g>\n     </g>\n    </g>\n    <g id=\"ytick_5\">\n     <g id=\"line2d_11\">\n      <g>\n       <use xlink:href=\"#m4544922e23\" x=\"43.78125\" y=\"154.799341\" style=\"stroke: #000000; stroke-width: 0.8\"/>\n      </g>\n     </g>\n     <g id=\"text_12\">\n      <!-- 3.0 -->\n      <g transform=\"translate(20.878125 158.59856)scale(0.1 -0.1)\">\n       <use xlink:href=\"#DejaVuSans-33\"/>\n       <use xlink:href=\"#DejaVuSans-2e\" x=\"63.623047\"/>\n       <use xlink:href=\"#DejaVuSans-30\" x=\"95.410156\"/>\n      </g>\n     </g>\n    </g>\n    <g id=\"ytick_6\">\n     <g id=\"line2d_12\">\n      <g>\n       <use xlink:href=\"#m4544922e23\" x=\"43.78125\" y=\"90.23649\" style=\"stroke: #000000; stroke-width: 0.8\"/>\n      </g>\n     </g>\n     <g id=\"text_13\">\n      <!-- 3.2 -->\n      <g transform=\"translate(20.878125 94.035709)scale(0.1 -0.1)\">\n       <use xlink:href=\"#DejaVuSans-33\"/>\n       <use xlink:href=\"#DejaVuSans-2e\" x=\"63.623047\"/>\n       <use xlink:href=\"#DejaVuSans-32\" x=\"95.410156\"/>\n      </g>\n     </g>\n    </g>\n    <g id=\"ytick_7\">\n     <g id=\"line2d_13\">\n      <g>\n       <use xlink:href=\"#m4544922e23\" x=\"43.78125\" y=\"25.673639\" style=\"stroke: #000000; stroke-width: 0.8\"/>\n      </g>\n     </g>\n     <g id=\"text_14\">\n      <!-- 3.4 -->\n      <g transform=\"translate(20.878125 29.472857)scale(0.1 -0.1)\">\n       <use xlink:href=\"#DejaVuSans-33\"/>\n       <use xlink:href=\"#DejaVuSans-2e\" x=\"63.623047\"/>\n       <use xlink:href=\"#DejaVuSans-34\" x=\"95.410156\"/>\n      </g>\n     </g>\n    </g>\n    <g id=\"text_15\">\n     <!-- Validation MAE -->\n     <g transform=\"translate(14.798438 261.813437)rotate(-90)scale(0.1 -0.1)\">\n      <defs>\n       <path id=\"DejaVuSans-56\" d=\"M 1831 0 \nL 50 4666 \nL 709 4666 \nL 2188 738 \nL 3669 4666 \nL 4325 4666 \nL 2547 0 \nL 1831 0 \nz\n\" transform=\"scale(0.015625)\"/>\n       <path id=\"DejaVuSans-61\" d=\"M 2194 1759 \nQ 1497 1759 1228 1600 \nQ 959 1441 959 1056 \nQ 959 750 1161 570 \nQ 1363 391 1709 391 \nQ 2188 391 2477 730 \nQ 2766 1069 2766 1631 \nL 2766 1759 \nL 2194 1759 \nz\nM 3341 1997 \nL 3341 0 \nL 2766 0 \nL 2766 531 \nQ 2569 213 2275 61 \nQ 1981 -91 1556 -91 \nQ 1019 -91 701 211 \nQ 384 513 384 1019 \nQ 384 1609 779 1909 \nQ 1175 2209 1959 2209 \nL 2766 2209 \nL 2766 2266 \nQ 2766 2663 2505 2880 \nQ 2244 3097 1772 3097 \nQ 1472 3097 1187 3025 \nQ 903 2953 641 2809 \nL 641 3341 \nQ 956 3463 1253 3523 \nQ 1550 3584 1831 3584 \nQ 2591 3584 2966 3190 \nQ 3341 2797 3341 1997 \nz\n\" transform=\"scale(0.015625)\"/>\n       <path id=\"DejaVuSans-6c\" d=\"M 603 4863 \nL 1178 4863 \nL 1178 0 \nL 603 0 \nL 603 4863 \nz\n\" transform=\"scale(0.015625)\"/>\n       <path id=\"DejaVuSans-69\" d=\"M 603 3500 \nL 1178 3500 \nL 1178 0 \nL 603 0 \nL 603 3500 \nz\nM 603 4863 \nL 1178 4863 \nL 1178 4134 \nL 603 4134 \nL 603 4863 \nz\n\" transform=\"scale(0.015625)\"/>\n       <path id=\"DejaVuSans-64\" d=\"M 2906 2969 \nL 2906 4863 \nL 3481 4863 \nL 3481 0 \nL 2906 0 \nL 2906 525 \nQ 2725 213 2448 61 \nQ 2172 -91 1784 -91 \nQ 1150 -91 751 415 \nQ 353 922 353 1747 \nQ 353 2572 751 3078 \nQ 1150 3584 1784 3584 \nQ 2172 3584 2448 3432 \nQ 2725 3281 2906 2969 \nz\nM 947 1747 \nQ 947 1113 1208 752 \nQ 1469 391 1925 391 \nQ 2381 391 2643 752 \nQ 2906 1113 2906 1747 \nQ 2906 2381 2643 2742 \nQ 2381 3103 1925 3103 \nQ 1469 3103 1208 2742 \nQ 947 2381 947 1747 \nz\n\" transform=\"scale(0.015625)\"/>\n       <path id=\"DejaVuSans-74\" d=\"M 1172 4494 \nL 1172 3500 \nL 2356 3500 \nL 2356 3053 \nL 1172 3053 \nL 1172 1153 \nQ 1172 725 1289 603 \nQ 1406 481 1766 481 \nL 2356 481 \nL 2356 0 \nL 1766 0 \nQ 1100 0 847 248 \nQ 594 497 594 1153 \nL 594 3053 \nL 172 3053 \nL 172 3500 \nL 594 3500 \nL 594 4494 \nL 1172 4494 \nz\n\" transform=\"scale(0.015625)\"/>\n       <path id=\"DejaVuSans-6e\" d=\"M 3513 2113 \nL 3513 0 \nL 2938 0 \nL 2938 2094 \nQ 2938 2591 2744 2837 \nQ 2550 3084 2163 3084 \nQ 1697 3084 1428 2787 \nQ 1159 2491 1159 1978 \nL 1159 0 \nL 581 0 \nL 581 3500 \nL 1159 3500 \nL 1159 2956 \nQ 1366 3272 1645 3428 \nQ 1925 3584 2291 3584 \nQ 2894 3584 3203 3211 \nQ 3513 2838 3513 2113 \nz\n\" transform=\"scale(0.015625)\"/>\n       <path id=\"DejaVuSans-20\" transform=\"scale(0.015625)\"/>\n       <path id=\"DejaVuSans-4d\" d=\"M 628 4666 \nL 1569 4666 \nL 2759 1491 \nL 3956 4666 \nL 4897 4666 \nL 4897 0 \nL 4281 0 \nL 4281 4097 \nL 3078 897 \nL 2444 897 \nL 1241 4097 \nL 1241 0 \nL 628 0 \nL 628 4666 \nz\n\" transform=\"scale(0.015625)\"/>\n       <path id=\"DejaVuSans-41\" d=\"M 2188 4044 \nL 1331 1722 \nL 3047 1722 \nL 2188 4044 \nz\nM 1831 4666 \nL 2547 4666 \nL 4325 0 \nL 3669 0 \nL 3244 1197 \nL 1141 1197 \nL 716 0 \nL 50 0 \nL 1831 4666 \nz\n\" transform=\"scale(0.015625)\"/>\n      </defs>\n      <use xlink:href=\"#DejaVuSans-56\"/>\n      <use xlink:href=\"#DejaVuSans-61\" x=\"60.658203\"/>\n      <use xlink:href=\"#DejaVuSans-6c\" x=\"121.9375\"/>\n      <use xlink:href=\"#DejaVuSans-69\" x=\"149.720703\"/>\n      <use xlink:href=\"#DejaVuSans-64\" x=\"177.503906\"/>\n      <use xlink:href=\"#DejaVuSans-61\" x=\"240.980469\"/>\n      <use xlink:href=\"#DejaVuSans-74\" x=\"302.259766\"/>\n      <use xlink:href=\"#DejaVuSans-69\" x=\"341.46875\"/>\n      <use xlink:href=\"#DejaVuSans-6f\" x=\"369.251953\"/>\n      <use xlink:href=\"#DejaVuSans-6e\" x=\"430.433594\"/>\n      <use xlink:href=\"#DejaVuSans-20\" x=\"493.8125\"/>\n      <use xlink:href=\"#DejaVuSans-4d\" x=\"525.599609\"/>\n      <use xlink:href=\"#DejaVuSans-41\" x=\"611.878906\"/>\n      <use xlink:href=\"#DejaVuSans-45\" x=\"680.287109\"/>\n     </g>\n    </g>\n   </g>\n   <g id=\"line2d_14\">\n    <path d=\"M 64.072159 26.967273 \nL 66.561841 124.951288 \nL 67.391735 168.187946 \nL 68.221629 184.308922 \nL 69.051523 213.748714 \nL 69.881417 222.687034 \nL 70.711311 219.226596 \nL 71.541205 230.124943 \nL 72.371099 254.775786 \nL 73.200993 243.710309 \nL 74.030887 259.488425 \nL 74.860782 280.443951 \nL 75.690676 262.585743 \nL 76.52057 286.157096 \nL 77.350464 295.940549 \nL 78.180358 276.524128 \nL 79.010252 304.531526 \nL 79.840146 308.226554 \nL 80.67004 308.623366 \nL 81.499934 306.640057 \nL 82.329828 302.978625 \nL 83.159722 330.555058 \nL 83.989616 321.789254 \nL 84.81951 325.240323 \nL 85.649404 318.538044 \nL 86.479298 333.319599 \nL 87.309192 328.216363 \nL 88.139086 340.320289 \nL 88.96898 334.15413 \nL 89.798874 335.205855 \nL 90.628768 330.211621 \nL 91.458662 342.563644 \nL 92.288556 323.120401 \nL 93.11845 344.168025 \nL 93.948344 349.936844 \nL 94.778238 341.755464 \nL 95.608132 328.202471 \nL 96.438026 350.319331 \nL 97.26792 352.797707 \nL 98.097814 350.616502 \nL 98.927708 343.466788 \nL 99.757602 334.042473 \nL 100.587497 349.590021 \nL 101.417391 340.783214 \nL 102.247285 355.163022 \nL 103.077179 360.663117 \nL 103.907073 367.497256 \nL 104.736967 337.286005 \nL 105.566861 342.872523 \nL 106.396755 335.479408 \nL 107.226649 359.466101 \nL 108.056543 375.906067 \nL 108.886437 369.414192 \nL 109.716331 353.984275 \nL 110.546225 363.173386 \nL 111.376119 367.582764 \nL 112.206013 358.52053 \nL 113.035907 359.668885 \nL 113.865801 346.690945 \nL 114.695695 347.365408 \nL 115.525589 371.404707 \nL 116.355483 363.200939 \nL 117.185377 370.543104 \nL 118.015271 356.260859 \nL 118.845165 370.627265 \nL 119.675059 359.378669 \nL 120.504953 351.714753 \nL 121.334847 361.43952 \nL 122.164741 353.397033 \nL 122.994635 371.944952 \nL 123.824529 351.565855 \nL 124.654423 353.670855 \nL 125.484317 360.564891 \nL 126.314212 374.689521 \nL 127.144106 377.590762 \nL 127.974 359.806248 \nL 128.803894 359.097593 \nL 129.633788 360.09933 \nL 130.463682 355.965872 \nL 131.293576 366.779077 \nL 132.12347 360.02225 \nL 132.953364 378.463178 \nL 133.783258 374.414227 \nL 134.613152 375.052594 \nL 135.443046 384.379279 \nL 136.27294 369.46446 \nL 137.102834 391.999499 \nL 137.932728 386.162787 \nL 138.762622 372.505016 \nL 139.592516 372.605071 \nL 140.42241 366.606675 \nL 141.252304 379.852087 \nL 142.082198 354.595511 \nL 142.912092 382.26588 \nL 143.741986 359.504468 \nL 144.57188 382.308557 \nL 145.401774 386.671775 \nL 146.231668 366.395484 \nL 147.061562 365.147748 \nL 147.891456 383.078129 \nL 148.72135 388.953535 \nL 149.551244 388.517067 \nL 150.381138 388.610397 \nL 151.211032 366.638654 \nL 152.040927 372.52572 \nL 152.870821 384.698934 \nL 153.700715 390.105142 \nL 154.530609 353.271022 \nL 155.360503 392.411848 \nL 156.190397 388.442238 \nL 157.020291 390.965763 \nL 157.850185 356.839674 \nL 158.680079 393.682779 \nL 159.509973 383.749552 \nL 160.339867 377.234299 \nL 161.169761 381.071712 \nL 161.999655 388.702552 \nL 162.829549 367.04095 \nL 163.659443 383.163868 \nL 164.489337 390.387141 \nL 165.319231 383.183379 \nL 166.149125 350.386492 \nL 166.979019 401.315111 \nL 167.808913 398.290717 \nL 168.638807 370.604522 \nL 169.468701 392.91415 \nL 170.298595 389.809058 \nL 171.128489 392.148926 \nL 171.958383 386.729441 \nL 172.788277 400.633865 \nL 173.618171 387.352722 \nL 174.448065 391.726552 \nL 175.277959 384.297619 \nL 176.107853 386.842195 \nL 176.937747 376.130285 \nL 177.767642 389.767497 \nL 178.597536 407.37553 \nL 179.42743 378.712391 \nL 180.257324 392.866614 \nL 181.087218 378.775233 \nL 181.917112 394.295622 \nL 182.747006 400.943053 \nL 183.5769 383.349219 \nL 184.406794 384.976681 \nL 185.236688 390.071835 \nL 186.066582 407.242621 \nL 186.896476 386.601189 \nL 187.72637 391.568303 \nL 188.556264 398.076379 \nL 189.386158 394.4681 \nL 190.216052 375.070969 \nL 191.045946 371.291741 \nL 191.87584 400.560191 \nL 192.705734 388.665802 \nL 193.535628 396.075339 \nL 195.195416 376.566378 \nL 196.02531 392.015045 \nL 196.855204 394.791305 \nL 197.685098 401.420947 \nL 198.514992 394.823938 \nL 199.344886 386.567161 \nL 200.17478 393.960661 \nL 201.004674 394.155459 \nL 201.834568 381.437257 \nL 202.664462 366.23784 \nL 203.494357 381.449648 \nL 204.324251 382.24358 \nL 205.154145 362.389085 \nL 205.984039 389.985885 \nL 206.813933 390.126913 \nL 207.643827 389.74029 \nL 208.473721 400.189383 \nL 209.303615 391.945277 \nL 210.133509 422.312727 \nL 210.963403 401.439544 \nL 211.793297 373.790658 \nL 212.623191 381.349113 \nL 213.453085 390.443508 \nL 214.282979 397.894915 \nL 215.112873 406.528926 \nL 215.942767 387.5161 \nL 216.772661 401.818548 \nL 217.602555 397.088919 \nL 218.432449 403.74852 \nL 219.262343 384.940777 \nL 220.092237 398.41845 \nL 220.922131 380.93304 \nL 221.752025 394.202177 \nL 222.581919 376.323939 \nL 223.411813 384.379972 \nL 225.071601 395.676748 \nL 225.901495 357.613056 \nL 226.731389 379.601451 \nL 227.561283 388.738341 \nL 228.391177 376.025276 \nL 229.221072 382.61559 \nL 230.050966 372.859517 \nL 230.88086 371.270345 \nL 231.710754 397.090564 \nL 232.540648 378.448805 \nL 233.370542 398.632027 \nL 234.200436 384.110287 \nL 235.03033 394.967766 \nL 235.860224 391.325363 \nL 236.690118 407.059176 \nL 237.520012 368.772564 \nL 238.349906 412.249401 \nL 239.1798 354.883302 \nL 240.009694 391.778032 \nL 240.839588 382.762689 \nL 241.669482 384.411085 \nL 242.499376 396.908225 \nL 243.32927 377.472544 \nL 244.159164 394.574033 \nL 244.989058 394.750128 \nL 245.818952 366.674135 \nL 246.648846 380.640535 \nL 247.47874 384.530217 \nL 248.308634 400.024727 \nL 249.138528 390.177893 \nL 249.968422 402.35407 \nL 250.798316 406.313992 \nL 251.62821 374.867551 \nL 252.458104 390.96028 \nL 253.287998 396.902722 \nL 254.117892 396.304589 \nL 254.947787 377.431137 \nL 256.607575 395.477543 \nL 257.437469 390.887086 \nL 258.267363 344.585416 \nL 259.097257 380.420435 \nL 259.927151 386.244909 \nL 260.757045 380.121792 \nL 261.586939 386.991007 \nL 262.416833 348.378459 \nL 263.246727 382.517132 \nL 264.076621 381.12932 \nL 264.906515 395.246206 \nL 265.736409 377.826756 \nL 266.566303 393.500641 \nL 268.226091 373.154831 \nL 269.055985 366.967949 \nL 269.885879 385.171133 \nL 271.545667 372.518043 \nL 272.375561 390.075857 \nL 273.205455 357.343717 \nL 274.035349 380.184499 \nL 274.865243 392.269665 \nL 275.695137 385.123645 \nL 276.525031 401.931417 \nL 277.354925 348.247734 \nL 278.184819 377.865642 \nL 279.014713 387.121597 \nL 279.844608 379.20816 \nL 280.674502 375.459353 \nL 281.504396 392.196471 \nL 282.33429 395.945422 \nL 283.164184 381.44199 \nL 283.994078 385.694398 \nL 284.823972 375.133464 \nL 285.653866 391.341295 \nL 286.48376 388.574887 \nL 287.313654 363.01201 \nL 288.143548 368.773142 \nL 288.973442 389.163611 \nL 289.803336 382.327164 \nL 290.63323 387.42734 \nL 291.463124 376.723483 \nL 292.293018 332.443931 \nL 293.122912 383.659619 \nL 293.952806 386.777467 \nL 295.612594 371.898821 \nL 296.442488 364.663042 \nL 297.272382 367.889892 \nL 298.102276 391.175243 \nL 298.93217 373.444027 \nL 300.591958 388.665128 \nL 301.421852 371.682146 \nL 302.251746 378.816871 \nL 303.08164 383.020252 \nL 303.911534 360.783452 \nL 304.741428 326.615416 \nL 305.571323 382.965895 \nL 306.401217 369.809532 \nL 307.231111 349.524601 \nL 308.061005 387.368038 \nL 308.890899 382.600081 \nL 309.720793 375.052651 \nL 310.550687 351.096917 \nL 311.380581 348.330644 \nL 312.210475 371.007741 \nL 313.040369 366.866105 \nL 313.870263 382.844887 \nL 314.700157 376.771105 \nL 315.530051 358.975931 \nL 316.359945 337.703059 \nL 317.189839 365.193696 \nL 318.019733 349.636748 \nL 318.849627 387.925515 \nL 319.679521 360.992893 \nL 320.509415 347.209689 \nL 321.339309 356.555365 \nL 322.169203 360.145432 \nL 322.999097 356.909192 \nL 323.828991 379.521504 \nL 324.658885 352.139388 \nL 325.488779 357.108012 \nL 326.318673 367.72765 \nL 327.148567 369.789829 \nL 327.978461 373.076635 \nL 328.808355 377.04762 \nL 329.638249 372.528876 \nL 330.468143 378.39874 \nL 331.298038 374.386982 \nL 332.127932 363.272305 \nL 332.957826 366.357367 \nL 333.78772 355.463522 \nL 334.617614 371.886045 \nL 335.447508 360.916351 \nL 336.277402 359.258238 \nL 337.107296 370.541372 \nL 337.93719 358.378452 \nL 338.767084 379.357145 \nL 339.596978 363.028153 \nL 340.426872 374.07739 \nL 341.256766 369.321921 \nL 342.08666 366.287771 \nL 342.916554 334.997011 \nL 343.746448 345.380887 \nL 344.576342 346.479041 \nL 345.406236 363.831263 \nL 346.23613 359.362622 \nL 347.066024 351.069748 \nL 348.725812 343.328771 \nL 349.555706 376.506615 \nL 350.3856 354.833737 \nL 352.045388 383.981236 \nL 352.875282 361.207336 \nL 353.705176 356.204694 \nL 354.53507 357.738547 \nL 355.364964 365.519738 \nL 356.194858 370.362467 \nL 357.024753 363.01353 \nL 357.854647 367.213313 \nL 358.684541 358.813246 \nL 359.514435 346.956108 \nL 360.344329 337.461081 \nL 361.174223 342.313623 \nL 362.004117 357.201717 \nL 362.834011 341.443342 \nL 363.663905 364.45641 \nL 364.493799 353.34285 \nL 365.323693 346.445696 \nL 366.153587 374.622167 \nL 366.983481 339.166008 \nL 367.813375 368.868924 \nL 368.643269 374.63631 \nL 369.473163 358.288904 \nL 370.303057 357.373887 \nL 371.132951 366.865874 \nL 371.962845 334.232018 \nL 372.792739 349.203292 \nL 373.622633 314.621242 \nL 374.452527 341.480824 \nL 375.282421 339.637861 \nL 376.112315 347.145115 \nL 376.942209 356.792667 \nL 377.772103 336.381187 \nL 378.601997 365.422128 \nL 379.431891 358.282708 \nL 380.261785 342.869233 \nL 381.091679 358.434502 \nL 381.921573 347.197355 \nL 382.751468 316.493183 \nL 383.581362 350.568457 \nL 384.411256 358.82558 \nL 385.24115 368.502129 \nL 386.071044 342.855706 \nL 386.900938 367.011318 \nL 387.730832 349.67778 \nL 388.560726 366.594246 \nL 389.39062 359.75447 \nL 390.220514 362.892348 \nL 391.050408 355.882384 \nL 391.880302 359.14281 \nL 392.710196 354.474619 \nL 393.54009 345.747759 \nL 394.369984 326.994122 \nL 395.199878 335.470365 \nL 396.029772 350.040497 \nL 396.859666 349.485503 \nL 397.68956 341.328626 \nL 398.519454 340.889811 \nL 399.349348 346.6997 \nL 400.179242 360.203425 \nL 401.009136 342.061082 \nL 402.668924 352.011972 \nL 403.498818 336.239994 \nL 404.328712 353.845623 \nL 405.158606 336.759488 \nL 405.9885 359.439722 \nL 406.818394 340.775133 \nL 407.648288 325.92481 \nL 408.478183 343.666493 \nL 409.308077 351.641213 \nL 410.137971 311.354351 \nL 410.967865 351.242458 \nL 411.797759 325.986671 \nL 413.457547 360.346388 \nL 414.287441 353.933767 \nL 415.117335 331.504285 \nL 415.947229 349.890357 \nL 416.777123 344.818908 \nL 417.607017 344.303089 \nL 418.436911 344.126743 \nL 419.266805 349.525351 \nL 420.096699 332.058702 \nL 420.926593 360.413674 \nL 421.756487 325.56371 \nL 422.586381 326.806943 \nL 423.416275 351.474103 \nL 424.246169 352.854103 \nL 425.076063 351.92656 \nL 425.905957 330.071122 \nL 426.735851 342.20593 \nL 427.565745 349.305078 \nL 428.395639 362.173188 \nL 429.225533 350.996613 \nL 430.055427 349.207505 \nL 430.885321 325.814211 \nL 431.715215 344.6127 \nL 432.545109 340.810768 \nL 433.375003 331.816243 \nL 434.204898 302.937679 \nL 435.034792 348.729515 \nL 435.864686 326.592327 \nL 437.524474 343.723832 \nL 438.354368 340.410165 \nL 440.014156 329.35252 \nL 440.84405 330.7173 \nL 441.673944 322.073486 \nL 442.503838 347.395732 \nL 443.333732 344.370203 \nL 444.99352 311.391236 \nL 445.823414 339.211648 \nL 446.653308 318.123627 \nL 447.483202 335.587582 \nL 448.313096 334.694924 \nL 449.14299 319.63491 \nL 449.972884 350.749459 \nL 450.802778 333.438087 \nL 451.632672 322.268688 \nL 452.462566 330.16904 \nL 453.29246 333.150931 \nL 454.122354 317.266815 \nL 454.952248 333.1157 \nL 455.782142 329.535234 \nL 456.612036 323.179202 \nL 457.44193 337.110314 \nL 459.931613 328.434732 \nL 460.761507 345.469897 \nL 461.591401 331.512367 \nL 462.421295 344.631941 \nL 463.251189 354.305161 \nL 464.081083 338.191498 \nL 464.910977 337.340727 \nL 465.740871 339.232102 \nL 466.570765 339.091198 \nL 467.400659 320.629758 \nL 468.230553 309.023199 \nL 469.060447 334.967899 \nL 469.890341 342.610169 \nL 469.890341 342.610169 \n\" clip-path=\"url(#p5d9af45e06)\" style=\"fill: none; stroke: #1f77b4; stroke-width: 1.5; stroke-linecap: square\"/>\n   </g>\n   <g id=\"patch_3\">\n    <path d=\"M 43.78125 442.08 \nL 43.78125 7.2 \n\" style=\"fill: none; stroke: #000000; stroke-width: 0.8; stroke-linejoin: miter; stroke-linecap: square\"/>\n   </g>\n   <g id=\"patch_4\">\n    <path d=\"M 490.18125 442.08 \nL 490.18125 7.2 \n\" style=\"fill: none; stroke: #000000; stroke-width: 0.8; stroke-linejoin: miter; stroke-linecap: square\"/>\n   </g>\n   <g id=\"patch_5\">\n    <path d=\"M 43.78125 442.08 \nL 490.18125 442.08 \n\" style=\"fill: none; stroke: #000000; stroke-width: 0.8; stroke-linejoin: miter; stroke-linecap: square\"/>\n   </g>\n   <g id=\"patch_6\">\n    <path d=\"M 43.78125 7.2 \nL 490.18125 7.2 \n\" style=\"fill: none; stroke: #000000; stroke-width: 0.8; stroke-linejoin: miter; stroke-linecap: square\"/>\n   </g>\n  </g>\n </g>\n <defs>\n  <clipPath id=\"p5d9af45e06\">\n   <rect x=\"43.78125\" y=\"7.2\" width=\"446.4\" height=\"434.88\"/>\n  </clipPath>\n </defs>\n</svg>\n",
      "text/plain": [
       "<Figure size 576x576 with 1 Axes>"
      ]
     },
     "metadata": {
      "needs_background": "light"
     },
     "output_type": "display_data"
    }
   ],
   "source": [
    "truncated_mae_history = average_mae_history[10:]\n",
    "plt.plot(range(1, len(truncated_mae_history) + 1), truncated_mae_history)\n",
    "plt.xlabel(\"Epochs\")\n",
    "plt.ylabel(\"Validation MAE\")\n",
    "plt.show()"
   ]
  },
  {
   "cell_type": "markdown",
   "metadata": {},
   "source": [
    "So as you can see, starting from epoch 140-190, the validation MAE starts to plateau and even overfit. So let's make a new model from scratch and train it for 180 epochs (we are not using K-fold cross-validation for this)."
   ]
  },
  {
   "cell_type": "code",
   "execution_count": 17,
   "metadata": {},
   "outputs": [
    {
     "name": "stdout",
     "output_type": "stream",
     "text": [
      "Epoch 1/170\n",
      " 1/26 [>.............................] - ETA: 11s - loss: 362.8058 - mae: 18.2474"
     ]
    },
    {
     "name": "stderr",
     "output_type": "stream",
     "text": [
      "2022-04-11 03:18:08.958338: I tensorflow/core/grappler/optimizers/custom_graph_optimizer_registry.cc:113] Plugin optimizer for device_type GPU is enabled.\n"
     ]
    },
    {
     "name": "stdout",
     "output_type": "stream",
     "text": [
      "26/26 [==============================] - 1s 9ms/step - loss: 504.8195 - mae: 20.4708\n",
      "Epoch 2/170\n",
      "26/26 [==============================] - 0s 8ms/step - loss: 325.4128 - mae: 15.7109\n",
      "Epoch 3/170\n",
      "26/26 [==============================] - 0s 7ms/step - loss: 154.5468 - mae: 9.9362\n",
      "Epoch 4/170\n",
      "26/26 [==============================] - 0s 8ms/step - loss: 73.7031 - mae: 6.3764\n",
      "Epoch 5/170\n",
      "26/26 [==============================] - 0s 8ms/step - loss: 47.0724 - mae: 5.0737\n",
      "Epoch 6/170\n",
      "26/26 [==============================] - 0s 10ms/step - loss: 34.6614 - mae: 4.2210\n",
      "Epoch 7/170\n",
      "26/26 [==============================] - 0s 10ms/step - loss: 27.2989 - mae: 3.7133\n",
      "Epoch 8/170\n",
      "26/26 [==============================] - 0s 10ms/step - loss: 23.0990 - mae: 3.3906\n",
      "Epoch 9/170\n",
      "26/26 [==============================] - 0s 9ms/step - loss: 20.6620 - mae: 3.2036\n",
      "Epoch 10/170\n",
      "26/26 [==============================] - 0s 9ms/step - loss: 18.6495 - mae: 3.0212\n",
      "Epoch 11/170\n",
      "26/26 [==============================] - 0s 10ms/step - loss: 16.9278 - mae: 2.8643\n",
      "Epoch 12/170\n",
      "26/26 [==============================] - 0s 9ms/step - loss: 15.5441 - mae: 2.7250\n",
      "Epoch 13/170\n",
      "26/26 [==============================] - 0s 15ms/step - loss: 14.5210 - mae: 2.6214\n",
      "Epoch 14/170\n",
      "26/26 [==============================] - 0s 16ms/step - loss: 13.5814 - mae: 2.5696\n",
      "Epoch 15/170\n",
      "26/26 [==============================] - 0s 10ms/step - loss: 12.7623 - mae: 2.4765\n",
      "Epoch 16/170\n",
      "26/26 [==============================] - 0s 10ms/step - loss: 12.3913 - mae: 2.4886\n",
      "Epoch 17/170\n",
      "26/26 [==============================] - 0s 9ms/step - loss: 11.7024 - mae: 2.4031\n",
      "Epoch 18/170\n",
      "26/26 [==============================] - 0s 9ms/step - loss: 11.1452 - mae: 2.3556\n",
      "Epoch 19/170\n",
      "26/26 [==============================] - 0s 10ms/step - loss: 11.2063 - mae: 2.3412\n",
      "Epoch 20/170\n",
      "26/26 [==============================] - 0s 10ms/step - loss: 10.5654 - mae: 2.3032\n",
      "Epoch 21/170\n",
      "26/26 [==============================] - 0s 10ms/step - loss: 10.3151 - mae: 2.2538\n",
      "Epoch 22/170\n",
      "26/26 [==============================] - 0s 10ms/step - loss: 10.0733 - mae: 2.2509\n",
      "Epoch 23/170\n",
      "26/26 [==============================] - 0s 10ms/step - loss: 9.9738 - mae: 2.2285\n",
      "Epoch 24/170\n",
      "26/26 [==============================] - 0s 10ms/step - loss: 9.5952 - mae: 2.1913\n",
      "Epoch 25/170\n",
      "26/26 [==============================] - 0s 10ms/step - loss: 9.6441 - mae: 2.1654\n",
      "Epoch 26/170\n",
      "26/26 [==============================] - 0s 10ms/step - loss: 9.3377 - mae: 2.1732\n",
      "Epoch 27/170\n",
      "26/26 [==============================] - 0s 9ms/step - loss: 9.3817 - mae: 2.1557\n",
      "Epoch 28/170\n",
      "26/26 [==============================] - 0s 10ms/step - loss: 9.1118 - mae: 2.1193\n",
      "Epoch 29/170\n",
      "26/26 [==============================] - 0s 9ms/step - loss: 8.7967 - mae: 2.1051\n",
      "Epoch 30/170\n",
      "26/26 [==============================] - 0s 10ms/step - loss: 8.9157 - mae: 2.0816\n",
      "Epoch 31/170\n",
      "26/26 [==============================] - 0s 10ms/step - loss: 8.7611 - mae: 2.1033\n",
      "Epoch 32/170\n",
      "26/26 [==============================] - 0s 9ms/step - loss: 8.6955 - mae: 2.0512\n",
      "Epoch 33/170\n",
      "26/26 [==============================] - 0s 10ms/step - loss: 8.7542 - mae: 2.0975\n",
      "Epoch 34/170\n",
      "26/26 [==============================] - 0s 10ms/step - loss: 8.4495 - mae: 2.0525\n",
      "Epoch 35/170\n",
      "26/26 [==============================] - 0s 10ms/step - loss: 8.3239 - mae: 2.0594\n",
      "Epoch 36/170\n",
      "26/26 [==============================] - 0s 10ms/step - loss: 7.9677 - mae: 2.0045\n",
      "Epoch 37/170\n",
      "26/26 [==============================] - 0s 10ms/step - loss: 8.3124 - mae: 2.0219\n",
      "Epoch 38/170\n",
      "26/26 [==============================] - 0s 9ms/step - loss: 8.1849 - mae: 1.9941\n",
      "Epoch 39/170\n",
      "26/26 [==============================] - 0s 10ms/step - loss: 7.9397 - mae: 1.9822\n",
      "Epoch 40/170\n",
      "26/26 [==============================] - 0s 9ms/step - loss: 7.9658 - mae: 1.9692\n",
      "Epoch 41/170\n",
      "26/26 [==============================] - 0s 10ms/step - loss: 7.9239 - mae: 1.9962\n",
      "Epoch 42/170\n",
      "26/26 [==============================] - 0s 13ms/step - loss: 7.8620 - mae: 1.9629\n",
      "Epoch 43/170\n",
      "26/26 [==============================] - 0s 11ms/step - loss: 7.6390 - mae: 1.8938\n",
      "Epoch 44/170\n",
      "26/26 [==============================] - 0s 9ms/step - loss: 7.5494 - mae: 1.9094\n",
      "Epoch 45/170\n",
      "26/26 [==============================] - 0s 9ms/step - loss: 7.4039 - mae: 1.9163\n",
      "Epoch 46/170\n",
      "26/26 [==============================] - 0s 10ms/step - loss: 7.4824 - mae: 1.9068\n",
      "Epoch 47/170\n",
      "26/26 [==============================] - 0s 9ms/step - loss: 7.2735 - mae: 1.9026\n",
      "Epoch 48/170\n",
      "26/26 [==============================] - 0s 10ms/step - loss: 7.5009 - mae: 1.9261\n",
      "Epoch 49/170\n",
      "26/26 [==============================] - 0s 10ms/step - loss: 7.2703 - mae: 1.8932\n",
      "Epoch 50/170\n",
      "26/26 [==============================] - 0s 10ms/step - loss: 7.1192 - mae: 1.8762\n",
      "Epoch 51/170\n",
      "26/26 [==============================] - 0s 10ms/step - loss: 7.0258 - mae: 1.8715\n",
      "Epoch 52/170\n",
      "26/26 [==============================] - 0s 10ms/step - loss: 7.2089 - mae: 1.8957\n",
      "Epoch 53/170\n",
      "26/26 [==============================] - 0s 9ms/step - loss: 6.7330 - mae: 1.8383\n",
      "Epoch 54/170\n",
      "26/26 [==============================] - 0s 10ms/step - loss: 7.0312 - mae: 1.8468\n",
      "Epoch 55/170\n",
      "26/26 [==============================] - 0s 10ms/step - loss: 6.9662 - mae: 1.8371\n",
      "Epoch 56/170\n",
      "26/26 [==============================] - 0s 9ms/step - loss: 6.7080 - mae: 1.8115\n",
      "Epoch 57/170\n",
      "26/26 [==============================] - 0s 10ms/step - loss: 6.6646 - mae: 1.8259\n",
      "Epoch 58/170\n",
      "26/26 [==============================] - 0s 10ms/step - loss: 6.7976 - mae: 1.8406\n",
      "Epoch 59/170\n",
      "26/26 [==============================] - 0s 9ms/step - loss: 6.6086 - mae: 1.8006\n",
      "Epoch 60/170\n",
      "26/26 [==============================] - 0s 10ms/step - loss: 6.6806 - mae: 1.8526\n",
      "Epoch 61/170\n",
      "26/26 [==============================] - 0s 10ms/step - loss: 6.4801 - mae: 1.7963\n",
      "Epoch 62/170\n",
      "26/26 [==============================] - 0s 9ms/step - loss: 6.3957 - mae: 1.7780\n",
      "Epoch 63/170\n",
      "26/26 [==============================] - 0s 9ms/step - loss: 6.2560 - mae: 1.7843\n",
      "Epoch 64/170\n",
      "26/26 [==============================] - 0s 10ms/step - loss: 6.3460 - mae: 1.7446\n",
      "Epoch 65/170\n",
      "26/26 [==============================] - 0s 13ms/step - loss: 6.2869 - mae: 1.7720\n",
      "Epoch 66/170\n",
      "26/26 [==============================] - 0s 11ms/step - loss: 6.2464 - mae: 1.7700\n",
      "Epoch 67/170\n",
      "26/26 [==============================] - 0s 10ms/step - loss: 6.1449 - mae: 1.7126\n",
      "Epoch 68/170\n",
      "26/26 [==============================] - 0s 10ms/step - loss: 6.1726 - mae: 1.7429\n",
      "Epoch 69/170\n",
      "26/26 [==============================] - 0s 9ms/step - loss: 6.1276 - mae: 1.7436\n",
      "Epoch 70/170\n",
      "26/26 [==============================] - 0s 10ms/step - loss: 6.0785 - mae: 1.7272\n",
      "Epoch 71/170\n",
      "26/26 [==============================] - 0s 9ms/step - loss: 5.8833 - mae: 1.7118\n",
      "Epoch 72/170\n",
      "26/26 [==============================] - 0s 10ms/step - loss: 5.9201 - mae: 1.7001\n",
      "Epoch 73/170\n",
      "26/26 [==============================] - 0s 10ms/step - loss: 5.8161 - mae: 1.6708\n",
      "Epoch 74/170\n",
      "26/26 [==============================] - 0s 10ms/step - loss: 5.9391 - mae: 1.7207\n",
      "Epoch 75/170\n",
      "26/26 [==============================] - 0s 11ms/step - loss: 5.9161 - mae: 1.6892\n",
      "Epoch 76/170\n",
      "26/26 [==============================] - 0s 11ms/step - loss: 5.5963 - mae: 1.6785\n",
      "Epoch 77/170\n",
      "26/26 [==============================] - 0s 9ms/step - loss: 5.7251 - mae: 1.6756\n",
      "Epoch 78/170\n",
      "26/26 [==============================] - 0s 15ms/step - loss: 5.7271 - mae: 1.6667\n",
      "Epoch 79/170\n",
      "26/26 [==============================] - 0s 11ms/step - loss: 5.4596 - mae: 1.6573\n",
      "Epoch 80/170\n",
      "26/26 [==============================] - 0s 10ms/step - loss: 5.6863 - mae: 1.7051\n",
      "Epoch 81/170\n",
      "26/26 [==============================] - 0s 10ms/step - loss: 5.5641 - mae: 1.6721\n",
      "Epoch 82/170\n",
      "26/26 [==============================] - 0s 10ms/step - loss: 5.5687 - mae: 1.6568\n",
      "Epoch 83/170\n",
      "26/26 [==============================] - 0s 10ms/step - loss: 5.3878 - mae: 1.6452\n",
      "Epoch 84/170\n",
      "26/26 [==============================] - 0s 9ms/step - loss: 5.4039 - mae: 1.6660\n",
      "Epoch 85/170\n",
      "26/26 [==============================] - 0s 9ms/step - loss: 5.4136 - mae: 1.6335\n",
      "Epoch 86/170\n",
      "26/26 [==============================] - 0s 10ms/step - loss: 5.2965 - mae: 1.6246\n",
      "Epoch 87/170\n",
      "26/26 [==============================] - 0s 10ms/step - loss: 5.4787 - mae: 1.6370\n",
      "Epoch 88/170\n",
      "26/26 [==============================] - 0s 10ms/step - loss: 5.2243 - mae: 1.6335\n",
      "Epoch 89/170\n",
      "26/26 [==============================] - 0s 10ms/step - loss: 5.2604 - mae: 1.6304\n",
      "Epoch 90/170\n",
      "26/26 [==============================] - 0s 10ms/step - loss: 5.1526 - mae: 1.6121\n",
      "Epoch 91/170\n",
      "26/26 [==============================] - 0s 10ms/step - loss: 5.0792 - mae: 1.5930\n",
      "Epoch 92/170\n",
      "26/26 [==============================] - 0s 9ms/step - loss: 5.2975 - mae: 1.6430\n",
      "Epoch 93/170\n",
      "26/26 [==============================] - 0s 10ms/step - loss: 5.0879 - mae: 1.5918\n",
      "Epoch 94/170\n",
      "26/26 [==============================] - 0s 10ms/step - loss: 5.1656 - mae: 1.6157\n",
      "Epoch 95/170\n",
      "26/26 [==============================] - 0s 10ms/step - loss: 4.7969 - mae: 1.5437\n",
      "Epoch 96/170\n",
      "26/26 [==============================] - 0s 10ms/step - loss: 5.0149 - mae: 1.6196\n",
      "Epoch 97/170\n",
      "26/26 [==============================] - 0s 10ms/step - loss: 5.0713 - mae: 1.6050\n",
      "Epoch 98/170\n",
      "26/26 [==============================] - 0s 11ms/step - loss: 4.8377 - mae: 1.5598\n",
      "Epoch 99/170\n",
      "26/26 [==============================] - 0s 10ms/step - loss: 4.9939 - mae: 1.5891\n",
      "Epoch 100/170\n",
      "26/26 [==============================] - 0s 9ms/step - loss: 4.8728 - mae: 1.5522\n",
      "Epoch 101/170\n",
      "26/26 [==============================] - 0s 10ms/step - loss: 4.8220 - mae: 1.5395\n",
      "Epoch 102/170\n",
      "26/26 [==============================] - 0s 9ms/step - loss: 4.7963 - mae: 1.5541\n",
      "Epoch 103/170\n",
      "26/26 [==============================] - 0s 10ms/step - loss: 4.6736 - mae: 1.5489\n",
      "Epoch 104/170\n",
      "26/26 [==============================] - 0s 10ms/step - loss: 4.6571 - mae: 1.5600\n",
      "Epoch 105/170\n",
      "26/26 [==============================] - 0s 10ms/step - loss: 4.5870 - mae: 1.5323\n",
      "Epoch 106/170\n",
      "26/26 [==============================] - 0s 11ms/step - loss: 4.7368 - mae: 1.5526\n",
      "Epoch 107/170\n",
      "26/26 [==============================] - 0s 10ms/step - loss: 4.6150 - mae: 1.5160\n",
      "Epoch 108/170\n",
      "26/26 [==============================] - 0s 11ms/step - loss: 4.5514 - mae: 1.5297\n",
      "Epoch 109/170\n",
      "26/26 [==============================] - 0s 10ms/step - loss: 4.6707 - mae: 1.5521\n",
      "Epoch 110/170\n",
      "26/26 [==============================] - 0s 10ms/step - loss: 4.3646 - mae: 1.5102\n",
      "Epoch 111/170\n",
      "26/26 [==============================] - 0s 9ms/step - loss: 4.5211 - mae: 1.5134\n",
      "Epoch 112/170\n",
      "26/26 [==============================] - 0s 10ms/step - loss: 4.4971 - mae: 1.4935\n",
      "Epoch 113/170\n",
      "26/26 [==============================] - 0s 9ms/step - loss: 4.4497 - mae: 1.5054\n",
      "Epoch 114/170\n",
      "26/26 [==============================] - 0s 10ms/step - loss: 4.4063 - mae: 1.5133\n",
      "Epoch 115/170\n",
      "26/26 [==============================] - 0s 9ms/step - loss: 4.4784 - mae: 1.4847\n",
      "Epoch 116/170\n",
      "26/26 [==============================] - 0s 10ms/step - loss: 4.3796 - mae: 1.4686\n",
      "Epoch 117/170\n",
      "26/26 [==============================] - 0s 10ms/step - loss: 4.2939 - mae: 1.4845\n",
      "Epoch 118/170\n",
      "26/26 [==============================] - 0s 10ms/step - loss: 4.3292 - mae: 1.4968\n",
      "Epoch 119/170\n",
      "26/26 [==============================] - 0s 10ms/step - loss: 4.2991 - mae: 1.4709\n",
      "Epoch 120/170\n",
      "26/26 [==============================] - 0s 10ms/step - loss: 4.2850 - mae: 1.4765\n",
      "Epoch 121/170\n",
      "26/26 [==============================] - 0s 10ms/step - loss: 4.2747 - mae: 1.4795\n",
      "Epoch 122/170\n",
      "26/26 [==============================] - 0s 10ms/step - loss: 4.2576 - mae: 1.4990\n",
      "Epoch 123/170\n",
      "26/26 [==============================] - 0s 9ms/step - loss: 4.2352 - mae: 1.4572\n",
      "Epoch 124/170\n",
      "26/26 [==============================] - 0s 10ms/step - loss: 4.2168 - mae: 1.4693\n",
      "Epoch 125/170\n",
      "26/26 [==============================] - 0s 10ms/step - loss: 4.1920 - mae: 1.4897\n",
      "Epoch 126/170\n",
      "26/26 [==============================] - 0s 9ms/step - loss: 4.0569 - mae: 1.4116\n",
      "Epoch 127/170\n",
      "26/26 [==============================] - 0s 10ms/step - loss: 4.0522 - mae: 1.4692\n",
      "Epoch 128/170\n",
      "26/26 [==============================] - 0s 9ms/step - loss: 4.1641 - mae: 1.4436\n",
      "Epoch 129/170\n",
      "26/26 [==============================] - 0s 10ms/step - loss: 3.9231 - mae: 1.4235\n",
      "Epoch 130/170\n",
      "26/26 [==============================] - 0s 10ms/step - loss: 4.1781 - mae: 1.4514\n",
      "Epoch 131/170\n",
      "26/26 [==============================] - 0s 10ms/step - loss: 4.0383 - mae: 1.4370\n",
      "Epoch 132/170\n",
      "26/26 [==============================] - 0s 10ms/step - loss: 3.8855 - mae: 1.4270\n",
      "Epoch 133/170\n",
      "26/26 [==============================] - 0s 10ms/step - loss: 4.2317 - mae: 1.4849\n",
      "Epoch 134/170\n",
      "26/26 [==============================] - 0s 10ms/step - loss: 3.9618 - mae: 1.4229\n",
      "Epoch 135/170\n",
      "26/26 [==============================] - 0s 11ms/step - loss: 3.9665 - mae: 1.4263\n",
      "Epoch 136/170\n",
      "26/26 [==============================] - 0s 9ms/step - loss: 3.8093 - mae: 1.3961\n",
      "Epoch 137/170\n",
      "26/26 [==============================] - 0s 9ms/step - loss: 3.9214 - mae: 1.4198\n",
      "Epoch 138/170\n",
      "26/26 [==============================] - 0s 10ms/step - loss: 3.7928 - mae: 1.3998\n",
      "Epoch 139/170\n",
      "26/26 [==============================] - 0s 10ms/step - loss: 3.7570 - mae: 1.3624\n",
      "Epoch 140/170\n",
      "26/26 [==============================] - 0s 9ms/step - loss: 3.8224 - mae: 1.4155\n",
      "Epoch 141/170\n",
      "26/26 [==============================] - 0s 10ms/step - loss: 3.8291 - mae: 1.3978\n",
      "Epoch 142/170\n",
      "26/26 [==============================] - 0s 9ms/step - loss: 3.8238 - mae: 1.4045\n",
      "Epoch 143/170\n",
      "26/26 [==============================] - 0s 10ms/step - loss: 3.8937 - mae: 1.4095\n",
      "Epoch 144/170\n",
      "26/26 [==============================] - 0s 10ms/step - loss: 3.6964 - mae: 1.3818\n",
      "Epoch 145/170\n",
      "26/26 [==============================] - 0s 10ms/step - loss: 3.6827 - mae: 1.3578\n",
      "Epoch 146/170\n",
      "26/26 [==============================] - 0s 10ms/step - loss: 3.5684 - mae: 1.3510\n",
      "Epoch 147/170\n",
      "26/26 [==============================] - 0s 10ms/step - loss: 3.8471 - mae: 1.4434\n",
      "Epoch 148/170\n",
      "26/26 [==============================] - 0s 11ms/step - loss: 3.5261 - mae: 1.3313\n",
      "Epoch 149/170\n",
      "26/26 [==============================] - 0s 10ms/step - loss: 3.6312 - mae: 1.3538\n",
      "Epoch 150/170\n",
      "26/26 [==============================] - 0s 9ms/step - loss: 3.6028 - mae: 1.3710\n",
      "Epoch 151/170\n",
      "26/26 [==============================] - 0s 10ms/step - loss: 3.6340 - mae: 1.3415\n",
      "Epoch 152/170\n",
      "26/26 [==============================] - 0s 11ms/step - loss: 3.5649 - mae: 1.3707\n",
      "Epoch 153/170\n",
      "26/26 [==============================] - 0s 10ms/step - loss: 3.5570 - mae: 1.3538\n",
      "Epoch 154/170\n",
      "26/26 [==============================] - 0s 9ms/step - loss: 3.5175 - mae: 1.3344\n",
      "Epoch 155/170\n",
      "26/26 [==============================] - 0s 10ms/step - loss: 3.6735 - mae: 1.3500\n",
      "Epoch 156/170\n",
      "26/26 [==============================] - 0s 9ms/step - loss: 3.4118 - mae: 1.3280\n",
      "Epoch 157/170\n",
      "26/26 [==============================] - 0s 9ms/step - loss: 3.3986 - mae: 1.3354\n",
      "Epoch 158/170\n",
      "26/26 [==============================] - 0s 10ms/step - loss: 3.5994 - mae: 1.3420\n",
      "Epoch 159/170\n",
      "26/26 [==============================] - 0s 11ms/step - loss: 3.5867 - mae: 1.3615\n",
      "Epoch 160/170\n",
      "26/26 [==============================] - 0s 10ms/step - loss: 3.4031 - mae: 1.3377\n",
      "Epoch 161/170\n",
      "26/26 [==============================] - 0s 10ms/step - loss: 3.4002 - mae: 1.3330\n",
      "Epoch 162/170\n",
      "26/26 [==============================] - 0s 10ms/step - loss: 3.4395 - mae: 1.3094\n",
      "Epoch 163/170\n",
      "26/26 [==============================] - 0s 10ms/step - loss: 3.3598 - mae: 1.2913\n",
      "Epoch 164/170\n",
      "26/26 [==============================] - 0s 10ms/step - loss: 3.3755 - mae: 1.3309\n",
      "Epoch 165/170\n",
      "26/26 [==============================] - 0s 10ms/step - loss: 3.4340 - mae: 1.3179\n",
      "Epoch 166/170\n",
      "26/26 [==============================] - 0s 10ms/step - loss: 3.4227 - mae: 1.3207\n",
      "Epoch 167/170\n",
      "26/26 [==============================] - 0s 10ms/step - loss: 3.2613 - mae: 1.2977\n",
      "Epoch 168/170\n",
      "26/26 [==============================] - 0s 10ms/step - loss: 3.3671 - mae: 1.3138\n",
      "Epoch 169/170\n",
      "26/26 [==============================] - 0s 10ms/step - loss: 3.2857 - mae: 1.2842\n",
      "Epoch 170/170\n",
      "26/26 [==============================] - 0s 9ms/step - loss: 3.3553 - mae: 1.3038\n",
      "4/4 [==============================] - 0s 9ms/step - loss: 16.3380 - mae: 2.5419\n",
      "2.5419492721557617\n"
     ]
    },
    {
     "name": "stderr",
     "output_type": "stream",
     "text": [
      "2022-04-11 03:18:53.725184: I tensorflow/core/grappler/optimizers/custom_graph_optimizer_registry.cc:113] Plugin optimizer for device_type GPU is enabled.\n"
     ]
    }
   ],
   "source": [
    "model = build_model()\n",
    "model.fit(train_data, train_targets,\n",
    "          epochs=170, batch_size=16)\n",
    "test_mse_score, test_mae_score = model.evaluate(test_data, test_targets)\n",
    "print(test_mae_score)"
   ]
  },
  {
   "cell_type": "markdown",
   "metadata": {},
   "source": [
    "In the end, our model settled down around about 2,542, meaning our predictions are off by $2,542 on average. That's an improvement. If you have time, you can try different model to squeeze down the test error. For now, let's accept this result and move on the next part."
   ]
  },
  {
   "cell_type": "markdown",
   "metadata": {},
   "source": [
    "## Generating predictions on new data"
   ]
  },
  {
   "cell_type": "markdown",
   "metadata": {},
   "source": [
    "For this problem, our model generate the median price of the house in thousands of dollars, instead of a singe discrete value."
   ]
  },
  {
   "cell_type": "code",
   "execution_count": 18,
   "metadata": {},
   "outputs": [
    {
     "name": "stdout",
     "output_type": "stream",
     "text": [
      "[9.776211]\n"
     ]
    },
    {
     "name": "stderr",
     "output_type": "stream",
     "text": [
      "2022-04-11 03:22:19.645918: I tensorflow/core/grappler/optimizers/custom_graph_optimizer_registry.cc:113] Plugin optimizer for device_type GPU is enabled.\n"
     ]
    }
   ],
   "source": [
    "predictions = model.predict(test_data)\n",
    "print(predictions[0])"
   ]
  },
  {
   "cell_type": "markdown",
   "metadata": {},
   "source": [
    "The first house in the test set is predicted to have the price around $10,000."
   ]
  },
  {
   "cell_type": "markdown",
   "metadata": {},
   "source": [
    "## Wrapping up"
   ]
  },
  {
   "cell_type": "markdown",
   "metadata": {},
   "source": [
    "Here’s what you should take away from this scalar regression example:\n",
    "\n",
    "* Regression is done using different loss functions than we used for classification. Mean squared error (MSE) is a loss function commonly used for regression.\n",
    "\n",
    "* Similarly, evaluation metrics to be used for regression differ from those used for classification; naturally, the concept of accuracy doesn’t apply for regression. A common regression metric is mean absolute error (MAE).\n",
    "\n",
    "* When features in the input data have values in different ranges, each feature should be scaled independently as a preprocessing step.\n",
    "\n",
    "* When there is little data available, using K-fold validation is a great way to reliably evaluate a model.\n",
    "\n",
    "* When little training data is available, it’s preferable to use a small model with few intermediate layers (typically only one or two), in order to avoid severe overfitting."
   ]
  }
 ],
 "metadata": {
  "interpreter": {
   "hash": "4009867f8b3d0ae5f99565db6746208eea09821b4f82b6b90fecf858e75f24ad"
  },
  "kernelspec": {
   "display_name": "Python 3.9.10 ('tk-ML')",
   "language": "python",
   "name": "python3"
  },
  "language_info": {
   "codemirror_mode": {
    "name": "ipython",
    "version": 3
   },
   "file_extension": ".py",
   "mimetype": "text/x-python",
   "name": "python",
   "nbconvert_exporter": "python",
   "pygments_lexer": "ipython3",
   "version": "3.9.10"
  },
  "orig_nbformat": 4
 },
 "nbformat": 4,
 "nbformat_minor": 2
}
