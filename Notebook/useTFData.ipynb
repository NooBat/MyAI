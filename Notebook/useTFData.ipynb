{
 "cells": [
  {
   "cell_type": "code",
   "execution_count": 10,
   "metadata": {},
   "outputs": [
    {
     "name": "stdout",
     "output_type": "stream",
     "text": [
      "2.0.0\n",
      "Found 32680 images belonging to 10 classes.\n"
     ]
    },
    {
     "ename": "TypeError",
     "evalue": "`generator` must be callable.",
     "output_type": "error",
     "traceback": [
      "\u001b[0;31m---------------------------------------------------------------------------\u001b[0m",
      "\u001b[0;31mTypeError\u001b[0m                                 Traceback (most recent call last)",
      "\u001b[0;32m/var/folders/rs/b2g93qwn7x7bkzt7zrshfhpr0000gn/T/ipykernel_53175/3072121414.py\u001b[0m in \u001b[0;36m<module>\u001b[0;34m\u001b[0m\n\u001b[1;32m     26\u001b[0m     ),\n\u001b[1;32m     27\u001b[0m     \u001b[0moutput_types\u001b[0m\u001b[0;34m=\u001b[0m\u001b[0mtf\u001b[0m\u001b[0;34m.\u001b[0m\u001b[0mfloat32\u001b[0m\u001b[0;34m,\u001b[0m\u001b[0;34m\u001b[0m\u001b[0;34m\u001b[0m\u001b[0m\n\u001b[0;32m---> 28\u001b[0;31m     \u001b[0moutput_shapes\u001b[0m\u001b[0;34m=\u001b[0m\u001b[0;34m(\u001b[0m\u001b[0;34m)\u001b[0m\u001b[0;34m\u001b[0m\u001b[0;34m\u001b[0m\u001b[0m\n\u001b[0m\u001b[1;32m     29\u001b[0m )\n",
      "\u001b[0;32m~/opt/anaconda3/envs/cpuTF/lib/python3.7/site-packages/tensorflow_core/python/data/ops/dataset_ops.py\u001b[0m in \u001b[0;36mfrom_generator\u001b[0;34m(generator, output_types, output_shapes, args)\u001b[0m\n\u001b[1;32m    532\u001b[0m     \"\"\"\n\u001b[1;32m    533\u001b[0m     \u001b[0;32mif\u001b[0m \u001b[0;32mnot\u001b[0m \u001b[0mcallable\u001b[0m\u001b[0;34m(\u001b[0m\u001b[0mgenerator\u001b[0m\u001b[0;34m)\u001b[0m\u001b[0;34m:\u001b[0m\u001b[0;34m\u001b[0m\u001b[0;34m\u001b[0m\u001b[0m\n\u001b[0;32m--> 534\u001b[0;31m       \u001b[0;32mraise\u001b[0m \u001b[0mTypeError\u001b[0m\u001b[0;34m(\u001b[0m\u001b[0;34m\"`generator` must be callable.\"\u001b[0m\u001b[0;34m)\u001b[0m\u001b[0;34m\u001b[0m\u001b[0;34m\u001b[0m\u001b[0m\n\u001b[0m\u001b[1;32m    535\u001b[0m     \u001b[0;32mif\u001b[0m \u001b[0moutput_shapes\u001b[0m \u001b[0;32mis\u001b[0m \u001b[0;32mNone\u001b[0m\u001b[0;34m:\u001b[0m\u001b[0;34m\u001b[0m\u001b[0;34m\u001b[0m\u001b[0m\n\u001b[1;32m    536\u001b[0m       output_shapes = nest.map_structure(\n",
      "\u001b[0;31mTypeError\u001b[0m: `generator` must be callable."
     ]
    }
   ],
   "source": [
    "import tensorflow as tf\n",
    "from tensorflow import keras\n",
    "from tensorflow.keras.preprocessing.image import ImageDataGenerator\n",
    "import tensorflow_datasets as tfds\n",
    "import matplotlib.pyplot as plt\n",
    "\n",
    "print(tf.__version__)\n",
    "   \n",
    "CLASSES = ['0', '1', '2', '3', '4', '5', '6', '7', '8', '9']\n",
    "\n",
    "img_gen = ImageDataGenerator(\n",
    "    rescale=1.0/255,\n",
    "    validation_split=0.2,\n",
    "    fill_mode=\"constant\",\n",
    "    cval=0\n",
    ")\n",
    "\n",
    "train_ds = tf.data.Dataset.from_generator(\n",
    "    img_gen.flow_from_directory(\n",
    "        \"../numberLabel\",     \n",
    "        target_size=(28,12), \n",
    "        batch_size=16,\n",
    "        subset='training',\n",
    "        color_mode='grayscale',\n",
    "        class_mode='sparse'\n",
    "    ),\n",
    "    output_types=tf.float32,\n",
    "    output_shapes=()\n",
    ")"
   ]
  },
  {
   "cell_type": "code",
   "execution_count": 2,
   "metadata": {},
   "outputs": [],
   "source": [
    "def decode_jpeg_and_label(filename):\n",
    "    bits = tf.io.read_file(filename)\n",
    "    image = tf.io.decode_jpeg(bits)\n",
    "    label = tf.strings.split(tf.expand_dims(filename, axis=-1), sep='/')\n",
    "    label = label.values[-2]\n",
    "    return image, label"
   ]
  },
  {
   "cell_type": "code",
   "execution_count": 3,
   "metadata": {},
   "outputs": [
    {
     "name": "stdout",
     "output_type": "stream",
     "text": [
      "6\n",
      "7\n",
      "6\n",
      "8\n",
      "3\n",
      "3\n",
      "3\n",
      "2\n",
      "9\n",
      "9\n"
     ]
    },
    {
     "data": {
      "image/png": "[encoded data removed]",
      "image/svg+xml": "<?xml version=\"1.0\" encoding=\"utf-8\" standalone=\"no\"?>\n<!DOCTYPE svg PUBLIC \"-//W3C//DTD SVG 1.1//EN\"\n  \"http://www.w3.org/Graphics/SVG/1.1/DTD/svg11.dtd\">\n<svg xmlns:xlink=\"http://www.w3.org/1999/xlink\" width=\"127.313571pt\" height=\"248.518125pt\" viewBox=\"0 0 127.313571 248.518125\" xmlns=\"http://www.w3.org/2000/svg\" version=\"1.1\">\n <metadata>\n  <rdf:RDF xmlns:dc=\"http://purl.org/dc/elements/1.1/\" xmlns:cc=\"http://creativecommons.org/ns#\" xmlns:rdf=\"http://www.w3.org/1999/02/22-rdf-syntax-ns#\">\n   <cc:Work>\n    <dc:type rdf:resource=\"http://purl.org/dc/dcmitype/StillImage\"/>\n    <dc:date>2022-02-23T00:39:44.308034</dc:date>\n    <dc:format>image/svg+xml</dc:format>\n    <dc:creator>\n     <cc:Agent>\n      <dc:title>Matplotlib v3.5.0, https://matplotlib.org/</dc:title>\n     </cc:Agent>\n    </dc:creator>\n   </cc:Work>\n  </rdf:RDF>\n </metadata>\n <defs>\n  <style type=\"text/css\">*{stroke-linejoin: round; stroke-linecap: butt}</style>\n </defs>\n <g id=\"figure_1\">\n  <g id=\"patch_1\">\n   <path d=\"M 0 248.518125 \nL 127.313571 248.518125 \nL 127.313571 0 \nL 0 0 \nL 0 248.518125 \nz\n\" style=\"fill: none\"/>\n  </g>\n  <g id=\"axes_1\">\n   <g id=\"patch_2\">\n    <path d=\"M 26.925 224.64 \nL 120.113571 224.64 \nL 120.113571 7.2 \nL 26.925 7.2 \nz\n\" style=\"fill: #ffffff\"/>\n   </g>\n   <g clip-path=\"url(#p3a63af3bbc)\">\n    <image xlink:href=\"data:image/png;base64,\niVBORw0KGgoAAAANSUhEUgAAAF4AAADaCAYAAAAv8/WgAAAHf0lEQVR4nO2dTW8bVRSGz8zcGX8ljhuHNm2ThlZAqYq6AVEEEmwqBEKs+AH8PhZI7NgjJMQCgVQQtCoNCNK0Skjs2PXHjO1h0fV9z6Kq3i7eZ3vmZuzHd3Hm5My5yQdmtQFeQUEzuwliOyleO1s5cefefzrxB078HoiVeQ7XDqsljC8tg3FHjXhRSDwJiSch8SQknoTEk5B4EmHTueDOWzdg/NX5OBpbm03h2mWFE/mksw7jF+c40++OzvD9h/HP97Cq8NokwPjE2dPa8SQknoTEk5B4EhJPQuJJSDyJcMW5YKfGdefu2SAa21jgPLuV4Zr37PQpvnfegPG981swfv1CPBf/+v4+XHu3XsD43HBcO56ExJOQeBIST0LiSUg8iZAm+IKzBU6Luu1ONDYp8e86NVwWzkIB440Mx/MRLktfasbT2Q+3cWPL8eMjGMdFZe14GhJPQuJJSDwJiSch8SQknkRy22nTvtDAif6d6/FG7WKJnwF++u0PGMeNzmbvX7sK4z1nfbOK5/mHzmf/zmnT/vHoFMa140lIPAmJJyHxJCSehMSTkHgSSd/J4+PV9megBgrcvGGGq+X+ety8YfaGE/9idzsag1LM7Kt/HsP4gbNeO56ExJOQeBIST0LiSUg8CYknkTSDk7LisrQ1Qazl3Lx04t76thNHI13MzL7sxJ8ULjbw3U9652H8h4d4aIt2PAmJJyHxJCSehMSTkHgSEk8izHB7iAWnKD4GjeAzpzFm5Yw/LJ3efW984jEOW5XGH2F6Bf7i0zF+FXTHubd2PAmJJyHxJCSehMSTkHgSoaix+2SF42USz0dr53fNnHTRa7Goc/wHJhWuaTd68RmE1QLnqq0MfzevpK0dT0LiSUg8CYknIfEkJJ6ExJMIwRld0nLKxjXIthtLvBjP0HM7S8z56G4b9/BJfPRJ2j0H1xaZ4825t3Y8CYknIfEkJJ6ExJOQeBISTyLgc2fMCidZfhPEdlEPt5mVzvGVTrnePf1y14nf2ojX48MgftqPmVnYxJn6uQx/ee14EhJPQuJJSDwJiSch8SQknkTw2okvOvGPevF89cZWH64tS/zCZQj4BMnB8RDG98CIdTOzzafxJ4FOC+fhR1M89KV2xidqx5OQeBIST0LiSUg8CYknET5xiq/vXMXHMF6excun7eEArp0abv9IU5xO7mT4tcLeZA7j3TL+ymJdYy9FZw3GM6fJXDuehMSTkHgSEk9C4klIPAmJJxGuOPnmJe90yxnIlRPcGrJYx7nwwnnG6DrjP7IKnzGZgu9erfDaeoHjc+8ZBUbFC0PiSUg8CYknIfEkJJ6ExJMI3muBC3ACpJlZafGT4h+MBnDtNyf4b3tt2B9vxtuszcxutfG3y8Ap9u0C/y+gxmHrNtWm/VIi8SQknoTEk5B4EhJPQuJJhE1n4nUrxPN0M7MSnCV/OMITp/cN970cwqjZ6uQExvE58Waf9+MvmyYL3EI+XeJ6/H8z/BSiHU9C4klIPAmJJyHxJCSehMSTCGvOeMOswr/NEIT3FzhPf4JvbfhlSrNfnbg3duW9RrxmvprjPL1Y34Dx6gw/w2jHk5B4EhJPQuJJSDwJiScRrm1twwuGTqtzDQ4jLAo8LzstcbqJmz/8QxQfO/FBFc+l+wWe/DGd4s/uDCDUjmch8SQknoTEk5B4EhJPQuJJhJNjnO22zuFJeq1FPBcOTp7uHGpjzgGS7mHr3t8fjyfxe7fxq6Bz5/lmHbSvm2nH05B4EhJPQuJJSDwJiSch8STChjO6ZL7EuXgI8SaK/jquaSdOG3flJOLervHim734CZbLKW6z7nTxeUL7T3FzinY8CYknIfEkJJ6ExJOQeBISTyIMR/gUx9ZWF8aTPP7blRPcA44r1j5uPd+JFyH+2bMMN3kPa5zn186W1o4nIfEkJJ6ExJOQeBIST0LiSYSx805imuBsuKzi9foSnB5p5r8O6UwYdOO488Usz+O9/avVCC9O8VPI+Dn/lyBeEBJPQuJJSDwJiSch8SRCvn0ZXjAG6aKZWSOJ/3b9Bk748jk+cccrGz9vOrr/79/RWL+Hy+G5M/UEr9aOpyHxJCSehMSTkHgSEk9C4kmEbw8P4AW3d/dg/DyYtPdafwuuff0RftXTy9PjRd1nXHLiVy/EP181OoNrS+fDtXP8FKEdT0LiSUg8CYknIfEkJJ6ExJMIPzsX7HTwCZGN4/grk70UJ7ufOaNJ/prgFnKvfePmBn4lcgO0nzSctpbUGSdz91SvW76USDwJiSch8SQknoTEk5B4EslNsxpdgKvxZp+CsSs3OnhsSuH87mtgRLqZ2XIaH19oZpY7PUE9UDIfLnCf9UG7B+O/PML/59COJyHxJCSehMSTkHgSEk8ieAeS44TNLBnHS7dnTZwOvt3C6WZjPIDxrRq3eTcSHJ+u4vtu1MEl6++f4CMif4dR7XgaEk9C4klIPAmJJyHxJCSeRMDzrP1Jd/dBUTk9OoVrC8PxdwvcHtJp4haMxMnzR2l83907wGdn3oNRM+/5SDuehMSTkHgSEk9C4klIPAmJJ/E/6yqDB4tPUGIAAAAASUVORK5CYII=\" id=\"image6043936739\" transform=\"scale(1 -1)translate(0 -218)\" x=\"27\" y=\"-6.518125\" width=\"94\" height=\"218\"/>\n   </g>\n   <g id=\"matplotlib.axis_1\">\n    <g id=\"xtick_1\">\n     <g id=\"line2d_1\">\n      <defs>\n       <path id=\"m376d9bb736\" d=\"M 0 0 \nL 0 3.5 \n\" style=\"stroke: #000000; stroke-width: 0.8\"/>\n      </defs>\n      <g>\n       <use xlink:href=\"#m376d9bb736\" x=\"30.807857\" y=\"224.64\" style=\"stroke: #000000; stroke-width: 0.8\"/>\n      </g>\n     </g>\n     <g id=\"text_1\">\n      <!-- 0 -->\n      <g transform=\"translate(27.626607 239.238437)scale(0.1 -0.1)\">\n       <defs>\n        <path id=\"DejaVuSans-30\" d=\"M 2034 4250 \nQ 1547 4250 1301 3770 \nQ 1056 3291 1056 2328 \nQ 1056 1369 1301 889 \nQ 1547 409 2034 409 \nQ 2525 409 2770 889 \nQ 3016 1369 3016 2328 \nQ 3016 3291 2770 3770 \nQ 2525 4250 2034 4250 \nz\nM 2034 4750 \nQ 2819 4750 3233 4129 \nQ 3647 3509 3647 2328 \nQ 3647 1150 3233 529 \nQ 2819 -91 2034 -91 \nQ 1250 -91 836 529 \nQ 422 1150 422 2328 \nQ 422 3509 836 4129 \nQ 1250 4750 2034 4750 \nz\n\" transform=\"scale(0.015625)\"/>\n       </defs>\n       <use xlink:href=\"#DejaVuSans-30\"/>\n      </g>\n     </g>\n    </g>\n    <g id=\"xtick_2\">\n     <g id=\"line2d_2\">\n      <g>\n       <use xlink:href=\"#m376d9bb736\" x=\"69.636429\" y=\"224.64\" style=\"stroke: #000000; stroke-width: 0.8\"/>\n      </g>\n     </g>\n     <g id=\"text_2\">\n      <!-- 5 -->\n      <g transform=\"translate(66.455179 239.238437)scale(0.1 -0.1)\">\n       <defs>\n        <path id=\"DejaVuSans-35\" d=\"M 691 4666 \nL 3169 4666 \nL 3169 4134 \nL 1269 4134 \nL 1269 2991 \nQ 1406 3038 1543 3061 \nQ 1681 3084 1819 3084 \nQ 2600 3084 3056 2656 \nQ 3513 2228 3513 1497 \nQ 3513 744 3044 326 \nQ 2575 -91 1722 -91 \nQ 1428 -91 1123 -41 \nQ 819 9 494 109 \nL 494 744 \nQ 775 591 1075 516 \nQ 1375 441 1709 441 \nQ 2250 441 2565 725 \nQ 2881 1009 2881 1497 \nQ 2881 1984 2565 2268 \nQ 2250 2553 1709 2553 \nQ 1456 2553 1204 2497 \nQ 953 2441 691 2322 \nL 691 4666 \nz\n\" transform=\"scale(0.015625)\"/>\n       </defs>\n       <use xlink:href=\"#DejaVuSans-35\"/>\n      </g>\n     </g>\n    </g>\n    <g id=\"xtick_3\">\n     <g id=\"line2d_3\">\n      <g>\n       <use xlink:href=\"#m376d9bb736\" x=\"108.465\" y=\"224.64\" style=\"stroke: #000000; stroke-width: 0.8\"/>\n      </g>\n     </g>\n     <g id=\"text_3\">\n      <!-- 10 -->\n      <g transform=\"translate(102.1025 239.238437)scale(0.1 -0.1)\">\n       <defs>\n        <path id=\"DejaVuSans-31\" d=\"M 794 531 \nL 1825 531 \nL 1825 4091 \nL 703 3866 \nL 703 4441 \nL 1819 4666 \nL 2450 4666 \nL 2450 531 \nL 3481 531 \nL 3481 0 \nL 794 0 \nL 794 531 \nz\n\" transform=\"scale(0.015625)\"/>\n       </defs>\n       <use xlink:href=\"#DejaVuSans-31\"/>\n       <use xlink:href=\"#DejaVuSans-30\" x=\"63.623047\"/>\n      </g>\n     </g>\n    </g>\n   </g>\n   <g id=\"matplotlib.axis_2\">\n    <g id=\"ytick_1\">\n     <g id=\"line2d_4\">\n      <defs>\n       <path id=\"m3f8e517ffc\" d=\"M 0 0 \nL -3.5 0 \n\" style=\"stroke: #000000; stroke-width: 0.8\"/>\n      </defs>\n      <g>\n       <use xlink:href=\"#m3f8e517ffc\" x=\"26.925\" y=\"11.082857\" style=\"stroke: #000000; stroke-width: 0.8\"/>\n      </g>\n     </g>\n     <g id=\"text_4\">\n      <!-- 0 -->\n      <g transform=\"translate(13.5625 14.882076)scale(0.1 -0.1)\">\n       <use xlink:href=\"#DejaVuSans-30\"/>\n      </g>\n     </g>\n    </g>\n    <g id=\"ytick_2\">\n     <g id=\"line2d_5\">\n      <g>\n       <use xlink:href=\"#m3f8e517ffc\" x=\"26.925\" y=\"49.911429\" style=\"stroke: #000000; stroke-width: 0.8\"/>\n      </g>\n     </g>\n     <g id=\"text_5\">\n      <!-- 5 -->\n      <g transform=\"translate(13.5625 53.710647)scale(0.1 -0.1)\">\n       <use xlink:href=\"#DejaVuSans-35\"/>\n      </g>\n     </g>\n    </g>\n    <g id=\"ytick_3\">\n     <g id=\"line2d_6\">\n      <g>\n       <use xlink:href=\"#m3f8e517ffc\" x=\"26.925\" y=\"88.74\" style=\"stroke: #000000; stroke-width: 0.8\"/>\n      </g>\n     </g>\n     <g id=\"text_6\">\n      <!-- 10 -->\n      <g transform=\"translate(7.2 92.539219)scale(0.1 -0.1)\">\n       <use xlink:href=\"#DejaVuSans-31\"/>\n       <use xlink:href=\"#DejaVuSans-30\" x=\"63.623047\"/>\n      </g>\n     </g>\n    </g>\n    <g id=\"ytick_4\">\n     <g id=\"line2d_7\">\n      <g>\n       <use xlink:href=\"#m3f8e517ffc\" x=\"26.925\" y=\"127.568571\" style=\"stroke: #000000; stroke-width: 0.8\"/>\n      </g>\n     </g>\n     <g id=\"text_7\">\n      <!-- 15 -->\n      <g transform=\"translate(7.2 131.36779)scale(0.1 -0.1)\">\n       <use xlink:href=\"#DejaVuSans-31\"/>\n       <use xlink:href=\"#DejaVuSans-35\" x=\"63.623047\"/>\n      </g>\n     </g>\n    </g>\n    <g id=\"ytick_5\">\n     <g id=\"line2d_8\">\n      <g>\n       <use xlink:href=\"#m3f8e517ffc\" x=\"26.925\" y=\"166.397143\" style=\"stroke: #000000; stroke-width: 0.8\"/>\n      </g>\n     </g>\n     <g id=\"text_8\">\n      <!-- 20 -->\n      <g transform=\"translate(7.2 170.196362)scale(0.1 -0.1)\">\n       <defs>\n        <path id=\"DejaVuSans-32\" d=\"M 1228 531 \nL 3431 531 \nL 3431 0 \nL 469 0 \nL 469 531 \nQ 828 903 1448 1529 \nQ 2069 2156 2228 2338 \nQ 2531 2678 2651 2914 \nQ 2772 3150 2772 3378 \nQ 2772 3750 2511 3984 \nQ 2250 4219 1831 4219 \nQ 1534 4219 1204 4116 \nQ 875 4013 500 3803 \nL 500 4441 \nQ 881 4594 1212 4672 \nQ 1544 4750 1819 4750 \nQ 2544 4750 2975 4387 \nQ 3406 4025 3406 3419 \nQ 3406 3131 3298 2873 \nQ 3191 2616 2906 2266 \nQ 2828 2175 2409 1742 \nQ 1991 1309 1228 531 \nz\n\" transform=\"scale(0.015625)\"/>\n       </defs>\n       <use xlink:href=\"#DejaVuSans-32\"/>\n       <use xlink:href=\"#DejaVuSans-30\" x=\"63.623047\"/>\n      </g>\n     </g>\n    </g>\n    <g id=\"ytick_6\">\n     <g id=\"line2d_9\">\n      <g>\n       <use xlink:href=\"#m3f8e517ffc\" x=\"26.925\" y=\"205.225714\" style=\"stroke: #000000; stroke-width: 0.8\"/>\n      </g>\n     </g>\n     <g id=\"text_9\">\n      <!-- 25 -->\n      <g transform=\"translate(7.2 209.024933)scale(0.1 -0.1)\">\n       <use xlink:href=\"#DejaVuSans-32\"/>\n       <use xlink:href=\"#DejaVuSans-35\" x=\"63.623047\"/>\n      </g>\n     </g>\n    </g>\n   </g>\n   <g id=\"patch_3\">\n    <path d=\"M 26.925 224.64 \nL 26.925 7.2 \n\" style=\"fill: none; stroke: #000000; stroke-width: 0.8; stroke-linejoin: miter; stroke-linecap: square\"/>\n   </g>\n   <g id=\"patch_4\">\n    <path d=\"M 120.113571 224.64 \nL 120.113571 7.2 \n\" style=\"fill: none; stroke: #000000; stroke-width: 0.8; stroke-linejoin: miter; stroke-linecap: square\"/>\n   </g>\n   <g id=\"patch_5\">\n    <path d=\"M 26.925 224.64 \nL 120.113571 224.64 \n\" style=\"fill: none; stroke: #000000; stroke-width: 0.8; stroke-linejoin: miter; stroke-linecap: square\"/>\n   </g>\n   <g id=\"patch_6\">\n    <path d=\"M 26.925 7.2 \nL 120.113571 7.2 \n\" style=\"fill: none; stroke: #000000; stroke-width: 0.8; stroke-linejoin: miter; stroke-linecap: square\"/>\n   </g>\n  </g>\n </g>\n <defs>\n  <clipPath id=\"p3a63af3bbc\">\n   <rect x=\"26.925\" y=\"7.2\" width=\"93.188571\" height=\"217.44\"/>\n  </clipPath>\n </defs>\n</svg>\n",
      "text/plain": [
       "<Figure size 432x288 with 1 Axes>"
      ]
     },
     "metadata": {
      "needs_background": "light"
     },
     "output_type": "display_data"
    }
   ],
   "source": [
    "ds = data_pipeline.map(decode_jpeg_and_label)\n",
    "\n",
    "plt.rcParams[\"figure.figsize\"] = (8,8)\n",
    "fig, axs = plt.subplots(4,4)\n",
    "\n",
    "for image, label in ds.take(10):\n",
    "    plt.imshow(image.numpy())\n",
    "    print(label.numpy().decode('utf-8'))"
   ]
  }
 ],
 "metadata": {
  "interpreter": {
   "hash": "a2e3ba10731a3c83d6c6e7a176d0fad571ab770545db650fc88308a4cd341a87"
  },
  "kernelspec": {
   "display_name": "Python 3.7.11 ('cpuTF')",
   "language": "python",
   "name": "python3"
  },
  "language_info": {
   "codemirror_mode": {
    "name": "ipython",
    "version": 3
   },
   "file_extension": ".py",
   "mimetype": "text/x-python",
   "name": "python",
   "nbconvert_exporter": "python",
   "pygments_lexer": "ipython3",
   "version": "3.7.11"
  },
  "orig_nbformat": 4
 },
 "nbformat": 4,
 "nbformat_minor": 2
}
