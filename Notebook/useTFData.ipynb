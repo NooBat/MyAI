{
 "cells": [
  {
   "cell_type": "code",
   "execution_count": null,
   "metadata": {},
   "outputs": [],
   "source": [
    "import tensorflow as tf\n",
    "import tensorflow_datasets as tfds\n",
    "\n",
    "data_pipeline = tfds.folder_dataset.ImageFolder('../numberLabel')"
   ]
  }
 ],
 "metadata": {
  "interpreter": {
   "hash": "a2e3ba10731a3c83d6c6e7a176d0fad571ab770545db650fc88308a4cd341a87"
  },
  "kernelspec": {
   "display_name": "Python 3.7.11 ('cpuTF')",
   "language": "python",
   "name": "python3"
  },
  "language_info": {
   "name": "python",
   "version": "3.7.11"
  },
  "orig_nbformat": 4
 },
 "nbformat": 4,
 "nbformat_minor": 2
}
