{
 "cells": [
  {
   "cell_type": "code",
   "execution_count": null,
   "metadata": {},
   "outputs": [],
   "source": [
    "import tensorflow as tf\n",
    "from tensorflow import keras\n",
    "from tensorflow.keras.preprocessing.image import ImageDataGenerator\n",
    "import matplotlib.pyplot as plt\n",
    "import time\n",
    "\n",
    "print(tf.__version__)\n",
    "   \n",
    "CLASSES = ['0', '1', '2', '3', '4', '5', '6', '7', '8', '9']\n",
    "\n",
    "img_gen = ImageDataGenerator(\n",
    "    rescale=1.0/255,\n",
    "    validation_split=0.2,\n",
    "    fill_mode=\"constant\",\n",
    "    cval=0\n",
    ")\n",
    "\n",
    "train_ds = tf.data.Dataset.from_generator(\n",
    "    lambda: img_gen.flow_from_directory(\n",
    "        \"../numberLabel\",     \n",
    "        target_size=(28,12), \n",
    "        batch_size=16,\n",
    "        subset='training',\n",
    "        color_mode='grayscale',\n",
    "        class_mode='sparse'\n",
    "    ),\n",
    "    output_types=(tf.float32, tf.float32),\n",
    "    output_shapes=([16, 28, 12, 1], [16, 10])\n",
    ")"
   ]
  },
  {
   "cell_type": "code",
   "execution_count": 2,
   "metadata": {},
   "outputs": [],
   "source": [
    "def decode_jpeg_and_label(filename):\n",
    "    bits = tf.io.read_file(filename)\n",
    "    image = tf.io.decode_jpeg(bits)\n",
    "    label = tf.strings.split(tf.expand_dims(filename, axis=-1), sep='/')\n",
    "    label = label.values[-2]\n",
    "    return image, label"
   ]
  },
  {
   "cell_type": "code",
   "execution_count": 6,
   "metadata": {},
   "outputs": [
    {
     "name": "stdout",
     "output_type": "stream",
     "text": [
      "Found 32680 images belonging to 10 classes.\n",
      "Time taken: 3.6422536373138428\n"
     ]
    }
   ],
   "source": [
    "start = time.time()\n",
    "\n",
    "img_gen.flow_from_directory(\n",
    "    \"../numberLabel\",     \n",
    "    target_size=(28,12), \n",
    "    batch_size=16,\n",
    "    subset='training',\n",
    "    color_mode='grayscale',\n",
    "    class_mode='sparse'\n",
    ")\n",
    "\n",
    "end = time.time()\n",
    "\n",
    "print('Time taken:', end - start)"
   ]
  },
  {
   "cell_type": "code",
   "execution_count": 5,
   "metadata": {},
   "outputs": [
    {
     "name": "stdout",
     "output_type": "stream",
     "text": [
      "Time taken:  0.010368108749389648\n"
     ]
    }
   ],
   "source": [
    "start = time.time()\n",
    "\n",
    "train_ds.shuffle(buffer_size=40000).batch(128).prefetch(buffer_size=tf.data.AUTOTUNE)\n",
    "\n",
    "end = time.time()\n",
    "\n",
    "print('Time taken: ', end - start)"
   ]
  }
 ],
 "metadata": {
  "interpreter": {
   "hash": "a2e3ba10731a3c83d6c6e7a176d0fad571ab770545db650fc88308a4cd341a87"
  },
  "kernelspec": {
   "display_name": "Python 3.7.11 ('cpuTF')",
   "language": "python",
   "name": "python3"
  },
  "language_info": {
   "codemirror_mode": {
    "name": "ipython",
    "version": 3
   },
   "file_extension": ".py",
   "mimetype": "text/x-python",
   "name": "python",
   "nbconvert_exporter": "python",
   "pygments_lexer": "ipython3",
   "version": "3.8.12"
  },
  "orig_nbformat": 4
 },
 "nbformat": 4,
 "nbformat_minor": 2
}
