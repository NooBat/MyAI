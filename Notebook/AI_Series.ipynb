{
  "cells": [
    {
      "cell_type": "markdown",
      "metadata": {},
      "source": [
        "# Fira Code"
      ]
    },
    {
      "cell_type": "code",
      "execution_count": 23,
      "metadata": {
        "id": "94oYiPqBa6du"
      },
      "outputs": [],
      "source": [
        "import os\n",
        "import pathlib\n",
        "import shutil\n",
        "import tensorflow as tf\n",
        "from tensorflow import keras\n",
        "from keras import regularizers\n",
        "import numpy as np\n",
        "import pandas as pd\n",
        "import matplotlib.pyplot as plt"
      ]
    },
    {
      "cell_type": "code",
      "execution_count": 24,
      "metadata": {},
      "outputs": [],
      "source": [
        "def create_label_dir(df):\n",
        "    class_names = np.sort(df['label'].unique())\n",
        "    number_of_classes = len(class_names)\n",
        "\n",
        "    if not os.path.exists('../gdsc-ai-challenge/train'):\n",
        "        return class_names, number_of_classes\n",
        "\n",
        "    for class_name in class_names:\n",
        "        dir = pathlib.Path('../gdsc-ai-challenge/train/' + class_name)\n",
        "        if dir.exists():\n",
        "            continue\n",
        "        else:\n",
        "            dir.mkdir()\n",
        "    \n",
        "    return class_names, number_of_classes\n",
        "\n",
        "def sort_data(df):\n",
        "    if not os.path.exists('../gdsc-ai-challenge/train'):\n",
        "        return\n",
        "        \n",
        "    for image_dir in [str(img) for img in list(pathlib.Path('../gdsc-ai-challenge/train/train').glob('*.png'))]:\n",
        "        id = int(image_dir.removeprefix('../gdsc-ai-challenge/train/train/').removesuffix('.png'))\n",
        "        label = df['label'][id - 1]\n",
        "        dest_path = os.path.join('../gdsc-ai-challenge/train', label, str(id) + '.png')\n",
        "        shutil.move(image_dir, dest_path)"
      ]
    },
    {
      "cell_type": "code",
      "execution_count": 25,
      "metadata": {},
      "outputs": [],
      "source": [
        "label_df = pd.read_csv('../gdsc-ai-challenge/trainLabels.csv')\n",
        "\n",
        "class_names, number_of_classes = create_label_dir(label_df)\n",
        "sort_data(label_df)"
      ]
    },
    {
      "cell_type": "code",
      "execution_count": 26,
      "metadata": {},
      "outputs": [
        {
          "name": "stdout",
          "output_type": "stream",
          "text": [
            "Found 50000 files belonging to 10 classes.\n"
          ]
        }
      ],
      "source": [
        "builder = tf.keras.utils.image_dataset_from_directory(\n",
        "    '../gdsc-ai-challenge/train',\n",
        "    color_mode='grayscale',\n",
        "    batch_size=None,\n",
        "    image_size=(32,32),\n",
        "    seed=42\n",
        ")"
      ]
    },
    {
      "cell_type": "code",
      "execution_count": 27,
      "metadata": {},
      "outputs": [],
      "source": [
        "def get_dataset_partitions_tf(ds, ds_size, train_split=0.8, val_split=0.1, test_split=0.1, shuffle=True, shuffle_size=10000):\n",
        "    assert (train_split + test_split + val_split) == 1\n",
        "    \n",
        "    if shuffle:\n",
        "        ds = ds.shuffle(shuffle_size, seed=42)\n",
        "    \n",
        "    train_size = int(train_split * ds_size)\n",
        "    val_size = int(val_split * ds_size)\n",
        "    \n",
        "    train_ds = ds.take(train_size)    \n",
        "    val_ds = ds.skip(train_size).take(val_size)\n",
        "    test_ds = ds.skip(train_size).skip(val_size)\n",
        "    \n",
        "    return train_ds, val_ds, test_ds\n",
        "\n",
        "def configure_for_performance(ds, batch_size=32):\n",
        "    ds = ds.cache()\n",
        "    ds = ds.shuffle(buffer_size=1000)\n",
        "    ds = ds.batch(batch_size)\n",
        "    ds = ds.prefetch(buffer_size=tf.data.AUTOTUNE)\n",
        "    return ds"
      ]
    },
    {
      "cell_type": "code",
      "execution_count": 28,
      "metadata": {},
      "outputs": [],
      "source": [
        "train_ds, val_ds, test_ds = get_dataset_partitions_tf(builder, 50000, train_split=0.7, val_split=0.2, test_split=0.1)\n",
        "\n",
        "normalization_layer = tf.keras.layers.Rescaling(1./255)\n",
        "\n",
        "train_ds = train_ds.map(lambda x, y: (normalization_layer(x), y))\n",
        "val_ds = val_ds.map(lambda x, y: (normalization_layer(x), y))\n",
        "test_ds = test_ds.map(lambda x, y: (normalization_layer(x), y))\n",
        "\n",
        "train_ds = configure_for_performance(train_ds)\n",
        "val_ds = configure_for_performance(val_ds)\n",
        "test_ds = configure_for_performance(test_ds)"
      ]
    },
    {
      "cell_type": "code",
      "execution_count": 29,
      "metadata": {
        "id": "WNxHjoEeb8TB"
      },
      "outputs": [],
      "source": [
        "model = keras.models.Sequential([\n",
        "    keras.layers.Input((32,32,1)),\n",
        "    keras.layers.Conv2D(32, (5,5), padding='same',\n",
        "                        kernel_regularizer=regularizers.l2(1e-3),\n",
        "                        activity_regularizer=regularizers.l2(1e-3),\n",
        "                        kernel_initializer='he_normal',\n",
        "                        activation='elu'),\n",
        "    keras.layers.BatchNormalization(),\n",
        "    keras.layers.Conv2D(32, (5,5), padding='same',\n",
        "                        kernel_regularizer=regularizers.l2(1e-3),\n",
        "                        activity_regularizer=regularizers.l2(1e-3),\n",
        "                        kernel_initializer='he_normal',\n",
        "                        activation='elu'),\n",
        "    keras.layers.BatchNormalization(),\n",
        "    keras.layers.MaxPooling2D(pool_size=(2,2)),\n",
        "\n",
        "    keras.layers.Conv2D(64, (3,3), padding='same',\n",
        "                        kernel_regularizer=regularizers.l2(1e-3),\n",
        "                        activity_regularizer=regularizers.l2(1e-3),\n",
        "                        kernel_initializer='he_normal',\n",
        "                        activation='elu'),\n",
        "    keras.layers.BatchNormalization(),\n",
        "    keras.layers.Conv2D(64, (3,3), padding='same',\n",
        "                        kernel_regularizer=regularizers.l2(1e-3),\n",
        "                        activity_regularizer=regularizers.l2(1e-3),\n",
        "                        kernel_initializer='he_normal',\n",
        "                        activation='elu'),\n",
        "    keras.layers.BatchNormalization(),\n",
        "    keras.layers.MaxPooling2D(pool_size=(2,2)),\n",
        "    keras.layers.Dropout(0.1),\n",
        "\n",
        "    keras.layers.Conv2D(128, (3,3), padding='same',\n",
        "                        kernel_regularizer=regularizers.l2(1e-3),\n",
        "                        activity_regularizer=regularizers.l2(1e-3),\n",
        "                        kernel_initializer='he_normal',\n",
        "                        activation='elu'),\n",
        "    keras.layers.BatchNormalization(),\n",
        "    keras.layers.Conv2D(128, (3,3), padding='same',\n",
        "                        kernel_regularizer=regularizers.l2(1e-3),\n",
        "                        activity_regularizer=regularizers.l2(1e-3),\n",
        "                        kernel_initializer='he_normal',\n",
        "                        activation='elu'),\n",
        "    keras.layers.BatchNormalization(),\n",
        "    keras.layers.MaxPooling2D(pool_size=(2,2)),\n",
        "    keras.layers.Dropout(0.2),\n",
        "\n",
        "    keras.layers.Flatten(),\n",
        "    keras.layers.Dense(64, activation='elu',\n",
        "                       kernel_regularizer=regularizers.l2(1e-3),\n",
        "                       activity_regularizer=regularizers.l2(1e-3)),\n",
        "    keras.layers.Dropout(0.3),\n",
        "    keras.layers.Dense(64, activation='elu',\n",
        "                       kernel_regularizer=regularizers.l2(1e-3),\n",
        "                       activity_regularizer=regularizers.l2(1e-3)),\n",
        "    keras.layers.Dense(number_of_classes, activation='softmax')\n",
        "])\n",
        "\n",
        "model.compile(optimizer=keras.optimizers.Adam(learning_rate=0.0003),\n",
        "                                              loss='sparse_categorical_crossentropy',\n",
        "                                              metrics=['accuracy'])"
      ]
    },
    {
      "cell_type": "code",
      "execution_count": 30,
      "metadata": {
        "colab": {
          "base_uri": "https://localhost:8080/"
        },
        "id": "bYXGttWEb89y",
        "outputId": "d5029a94-f07f-409d-d134-b0baa8cee9c3"
      },
      "outputs": [
        {
          "name": "stdout",
          "output_type": "stream",
          "text": [
            "Model: \"sequential_2\"\n",
            "_________________________________________________________________\n",
            " Layer (type)                Output Shape              Param #   \n",
            "=================================================================\n",
            " conv2d_12 (Conv2D)          (None, 32, 32, 32)        832       \n",
            "                                                                 \n",
            " batch_normalization_12 (Bat  (None, 32, 32, 32)       128       \n",
            " chNormalization)                                                \n",
            "                                                                 \n",
            " conv2d_13 (Conv2D)          (None, 32, 32, 32)        25632     \n",
            "                                                                 \n",
            " batch_normalization_13 (Bat  (None, 32, 32, 32)       128       \n",
            " chNormalization)                                                \n",
            "                                                                 \n",
            " max_pooling2d_6 (MaxPooling  (None, 16, 16, 32)       0         \n",
            " 2D)                                                             \n",
            "                                                                 \n",
            " conv2d_14 (Conv2D)          (None, 16, 16, 64)        18496     \n",
            "                                                                 \n",
            " batch_normalization_14 (Bat  (None, 16, 16, 64)       256       \n",
            " chNormalization)                                                \n",
            "                                                                 \n",
            " conv2d_15 (Conv2D)          (None, 16, 16, 64)        36928     \n",
            "                                                                 \n",
            " batch_normalization_15 (Bat  (None, 16, 16, 64)       256       \n",
            " chNormalization)                                                \n",
            "                                                                 \n",
            " max_pooling2d_7 (MaxPooling  (None, 8, 8, 64)         0         \n",
            " 2D)                                                             \n",
            "                                                                 \n",
            " dropout_6 (Dropout)         (None, 8, 8, 64)          0         \n",
            "                                                                 \n",
            " conv2d_16 (Conv2D)          (None, 8, 8, 128)         73856     \n",
            "                                                                 \n",
            " batch_normalization_16 (Bat  (None, 8, 8, 128)        512       \n",
            " chNormalization)                                                \n",
            "                                                                 \n",
            " conv2d_17 (Conv2D)          (None, 8, 8, 128)         147584    \n",
            "                                                                 \n",
            " batch_normalization_17 (Bat  (None, 8, 8, 128)        512       \n",
            " chNormalization)                                                \n",
            "                                                                 \n",
            " max_pooling2d_8 (MaxPooling  (None, 4, 4, 128)        0         \n",
            " 2D)                                                             \n",
            "                                                                 \n",
            " dropout_7 (Dropout)         (None, 4, 4, 128)         0         \n",
            "                                                                 \n",
            " flatten_2 (Flatten)         (None, 2048)              0         \n",
            "                                                                 \n",
            " dense_6 (Dense)             (None, 64)                131136    \n",
            "                                                                 \n",
            " dropout_8 (Dropout)         (None, 64)                0         \n",
            "                                                                 \n",
            " dense_7 (Dense)             (None, 64)                4160      \n",
            "                                                                 \n",
            " dense_8 (Dense)             (None, 10)                650       \n",
            "                                                                 \n",
            "=================================================================\n",
            "Total params: 441,066\n",
            "Trainable params: 440,170\n",
            "Non-trainable params: 896\n",
            "_________________________________________________________________\n"
          ]
        }
      ],
      "source": [
        "model.summary()"
      ]
    },
    {
      "cell_type": "code",
      "execution_count": 31,
      "metadata": {
        "id": "6V5szfyncBDI"
      },
      "outputs": [],
      "source": [
        "class stopCallback(keras.callbacks.Callback):\n",
        "    def on_epoch_end(self, epoch, logs={}) :\n",
        "        if (logs.get('accuracy') >= 0.999 and \n",
        "            logs.get('val_accuracy') >= 0.999) :\n",
        "            print('\\nReached 99.9% accuracy so stopping training')\n",
        "            self.model.stop_training = True"
      ]
    },
    {
      "cell_type": "code",
      "execution_count": 32,
      "metadata": {
        "colab": {
          "background_save": true,
          "base_uri": "https://localhost:8080/"
        },
        "id": "-vTAeSb1cBwn",
        "outputId": "42b83134-f833-4e5b-ee2b-90803624b22f"
      },
      "outputs": [
        {
          "name": "stdout",
          "output_type": "stream",
          "text": [
            "Epoch 1/30\n"
          ]
        },
        {
          "name": "stderr",
          "output_type": "stream",
          "text": [
            "2022-03-14 18:06:03.764290: I tensorflow/core/grappler/optimizers/custom_graph_optimizer_registry.cc:113] Plugin optimizer for device_type GPU is enabled.\n"
          ]
        },
        {
          "name": "stdout",
          "output_type": "stream",
          "text": [
            "1094/1094 [==============================] - ETA: 0s - loss: 21.3249 - accuracy: 0.2311"
          ]
        },
        {
          "name": "stderr",
          "output_type": "stream",
          "text": [
            "2022-03-14 18:07:13.084666: I tensorflow/core/grappler/optimizers/custom_graph_optimizer_registry.cc:113] Plugin optimizer for device_type GPU is enabled.\n"
          ]
        },
        {
          "name": "stdout",
          "output_type": "stream",
          "text": [
            "1094/1094 [==============================] - 80s 72ms/step - loss: 21.3249 - accuracy: 0.2311 - val_loss: 9.1575 - val_accuracy: 0.3092\n",
            "Epoch 2/30\n",
            "1094/1094 [==============================] - 75s 69ms/step - loss: 7.8489 - accuracy: 0.3283 - val_loss: 6.1199 - val_accuracy: 0.3507\n",
            "Epoch 3/30\n",
            "1094/1094 [==============================] - 77s 71ms/step - loss: 5.5270 - accuracy: 0.4047 - val_loss: 4.7613 - val_accuracy: 0.4143\n",
            "Epoch 4/30\n",
            "1094/1094 [==============================] - 76s 69ms/step - loss: 4.3272 - accuracy: 0.4554 - val_loss: 3.7687 - val_accuracy: 0.4813\n",
            "Epoch 5/30\n",
            "1094/1094 [==============================] - 79s 72ms/step - loss: 3.5589 - accuracy: 0.4909 - val_loss: 3.1490 - val_accuracy: 0.5157\n",
            "Epoch 6/30\n",
            "1094/1094 [==============================] - 78s 71ms/step - loss: 3.0475 - accuracy: 0.5148 - val_loss: 2.9058 - val_accuracy: 0.5059\n",
            "Epoch 7/30\n",
            "1094/1094 [==============================] - 83s 76ms/step - loss: 2.6313 - accuracy: 0.5430 - val_loss: 2.5207 - val_accuracy: 0.5250\n",
            "Epoch 8/30\n",
            "1094/1094 [==============================] - 81s 74ms/step - loss: 2.3230 - accuracy: 0.5745 - val_loss: 2.4914 - val_accuracy: 0.5219\n",
            "Epoch 9/30\n",
            "1094/1094 [==============================] - 80s 73ms/step - loss: 2.1084 - accuracy: 0.6031 - val_loss: 2.0435 - val_accuracy: 0.6109\n",
            "Epoch 10/30\n",
            "1094/1094 [==============================] - 80s 73ms/step - loss: 1.9464 - accuracy: 0.6296 - val_loss: 1.9195 - val_accuracy: 0.6299\n",
            "Epoch 11/30\n",
            "1094/1094 [==============================] - 82s 75ms/step - loss: 1.8207 - accuracy: 0.6448 - val_loss: 2.0514 - val_accuracy: 0.5701\n",
            "Epoch 12/30\n",
            "1094/1094 [==============================] - 83s 76ms/step - loss: 1.7198 - accuracy: 0.6609 - val_loss: 1.8621 - val_accuracy: 0.6080\n",
            "Epoch 13/30\n",
            "1094/1094 [==============================] - 82s 75ms/step - loss: 1.6306 - accuracy: 0.6754 - val_loss: 2.0280 - val_accuracy: 0.5683\n",
            "Epoch 14/30\n",
            "1094/1094 [==============================] - 82s 75ms/step - loss: 1.5530 - accuracy: 0.6868 - val_loss: 1.9131 - val_accuracy: 0.5755\n",
            "Epoch 15/30\n",
            "1094/1094 [==============================] - 80s 74ms/step - loss: 1.4859 - accuracy: 0.6947 - val_loss: 1.6344 - val_accuracy: 0.6392\n",
            "Epoch 16/30\n",
            "1094/1094 [==============================] - 80s 73ms/step - loss: 1.4277 - accuracy: 0.7051 - val_loss: 1.5260 - val_accuracy: 0.6682\n",
            "Epoch 17/30\n",
            "1094/1094 [==============================] - 81s 74ms/step - loss: 1.3718 - accuracy: 0.7128 - val_loss: 1.6111 - val_accuracy: 0.6252\n",
            "Epoch 18/30\n",
            "1094/1094 [==============================] - 82s 75ms/step - loss: 1.3245 - accuracy: 0.7210 - val_loss: 1.9139 - val_accuracy: 0.5481\n",
            "Epoch 19/30\n",
            "1094/1094 [==============================] - 81s 74ms/step - loss: 1.2787 - accuracy: 0.7311 - val_loss: 2.0161 - val_accuracy: 0.5367\n",
            "Epoch 20/30\n",
            "1094/1094 [==============================] - 77s 70ms/step - loss: 1.2335 - accuracy: 0.7388 - val_loss: 2.2516 - val_accuracy: 0.4943\n",
            "Epoch 21/30\n",
            "1094/1094 [==============================] - 76s 69ms/step - loss: 1.1961 - accuracy: 0.7463 - val_loss: 1.3971 - val_accuracy: 0.6845\n",
            "Epoch 22/30\n",
            "1094/1094 [==============================] - 75s 69ms/step - loss: 1.1600 - accuracy: 0.7507 - val_loss: 1.9569 - val_accuracy: 0.5315\n",
            "Epoch 23/30\n",
            "1094/1094 [==============================] - 75s 69ms/step - loss: 1.1276 - accuracy: 0.7589 - val_loss: 1.3176 - val_accuracy: 0.6926\n",
            "Epoch 24/30\n",
            "1094/1094 [==============================] - 75s 69ms/step - loss: 1.0975 - accuracy: 0.7669 - val_loss: 1.7599 - val_accuracy: 0.5767\n",
            "Epoch 25/30\n",
            "1094/1094 [==============================] - 75s 69ms/step - loss: 1.0694 - accuracy: 0.7727 - val_loss: 1.3606 - val_accuracy: 0.6770\n",
            "Epoch 26/30\n",
            "1094/1094 [==============================] - 76s 69ms/step - loss: 1.0413 - accuracy: 0.7788 - val_loss: 1.2076 - val_accuracy: 0.7308\n",
            "Epoch 27/30\n",
            "1094/1094 [==============================] - 75s 69ms/step - loss: 1.0087 - accuracy: 0.7861 - val_loss: 1.6419 - val_accuracy: 0.5981\n",
            "Epoch 28/30\n",
            "1094/1094 [==============================] - 75s 69ms/step - loss: 0.9818 - accuracy: 0.7957 - val_loss: 1.2207 - val_accuracy: 0.7202\n",
            "Epoch 29/30\n",
            "1094/1094 [==============================] - 75s 69ms/step - loss: 0.9546 - accuracy: 0.8004 - val_loss: 1.5337 - val_accuracy: 0.6439\n",
            "Epoch 30/30\n",
            "1094/1094 [==============================] - 75s 69ms/step - loss: 0.9315 - accuracy: 0.8060 - val_loss: 1.3400 - val_accuracy: 0.6866\n"
          ]
        }
      ],
      "source": [
        "callback = stopCallback()\n",
        "\n",
        "model_checkpoint_callback = tf.keras.callbacks.ModelCheckpoint(filepath='../Model/aiseries/version1.hdf5',\n",
        "                                                               monitor='val_loss',\n",
        "                                                               mode='min',\n",
        "                                                               save_best_only=True)\n",
        "\n",
        "history = model.fit(train_ds, \n",
        "                    epochs=30, \n",
        "                    callbacks=[callback, model_checkpoint_callback], \n",
        "                    validation_data=val_ds)"
      ]
    },
    {
      "cell_type": "code",
      "execution_count": 33,
      "metadata": {},
      "outputs": [
        {
          "name": "stdout",
          "output_type": "stream",
          "text": [
            "157/157 [==============================] - 7s 33ms/step - loss: 1.3530 - accuracy: 0.6838\n"
          ]
        },
        {
          "data": {
            "text/plain": [
              "[1.3530101776123047, 0.6838000416755676]"
            ]
          },
          "execution_count": 33,
          "metadata": {},
          "output_type": "execute_result"
        }
      ],
      "source": [
        "model.evaluate(test_ds)"
      ]
    },
    {
      "cell_type": "code",
      "execution_count": 35,
      "metadata": {
        "id": "rwplY4tbcDpI"
      },
      "outputs": [
        {
          "data": {
            "image/png": "[encoded data removed]",
            "image/svg+xml": "<?xml version=\"1.0\" encoding=\"utf-8\" standalone=\"no\"?>\n<!DOCTYPE svg PUBLIC \"-//W3C//DTD SVG 1.1//EN\"\n  \"http://www.w3.org/Graphics/SVG/1.1/DTD/svg11.dtd\">\n<svg xmlns:xlink=\"http://www.w3.org/1999/xlink\" width=\"364.202116pt\" height=\"252.317344pt\" viewBox=\"0 0 364.202116 252.317344\" xmlns=\"http://www.w3.org/2000/svg\" version=\"1.1\">\n <metadata>\n  <rdf:RDF xmlns:dc=\"http://purl.org/dc/elements/1.1/\" xmlns:cc=\"http://creativecommons.org/ns#\" xmlns:rdf=\"http://www.w3.org/1999/02/22-rdf-syntax-ns#\">\n   <cc:Work>\n    <dc:type rdf:resource=\"http://purl.org/dc/dcmitype/StillImage\"/>\n    <dc:date>2022-03-14T19:28:24.951044</dc:date>\n    <dc:format>image/svg+xml</dc:format>\n    <dc:creator>\n     <cc:Agent>\n      <dc:title>Matplotlib v3.5.1, https://matplotlib.org/</dc:title>\n     </cc:Agent>\n    </dc:creator>\n   </cc:Work>\n  </rdf:RDF>\n </metadata>\n <defs>\n  <style type=\"text/css\">*{stroke-linejoin: round; stroke-linecap: butt}</style>\n </defs>\n <g id=\"figure_1\">\n  <g id=\"patch_1\">\n   <path d=\"M 0 252.317344 \nL 364.202116 252.317344 \nL 364.202116 0 \nL 0 0 \nz\n\"/>\n  </g>\n  <g id=\"axes_1\">\n   <g id=\"patch_2\">\n    <path d=\"M 20.5625 228.439219 \nL 355.3625 228.439219 \nL 355.3625 10.999219 \nL 20.5625 10.999219 \nz\n\"/>\n   </g>\n   <g id=\"matplotlib.axis_1\">\n    <g id=\"xtick_1\">\n     <g id=\"line2d_1\">\n      <defs>\n       <path id=\"m44616d8a9d\" d=\"M 0 0 \nL 0 3.5 \n\" style=\"stroke: #ffffff; stroke-width: 0.8\"/>\n      </defs>\n      <g>\n       <use xlink:href=\"#m44616d8a9d\" x=\"35.780682\" y=\"228.439219\" style=\"fill: #ffffff; stroke: #ffffff; stroke-width: 0.8\"/>\n      </g>\n     </g>\n     <g id=\"text_1\">\n      <!-- 0 -->\n      <g style=\"fill: #ffffff\" transform=\"translate(32.599432 243.037656)scale(0.1 -0.1)\">\n       <defs>\n        <path id=\"DejaVuSans-30\" d=\"M 2034 4250 \nQ 1547 4250 1301 3770 \nQ 1056 3291 1056 2328 \nQ 1056 1369 1301 889 \nQ 1547 409 2034 409 \nQ 2525 409 2770 889 \nQ 3016 1369 3016 2328 \nQ 3016 3291 2770 3770 \nQ 2525 4250 2034 4250 \nz\nM 2034 4750 \nQ 2819 4750 3233 4129 \nQ 3647 3509 3647 2328 \nQ 3647 1150 3233 529 \nQ 2819 -91 2034 -91 \nQ 1250 -91 836 529 \nQ 422 1150 422 2328 \nQ 422 3509 836 4129 \nQ 1250 4750 2034 4750 \nz\n\" transform=\"scale(0.015625)\"/>\n       </defs>\n       <use xlink:href=\"#DejaVuSans-30\"/>\n      </g>\n     </g>\n    </g>\n    <g id=\"xtick_2\">\n     <g id=\"line2d_2\">\n      <g>\n       <use xlink:href=\"#m44616d8a9d\" x=\"88.257171\" y=\"228.439219\" style=\"fill: #ffffff; stroke: #ffffff; stroke-width: 0.8\"/>\n      </g>\n     </g>\n     <g id=\"text_2\">\n      <!-- 5 -->\n      <g style=\"fill: #ffffff\" transform=\"translate(85.075921 243.037656)scale(0.1 -0.1)\">\n       <defs>\n        <path id=\"DejaVuSans-35\" d=\"M 691 4666 \nL 3169 4666 \nL 3169 4134 \nL 1269 4134 \nL 1269 2991 \nQ 1406 3038 1543 3061 \nQ 1681 3084 1819 3084 \nQ 2600 3084 3056 2656 \nQ 3513 2228 3513 1497 \nQ 3513 744 3044 326 \nQ 2575 -91 1722 -91 \nQ 1428 -91 1123 -41 \nQ 819 9 494 109 \nL 494 744 \nQ 775 591 1075 516 \nQ 1375 441 1709 441 \nQ 2250 441 2565 725 \nQ 2881 1009 2881 1497 \nQ 2881 1984 2565 2268 \nQ 2250 2553 1709 2553 \nQ 1456 2553 1204 2497 \nQ 953 2441 691 2322 \nL 691 4666 \nz\n\" transform=\"scale(0.015625)\"/>\n       </defs>\n       <use xlink:href=\"#DejaVuSans-35\"/>\n      </g>\n     </g>\n    </g>\n    <g id=\"xtick_3\">\n     <g id=\"line2d_3\">\n      <g>\n       <use xlink:href=\"#m44616d8a9d\" x=\"140.73366\" y=\"228.439219\" style=\"fill: #ffffff; stroke: #ffffff; stroke-width: 0.8\"/>\n      </g>\n     </g>\n     <g id=\"text_3\">\n      <!-- 10 -->\n      <g style=\"fill: #ffffff\" transform=\"translate(134.37116 243.037656)scale(0.1 -0.1)\">\n       <defs>\n        <path id=\"DejaVuSans-31\" d=\"M 794 531 \nL 1825 531 \nL 1825 4091 \nL 703 3866 \nL 703 4441 \nL 1819 4666 \nL 2450 4666 \nL 2450 531 \nL 3481 531 \nL 3481 0 \nL 794 0 \nL 794 531 \nz\n\" transform=\"scale(0.015625)\"/>\n       </defs>\n       <use xlink:href=\"#DejaVuSans-31\"/>\n       <use xlink:href=\"#DejaVuSans-30\" x=\"63.623047\"/>\n      </g>\n     </g>\n    </g>\n    <g id=\"xtick_4\">\n     <g id=\"line2d_4\">\n      <g>\n       <use xlink:href=\"#m44616d8a9d\" x=\"193.210149\" y=\"228.439219\" style=\"fill: #ffffff; stroke: #ffffff; stroke-width: 0.8\"/>\n      </g>\n     </g>\n     <g id=\"text_4\">\n      <!-- 15 -->\n      <g style=\"fill: #ffffff\" transform=\"translate(186.847649 243.037656)scale(0.1 -0.1)\">\n       <use xlink:href=\"#DejaVuSans-31\"/>\n       <use xlink:href=\"#DejaVuSans-35\" x=\"63.623047\"/>\n      </g>\n     </g>\n    </g>\n    <g id=\"xtick_5\">\n     <g id=\"line2d_5\">\n      <g>\n       <use xlink:href=\"#m44616d8a9d\" x=\"245.686638\" y=\"228.439219\" style=\"fill: #ffffff; stroke: #ffffff; stroke-width: 0.8\"/>\n      </g>\n     </g>\n     <g id=\"text_5\">\n      <!-- 20 -->\n      <g style=\"fill: #ffffff\" transform=\"translate(239.324138 243.037656)scale(0.1 -0.1)\">\n       <defs>\n        <path id=\"DejaVuSans-32\" d=\"M 1228 531 \nL 3431 531 \nL 3431 0 \nL 469 0 \nL 469 531 \nQ 828 903 1448 1529 \nQ 2069 2156 2228 2338 \nQ 2531 2678 2651 2914 \nQ 2772 3150 2772 3378 \nQ 2772 3750 2511 3984 \nQ 2250 4219 1831 4219 \nQ 1534 4219 1204 4116 \nQ 875 4013 500 3803 \nL 500 4441 \nQ 881 4594 1212 4672 \nQ 1544 4750 1819 4750 \nQ 2544 4750 2975 4387 \nQ 3406 4025 3406 3419 \nQ 3406 3131 3298 2873 \nQ 3191 2616 2906 2266 \nQ 2828 2175 2409 1742 \nQ 1991 1309 1228 531 \nz\n\" transform=\"scale(0.015625)\"/>\n       </defs>\n       <use xlink:href=\"#DejaVuSans-32\"/>\n       <use xlink:href=\"#DejaVuSans-30\" x=\"63.623047\"/>\n      </g>\n     </g>\n    </g>\n    <g id=\"xtick_6\">\n     <g id=\"line2d_6\">\n      <g>\n       <use xlink:href=\"#m44616d8a9d\" x=\"298.163127\" y=\"228.439219\" style=\"fill: #ffffff; stroke: #ffffff; stroke-width: 0.8\"/>\n      </g>\n     </g>\n     <g id=\"text_6\">\n      <!-- 25 -->\n      <g style=\"fill: #ffffff\" transform=\"translate(291.800627 243.037656)scale(0.1 -0.1)\">\n       <use xlink:href=\"#DejaVuSans-32\"/>\n       <use xlink:href=\"#DejaVuSans-35\" x=\"63.623047\"/>\n      </g>\n     </g>\n    </g>\n    <g id=\"xtick_7\">\n     <g id=\"line2d_7\">\n      <g>\n       <use xlink:href=\"#m44616d8a9d\" x=\"350.639616\" y=\"228.439219\" style=\"fill: #ffffff; stroke: #ffffff; stroke-width: 0.8\"/>\n      </g>\n     </g>\n     <g id=\"text_7\">\n      <!-- 30 -->\n      <g style=\"fill: #ffffff\" transform=\"translate(344.277116 243.037656)scale(0.1 -0.1)\">\n       <defs>\n        <path id=\"DejaVuSans-33\" d=\"M 2597 2516 \nQ 3050 2419 3304 2112 \nQ 3559 1806 3559 1356 \nQ 3559 666 3084 287 \nQ 2609 -91 1734 -91 \nQ 1441 -91 1130 -33 \nQ 819 25 488 141 \nL 488 750 \nQ 750 597 1062 519 \nQ 1375 441 1716 441 \nQ 2309 441 2620 675 \nQ 2931 909 2931 1356 \nQ 2931 1769 2642 2001 \nQ 2353 2234 1838 2234 \nL 1294 2234 \nL 1294 2753 \nL 1863 2753 \nQ 2328 2753 2575 2939 \nQ 2822 3125 2822 3475 \nQ 2822 3834 2567 4026 \nQ 2313 4219 1838 4219 \nQ 1578 4219 1281 4162 \nQ 984 4106 628 3988 \nL 628 4550 \nQ 988 4650 1302 4700 \nQ 1616 4750 1894 4750 \nQ 2613 4750 3031 4423 \nQ 3450 4097 3450 3541 \nQ 3450 3153 3228 2886 \nQ 3006 2619 2597 2516 \nz\n\" transform=\"scale(0.015625)\"/>\n       </defs>\n       <use xlink:href=\"#DejaVuSans-33\"/>\n       <use xlink:href=\"#DejaVuSans-30\" x=\"63.623047\"/>\n      </g>\n     </g>\n    </g>\n   </g>\n   <g id=\"matplotlib.axis_2\">\n    <g id=\"ytick_1\">\n     <g id=\"line2d_8\">\n      <defs>\n       <path id=\"me7f4397e82\" d=\"M 0 0 \nL -3.5 0 \n\" style=\"stroke: #ffffff; stroke-width: 0.8\"/>\n      </defs>\n      <g>\n       <use xlink:href=\"#me7f4397e82\" x=\"20.5625\" y=\"228.439219\" style=\"fill: #ffffff; stroke: #ffffff; stroke-width: 0.8\"/>\n      </g>\n     </g>\n     <g id=\"text_8\">\n      <!-- 0 -->\n      <g style=\"fill: #ffffff\" transform=\"translate(7.2 232.238437)scale(0.1 -0.1)\">\n       <use xlink:href=\"#DejaVuSans-30\"/>\n      </g>\n     </g>\n    </g>\n    <g id=\"ytick_2\">\n     <g id=\"line2d_9\">\n      <g>\n       <use xlink:href=\"#me7f4397e82\" x=\"20.5625\" y=\"184.951219\" style=\"fill: #ffffff; stroke: #ffffff; stroke-width: 0.8\"/>\n      </g>\n     </g>\n     <g id=\"text_9\">\n      <!-- 1 -->\n      <g style=\"fill: #ffffff\" transform=\"translate(7.2 188.750437)scale(0.1 -0.1)\">\n       <use xlink:href=\"#DejaVuSans-31\"/>\n      </g>\n     </g>\n    </g>\n    <g id=\"ytick_3\">\n     <g id=\"line2d_10\">\n      <g>\n       <use xlink:href=\"#me7f4397e82\" x=\"20.5625\" y=\"141.463219\" style=\"fill: #ffffff; stroke: #ffffff; stroke-width: 0.8\"/>\n      </g>\n     </g>\n     <g id=\"text_10\">\n      <!-- 2 -->\n      <g style=\"fill: #ffffff\" transform=\"translate(7.2 145.262437)scale(0.1 -0.1)\">\n       <use xlink:href=\"#DejaVuSans-32\"/>\n      </g>\n     </g>\n    </g>\n    <g id=\"ytick_4\">\n     <g id=\"line2d_11\">\n      <g>\n       <use xlink:href=\"#me7f4397e82\" x=\"20.5625\" y=\"97.975219\" style=\"fill: #ffffff; stroke: #ffffff; stroke-width: 0.8\"/>\n      </g>\n     </g>\n     <g id=\"text_11\">\n      <!-- 3 -->\n      <g style=\"fill: #ffffff\" transform=\"translate(7.2 101.774437)scale(0.1 -0.1)\">\n       <use xlink:href=\"#DejaVuSans-33\"/>\n      </g>\n     </g>\n    </g>\n    <g id=\"ytick_5\">\n     <g id=\"line2d_12\">\n      <g>\n       <use xlink:href=\"#me7f4397e82\" x=\"20.5625\" y=\"54.487219\" style=\"fill: #ffffff; stroke: #ffffff; stroke-width: 0.8\"/>\n      </g>\n     </g>\n     <g id=\"text_12\">\n      <!-- 4 -->\n      <g style=\"fill: #ffffff\" transform=\"translate(7.2 58.286437)scale(0.1 -0.1)\">\n       <defs>\n        <path id=\"DejaVuSans-34\" d=\"M 2419 4116 \nL 825 1625 \nL 2419 1625 \nL 2419 4116 \nz\nM 2253 4666 \nL 3047 4666 \nL 3047 1625 \nL 3713 1625 \nL 3713 1100 \nL 3047 1100 \nL 3047 0 \nL 2419 0 \nL 2419 1100 \nL 313 1100 \nL 313 1709 \nL 2253 4666 \nz\n\" transform=\"scale(0.015625)\"/>\n       </defs>\n       <use xlink:href=\"#DejaVuSans-34\"/>\n      </g>\n     </g>\n    </g>\n    <g id=\"ytick_6\">\n     <g id=\"line2d_13\">\n      <g>\n       <use xlink:href=\"#me7f4397e82\" x=\"20.5625\" y=\"10.999219\" style=\"fill: #ffffff; stroke: #ffffff; stroke-width: 0.8\"/>\n      </g>\n     </g>\n     <g id=\"text_13\">\n      <!-- 5 -->\n      <g style=\"fill: #ffffff\" transform=\"translate(7.2 14.798437)scale(0.1 -0.1)\">\n       <use xlink:href=\"#DejaVuSans-35\"/>\n      </g>\n     </g>\n    </g>\n   </g>\n   <g id=\"line2d_14\">\n    <path d=\"M 58.967369 -1 \nL 67.266575 40.256082 \nL 77.761873 73.670569 \nL 88.257171 95.911026 \nL 98.752469 114.010977 \nL 109.247766 127.41867 \nL 119.743064 136.750152 \nL 130.238362 143.794785 \nL 140.73366 149.259303 \nL 151.228958 153.649723 \nL 161.724255 157.526635 \nL 172.219553 160.900878 \nL 182.714851 163.820418 \nL 193.210149 166.349818 \nL 203.705447 168.780589 \nL 214.200745 170.837234 \nL 224.696042 172.831844 \nL 235.19134 174.797833 \nL 245.686638 176.422844 \nL 256.181936 177.993 \nL 266.677234 179.402401 \nL 277.172531 180.713115 \nL 287.667829 181.934382 \nL 298.163127 183.156624 \nL 308.658425 184.574179 \nL 319.153723 185.742015 \nL 329.64902 186.92354 \nL 340.144318 187.931027 \n\" clip-path=\"url(#p452a558871)\" style=\"fill: none; stroke: #ffa500; stroke-width: 1.5; stroke-linecap: square\"/>\n   </g>\n   <g id=\"line2d_15\">\n    <path d=\"M 52.795937 -1 \nL 56.771277 21.379614 \nL 67.266575 64.547512 \nL 77.761873 91.497158 \nL 88.257171 102.073132 \nL 98.752469 118.817038 \nL 109.247766 120.095248 \nL 119.743064 139.57338 \nL 130.238362 144.966004 \nL 140.73366 139.229939 \nL 151.228958 147.460603 \nL 161.724255 140.244295 \nL 172.219553 145.243088 \nL 182.714851 157.364391 \nL 193.210149 162.076074 \nL 203.705447 158.375662 \nL 214.200745 145.206825 \nL 224.696042 140.761873 \nL 235.19134 130.521481 \nL 245.686638 167.683509 \nL 256.181936 143.336281 \nL 266.677234 171.137677 \nL 277.172531 151.905456 \nL 287.667829 169.269088 \nL 298.163127 175.9248 \nL 308.658425 157.038068 \nL 319.153723 175.354748 \nL 329.64902 161.742088 \nL 340.144318 170.164245 \n\" clip-path=\"url(#p452a558871)\" style=\"fill: none; stroke: #0000ff; stroke-width: 1.5; stroke-linecap: square\"/>\n   </g>\n   <g id=\"patch_3\">\n    <path d=\"M 20.5625 228.439219 \nL 20.5625 10.999219 \n\" style=\"fill: none; stroke: #ffffff; stroke-width: 0.8; stroke-linejoin: miter; stroke-linecap: square\"/>\n   </g>\n   <g id=\"patch_4\">\n    <path d=\"M 355.3625 228.439219 \nL 355.3625 10.999219 \n\" style=\"fill: none; stroke: #ffffff; stroke-width: 0.8; stroke-linejoin: miter; stroke-linecap: square\"/>\n   </g>\n   <g id=\"patch_5\">\n    <path d=\"M 20.5625 228.439219 \nL 355.3625 228.439219 \n\" style=\"fill: none; stroke: #ffffff; stroke-width: 0.8; stroke-linejoin: miter; stroke-linecap: square\"/>\n   </g>\n   <g id=\"patch_6\">\n    <path d=\"M 20.5625 10.999219 \nL 355.3625 10.999219 \n\" style=\"fill: none; stroke: #ffffff; stroke-width: 0.8; stroke-linejoin: miter; stroke-linecap: square\"/>\n   </g>\n   <g id=\"legend_1\">\n    <g id=\"patch_7\">\n     <path d=\"M 244.4875 48.355469 \nL 348.3625 48.355469 \nQ 350.3625 48.355469 350.3625 46.355469 \nL 350.3625 17.999219 \nQ 350.3625 15.999219 348.3625 15.999219 \nL 244.4875 15.999219 \nQ 242.4875 15.999219 242.4875 17.999219 \nL 242.4875 46.355469 \nQ 242.4875 48.355469 244.4875 48.355469 \nz\n\" style=\"opacity: 0.8; stroke: #cccccc; stroke-linejoin: miter\"/>\n    </g>\n    <g id=\"line2d_16\">\n     <path d=\"M 246.4875 24.097656 \nL 256.4875 24.097656 \nL 266.4875 24.097656 \n\" style=\"fill: none; stroke: #ffa500; stroke-width: 1.5; stroke-linecap: square\"/>\n    </g>\n    <g id=\"text_14\">\n     <!-- Train loss -->\n     <g style=\"fill: #ffffff\" transform=\"translate(274.4875 27.597656)scale(0.1 -0.1)\">\n      <defs>\n       <path id=\"DejaVuSans-54\" d=\"M -19 4666 \nL 3928 4666 \nL 3928 4134 \nL 2272 4134 \nL 2272 0 \nL 1638 0 \nL 1638 4134 \nL -19 4134 \nL -19 4666 \nz\n\" transform=\"scale(0.015625)\"/>\n       <path id=\"DejaVuSans-72\" d=\"M 2631 2963 \nQ 2534 3019 2420 3045 \nQ 2306 3072 2169 3072 \nQ 1681 3072 1420 2755 \nQ 1159 2438 1159 1844 \nL 1159 0 \nL 581 0 \nL 581 3500 \nL 1159 3500 \nL 1159 2956 \nQ 1341 3275 1631 3429 \nQ 1922 3584 2338 3584 \nQ 2397 3584 2469 3576 \nQ 2541 3569 2628 3553 \nL 2631 2963 \nz\n\" transform=\"scale(0.015625)\"/>\n       <path id=\"DejaVuSans-61\" d=\"M 2194 1759 \nQ 1497 1759 1228 1600 \nQ 959 1441 959 1056 \nQ 959 750 1161 570 \nQ 1363 391 1709 391 \nQ 2188 391 2477 730 \nQ 2766 1069 2766 1631 \nL 2766 1759 \nL 2194 1759 \nz\nM 3341 1997 \nL 3341 0 \nL 2766 0 \nL 2766 531 \nQ 2569 213 2275 61 \nQ 1981 -91 1556 -91 \nQ 1019 -91 701 211 \nQ 384 513 384 1019 \nQ 384 1609 779 1909 \nQ 1175 2209 1959 2209 \nL 2766 2209 \nL 2766 2266 \nQ 2766 2663 2505 2880 \nQ 2244 3097 1772 3097 \nQ 1472 3097 1187 3025 \nQ 903 2953 641 2809 \nL 641 3341 \nQ 956 3463 1253 3523 \nQ 1550 3584 1831 3584 \nQ 2591 3584 2966 3190 \nQ 3341 2797 3341 1997 \nz\n\" transform=\"scale(0.015625)\"/>\n       <path id=\"DejaVuSans-69\" d=\"M 603 3500 \nL 1178 3500 \nL 1178 0 \nL 603 0 \nL 603 3500 \nz\nM 603 4863 \nL 1178 4863 \nL 1178 4134 \nL 603 4134 \nL 603 4863 \nz\n\" transform=\"scale(0.015625)\"/>\n       <path id=\"DejaVuSans-6e\" d=\"M 3513 2113 \nL 3513 0 \nL 2938 0 \nL 2938 2094 \nQ 2938 2591 2744 2837 \nQ 2550 3084 2163 3084 \nQ 1697 3084 1428 2787 \nQ 1159 2491 1159 1978 \nL 1159 0 \nL 581 0 \nL 581 3500 \nL 1159 3500 \nL 1159 2956 \nQ 1366 3272 1645 3428 \nQ 1925 3584 2291 3584 \nQ 2894 3584 3203 3211 \nQ 3513 2838 3513 2113 \nz\n\" transform=\"scale(0.015625)\"/>\n       <path id=\"DejaVuSans-20\" transform=\"scale(0.015625)\"/>\n       <path id=\"DejaVuSans-6c\" d=\"M 603 4863 \nL 1178 4863 \nL 1178 0 \nL 603 0 \nL 603 4863 \nz\n\" transform=\"scale(0.015625)\"/>\n       <path id=\"DejaVuSans-6f\" d=\"M 1959 3097 \nQ 1497 3097 1228 2736 \nQ 959 2375 959 1747 \nQ 959 1119 1226 758 \nQ 1494 397 1959 397 \nQ 2419 397 2687 759 \nQ 2956 1122 2956 1747 \nQ 2956 2369 2687 2733 \nQ 2419 3097 1959 3097 \nz\nM 1959 3584 \nQ 2709 3584 3137 3096 \nQ 3566 2609 3566 1747 \nQ 3566 888 3137 398 \nQ 2709 -91 1959 -91 \nQ 1206 -91 779 398 \nQ 353 888 353 1747 \nQ 353 2609 779 3096 \nQ 1206 3584 1959 3584 \nz\n\" transform=\"scale(0.015625)\"/>\n       <path id=\"DejaVuSans-73\" d=\"M 2834 3397 \nL 2834 2853 \nQ 2591 2978 2328 3040 \nQ 2066 3103 1784 3103 \nQ 1356 3103 1142 2972 \nQ 928 2841 928 2578 \nQ 928 2378 1081 2264 \nQ 1234 2150 1697 2047 \nL 1894 2003 \nQ 2506 1872 2764 1633 \nQ 3022 1394 3022 966 \nQ 3022 478 2636 193 \nQ 2250 -91 1575 -91 \nQ 1294 -91 989 -36 \nQ 684 19 347 128 \nL 347 722 \nQ 666 556 975 473 \nQ 1284 391 1588 391 \nQ 1994 391 2212 530 \nQ 2431 669 2431 922 \nQ 2431 1156 2273 1281 \nQ 2116 1406 1581 1522 \nL 1381 1569 \nQ 847 1681 609 1914 \nQ 372 2147 372 2553 \nQ 372 3047 722 3315 \nQ 1072 3584 1716 3584 \nQ 2034 3584 2315 3537 \nQ 2597 3491 2834 3397 \nz\n\" transform=\"scale(0.015625)\"/>\n      </defs>\n      <use xlink:href=\"#DejaVuSans-54\"/>\n      <use xlink:href=\"#DejaVuSans-72\" x=\"46.333984\"/>\n      <use xlink:href=\"#DejaVuSans-61\" x=\"87.447266\"/>\n      <use xlink:href=\"#DejaVuSans-69\" x=\"148.726562\"/>\n      <use xlink:href=\"#DejaVuSans-6e\" x=\"176.509766\"/>\n      <use xlink:href=\"#DejaVuSans-20\" x=\"239.888672\"/>\n      <use xlink:href=\"#DejaVuSans-6c\" x=\"271.675781\"/>\n      <use xlink:href=\"#DejaVuSans-6f\" x=\"299.458984\"/>\n      <use xlink:href=\"#DejaVuSans-73\" x=\"360.640625\"/>\n      <use xlink:href=\"#DejaVuSans-73\" x=\"412.740234\"/>\n     </g>\n    </g>\n    <g id=\"line2d_17\">\n     <path d=\"M 246.4875 38.775781 \nL 256.4875 38.775781 \nL 266.4875 38.775781 \n\" style=\"fill: none; stroke: #0000ff; stroke-width: 1.5; stroke-linecap: square\"/>\n    </g>\n    <g id=\"text_15\">\n     <!-- Validation loss -->\n     <g style=\"fill: #ffffff\" transform=\"translate(274.4875 42.275781)scale(0.1 -0.1)\">\n      <defs>\n       <path id=\"DejaVuSans-56\" d=\"M 1831 0 \nL 50 4666 \nL 709 4666 \nL 2188 738 \nL 3669 4666 \nL 4325 4666 \nL 2547 0 \nL 1831 0 \nz\n\" transform=\"scale(0.015625)\"/>\n       <path id=\"DejaVuSans-64\" d=\"M 2906 2969 \nL 2906 4863 \nL 3481 4863 \nL 3481 0 \nL 2906 0 \nL 2906 525 \nQ 2725 213 2448 61 \nQ 2172 -91 1784 -91 \nQ 1150 -91 751 415 \nQ 353 922 353 1747 \nQ 353 2572 751 3078 \nQ 1150 3584 1784 3584 \nQ 2172 3584 2448 3432 \nQ 2725 3281 2906 2969 \nz\nM 947 1747 \nQ 947 1113 1208 752 \nQ 1469 391 1925 391 \nQ 2381 391 2643 752 \nQ 2906 1113 2906 1747 \nQ 2906 2381 2643 2742 \nQ 2381 3103 1925 3103 \nQ 1469 3103 1208 2742 \nQ 947 2381 947 1747 \nz\n\" transform=\"scale(0.015625)\"/>\n       <path id=\"DejaVuSans-74\" d=\"M 1172 4494 \nL 1172 3500 \nL 2356 3500 \nL 2356 3053 \nL 1172 3053 \nL 1172 1153 \nQ 1172 725 1289 603 \nQ 1406 481 1766 481 \nL 2356 481 \nL 2356 0 \nL 1766 0 \nQ 1100 0 847 248 \nQ 594 497 594 1153 \nL 594 3053 \nL 172 3053 \nL 172 3500 \nL 594 3500 \nL 594 4494 \nL 1172 4494 \nz\n\" transform=\"scale(0.015625)\"/>\n      </defs>\n      <use xlink:href=\"#DejaVuSans-56\"/>\n      <use xlink:href=\"#DejaVuSans-61\" x=\"60.658203\"/>\n      <use xlink:href=\"#DejaVuSans-6c\" x=\"121.9375\"/>\n      <use xlink:href=\"#DejaVuSans-69\" x=\"149.720703\"/>\n      <use xlink:href=\"#DejaVuSans-64\" x=\"177.503906\"/>\n      <use xlink:href=\"#DejaVuSans-61\" x=\"240.980469\"/>\n      <use xlink:href=\"#DejaVuSans-74\" x=\"302.259766\"/>\n      <use xlink:href=\"#DejaVuSans-69\" x=\"341.46875\"/>\n      <use xlink:href=\"#DejaVuSans-6f\" x=\"369.251953\"/>\n      <use xlink:href=\"#DejaVuSans-6e\" x=\"430.433594\"/>\n      <use xlink:href=\"#DejaVuSans-20\" x=\"493.8125\"/>\n      <use xlink:href=\"#DejaVuSans-6c\" x=\"525.599609\"/>\n      <use xlink:href=\"#DejaVuSans-6f\" x=\"553.382812\"/>\n      <use xlink:href=\"#DejaVuSans-73\" x=\"614.564453\"/>\n      <use xlink:href=\"#DejaVuSans-73\" x=\"666.664062\"/>\n     </g>\n    </g>\n   </g>\n  </g>\n </g>\n <defs>\n  <clipPath id=\"p452a558871\">\n   <rect x=\"20.5625\" y=\"10.999219\" width=\"334.8\" height=\"217.44\"/>\n  </clipPath>\n </defs>\n</svg>\n",
            "text/plain": [
              "<Figure size 432x288 with 1 Axes>"
            ]
          },
          "metadata": {},
          "output_type": "display_data"
        }
      ],
      "source": [
        "plt.plot(history.history['loss'], color='orange', label='Train loss')\n",
        "plt.plot(history.history['val_loss'], color='blue', label='Validation loss')\n",
        "plt.ylim((0, 5))\n",
        "plt.legend()\n",
        "plt.show()"
      ]
    }
  ],
  "metadata": {
    "accelerator": "GPU",
    "colab": {
      "name": "AI Series.ipynb",
      "provenance": []
    },
    "kernelspec": {
      "display_name": "Python 3",
      "name": "python3"
    },
    "language_info": {
      "codemirror_mode": {
        "name": "ipython",
        "version": 3
      },
      "file_extension": ".py",
      "mimetype": "text/x-python",
      "name": "python",
      "nbconvert_exporter": "python",
      "pygments_lexer": "ipython3",
      "version": "3.9.10"
    }
  },
  "nbformat": 4,
  "nbformat_minor": 0
}
