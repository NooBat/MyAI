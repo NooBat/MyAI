{
  "cells": [
    {
      "cell_type": "code",
      "execution_count": 15,
      "metadata": {},
      "outputs": [],
      "source": [
        "from IPython.core.magic import register_cell_magic\n",
        "\n",
        "@register_cell_magic\n",
        "def write_and_run(line, cell):\n",
        "    argz = line.split()\n",
        "    file = argz[-1]\n",
        "    mode = 'w'\n",
        "    if len(argz) == 2 and argz[0] == '-a':\n",
        "        mode = 'a'\n",
        "    with open(file, mode) as f:\n",
        "        f.write(cell)\n",
        "    get_ipython().run_cell(cell)"
      ]
    },
    {
      "cell_type": "markdown",
      "metadata": {},
      "source": [
        "# **Import libraries and modules**"
      ]
    },
    {
      "cell_type": "markdown",
      "metadata": {},
      "source": [
        "## Import libraries"
      ]
    },
    {
      "cell_type": "code",
      "execution_count": 16,
      "metadata": {
        "id": "94oYiPqBa6du"
      },
      "outputs": [],
      "source": [
        "import os\n",
        "import sys\n",
        "import pathlib\n",
        "import shutil\n",
        "import math\n",
        "\n",
        "import tensorflow as tf\n",
        "from tensorflow import keras\n",
        "from keras import backend as K\n",
        "from keras.layers import *\n",
        "from keras.losses import SparseCategoricalCrossentropy\n",
        "from keras.regularizers import l2\n",
        "from tensorflow.keras.optimizers import SGD, Adam\n",
        "\n",
        "from sklearn.metrics import classification_report, ConfusionMatrixDisplay\n",
        "\n",
        "import seaborn as sn\n",
        "\n",
        "import numpy as np\n",
        "import pandas as pd\n",
        "import matplotlib.pyplot as plt"
      ]
    },
    {
      "cell_type": "code",
      "execution_count": 17,
      "metadata": {},
      "outputs": [
        {
          "name": "stdout",
          "output_type": "stream",
          "text": [
            "[True, False, False, False, False]\n"
          ]
        },
        {
          "data": {
            "text/plain": [
              "0.010000000000000002"
            ]
          },
          "execution_count": 17,
          "metadata": {},
          "output_type": "execute_result"
        }
      ],
      "source": [
        "def scheduler(epochs, lr):\n",
        "    S = [200, 250, 300, 350, 400]\n",
        "    print([c == epochs for c in S])\n",
        "    if [c == epochs for c in S].count(True) > 0:\n",
        "        return lr * 0.1\n",
        "    return lr\n",
        "\n",
        "scheduler(200, 0.1)"
      ]
    },
    {
      "cell_type": "markdown",
      "metadata": {},
      "source": [
        "## Import modules"
      ]
    },
    {
      "cell_type": "code",
      "execution_count": 18,
      "metadata": {},
      "outputs": [],
      "source": [
        "sys.path.insert(0, '../')\n",
        "\n",
        "from generate_version import generate_version"
      ]
    },
    {
      "cell_type": "markdown",
      "metadata": {},
      "source": [
        "# **Prepare the dataset for loading**"
      ]
    },
    {
      "cell_type": "markdown",
      "metadata": {},
      "source": [
        "## Helper functions"
      ]
    },
    {
      "cell_type": "code",
      "execution_count": 19,
      "metadata": {},
      "outputs": [],
      "source": [
        "def create_label_dir(df, dir='../gdsc-ai-challenge/train'):\n",
        "    \"\"\"Use Dataframe contains labels for each image and path to the directory\n",
        "\n",
        "    contains the unlabeled dataset to rebuild directory into labeled subdirectories.\n",
        "\n",
        "    Returns all the label and number of classes in the dataset.\n",
        "\n",
        "    Keyword arguments:\n",
        "\n",
        "    df -- The Dataframe contains images' names and labels.\n",
        "\n",
        "    dir -- Path to the main directory (default to ../gdsc-ai-challenge/train)\n",
        "    \"\"\"\n",
        "    class_names = np.sort(df['label'].unique())\n",
        "    number_of_classes = len(class_names)\n",
        "\n",
        "    if not os.path.exists(dir):\n",
        "        return class_names, number_of_classes\n",
        "\n",
        "    for class_name in class_names:\n",
        "        subdir = pathlib.Path(os.path.join(dir, class_name))\n",
        "        if subdir.exists():\n",
        "            continue\n",
        "        else:\n",
        "            subdir.mkdir()\n",
        "    \n",
        "    return class_names, number_of_classes\n",
        "\n",
        "def sort_data(df, dir='../gdsc-ai-challenge/train'):\n",
        "    \"\"\"Use Dataframe to move each unlabeled image to the correct label's subdirectory.\n",
        "\n",
        "    df -- The Dataframe contains images' names and labels.\n",
        "\n",
        "    dir -- Path to the main directory (default to ../gdsc-ai-challenge/train) \n",
        "    \"\"\"\n",
        "    if not os.path.exists(dir):\n",
        "        return\n",
        "    \n",
        "    unlabeled_dir = os.path.join(dir, 'train')\n",
        "\n",
        "    for image_dir in [str(img) for img in list(pathlib.Path(unlabeled_dir).glob('*.png'))]:\n",
        "        id = int(image_dir.removeprefix(unlabeled_dir).removesuffix('.png'))\n",
        "        label = df['label'][id - 1]\n",
        "        dest_path = os.path.join(dir, label, str(id) + '.png')\n",
        "        shutil.move(image_dir, dest_path)"
      ]
    },
    {
      "cell_type": "markdown",
      "metadata": {},
      "source": [
        "## Prepare the dataset"
      ]
    },
    {
      "cell_type": "code",
      "execution_count": 20,
      "metadata": {},
      "outputs": [],
      "source": [
        "label_df = pd.read_csv('../gdsc-ai-challenge/trainLabels.csv')\n",
        "\n",
        "class_names, number_of_classes = create_label_dir(label_df)\n",
        "sort_data(label_df)"
      ]
    },
    {
      "cell_type": "markdown",
      "metadata": {},
      "source": [
        "# **Data preprocessing and augmentation**"
      ]
    },
    {
      "cell_type": "markdown",
      "metadata": {},
      "source": [
        "## Helper functions"
      ]
    },
    {
      "cell_type": "code",
      "execution_count": 21,
      "metadata": {},
      "outputs": [],
      "source": [
        "def split_dataset(ds, ds_size, train_split=0.8, val_split=0.1, test_split=0.1):\n",
        "    \"\"\"Split the dataset into three subsets: train, validation (dev) and test set.\n",
        "\n",
        "    Returns three tuples, containing each subset with its size.\n",
        "\n",
        "    Keyword arguments:\n",
        "\n",
        "    ds -- tf.data.Dataset object\n",
        "\n",
        "    ds_size -- size of the dataset\n",
        "\n",
        "    train_split -- percentage to split into train set (default to 0.8)\n",
        "\n",
        "    val_split -- percentage to split into validation set (default to 0.1)\n",
        "\n",
        "    test_split -- percentage to split into test set (default to 0.1)\n",
        "    \"\"\"\n",
        "    assert (train_split + test_split + val_split) == 1\n",
        "    \n",
        "    train_size = int(train_split * ds_size)\n",
        "    val_size = int(val_split * ds_size)\n",
        "    \n",
        "    train_ds = ds.take(train_size)    \n",
        "    val_ds = ds.skip(train_size).take(val_size)\n",
        "    test_ds = ds.skip(train_size).skip(val_size)\n",
        "    \n",
        "    return (train_ds, train_size), (val_ds, val_size), (test_ds, ds_size - val_size - train_size)\n",
        "\n",
        "def configure(ds, ds_size, batch_size=32, shuffle=False, augment=False):\n",
        "    \"\"\"Configure the given dataset for better performance (by caching, prefetching and then batching the dataset)\n",
        "\n",
        "    and perform preprocessing to the images in the given dataset.\n",
        "\n",
        "    Returns the optimized dataset.\n",
        "\n",
        "    Keyword arguments:\n",
        "\n",
        "    ds -- tf.data.Dataset object\n",
        "\n",
        "    ds_size -- size of the dataset\n",
        "\n",
        "    batch_size -- size of each batch (default to 32)\n",
        "\n",
        "    shuffle -- whether to shuffle the dataset (default to False)\n",
        "\n",
        "    augment -- whether to perform data augmentation to the dataset (default to False)\n",
        "    \"\"\"\n",
        "\n",
        "    AUTOTUNE = tf.data.AUTOTUNE\n",
        "    rescale = keras.layers.Rescaling(1.0/255)\n",
        "    data_augmentation = keras.Sequential([\n",
        "        keras.layers.RandomFlip('horizontal'),\n",
        "        keras.layers.RandomRotation(0.05, fill_mode='nearest')\n",
        "    ])\n",
        "\n",
        "    ds = ds.map(lambda x, y: (rescale(x), y),\n",
        "                num_parallel_calls=AUTOTUNE)\n",
        "\n",
        "    ds = ds.cache()\n",
        "    if shuffle:\n",
        "        ds = ds.shuffle(buffer_size=int(ds_size * 0.6))\n",
        "    \n",
        "    ds = ds.batch(batch_size)\n",
        "\n",
        "    if augment:\n",
        "        with tf.device('/cpu:0'):\n",
        "            #only perform data augmentation on train set\n",
        "            ds = ds.map(lambda x, y: (data_augmentation(x, training=True), y),\n",
        "                                    num_parallel_calls=AUTOTUNE)\n",
        "    ds = ds.prefetch(buffer_size=AUTOTUNE)\n",
        "    return ds"
      ]
    },
    {
      "cell_type": "markdown",
      "metadata": {},
      "source": [
        "## Load the dataset using *image_dataset_from_directory()*"
      ]
    },
    {
      "cell_type": "code",
      "execution_count": 22,
      "metadata": {},
      "outputs": [
        {
          "name": "stdout",
          "output_type": "stream",
          "text": [
            "Found 50000 files belonging to 10 classes.\n"
          ]
        }
      ],
      "source": [
        "ds = tf.keras.utils.image_dataset_from_directory(\n",
        "    '../gdsc-ai-challenge/train',\n",
        "    color_mode='rgb',\n",
        "    batch_size=None,\n",
        "    image_size=(32,32),\n",
        "    seed=42\n",
        ")\n",
        "\n",
        "ds_size = ds.cardinality().numpy()"
      ]
    },
    {
      "cell_type": "markdown",
      "metadata": {},
      "source": [
        "## Split the dataset and Preprocess the dataset"
      ]
    },
    {
      "cell_type": "code",
      "execution_count": 23,
      "metadata": {},
      "outputs": [],
      "source": [
        "(train_ds, train_size), (val_ds, val_size), (test_ds, test_size) = split_dataset(ds, ds_size)\n",
        "\n",
        "train_ds = configure(train_ds, train_size, augment=True, shuffle=True)\n",
        "val_ds = configure(val_ds, val_size)\n",
        "test_ds = configure(test_ds, test_size)"
      ]
    },
    {
      "cell_type": "markdown",
      "metadata": {},
      "source": [
        "# **Create version-controlled folder for weights file**"
      ]
    },
    {
      "cell_type": "code",
      "execution_count": 24,
      "metadata": {},
      "outputs": [],
      "source": [
        "version = input(\"\"\"Create new folder?\n",
        "\n",
        "                (Y/n)    \n",
        "                \"\"\")\n",
        "\n",
        "new_version, path, weights_save_path = generate_version('../Model/aiseries', 'weights.best.hdf5', version.lower() == 'y')\n",
        "_, _, report_save_path = generate_version('../TrainingReport', new_version=version.lower() == 'y')"
      ]
    },
    {
      "cell_type": "markdown",
      "metadata": {},
      "source": [
        "# **Build a model**"
      ]
    },
    {
      "cell_type": "code",
      "execution_count": 25,
      "metadata": {
        "id": "WNxHjoEeb8TB"
      },
      "outputs": [],
      "source": [
        "%%write_and_run {path}/model.py\n",
        "import tensorflow as tf\n",
        "from tensorflow import keras\n",
        "from keras import regularizers\n",
        "import os\n",
        "\n",
        "def create_model(path_to_weights='', load_weights=True):\n",
        "    \"\"\"Function to create a model\n",
        "\n",
        "    Returns a compiled and optionally loaded model\n",
        "\n",
        "    Keyword arguments:\n",
        "\n",
        "    path_to_weights -- (Optional, only used when load_weights is True) -- Path to weight file (.hdf5 files)\n",
        "\n",
        "    load_weights -- Whether to load weights or not (default to True)\n",
        "    \"\"\"\n",
        "    if (load_weights):\n",
        "        assert(path_to_weights is not None and \n",
        "           os.path.isfile(path_to_weights)), \"path_to_weights must exist and not be empty if load_weights is True, otherwise change load_weights to False\"\n",
        "\n",
        "    model = keras.models.Sequential([\n",
        "        Input((32,32,3)),\n",
        "        Dropout(0.2),\n",
        "        Conv2D(96, (3,3), padding='same',\n",
        "                            kernel_regularizer=l2(1e-3),\n",
        "#                             activity_regularizer=l2(1e-3),\n",
        "                            kernel_initializer='he_normal',\n",
        "                            activation='relu'),\n",
        "        BatchNormalization(),\n",
        "        Conv2D(96, (3,3), padding='same',\n",
        "                            kernel_regularizer=l2(1e-3),\n",
        "#                             activity_regularizer=l2(1e-3),\n",
        "                            kernel_initializer='he_normal',\n",
        "                            activation='relu'),\n",
        "        BatchNormalization(),\n",
        "        Conv2D(96, (3,3), padding='same', strides=(2,2),\n",
        "                            kernel_regularizer=l2(1e-3),\n",
        "#                             activity_regularizer=l2(1e-3),\n",
        "                            kernel_initializer='he_normal',\n",
        "                            activation='relu'),\n",
        "        BatchNormalization(),\n",
        "        Dropout(0.5),\n",
        "\n",
        "        Conv2D(192, (3,3), padding='same',\n",
        "                            kernel_regularizer=l2(1e-3),\n",
        "#                             activity_regularizer=l2(1e-3),\n",
        "                            kernel_initializer='he_normal',\n",
        "                            activation='relu'),\n",
        "        BatchNormalization(),\n",
        "        Conv2D(192, (3,3), padding='same',\n",
        "                            kernel_regularizer=l2(1e-3),\n",
        "#                             activity_regularizer=l2(1e-3),\n",
        "                            kernel_initializer='he_normal',\n",
        "                            activation='relu'),\n",
        "        BatchNormalization(),\n",
        "        Conv2D(192, (3,3), padding='same', strides=(2,2),\n",
        "                            kernel_regularizer=l2(1e-3),\n",
        "#                             activity_regularizer=l2(1e-3),\n",
        "                            kernel_initializer='he_normal',\n",
        "                            activation='relu'),\n",
        "        BatchNormalization(),\n",
        "        Dropout(0.5),\n",
        "        \n",
        "        Conv2D(192, (3,3), padding='same',\n",
        "                            kernel_regularizer=l2(1e-3),\n",
        "#                             activity_regularizer=l2(1e-3),\n",
        "                            kernel_initializer='he_normal',\n",
        "                            activation='relu'),\n",
        "        BatchNormalization(),\n",
        "        Conv2D(192, (1,1), padding='same',\n",
        "                            kernel_regularizer=l2(1e-3),\n",
        "#                             activity_regularizer=l2(1e-3),\n",
        "                            kernel_initializer='he_normal',\n",
        "                            activation='relu'),\n",
        "        BatchNormalization(),\n",
        "        Conv2D(10, (1,1), padding='same',\n",
        "                            kernel_regularizer=l2(1e-3),\n",
        "#                             activity_regularizer=l2(1e-3),\n",
        "                            kernel_initializer='he_normal',\n",
        "                            activation='relu'),\n",
        "        BatchNormalization(),\n",
        "        GlobalAveragePooling2D(),\n",
        "        \n",
        "        Dropout(0.5),\n",
        "        Dense(10, activation='softmax')\n",
        "    ])\n",
        "\n",
        "    if load_weights:\n",
        "        model.load_weights(path_to_weights)\n",
        "\n",
        "    model.compile(optimizer=Adam(learning_rate=0.001),\n",
        "                                 loss='sparse_categorical_crossentropy',\n",
        "                                 metrics=[\n",
        "                                 SparseCategoricalCrossentropy(name='sparse'),\n",
        "                                 'accuracy'])\n",
        "\n",
        "    return model"
      ]
    },
    {
      "cell_type": "code",
      "execution_count": 26,
      "metadata": {
        "colab": {
          "base_uri": "https://localhost:8080/"
        },
        "id": "bYXGttWEb89y",
        "outputId": "d5029a94-f07f-409d-d134-b0baa8cee9c3"
      },
      "outputs": [
        {
          "name": "stdout",
          "output_type": "stream",
          "text": [
            "Model: \"sequential_7\"\n",
            "_________________________________________________________________\n",
            " Layer (type)                Output Shape              Param #   \n",
            "=================================================================\n",
            " dropout_4 (Dropout)         (None, 32, 32, 3)         0         \n",
            "                                                                 \n",
            " conv2d_9 (Conv2D)           (None, 32, 32, 96)        2688      \n",
            "                                                                 \n",
            " batch_normalization_9 (Batc  (None, 32, 32, 96)       384       \n",
            " hNormalization)                                                 \n",
            "                                                                 \n",
            " conv2d_10 (Conv2D)          (None, 32, 32, 96)        83040     \n",
            "                                                                 \n",
            " batch_normalization_10 (Bat  (None, 32, 32, 96)       384       \n",
            " chNormalization)                                                \n",
            "                                                                 \n",
            " conv2d_11 (Conv2D)          (None, 16, 16, 96)        83040     \n",
            "                                                                 \n",
            " batch_normalization_11 (Bat  (None, 16, 16, 96)       384       \n",
            " chNormalization)                                                \n",
            "                                                                 \n",
            " dropout_5 (Dropout)         (None, 16, 16, 96)        0         \n",
            "                                                                 \n",
            " conv2d_12 (Conv2D)          (None, 16, 16, 192)       166080    \n",
            "                                                                 \n",
            " batch_normalization_12 (Bat  (None, 16, 16, 192)      768       \n",
            " chNormalization)                                                \n",
            "                                                                 \n",
            " conv2d_13 (Conv2D)          (None, 16, 16, 192)       331968    \n",
            "                                                                 \n",
            " batch_normalization_13 (Bat  (None, 16, 16, 192)      768       \n",
            " chNormalization)                                                \n",
            "                                                                 \n",
            " conv2d_14 (Conv2D)          (None, 8, 8, 192)         331968    \n",
            "                                                                 \n",
            " batch_normalization_14 (Bat  (None, 8, 8, 192)        768       \n",
            " chNormalization)                                                \n",
            "                                                                 \n",
            " dropout_6 (Dropout)         (None, 8, 8, 192)         0         \n",
            "                                                                 \n",
            " conv2d_15 (Conv2D)          (None, 8, 8, 192)         331968    \n",
            "                                                                 \n",
            " batch_normalization_15 (Bat  (None, 8, 8, 192)        768       \n",
            " chNormalization)                                                \n",
            "                                                                 \n",
            " conv2d_16 (Conv2D)          (None, 8, 8, 192)         37056     \n",
            "                                                                 \n",
            " batch_normalization_16 (Bat  (None, 8, 8, 192)        768       \n",
            " chNormalization)                                                \n",
            "                                                                 \n",
            " conv2d_17 (Conv2D)          (None, 8, 8, 10)          1930      \n",
            "                                                                 \n",
            " batch_normalization_17 (Bat  (None, 8, 8, 10)         40        \n",
            " chNormalization)                                                \n",
            "                                                                 \n",
            " global_average_pooling2d_1   (None, 10)               0         \n",
            " (GlobalAveragePooling2D)                                        \n",
            "                                                                 \n",
            " dropout_7 (Dropout)         (None, 10)                0         \n",
            "                                                                 \n",
            " dense_1 (Dense)             (None, 10)                110       \n",
            "                                                                 \n",
            "=================================================================\n",
            "Total params: 1,374,880\n",
            "Trainable params: 1,372,364\n",
            "Non-trainable params: 2,516\n",
            "_________________________________________________________________\n"
          ]
        }
      ],
      "source": [
        "model = create_model(load_weights=False)\n",
        "\n",
        "tf.keras.utils.plot_model(model, os.path.join(path, 'model.png'), show_shapes=True)\n",
        "\n",
        "model.summary()"
      ]
    },
    {
      "cell_type": "markdown",
      "metadata": {},
      "source": [
        "# **Training session**"
      ]
    },
    {
      "cell_type": "markdown",
      "metadata": {},
      "source": [
        "## Design callbacks to stop training"
      ]
    },
    {
      "cell_type": "code",
      "execution_count": 27,
      "metadata": {},
      "outputs": [],
      "source": [
        "#callback to save weights with the minimum loss value\n",
        "model_checkpoint_callback = tf.keras.callbacks.ModelCheckpoint(filepath=weights_save_path,\n",
        "                                                               monitor='val_loss',\n",
        "                                                               mode='min',\n",
        "                                                               save_best_only=True)\n",
        "\n",
        "# class EarlyStoppingOnMaxAccuracy(keras.callbacks.Callback):\n",
        "#     def __init__(self, patience=0):\n",
        "#         super(EarlyStoppingOnMaxAccuracy, self).__init__()\n",
        "#         self.patience = patience\n",
        "#         self.best_weights = None\n",
        "    \n",
        "#     def on_train_begin(self, logs=None):\n",
        "#         self.epochs_waited = 0\n",
        "#         self.stopped_epoch = 0\n",
        "#         self.best = - np.Inf\n",
        "    \n",
        "#     def on_epoch_end(self, epoch, logs=None):\n",
        "#         print(self.model.optimizer.grad)\n",
        "#         current_val_accuracy = logs.get(\"val_accuracy\")\n",
        "#         current_accuracy = logs.get(\"accuracy\")\n",
        "\n",
        "#         if math.isclose(current_val_accuracy, current_accuracy, rel_tol=0.05):\n",
        "#             self.model.stop_training = True\n",
        "#         elif current_val_accuracy > 0.6 and np.greater(current_val_accuracy, self.best):\n",
        "#             self.best = current_val_accuracy\n",
        "#             self.epochs_waited = 0\n",
        "#             self.best_weights = self.model.get_weights()\n",
        "#         else:\n",
        "#             self.epochs_waited += 1\n",
        "#             if self.epochs_waited >= self.patience:\n",
        "#                 self.stopped_epoch = epoch\n",
        "#                 self.stop_training = True\n",
        "#                 print(\"Restoring model weights from the end of the best epoch.\")\n",
        "#                 self.model.set_weights(self.best_weights)\n",
        "    \n",
        "#     def on_train_end(self, logs=None):\n",
        "#         if self.stopped_epoch > 0:\n",
        "#             print(\"Epoch %05d: early stopping\" % (self.stopped_epoch + 1))\n",
        "\n",
        "# def recompileWithSGD(model, lr=0.001, momentum=0.9, loss_fn='sparse_categorical_crossentropy', \n",
        "#                      train_data=None, epochs=None, callbacks=[], validation_data=None):\n",
        "#     model.compile(optimizer=SGD(learning_rate=lr, momentum=momentum), \n",
        "#                   loss=loss_fn, \n",
        "#                   metrics=[\n",
        "#                       SparseCategoricalCrossentropy(name='sparse'),\n",
        "#                       'accuracy'\n",
        "#                   ])\n",
        "\n",
        "#     model.fit(train_data, epochs=epochs, callbacks=callbacks, validation_data=validation_data)\n",
        "#     return model\n",
        "\n",
        "# class AdamToSGD(keras.callbacks.EarlyStopping):\n",
        "#     def __init__(self):\n",
        "#         self.restore_best_weights = True\n",
        "#         self.phase = 'Adam'\n",
        "#         self.best_weights = None\n",
        "\n",
        "#     def on_train_begin(self, logs=None):\n",
        "#         self.weights = None\n",
        "#         self.bias_corrected_exponential_average = None\n",
        "#         self.lambda_k = 0\n",
        "#         self.lr = self.model.optimizer.lr\n",
        "\n",
        "#     def on_epoch_end(self, epoch, logs={}):\n",
        "#         lr = self.model.optimizer.lr\n",
        "#         if self.weights is not None:\n",
        "#             p_k = self.model.get_weights() - self.weights\n",
        "#             g_k\n",
        "#         else:\n",
        "#             self.weights = self.model.get_weights()\n",
        "#         self.bias_corrected_exponential_average = lr / (1. - self.model.optimizer.beta_2)\n",
        "#         if (K.abs(self.bias_corrected_exponential_average - lr) < model.optimizer.epsilon) is not None:\n",
        "#             if self.restore_best_weights:\n",
        "#                  self.best_weights = self.model.get_weights()\n",
        "#         else:\n",
        "#             self.stopped_epoch = epoch\n",
        "#             self.model.stop_training = True\n",
        "#             print('Requirement met, changing to Stoichastic Gradient Descent')\n",
        "#             if self.restore_best_weights:\n",
        "#                 if self.verbose > 0:\n",
        "#                     print('Restoring model weights from the end of the best epoch')\n",
        "#                     self.model.set_weights(self.best_weights)\n",
        "    \n",
        "#     def on_train_end(self, logs=None):\n",
        "#         recompileWithSGD(self.model, self.bias_corrected_exponential_average, self.model.optimizer.beta_1,\n",
        "#                         train_data=train_ds, epochs=200, \n",
        "#                         callbacks=[EarlyStoppingOnMaxAccuracy(), model_checkpoint_callback],\n",
        "#                         validation_data=val_ds\n",
        "#                         )\n",
        "        "
      ]
    },
    {
      "cell_type": "code",
      "execution_count": 28,
      "metadata": {
        "colab": {
          "background_save": true,
          "base_uri": "https://localhost:8080/"
        },
        "id": "-vTAeSb1cBwn",
        "outputId": "42b83134-f833-4e5b-ee2b-90803624b22f"
      },
      "outputs": [
        {
          "name": "stdout",
          "output_type": "stream",
          "text": [
            "Epoch 1/350\n"
          ]
        },
        {
          "name": "stderr",
          "output_type": "stream",
          "text": [
            "2022-04-04 01:07:38.320420: W tensorflow/core/kernels/data/cache_dataset_ops.cc:768] The calling iterator did not fully read the dataset being cached. In order to avoid unexpected truncation of the dataset, the partially cached contents of the dataset  will be discarded. This can happen if you have an input pipeline similar to `dataset.cache().take(k).repeat()`. You should use `dataset.take(k).cache().repeat()` instead.\n"
          ]
        },
        {
          "ename": "KeyboardInterrupt",
          "evalue": "",
          "output_type": "error",
          "traceback": [
            "\u001b[0;31m---------------------------------------------------------------------------\u001b[0m",
            "\u001b[0;31mKeyboardInterrupt\u001b[0m                         Traceback (most recent call last)",
            "\u001b[1;32m/Users/danielnguyen/Repo/AI/Notebook/AI_Series.ipynb Cell 28'\u001b[0m in \u001b[0;36m<cell line: 1>\u001b[0;34m()\u001b[0m\n\u001b[1;32m      <a href='vscode-notebook-cell:/Users/danielnguyen/Repo/AI/Notebook/AI_Series.ipynb#ch0000027?line=0'>1</a>\u001b[0m \u001b[39mwith\u001b[39;00m tf\u001b[39m.\u001b[39mdevice(\u001b[39m'\u001b[39m\u001b[39m/CPU:0\u001b[39m\u001b[39m'\u001b[39m):\n\u001b[0;32m----> <a href='vscode-notebook-cell:/Users/danielnguyen/Repo/AI/Notebook/AI_Series.ipynb#ch0000027?line=1'>2</a>\u001b[0m     history \u001b[39m=\u001b[39m model\u001b[39m.\u001b[39;49mfit(train_ds, \n\u001b[1;32m      <a href='vscode-notebook-cell:/Users/danielnguyen/Repo/AI/Notebook/AI_Series.ipynb#ch0000027?line=2'>3</a>\u001b[0m                 epochs\u001b[39m=\u001b[39;49m\u001b[39m350\u001b[39;49m, \n\u001b[1;32m      <a href='vscode-notebook-cell:/Users/danielnguyen/Repo/AI/Notebook/AI_Series.ipynb#ch0000027?line=3'>4</a>\u001b[0m                 callbacks\u001b[39m=\u001b[39;49m[\n\u001b[1;32m      <a href='vscode-notebook-cell:/Users/danielnguyen/Repo/AI/Notebook/AI_Series.ipynb#ch0000027?line=4'>5</a>\u001b[0m                     \u001b[39m# EarlyStoppingOnMaxAccuracy(), \u001b[39;49;00m\n\u001b[1;32m      <a href='vscode-notebook-cell:/Users/danielnguyen/Repo/AI/Notebook/AI_Series.ipynb#ch0000027?line=5'>6</a>\u001b[0m                     \u001b[39m# AdamToSGD(), \u001b[39;49;00m\n\u001b[1;32m      <a href='vscode-notebook-cell:/Users/danielnguyen/Repo/AI/Notebook/AI_Series.ipynb#ch0000027?line=6'>7</a>\u001b[0m                     model_checkpoint_callback], \n\u001b[1;32m      <a href='vscode-notebook-cell:/Users/danielnguyen/Repo/AI/Notebook/AI_Series.ipynb#ch0000027?line=7'>8</a>\u001b[0m                 validation_data\u001b[39m=\u001b[39;49mval_ds)\n",
            "File \u001b[0;32m~/miniforge3/envs/tk-ML/lib/python3.9/site-packages/keras/utils/traceback_utils.py:64\u001b[0m, in \u001b[0;36mfilter_traceback.<locals>.error_handler\u001b[0;34m(*args, **kwargs)\u001b[0m\n\u001b[1;32m     <a href='file:///Users/danielnguyen/miniforge3/envs/tk-ML/lib/python3.9/site-packages/keras/utils/traceback_utils.py?line=61'>62</a>\u001b[0m filtered_tb \u001b[39m=\u001b[39m \u001b[39mNone\u001b[39;00m\n\u001b[1;32m     <a href='file:///Users/danielnguyen/miniforge3/envs/tk-ML/lib/python3.9/site-packages/keras/utils/traceback_utils.py?line=62'>63</a>\u001b[0m \u001b[39mtry\u001b[39;00m:\n\u001b[0;32m---> <a href='file:///Users/danielnguyen/miniforge3/envs/tk-ML/lib/python3.9/site-packages/keras/utils/traceback_utils.py?line=63'>64</a>\u001b[0m   \u001b[39mreturn\u001b[39;00m fn(\u001b[39m*\u001b[39;49margs, \u001b[39m*\u001b[39;49m\u001b[39m*\u001b[39;49mkwargs)\n\u001b[1;32m     <a href='file:///Users/danielnguyen/miniforge3/envs/tk-ML/lib/python3.9/site-packages/keras/utils/traceback_utils.py?line=64'>65</a>\u001b[0m \u001b[39mexcept\u001b[39;00m \u001b[39mException\u001b[39;00m \u001b[39mas\u001b[39;00m e:  \u001b[39m# pylint: disable=broad-except\u001b[39;00m\n\u001b[1;32m     <a href='file:///Users/danielnguyen/miniforge3/envs/tk-ML/lib/python3.9/site-packages/keras/utils/traceback_utils.py?line=65'>66</a>\u001b[0m   filtered_tb \u001b[39m=\u001b[39m _process_traceback_frames(e\u001b[39m.\u001b[39m__traceback__)\n",
            "File \u001b[0;32m~/miniforge3/envs/tk-ML/lib/python3.9/site-packages/keras/engine/training.py:1384\u001b[0m, in \u001b[0;36mModel.fit\u001b[0;34m(self, x, y, batch_size, epochs, verbose, callbacks, validation_split, validation_data, shuffle, class_weight, sample_weight, initial_epoch, steps_per_epoch, validation_steps, validation_batch_size, validation_freq, max_queue_size, workers, use_multiprocessing)\u001b[0m\n\u001b[1;32m   <a href='file:///Users/danielnguyen/miniforge3/envs/tk-ML/lib/python3.9/site-packages/keras/engine/training.py?line=1376'>1377</a>\u001b[0m \u001b[39mwith\u001b[39;00m tf\u001b[39m.\u001b[39mprofiler\u001b[39m.\u001b[39mexperimental\u001b[39m.\u001b[39mTrace(\n\u001b[1;32m   <a href='file:///Users/danielnguyen/miniforge3/envs/tk-ML/lib/python3.9/site-packages/keras/engine/training.py?line=1377'>1378</a>\u001b[0m     \u001b[39m'\u001b[39m\u001b[39mtrain\u001b[39m\u001b[39m'\u001b[39m,\n\u001b[1;32m   <a href='file:///Users/danielnguyen/miniforge3/envs/tk-ML/lib/python3.9/site-packages/keras/engine/training.py?line=1378'>1379</a>\u001b[0m     epoch_num\u001b[39m=\u001b[39mepoch,\n\u001b[1;32m   <a href='file:///Users/danielnguyen/miniforge3/envs/tk-ML/lib/python3.9/site-packages/keras/engine/training.py?line=1379'>1380</a>\u001b[0m     step_num\u001b[39m=\u001b[39mstep,\n\u001b[1;32m   <a href='file:///Users/danielnguyen/miniforge3/envs/tk-ML/lib/python3.9/site-packages/keras/engine/training.py?line=1380'>1381</a>\u001b[0m     batch_size\u001b[39m=\u001b[39mbatch_size,\n\u001b[1;32m   <a href='file:///Users/danielnguyen/miniforge3/envs/tk-ML/lib/python3.9/site-packages/keras/engine/training.py?line=1381'>1382</a>\u001b[0m     _r\u001b[39m=\u001b[39m\u001b[39m1\u001b[39m):\n\u001b[1;32m   <a href='file:///Users/danielnguyen/miniforge3/envs/tk-ML/lib/python3.9/site-packages/keras/engine/training.py?line=1382'>1383</a>\u001b[0m   callbacks\u001b[39m.\u001b[39mon_train_batch_begin(step)\n\u001b[0;32m-> <a href='file:///Users/danielnguyen/miniforge3/envs/tk-ML/lib/python3.9/site-packages/keras/engine/training.py?line=1383'>1384</a>\u001b[0m   tmp_logs \u001b[39m=\u001b[39m \u001b[39mself\u001b[39;49m\u001b[39m.\u001b[39;49mtrain_function(iterator)\n\u001b[1;32m   <a href='file:///Users/danielnguyen/miniforge3/envs/tk-ML/lib/python3.9/site-packages/keras/engine/training.py?line=1384'>1385</a>\u001b[0m   \u001b[39mif\u001b[39;00m data_handler\u001b[39m.\u001b[39mshould_sync:\n\u001b[1;32m   <a href='file:///Users/danielnguyen/miniforge3/envs/tk-ML/lib/python3.9/site-packages/keras/engine/training.py?line=1385'>1386</a>\u001b[0m     context\u001b[39m.\u001b[39masync_wait()\n",
            "File \u001b[0;32m~/miniforge3/envs/tk-ML/lib/python3.9/site-packages/tensorflow/python/util/traceback_utils.py:150\u001b[0m, in \u001b[0;36mfilter_traceback.<locals>.error_handler\u001b[0;34m(*args, **kwargs)\u001b[0m\n\u001b[1;32m    <a href='file:///Users/danielnguyen/miniforge3/envs/tk-ML/lib/python3.9/site-packages/tensorflow/python/util/traceback_utils.py?line=147'>148</a>\u001b[0m filtered_tb \u001b[39m=\u001b[39m \u001b[39mNone\u001b[39;00m\n\u001b[1;32m    <a href='file:///Users/danielnguyen/miniforge3/envs/tk-ML/lib/python3.9/site-packages/tensorflow/python/util/traceback_utils.py?line=148'>149</a>\u001b[0m \u001b[39mtry\u001b[39;00m:\n\u001b[0;32m--> <a href='file:///Users/danielnguyen/miniforge3/envs/tk-ML/lib/python3.9/site-packages/tensorflow/python/util/traceback_utils.py?line=149'>150</a>\u001b[0m   \u001b[39mreturn\u001b[39;00m fn(\u001b[39m*\u001b[39;49margs, \u001b[39m*\u001b[39;49m\u001b[39m*\u001b[39;49mkwargs)\n\u001b[1;32m    <a href='file:///Users/danielnguyen/miniforge3/envs/tk-ML/lib/python3.9/site-packages/tensorflow/python/util/traceback_utils.py?line=150'>151</a>\u001b[0m \u001b[39mexcept\u001b[39;00m \u001b[39mException\u001b[39;00m \u001b[39mas\u001b[39;00m e:\n\u001b[1;32m    <a href='file:///Users/danielnguyen/miniforge3/envs/tk-ML/lib/python3.9/site-packages/tensorflow/python/util/traceback_utils.py?line=151'>152</a>\u001b[0m   filtered_tb \u001b[39m=\u001b[39m _process_traceback_frames(e\u001b[39m.\u001b[39m__traceback__)\n",
            "File \u001b[0;32m~/miniforge3/envs/tk-ML/lib/python3.9/site-packages/tensorflow/python/eager/def_function.py:915\u001b[0m, in \u001b[0;36mFunction.__call__\u001b[0;34m(self, *args, **kwds)\u001b[0m\n\u001b[1;32m    <a href='file:///Users/danielnguyen/miniforge3/envs/tk-ML/lib/python3.9/site-packages/tensorflow/python/eager/def_function.py?line=911'>912</a>\u001b[0m compiler \u001b[39m=\u001b[39m \u001b[39m\"\u001b[39m\u001b[39mxla\u001b[39m\u001b[39m\"\u001b[39m \u001b[39mif\u001b[39;00m \u001b[39mself\u001b[39m\u001b[39m.\u001b[39m_jit_compile \u001b[39melse\u001b[39;00m \u001b[39m\"\u001b[39m\u001b[39mnonXla\u001b[39m\u001b[39m\"\u001b[39m\n\u001b[1;32m    <a href='file:///Users/danielnguyen/miniforge3/envs/tk-ML/lib/python3.9/site-packages/tensorflow/python/eager/def_function.py?line=913'>914</a>\u001b[0m \u001b[39mwith\u001b[39;00m OptionalXlaContext(\u001b[39mself\u001b[39m\u001b[39m.\u001b[39m_jit_compile):\n\u001b[0;32m--> <a href='file:///Users/danielnguyen/miniforge3/envs/tk-ML/lib/python3.9/site-packages/tensorflow/python/eager/def_function.py?line=914'>915</a>\u001b[0m   result \u001b[39m=\u001b[39m \u001b[39mself\u001b[39;49m\u001b[39m.\u001b[39;49m_call(\u001b[39m*\u001b[39;49margs, \u001b[39m*\u001b[39;49m\u001b[39m*\u001b[39;49mkwds)\n\u001b[1;32m    <a href='file:///Users/danielnguyen/miniforge3/envs/tk-ML/lib/python3.9/site-packages/tensorflow/python/eager/def_function.py?line=916'>917</a>\u001b[0m new_tracing_count \u001b[39m=\u001b[39m \u001b[39mself\u001b[39m\u001b[39m.\u001b[39mexperimental_get_tracing_count()\n\u001b[1;32m    <a href='file:///Users/danielnguyen/miniforge3/envs/tk-ML/lib/python3.9/site-packages/tensorflow/python/eager/def_function.py?line=917'>918</a>\u001b[0m without_tracing \u001b[39m=\u001b[39m (tracing_count \u001b[39m==\u001b[39m new_tracing_count)\n",
            "File \u001b[0;32m~/miniforge3/envs/tk-ML/lib/python3.9/site-packages/tensorflow/python/eager/def_function.py:980\u001b[0m, in \u001b[0;36mFunction._call\u001b[0;34m(self, *args, **kwds)\u001b[0m\n\u001b[1;32m    <a href='file:///Users/danielnguyen/miniforge3/envs/tk-ML/lib/python3.9/site-packages/tensorflow/python/eager/def_function.py?line=975'>976</a>\u001b[0m     \u001b[39mpass\u001b[39;00m  \u001b[39m# Fall through to cond-based initialization.\u001b[39;00m\n\u001b[1;32m    <a href='file:///Users/danielnguyen/miniforge3/envs/tk-ML/lib/python3.9/site-packages/tensorflow/python/eager/def_function.py?line=976'>977</a>\u001b[0m   \u001b[39melse\u001b[39;00m:\n\u001b[1;32m    <a href='file:///Users/danielnguyen/miniforge3/envs/tk-ML/lib/python3.9/site-packages/tensorflow/python/eager/def_function.py?line=977'>978</a>\u001b[0m     \u001b[39m# Lifting succeeded, so variables are initialized and we can run the\u001b[39;00m\n\u001b[1;32m    <a href='file:///Users/danielnguyen/miniforge3/envs/tk-ML/lib/python3.9/site-packages/tensorflow/python/eager/def_function.py?line=978'>979</a>\u001b[0m     \u001b[39m# stateless function.\u001b[39;00m\n\u001b[0;32m--> <a href='file:///Users/danielnguyen/miniforge3/envs/tk-ML/lib/python3.9/site-packages/tensorflow/python/eager/def_function.py?line=979'>980</a>\u001b[0m     \u001b[39mreturn\u001b[39;00m \u001b[39mself\u001b[39;49m\u001b[39m.\u001b[39;49m_stateless_fn(\u001b[39m*\u001b[39;49margs, \u001b[39m*\u001b[39;49m\u001b[39m*\u001b[39;49mkwds)\n\u001b[1;32m    <a href='file:///Users/danielnguyen/miniforge3/envs/tk-ML/lib/python3.9/site-packages/tensorflow/python/eager/def_function.py?line=980'>981</a>\u001b[0m \u001b[39melse\u001b[39;00m:\n\u001b[1;32m    <a href='file:///Users/danielnguyen/miniforge3/envs/tk-ML/lib/python3.9/site-packages/tensorflow/python/eager/def_function.py?line=981'>982</a>\u001b[0m   _, _, _, filtered_flat_args \u001b[39m=\u001b[39m \\\n\u001b[1;32m    <a href='file:///Users/danielnguyen/miniforge3/envs/tk-ML/lib/python3.9/site-packages/tensorflow/python/eager/def_function.py?line=982'>983</a>\u001b[0m       \u001b[39mself\u001b[39m\u001b[39m.\u001b[39m_stateful_fn\u001b[39m.\u001b[39m_function_spec\u001b[39m.\u001b[39mcanonicalize_function_inputs(  \u001b[39m# pylint: disable=protected-access\u001b[39;00m\n\u001b[1;32m    <a href='file:///Users/danielnguyen/miniforge3/envs/tk-ML/lib/python3.9/site-packages/tensorflow/python/eager/def_function.py?line=983'>984</a>\u001b[0m           \u001b[39m*\u001b[39margs, \u001b[39m*\u001b[39m\u001b[39m*\u001b[39mkwds)\n",
            "File \u001b[0;32m~/miniforge3/envs/tk-ML/lib/python3.9/site-packages/tensorflow/python/eager/function.py:2955\u001b[0m, in \u001b[0;36mFunction.__call__\u001b[0;34m(self, *args, **kwargs)\u001b[0m\n\u001b[1;32m   <a href='file:///Users/danielnguyen/miniforge3/envs/tk-ML/lib/python3.9/site-packages/tensorflow/python/eager/function.py?line=2951'>2952</a>\u001b[0m \u001b[39m\"\"\"Calls a graph function specialized to the inputs.\"\"\"\u001b[39;00m\n\u001b[1;32m   <a href='file:///Users/danielnguyen/miniforge3/envs/tk-ML/lib/python3.9/site-packages/tensorflow/python/eager/function.py?line=2952'>2953</a>\u001b[0m \u001b[39mwith\u001b[39;00m \u001b[39mself\u001b[39m\u001b[39m.\u001b[39m_lock:\n\u001b[1;32m   <a href='file:///Users/danielnguyen/miniforge3/envs/tk-ML/lib/python3.9/site-packages/tensorflow/python/eager/function.py?line=2953'>2954</a>\u001b[0m   (graph_function,\n\u001b[0;32m-> <a href='file:///Users/danielnguyen/miniforge3/envs/tk-ML/lib/python3.9/site-packages/tensorflow/python/eager/function.py?line=2954'>2955</a>\u001b[0m    filtered_flat_args) \u001b[39m=\u001b[39m \u001b[39mself\u001b[39;49m\u001b[39m.\u001b[39;49m_maybe_define_function(args, kwargs)\n\u001b[1;32m   <a href='file:///Users/danielnguyen/miniforge3/envs/tk-ML/lib/python3.9/site-packages/tensorflow/python/eager/function.py?line=2955'>2956</a>\u001b[0m \u001b[39mreturn\u001b[39;00m graph_function\u001b[39m.\u001b[39m_call_flat(\n\u001b[1;32m   <a href='file:///Users/danielnguyen/miniforge3/envs/tk-ML/lib/python3.9/site-packages/tensorflow/python/eager/function.py?line=2956'>2957</a>\u001b[0m     filtered_flat_args, captured_inputs\u001b[39m=\u001b[39mgraph_function\u001b[39m.\u001b[39mcaptured_inputs)\n",
            "File \u001b[0;32m~/miniforge3/envs/tk-ML/lib/python3.9/site-packages/tensorflow/python/eager/function.py:3292\u001b[0m, in \u001b[0;36mFunction._maybe_define_function\u001b[0;34m(self, args, kwargs)\u001b[0m\n\u001b[1;32m   <a href='file:///Users/danielnguyen/miniforge3/envs/tk-ML/lib/python3.9/site-packages/tensorflow/python/eager/function.py?line=3287'>3288</a>\u001b[0m   \u001b[39mreturn\u001b[39;00m \u001b[39mself\u001b[39m\u001b[39m.\u001b[39m_define_function_with_shape_relaxation(\n\u001b[1;32m   <a href='file:///Users/danielnguyen/miniforge3/envs/tk-ML/lib/python3.9/site-packages/tensorflow/python/eager/function.py?line=3288'>3289</a>\u001b[0m       args, kwargs, flat_args, filtered_flat_args)\n\u001b[1;32m   <a href='file:///Users/danielnguyen/miniforge3/envs/tk-ML/lib/python3.9/site-packages/tensorflow/python/eager/function.py?line=3290'>3291</a>\u001b[0m \u001b[39mself\u001b[39m\u001b[39m.\u001b[39m_function_cache\u001b[39m.\u001b[39madd_call_context(cache_key\u001b[39m.\u001b[39mcall_context)\n\u001b[0;32m-> <a href='file:///Users/danielnguyen/miniforge3/envs/tk-ML/lib/python3.9/site-packages/tensorflow/python/eager/function.py?line=3291'>3292</a>\u001b[0m graph_function \u001b[39m=\u001b[39m \u001b[39mself\u001b[39;49m\u001b[39m.\u001b[39;49m_create_graph_function(args, kwargs)\n\u001b[1;32m   <a href='file:///Users/danielnguyen/miniforge3/envs/tk-ML/lib/python3.9/site-packages/tensorflow/python/eager/function.py?line=3292'>3293</a>\u001b[0m \u001b[39mself\u001b[39m\u001b[39m.\u001b[39m_function_cache\u001b[39m.\u001b[39madd(cache_key, cache_key_deletion_observer,\n\u001b[1;32m   <a href='file:///Users/danielnguyen/miniforge3/envs/tk-ML/lib/python3.9/site-packages/tensorflow/python/eager/function.py?line=3293'>3294</a>\u001b[0m                          graph_function)\n\u001b[1;32m   <a href='file:///Users/danielnguyen/miniforge3/envs/tk-ML/lib/python3.9/site-packages/tensorflow/python/eager/function.py?line=3295'>3296</a>\u001b[0m \u001b[39mreturn\u001b[39;00m graph_function, filtered_flat_args\n",
            "File \u001b[0;32m~/miniforge3/envs/tk-ML/lib/python3.9/site-packages/tensorflow/python/eager/function.py:3130\u001b[0m, in \u001b[0;36mFunction._create_graph_function\u001b[0;34m(self, args, kwargs, override_flat_arg_shapes)\u001b[0m\n\u001b[1;32m   <a href='file:///Users/danielnguyen/miniforge3/envs/tk-ML/lib/python3.9/site-packages/tensorflow/python/eager/function.py?line=3124'>3125</a>\u001b[0m missing_arg_names \u001b[39m=\u001b[39m [\n\u001b[1;32m   <a href='file:///Users/danielnguyen/miniforge3/envs/tk-ML/lib/python3.9/site-packages/tensorflow/python/eager/function.py?line=3125'>3126</a>\u001b[0m     \u001b[39m\"\u001b[39m\u001b[39m%s\u001b[39;00m\u001b[39m_\u001b[39m\u001b[39m%d\u001b[39;00m\u001b[39m\"\u001b[39m \u001b[39m%\u001b[39m (arg, i) \u001b[39mfor\u001b[39;00m i, arg \u001b[39min\u001b[39;00m \u001b[39menumerate\u001b[39m(missing_arg_names)\n\u001b[1;32m   <a href='file:///Users/danielnguyen/miniforge3/envs/tk-ML/lib/python3.9/site-packages/tensorflow/python/eager/function.py?line=3126'>3127</a>\u001b[0m ]\n\u001b[1;32m   <a href='file:///Users/danielnguyen/miniforge3/envs/tk-ML/lib/python3.9/site-packages/tensorflow/python/eager/function.py?line=3127'>3128</a>\u001b[0m arg_names \u001b[39m=\u001b[39m base_arg_names \u001b[39m+\u001b[39m missing_arg_names\n\u001b[1;32m   <a href='file:///Users/danielnguyen/miniforge3/envs/tk-ML/lib/python3.9/site-packages/tensorflow/python/eager/function.py?line=3128'>3129</a>\u001b[0m graph_function \u001b[39m=\u001b[39m ConcreteFunction(\n\u001b[0;32m-> <a href='file:///Users/danielnguyen/miniforge3/envs/tk-ML/lib/python3.9/site-packages/tensorflow/python/eager/function.py?line=3129'>3130</a>\u001b[0m     func_graph_module\u001b[39m.\u001b[39;49mfunc_graph_from_py_func(\n\u001b[1;32m   <a href='file:///Users/danielnguyen/miniforge3/envs/tk-ML/lib/python3.9/site-packages/tensorflow/python/eager/function.py?line=3130'>3131</a>\u001b[0m         \u001b[39mself\u001b[39;49m\u001b[39m.\u001b[39;49m_name,\n\u001b[1;32m   <a href='file:///Users/danielnguyen/miniforge3/envs/tk-ML/lib/python3.9/site-packages/tensorflow/python/eager/function.py?line=3131'>3132</a>\u001b[0m         \u001b[39mself\u001b[39;49m\u001b[39m.\u001b[39;49m_python_function,\n\u001b[1;32m   <a href='file:///Users/danielnguyen/miniforge3/envs/tk-ML/lib/python3.9/site-packages/tensorflow/python/eager/function.py?line=3132'>3133</a>\u001b[0m         args,\n\u001b[1;32m   <a href='file:///Users/danielnguyen/miniforge3/envs/tk-ML/lib/python3.9/site-packages/tensorflow/python/eager/function.py?line=3133'>3134</a>\u001b[0m         kwargs,\n\u001b[1;32m   <a href='file:///Users/danielnguyen/miniforge3/envs/tk-ML/lib/python3.9/site-packages/tensorflow/python/eager/function.py?line=3134'>3135</a>\u001b[0m         \u001b[39mself\u001b[39;49m\u001b[39m.\u001b[39;49minput_signature,\n\u001b[1;32m   <a href='file:///Users/danielnguyen/miniforge3/envs/tk-ML/lib/python3.9/site-packages/tensorflow/python/eager/function.py?line=3135'>3136</a>\u001b[0m         autograph\u001b[39m=\u001b[39;49m\u001b[39mself\u001b[39;49m\u001b[39m.\u001b[39;49m_autograph,\n\u001b[1;32m   <a href='file:///Users/danielnguyen/miniforge3/envs/tk-ML/lib/python3.9/site-packages/tensorflow/python/eager/function.py?line=3136'>3137</a>\u001b[0m         autograph_options\u001b[39m=\u001b[39;49m\u001b[39mself\u001b[39;49m\u001b[39m.\u001b[39;49m_autograph_options,\n\u001b[1;32m   <a href='file:///Users/danielnguyen/miniforge3/envs/tk-ML/lib/python3.9/site-packages/tensorflow/python/eager/function.py?line=3137'>3138</a>\u001b[0m         arg_names\u001b[39m=\u001b[39;49marg_names,\n\u001b[1;32m   <a href='file:///Users/danielnguyen/miniforge3/envs/tk-ML/lib/python3.9/site-packages/tensorflow/python/eager/function.py?line=3138'>3139</a>\u001b[0m         override_flat_arg_shapes\u001b[39m=\u001b[39;49moverride_flat_arg_shapes,\n\u001b[1;32m   <a href='file:///Users/danielnguyen/miniforge3/envs/tk-ML/lib/python3.9/site-packages/tensorflow/python/eager/function.py?line=3139'>3140</a>\u001b[0m         capture_by_value\u001b[39m=\u001b[39;49m\u001b[39mself\u001b[39;49m\u001b[39m.\u001b[39;49m_capture_by_value),\n\u001b[1;32m   <a href='file:///Users/danielnguyen/miniforge3/envs/tk-ML/lib/python3.9/site-packages/tensorflow/python/eager/function.py?line=3140'>3141</a>\u001b[0m     \u001b[39mself\u001b[39m\u001b[39m.\u001b[39m_function_attributes,\n\u001b[1;32m   <a href='file:///Users/danielnguyen/miniforge3/envs/tk-ML/lib/python3.9/site-packages/tensorflow/python/eager/function.py?line=3141'>3142</a>\u001b[0m     function_spec\u001b[39m=\u001b[39m\u001b[39mself\u001b[39m\u001b[39m.\u001b[39mfunction_spec,\n\u001b[1;32m   <a href='file:///Users/danielnguyen/miniforge3/envs/tk-ML/lib/python3.9/site-packages/tensorflow/python/eager/function.py?line=3142'>3143</a>\u001b[0m     \u001b[39m# Tell the ConcreteFunction to clean up its graph once it goes out of\u001b[39;00m\n\u001b[1;32m   <a href='file:///Users/danielnguyen/miniforge3/envs/tk-ML/lib/python3.9/site-packages/tensorflow/python/eager/function.py?line=3143'>3144</a>\u001b[0m     \u001b[39m# scope. This is not the default behavior since it gets used in some\u001b[39;00m\n\u001b[1;32m   <a href='file:///Users/danielnguyen/miniforge3/envs/tk-ML/lib/python3.9/site-packages/tensorflow/python/eager/function.py?line=3144'>3145</a>\u001b[0m     \u001b[39m# places (like Keras) where the FuncGraph lives longer than the\u001b[39;00m\n\u001b[1;32m   <a href='file:///Users/danielnguyen/miniforge3/envs/tk-ML/lib/python3.9/site-packages/tensorflow/python/eager/function.py?line=3145'>3146</a>\u001b[0m     \u001b[39m# ConcreteFunction.\u001b[39;00m\n\u001b[1;32m   <a href='file:///Users/danielnguyen/miniforge3/envs/tk-ML/lib/python3.9/site-packages/tensorflow/python/eager/function.py?line=3146'>3147</a>\u001b[0m     shared_func_graph\u001b[39m=\u001b[39m\u001b[39mFalse\u001b[39;00m)\n\u001b[1;32m   <a href='file:///Users/danielnguyen/miniforge3/envs/tk-ML/lib/python3.9/site-packages/tensorflow/python/eager/function.py?line=3147'>3148</a>\u001b[0m \u001b[39mreturn\u001b[39;00m graph_function\n",
            "File \u001b[0;32m~/miniforge3/envs/tk-ML/lib/python3.9/site-packages/tensorflow/python/framework/func_graph.py:1161\u001b[0m, in \u001b[0;36mfunc_graph_from_py_func\u001b[0;34m(name, python_func, args, kwargs, signature, func_graph, autograph, autograph_options, add_control_dependencies, arg_names, op_return_value, collections, capture_by_value, override_flat_arg_shapes, acd_record_initial_resource_uses)\u001b[0m\n\u001b[1;32m   <a href='file:///Users/danielnguyen/miniforge3/envs/tk-ML/lib/python3.9/site-packages/tensorflow/python/framework/func_graph.py?line=1157'>1158</a>\u001b[0m \u001b[39melse\u001b[39;00m:\n\u001b[1;32m   <a href='file:///Users/danielnguyen/miniforge3/envs/tk-ML/lib/python3.9/site-packages/tensorflow/python/framework/func_graph.py?line=1158'>1159</a>\u001b[0m   _, original_func \u001b[39m=\u001b[39m tf_decorator\u001b[39m.\u001b[39munwrap(python_func)\n\u001b[0;32m-> <a href='file:///Users/danielnguyen/miniforge3/envs/tk-ML/lib/python3.9/site-packages/tensorflow/python/framework/func_graph.py?line=1160'>1161</a>\u001b[0m func_outputs \u001b[39m=\u001b[39m python_func(\u001b[39m*\u001b[39;49mfunc_args, \u001b[39m*\u001b[39;49m\u001b[39m*\u001b[39;49mfunc_kwargs)\n\u001b[1;32m   <a href='file:///Users/danielnguyen/miniforge3/envs/tk-ML/lib/python3.9/site-packages/tensorflow/python/framework/func_graph.py?line=1162'>1163</a>\u001b[0m \u001b[39m# invariant: `func_outputs` contains only Tensors, CompositeTensors,\u001b[39;00m\n\u001b[1;32m   <a href='file:///Users/danielnguyen/miniforge3/envs/tk-ML/lib/python3.9/site-packages/tensorflow/python/framework/func_graph.py?line=1163'>1164</a>\u001b[0m \u001b[39m# TensorArrays and `None`s.\u001b[39;00m\n\u001b[1;32m   <a href='file:///Users/danielnguyen/miniforge3/envs/tk-ML/lib/python3.9/site-packages/tensorflow/python/framework/func_graph.py?line=1164'>1165</a>\u001b[0m func_outputs \u001b[39m=\u001b[39m nest\u001b[39m.\u001b[39mmap_structure(convert, func_outputs,\n\u001b[1;32m   <a href='file:///Users/danielnguyen/miniforge3/envs/tk-ML/lib/python3.9/site-packages/tensorflow/python/framework/func_graph.py?line=1165'>1166</a>\u001b[0m                                   expand_composites\u001b[39m=\u001b[39m\u001b[39mTrue\u001b[39;00m)\n",
            "File \u001b[0;32m~/miniforge3/envs/tk-ML/lib/python3.9/site-packages/tensorflow/python/eager/def_function.py:677\u001b[0m, in \u001b[0;36mFunction._defun_with_scope.<locals>.wrapped_fn\u001b[0;34m(*args, **kwds)\u001b[0m\n\u001b[1;32m    <a href='file:///Users/danielnguyen/miniforge3/envs/tk-ML/lib/python3.9/site-packages/tensorflow/python/eager/def_function.py?line=672'>673</a>\u001b[0m \u001b[39mwith\u001b[39;00m default_graph\u001b[39m.\u001b[39m_variable_creator_scope(scope, priority\u001b[39m=\u001b[39m\u001b[39m50\u001b[39m):  \u001b[39m# pylint: disable=protected-access\u001b[39;00m\n\u001b[1;32m    <a href='file:///Users/danielnguyen/miniforge3/envs/tk-ML/lib/python3.9/site-packages/tensorflow/python/eager/def_function.py?line=673'>674</a>\u001b[0m   \u001b[39m# __wrapped__ allows AutoGraph to swap in a converted function. We give\u001b[39;00m\n\u001b[1;32m    <a href='file:///Users/danielnguyen/miniforge3/envs/tk-ML/lib/python3.9/site-packages/tensorflow/python/eager/def_function.py?line=674'>675</a>\u001b[0m   \u001b[39m# the function a weak reference to itself to avoid a reference cycle.\u001b[39;00m\n\u001b[1;32m    <a href='file:///Users/danielnguyen/miniforge3/envs/tk-ML/lib/python3.9/site-packages/tensorflow/python/eager/def_function.py?line=675'>676</a>\u001b[0m   \u001b[39mwith\u001b[39;00m OptionalXlaContext(compile_with_xla):\n\u001b[0;32m--> <a href='file:///Users/danielnguyen/miniforge3/envs/tk-ML/lib/python3.9/site-packages/tensorflow/python/eager/def_function.py?line=676'>677</a>\u001b[0m     out \u001b[39m=\u001b[39m weak_wrapped_fn()\u001b[39m.\u001b[39;49m__wrapped__(\u001b[39m*\u001b[39;49margs, \u001b[39m*\u001b[39;49m\u001b[39m*\u001b[39;49mkwds)\n\u001b[1;32m    <a href='file:///Users/danielnguyen/miniforge3/envs/tk-ML/lib/python3.9/site-packages/tensorflow/python/eager/def_function.py?line=677'>678</a>\u001b[0m   \u001b[39mreturn\u001b[39;00m out\n",
            "File \u001b[0;32m~/miniforge3/envs/tk-ML/lib/python3.9/site-packages/tensorflow/python/framework/func_graph.py:1136\u001b[0m, in \u001b[0;36mfunc_graph_from_py_func.<locals>.autograph_handler\u001b[0;34m(*args, **kwargs)\u001b[0m\n\u001b[1;32m   <a href='file:///Users/danielnguyen/miniforge3/envs/tk-ML/lib/python3.9/site-packages/tensorflow/python/framework/func_graph.py?line=1133'>1134</a>\u001b[0m \u001b[39m# TODO(mdan): Push this block higher in tf.function's call stack.\u001b[39;00m\n\u001b[1;32m   <a href='file:///Users/danielnguyen/miniforge3/envs/tk-ML/lib/python3.9/site-packages/tensorflow/python/framework/func_graph.py?line=1134'>1135</a>\u001b[0m \u001b[39mtry\u001b[39;00m:\n\u001b[0;32m-> <a href='file:///Users/danielnguyen/miniforge3/envs/tk-ML/lib/python3.9/site-packages/tensorflow/python/framework/func_graph.py?line=1135'>1136</a>\u001b[0m   \u001b[39mreturn\u001b[39;00m autograph\u001b[39m.\u001b[39;49mconverted_call(\n\u001b[1;32m   <a href='file:///Users/danielnguyen/miniforge3/envs/tk-ML/lib/python3.9/site-packages/tensorflow/python/framework/func_graph.py?line=1136'>1137</a>\u001b[0m       original_func,\n\u001b[1;32m   <a href='file:///Users/danielnguyen/miniforge3/envs/tk-ML/lib/python3.9/site-packages/tensorflow/python/framework/func_graph.py?line=1137'>1138</a>\u001b[0m       args,\n\u001b[1;32m   <a href='file:///Users/danielnguyen/miniforge3/envs/tk-ML/lib/python3.9/site-packages/tensorflow/python/framework/func_graph.py?line=1138'>1139</a>\u001b[0m       kwargs,\n\u001b[1;32m   <a href='file:///Users/danielnguyen/miniforge3/envs/tk-ML/lib/python3.9/site-packages/tensorflow/python/framework/func_graph.py?line=1139'>1140</a>\u001b[0m       options\u001b[39m=\u001b[39;49mautograph\u001b[39m.\u001b[39;49mConversionOptions(\n\u001b[1;32m   <a href='file:///Users/danielnguyen/miniforge3/envs/tk-ML/lib/python3.9/site-packages/tensorflow/python/framework/func_graph.py?line=1140'>1141</a>\u001b[0m           recursive\u001b[39m=\u001b[39;49m\u001b[39mTrue\u001b[39;49;00m,\n\u001b[1;32m   <a href='file:///Users/danielnguyen/miniforge3/envs/tk-ML/lib/python3.9/site-packages/tensorflow/python/framework/func_graph.py?line=1141'>1142</a>\u001b[0m           optional_features\u001b[39m=\u001b[39;49mautograph_options,\n\u001b[1;32m   <a href='file:///Users/danielnguyen/miniforge3/envs/tk-ML/lib/python3.9/site-packages/tensorflow/python/framework/func_graph.py?line=1142'>1143</a>\u001b[0m           user_requested\u001b[39m=\u001b[39;49m\u001b[39mTrue\u001b[39;49;00m,\n\u001b[1;32m   <a href='file:///Users/danielnguyen/miniforge3/envs/tk-ML/lib/python3.9/site-packages/tensorflow/python/framework/func_graph.py?line=1143'>1144</a>\u001b[0m       ))\n\u001b[1;32m   <a href='file:///Users/danielnguyen/miniforge3/envs/tk-ML/lib/python3.9/site-packages/tensorflow/python/framework/func_graph.py?line=1144'>1145</a>\u001b[0m \u001b[39mexcept\u001b[39;00m \u001b[39mException\u001b[39;00m \u001b[39mas\u001b[39;00m e:  \u001b[39m# pylint:disable=broad-except\u001b[39;00m\n\u001b[1;32m   <a href='file:///Users/danielnguyen/miniforge3/envs/tk-ML/lib/python3.9/site-packages/tensorflow/python/framework/func_graph.py?line=1145'>1146</a>\u001b[0m   \u001b[39mif\u001b[39;00m \u001b[39mhasattr\u001b[39m(e, \u001b[39m\"\u001b[39m\u001b[39mag_error_metadata\u001b[39m\u001b[39m\"\u001b[39m):\n",
            "File \u001b[0;32m~/miniforge3/envs/tk-ML/lib/python3.9/site-packages/tensorflow/python/autograph/impl/api.py:439\u001b[0m, in \u001b[0;36mconverted_call\u001b[0;34m(f, args, kwargs, caller_fn_scope, options)\u001b[0m\n\u001b[1;32m    <a href='file:///Users/danielnguyen/miniforge3/envs/tk-ML/lib/python3.9/site-packages/tensorflow/python/autograph/impl/api.py?line=436'>437</a>\u001b[0m \u001b[39mtry\u001b[39;00m:\n\u001b[1;32m    <a href='file:///Users/danielnguyen/miniforge3/envs/tk-ML/lib/python3.9/site-packages/tensorflow/python/autograph/impl/api.py?line=437'>438</a>\u001b[0m   \u001b[39mif\u001b[39;00m kwargs \u001b[39mis\u001b[39;00m \u001b[39mnot\u001b[39;00m \u001b[39mNone\u001b[39;00m:\n\u001b[0;32m--> <a href='file:///Users/danielnguyen/miniforge3/envs/tk-ML/lib/python3.9/site-packages/tensorflow/python/autograph/impl/api.py?line=438'>439</a>\u001b[0m     result \u001b[39m=\u001b[39m converted_f(\u001b[39m*\u001b[39;49meffective_args, \u001b[39m*\u001b[39;49m\u001b[39m*\u001b[39;49mkwargs)\n\u001b[1;32m    <a href='file:///Users/danielnguyen/miniforge3/envs/tk-ML/lib/python3.9/site-packages/tensorflow/python/autograph/impl/api.py?line=439'>440</a>\u001b[0m   \u001b[39melse\u001b[39;00m:\n\u001b[1;32m    <a href='file:///Users/danielnguyen/miniforge3/envs/tk-ML/lib/python3.9/site-packages/tensorflow/python/autograph/impl/api.py?line=440'>441</a>\u001b[0m     result \u001b[39m=\u001b[39m converted_f(\u001b[39m*\u001b[39meffective_args)\n",
            "File \u001b[0;32m/var/folders/vt/09r1h38x3fz6tx9dnyq1869w0000gn/T/__autograph_generated_filebdth5bo0.py:15\u001b[0m, in \u001b[0;36mouter_factory.<locals>.inner_factory.<locals>.tf__train_function\u001b[0;34m(iterator)\u001b[0m\n\u001b[1;32m     <a href='file:///var/folders/vt/09r1h38x3fz6tx9dnyq1869w0000gn/T/__autograph_generated_filebdth5bo0.py?line=12'>13</a>\u001b[0m \u001b[39mtry\u001b[39;00m:\n\u001b[1;32m     <a href='file:///var/folders/vt/09r1h38x3fz6tx9dnyq1869w0000gn/T/__autograph_generated_filebdth5bo0.py?line=13'>14</a>\u001b[0m     do_return \u001b[39m=\u001b[39m \u001b[39mTrue\u001b[39;00m\n\u001b[0;32m---> <a href='file:///var/folders/vt/09r1h38x3fz6tx9dnyq1869w0000gn/T/__autograph_generated_filebdth5bo0.py?line=14'>15</a>\u001b[0m     retval_ \u001b[39m=\u001b[39m ag__\u001b[39m.\u001b[39;49mconverted_call(ag__\u001b[39m.\u001b[39;49mld(step_function), (ag__\u001b[39m.\u001b[39;49mld(\u001b[39mself\u001b[39;49m), ag__\u001b[39m.\u001b[39;49mld(iterator)), \u001b[39mNone\u001b[39;49;00m, fscope)\n\u001b[1;32m     <a href='file:///var/folders/vt/09r1h38x3fz6tx9dnyq1869w0000gn/T/__autograph_generated_filebdth5bo0.py?line=15'>16</a>\u001b[0m \u001b[39mexcept\u001b[39;00m:\n\u001b[1;32m     <a href='file:///var/folders/vt/09r1h38x3fz6tx9dnyq1869w0000gn/T/__autograph_generated_filebdth5bo0.py?line=16'>17</a>\u001b[0m     do_return \u001b[39m=\u001b[39m \u001b[39mFalse\u001b[39;00m\n",
            "File \u001b[0;32m~/miniforge3/envs/tk-ML/lib/python3.9/site-packages/tensorflow/python/autograph/impl/api.py:331\u001b[0m, in \u001b[0;36mconverted_call\u001b[0;34m(f, args, kwargs, caller_fn_scope, options)\u001b[0m\n\u001b[1;32m    <a href='file:///Users/danielnguyen/miniforge3/envs/tk-ML/lib/python3.9/site-packages/tensorflow/python/autograph/impl/api.py?line=328'>329</a>\u001b[0m \u001b[39mif\u001b[39;00m conversion\u001b[39m.\u001b[39mis_in_allowlist_cache(f, options):\n\u001b[1;32m    <a href='file:///Users/danielnguyen/miniforge3/envs/tk-ML/lib/python3.9/site-packages/tensorflow/python/autograph/impl/api.py?line=329'>330</a>\u001b[0m   logging\u001b[39m.\u001b[39mlog(\u001b[39m2\u001b[39m, \u001b[39m'\u001b[39m\u001b[39mAllowlisted \u001b[39m\u001b[39m%s\u001b[39;00m\u001b[39m: from cache\u001b[39m\u001b[39m'\u001b[39m, f)\n\u001b[0;32m--> <a href='file:///Users/danielnguyen/miniforge3/envs/tk-ML/lib/python3.9/site-packages/tensorflow/python/autograph/impl/api.py?line=330'>331</a>\u001b[0m   \u001b[39mreturn\u001b[39;00m _call_unconverted(f, args, kwargs, options, \u001b[39mFalse\u001b[39;49;00m)\n\u001b[1;32m    <a href='file:///Users/danielnguyen/miniforge3/envs/tk-ML/lib/python3.9/site-packages/tensorflow/python/autograph/impl/api.py?line=332'>333</a>\u001b[0m \u001b[39mif\u001b[39;00m ag_ctx\u001b[39m.\u001b[39mcontrol_status_ctx()\u001b[39m.\u001b[39mstatus \u001b[39m==\u001b[39m ag_ctx\u001b[39m.\u001b[39mStatus\u001b[39m.\u001b[39mDISABLED:\n\u001b[1;32m    <a href='file:///Users/danielnguyen/miniforge3/envs/tk-ML/lib/python3.9/site-packages/tensorflow/python/autograph/impl/api.py?line=333'>334</a>\u001b[0m   logging\u001b[39m.\u001b[39mlog(\u001b[39m2\u001b[39m, \u001b[39m'\u001b[39m\u001b[39mAllowlisted: \u001b[39m\u001b[39m%s\u001b[39;00m\u001b[39m: AutoGraph is disabled in context\u001b[39m\u001b[39m'\u001b[39m, f)\n",
            "File \u001b[0;32m~/miniforge3/envs/tk-ML/lib/python3.9/site-packages/tensorflow/python/autograph/impl/api.py:459\u001b[0m, in \u001b[0;36m_call_unconverted\u001b[0;34m(f, args, kwargs, options, update_cache)\u001b[0m\n\u001b[1;32m    <a href='file:///Users/danielnguyen/miniforge3/envs/tk-ML/lib/python3.9/site-packages/tensorflow/python/autograph/impl/api.py?line=456'>457</a>\u001b[0m \u001b[39mif\u001b[39;00m kwargs \u001b[39mis\u001b[39;00m \u001b[39mnot\u001b[39;00m \u001b[39mNone\u001b[39;00m:\n\u001b[1;32m    <a href='file:///Users/danielnguyen/miniforge3/envs/tk-ML/lib/python3.9/site-packages/tensorflow/python/autograph/impl/api.py?line=457'>458</a>\u001b[0m   \u001b[39mreturn\u001b[39;00m f(\u001b[39m*\u001b[39margs, \u001b[39m*\u001b[39m\u001b[39m*\u001b[39mkwargs)\n\u001b[0;32m--> <a href='file:///Users/danielnguyen/miniforge3/envs/tk-ML/lib/python3.9/site-packages/tensorflow/python/autograph/impl/api.py?line=458'>459</a>\u001b[0m \u001b[39mreturn\u001b[39;00m f(\u001b[39m*\u001b[39;49margs)\n",
            "File \u001b[0;32m~/miniforge3/envs/tk-ML/lib/python3.9/site-packages/keras/engine/training.py:1010\u001b[0m, in \u001b[0;36mModel.make_train_function.<locals>.step_function\u001b[0;34m(model, iterator)\u001b[0m\n\u001b[1;32m   <a href='file:///Users/danielnguyen/miniforge3/envs/tk-ML/lib/python3.9/site-packages/keras/engine/training.py?line=1006'>1007</a>\u001b[0m   run_step \u001b[39m=\u001b[39m tf\u001b[39m.\u001b[39mfunction(\n\u001b[1;32m   <a href='file:///Users/danielnguyen/miniforge3/envs/tk-ML/lib/python3.9/site-packages/keras/engine/training.py?line=1007'>1008</a>\u001b[0m       run_step, jit_compile\u001b[39m=\u001b[39m\u001b[39mTrue\u001b[39;00m, experimental_relax_shapes\u001b[39m=\u001b[39m\u001b[39mTrue\u001b[39;00m)\n\u001b[1;32m   <a href='file:///Users/danielnguyen/miniforge3/envs/tk-ML/lib/python3.9/site-packages/keras/engine/training.py?line=1008'>1009</a>\u001b[0m data \u001b[39m=\u001b[39m \u001b[39mnext\u001b[39m(iterator)\n\u001b[0;32m-> <a href='file:///Users/danielnguyen/miniforge3/envs/tk-ML/lib/python3.9/site-packages/keras/engine/training.py?line=1009'>1010</a>\u001b[0m outputs \u001b[39m=\u001b[39m model\u001b[39m.\u001b[39;49mdistribute_strategy\u001b[39m.\u001b[39;49mrun(run_step, args\u001b[39m=\u001b[39;49m(data,))\n\u001b[1;32m   <a href='file:///Users/danielnguyen/miniforge3/envs/tk-ML/lib/python3.9/site-packages/keras/engine/training.py?line=1010'>1011</a>\u001b[0m outputs \u001b[39m=\u001b[39m reduce_per_replica(\n\u001b[1;32m   <a href='file:///Users/danielnguyen/miniforge3/envs/tk-ML/lib/python3.9/site-packages/keras/engine/training.py?line=1011'>1012</a>\u001b[0m     outputs, \u001b[39mself\u001b[39m\u001b[39m.\u001b[39mdistribute_strategy, reduction\u001b[39m=\u001b[39m\u001b[39m'\u001b[39m\u001b[39mfirst\u001b[39m\u001b[39m'\u001b[39m)\n\u001b[1;32m   <a href='file:///Users/danielnguyen/miniforge3/envs/tk-ML/lib/python3.9/site-packages/keras/engine/training.py?line=1012'>1013</a>\u001b[0m \u001b[39mreturn\u001b[39;00m outputs\n",
            "File \u001b[0;32m~/miniforge3/envs/tk-ML/lib/python3.9/site-packages/tensorflow/python/distribute/distribute_lib.py:1312\u001b[0m, in \u001b[0;36mStrategyBase.run\u001b[0;34m(***failed resolving arguments***)\u001b[0m\n\u001b[1;32m   <a href='file:///Users/danielnguyen/miniforge3/envs/tk-ML/lib/python3.9/site-packages/tensorflow/python/distribute/distribute_lib.py?line=1306'>1307</a>\u001b[0m \u001b[39mwith\u001b[39;00m \u001b[39mself\u001b[39m\u001b[39m.\u001b[39mscope():\n\u001b[1;32m   <a href='file:///Users/danielnguyen/miniforge3/envs/tk-ML/lib/python3.9/site-packages/tensorflow/python/distribute/distribute_lib.py?line=1307'>1308</a>\u001b[0m   \u001b[39m# tf.distribute supports Eager functions, so AutoGraph should not be\u001b[39;00m\n\u001b[1;32m   <a href='file:///Users/danielnguyen/miniforge3/envs/tk-ML/lib/python3.9/site-packages/tensorflow/python/distribute/distribute_lib.py?line=1308'>1309</a>\u001b[0m   \u001b[39m# applied when the caller is also in Eager mode.\u001b[39;00m\n\u001b[1;32m   <a href='file:///Users/danielnguyen/miniforge3/envs/tk-ML/lib/python3.9/site-packages/tensorflow/python/distribute/distribute_lib.py?line=1309'>1310</a>\u001b[0m   fn \u001b[39m=\u001b[39m autograph\u001b[39m.\u001b[39mtf_convert(\n\u001b[1;32m   <a href='file:///Users/danielnguyen/miniforge3/envs/tk-ML/lib/python3.9/site-packages/tensorflow/python/distribute/distribute_lib.py?line=1310'>1311</a>\u001b[0m       fn, autograph_ctx\u001b[39m.\u001b[39mcontrol_status_ctx(), convert_by_default\u001b[39m=\u001b[39m\u001b[39mFalse\u001b[39;00m)\n\u001b[0;32m-> <a href='file:///Users/danielnguyen/miniforge3/envs/tk-ML/lib/python3.9/site-packages/tensorflow/python/distribute/distribute_lib.py?line=1311'>1312</a>\u001b[0m   \u001b[39mreturn\u001b[39;00m \u001b[39mself\u001b[39;49m\u001b[39m.\u001b[39;49m_extended\u001b[39m.\u001b[39;49mcall_for_each_replica(fn, args\u001b[39m=\u001b[39;49margs, kwargs\u001b[39m=\u001b[39;49mkwargs)\n",
            "File \u001b[0;32m~/miniforge3/envs/tk-ML/lib/python3.9/site-packages/tensorflow/python/distribute/distribute_lib.py:2888\u001b[0m, in \u001b[0;36mStrategyExtendedV1.call_for_each_replica\u001b[0;34m(self, fn, args, kwargs)\u001b[0m\n\u001b[1;32m   <a href='file:///Users/danielnguyen/miniforge3/envs/tk-ML/lib/python3.9/site-packages/tensorflow/python/distribute/distribute_lib.py?line=2885'>2886</a>\u001b[0m   kwargs \u001b[39m=\u001b[39m {}\n\u001b[1;32m   <a href='file:///Users/danielnguyen/miniforge3/envs/tk-ML/lib/python3.9/site-packages/tensorflow/python/distribute/distribute_lib.py?line=2886'>2887</a>\u001b[0m \u001b[39mwith\u001b[39;00m \u001b[39mself\u001b[39m\u001b[39m.\u001b[39m_container_strategy()\u001b[39m.\u001b[39mscope():\n\u001b[0;32m-> <a href='file:///Users/danielnguyen/miniforge3/envs/tk-ML/lib/python3.9/site-packages/tensorflow/python/distribute/distribute_lib.py?line=2887'>2888</a>\u001b[0m   \u001b[39mreturn\u001b[39;00m \u001b[39mself\u001b[39;49m\u001b[39m.\u001b[39;49m_call_for_each_replica(fn, args, kwargs)\n",
            "File \u001b[0;32m~/miniforge3/envs/tk-ML/lib/python3.9/site-packages/tensorflow/python/distribute/distribute_lib.py:3689\u001b[0m, in \u001b[0;36m_DefaultDistributionExtended._call_for_each_replica\u001b[0;34m(self, fn, args, kwargs)\u001b[0m\n\u001b[1;32m   <a href='file:///Users/danielnguyen/miniforge3/envs/tk-ML/lib/python3.9/site-packages/tensorflow/python/distribute/distribute_lib.py?line=3686'>3687</a>\u001b[0m \u001b[39mdef\u001b[39;00m \u001b[39m_call_for_each_replica\u001b[39m(\u001b[39mself\u001b[39m, fn, args, kwargs):\n\u001b[1;32m   <a href='file:///Users/danielnguyen/miniforge3/envs/tk-ML/lib/python3.9/site-packages/tensorflow/python/distribute/distribute_lib.py?line=3687'>3688</a>\u001b[0m   \u001b[39mwith\u001b[39;00m ReplicaContext(\u001b[39mself\u001b[39m\u001b[39m.\u001b[39m_container_strategy(), replica_id_in_sync_group\u001b[39m=\u001b[39m\u001b[39m0\u001b[39m):\n\u001b[0;32m-> <a href='file:///Users/danielnguyen/miniforge3/envs/tk-ML/lib/python3.9/site-packages/tensorflow/python/distribute/distribute_lib.py?line=3688'>3689</a>\u001b[0m     \u001b[39mreturn\u001b[39;00m fn(\u001b[39m*\u001b[39;49margs, \u001b[39m*\u001b[39;49m\u001b[39m*\u001b[39;49mkwargs)\n",
            "File \u001b[0;32m~/miniforge3/envs/tk-ML/lib/python3.9/site-packages/tensorflow/python/autograph/impl/api.py:689\u001b[0m, in \u001b[0;36mconvert.<locals>.decorator.<locals>.wrapper\u001b[0;34m(*args, **kwargs)\u001b[0m\n\u001b[1;32m    <a href='file:///Users/danielnguyen/miniforge3/envs/tk-ML/lib/python3.9/site-packages/tensorflow/python/autograph/impl/api.py?line=686'>687</a>\u001b[0m \u001b[39mtry\u001b[39;00m:\n\u001b[1;32m    <a href='file:///Users/danielnguyen/miniforge3/envs/tk-ML/lib/python3.9/site-packages/tensorflow/python/autograph/impl/api.py?line=687'>688</a>\u001b[0m   \u001b[39mwith\u001b[39;00m conversion_ctx:\n\u001b[0;32m--> <a href='file:///Users/danielnguyen/miniforge3/envs/tk-ML/lib/python3.9/site-packages/tensorflow/python/autograph/impl/api.py?line=688'>689</a>\u001b[0m     \u001b[39mreturn\u001b[39;00m converted_call(f, args, kwargs, options\u001b[39m=\u001b[39;49moptions)\n\u001b[1;32m    <a href='file:///Users/danielnguyen/miniforge3/envs/tk-ML/lib/python3.9/site-packages/tensorflow/python/autograph/impl/api.py?line=689'>690</a>\u001b[0m \u001b[39mexcept\u001b[39;00m \u001b[39mException\u001b[39;00m \u001b[39mas\u001b[39;00m e:  \u001b[39m# pylint:disable=broad-except\u001b[39;00m\n\u001b[1;32m    <a href='file:///Users/danielnguyen/miniforge3/envs/tk-ML/lib/python3.9/site-packages/tensorflow/python/autograph/impl/api.py?line=690'>691</a>\u001b[0m   \u001b[39mif\u001b[39;00m \u001b[39mhasattr\u001b[39m(e, \u001b[39m'\u001b[39m\u001b[39mag_error_metadata\u001b[39m\u001b[39m'\u001b[39m):\n",
            "File \u001b[0;32m~/miniforge3/envs/tk-ML/lib/python3.9/site-packages/tensorflow/python/autograph/impl/api.py:377\u001b[0m, in \u001b[0;36mconverted_call\u001b[0;34m(f, args, kwargs, caller_fn_scope, options)\u001b[0m\n\u001b[1;32m    <a href='file:///Users/danielnguyen/miniforge3/envs/tk-ML/lib/python3.9/site-packages/tensorflow/python/autograph/impl/api.py?line=373'>374</a>\u001b[0m   \u001b[39mreturn\u001b[39;00m _call_unconverted(f, args, kwargs, options)\n\u001b[1;32m    <a href='file:///Users/danielnguyen/miniforge3/envs/tk-ML/lib/python3.9/site-packages/tensorflow/python/autograph/impl/api.py?line=375'>376</a>\u001b[0m \u001b[39mif\u001b[39;00m \u001b[39mnot\u001b[39;00m options\u001b[39m.\u001b[39muser_requested \u001b[39mand\u001b[39;00m conversion\u001b[39m.\u001b[39mis_allowlisted(f):\n\u001b[0;32m--> <a href='file:///Users/danielnguyen/miniforge3/envs/tk-ML/lib/python3.9/site-packages/tensorflow/python/autograph/impl/api.py?line=376'>377</a>\u001b[0m   \u001b[39mreturn\u001b[39;00m _call_unconverted(f, args, kwargs, options)\n\u001b[1;32m    <a href='file:///Users/danielnguyen/miniforge3/envs/tk-ML/lib/python3.9/site-packages/tensorflow/python/autograph/impl/api.py?line=378'>379</a>\u001b[0m \u001b[39m# internal_convert_user_code is for example turned off when issuing a dynamic\u001b[39;00m\n\u001b[1;32m    <a href='file:///Users/danielnguyen/miniforge3/envs/tk-ML/lib/python3.9/site-packages/tensorflow/python/autograph/impl/api.py?line=379'>380</a>\u001b[0m \u001b[39m# call conversion from generated code while in nonrecursive mode. In that\u001b[39;00m\n\u001b[1;32m    <a href='file:///Users/danielnguyen/miniforge3/envs/tk-ML/lib/python3.9/site-packages/tensorflow/python/autograph/impl/api.py?line=380'>381</a>\u001b[0m \u001b[39m# case we evidently don't want to recurse, but we still have to convert\u001b[39;00m\n\u001b[1;32m    <a href='file:///Users/danielnguyen/miniforge3/envs/tk-ML/lib/python3.9/site-packages/tensorflow/python/autograph/impl/api.py?line=381'>382</a>\u001b[0m \u001b[39m# things like builtins.\u001b[39;00m\n\u001b[1;32m    <a href='file:///Users/danielnguyen/miniforge3/envs/tk-ML/lib/python3.9/site-packages/tensorflow/python/autograph/impl/api.py?line=382'>383</a>\u001b[0m \u001b[39mif\u001b[39;00m \u001b[39mnot\u001b[39;00m options\u001b[39m.\u001b[39minternal_convert_user_code:\n",
            "File \u001b[0;32m~/miniforge3/envs/tk-ML/lib/python3.9/site-packages/tensorflow/python/autograph/impl/api.py:458\u001b[0m, in \u001b[0;36m_call_unconverted\u001b[0;34m(f, args, kwargs, options, update_cache)\u001b[0m\n\u001b[1;32m    <a href='file:///Users/danielnguyen/miniforge3/envs/tk-ML/lib/python3.9/site-packages/tensorflow/python/autograph/impl/api.py?line=454'>455</a>\u001b[0m   \u001b[39mreturn\u001b[39;00m f\u001b[39m.\u001b[39m\u001b[39m__self__\u001b[39m\u001b[39m.\u001b[39mcall(args, kwargs)\n\u001b[1;32m    <a href='file:///Users/danielnguyen/miniforge3/envs/tk-ML/lib/python3.9/site-packages/tensorflow/python/autograph/impl/api.py?line=456'>457</a>\u001b[0m \u001b[39mif\u001b[39;00m kwargs \u001b[39mis\u001b[39;00m \u001b[39mnot\u001b[39;00m \u001b[39mNone\u001b[39;00m:\n\u001b[0;32m--> <a href='file:///Users/danielnguyen/miniforge3/envs/tk-ML/lib/python3.9/site-packages/tensorflow/python/autograph/impl/api.py?line=457'>458</a>\u001b[0m   \u001b[39mreturn\u001b[39;00m f(\u001b[39m*\u001b[39;49margs, \u001b[39m*\u001b[39;49m\u001b[39m*\u001b[39;49mkwargs)\n\u001b[1;32m    <a href='file:///Users/danielnguyen/miniforge3/envs/tk-ML/lib/python3.9/site-packages/tensorflow/python/autograph/impl/api.py?line=458'>459</a>\u001b[0m \u001b[39mreturn\u001b[39;00m f(\u001b[39m*\u001b[39margs)\n",
            "File \u001b[0;32m~/miniforge3/envs/tk-ML/lib/python3.9/site-packages/keras/engine/training.py:1000\u001b[0m, in \u001b[0;36mModel.make_train_function.<locals>.step_function.<locals>.run_step\u001b[0;34m(data)\u001b[0m\n\u001b[1;32m    <a href='file:///Users/danielnguyen/miniforge3/envs/tk-ML/lib/python3.9/site-packages/keras/engine/training.py?line=998'>999</a>\u001b[0m \u001b[39mdef\u001b[39;00m \u001b[39mrun_step\u001b[39m(data):\n\u001b[0;32m-> <a href='file:///Users/danielnguyen/miniforge3/envs/tk-ML/lib/python3.9/site-packages/keras/engine/training.py?line=999'>1000</a>\u001b[0m   outputs \u001b[39m=\u001b[39m model\u001b[39m.\u001b[39;49mtrain_step(data)\n\u001b[1;32m   <a href='file:///Users/danielnguyen/miniforge3/envs/tk-ML/lib/python3.9/site-packages/keras/engine/training.py?line=1000'>1001</a>\u001b[0m   \u001b[39m# Ensure counter is updated only if `train_step` succeeds.\u001b[39;00m\n\u001b[1;32m   <a href='file:///Users/danielnguyen/miniforge3/envs/tk-ML/lib/python3.9/site-packages/keras/engine/training.py?line=1001'>1002</a>\u001b[0m   \u001b[39mwith\u001b[39;00m tf\u001b[39m.\u001b[39mcontrol_dependencies(_minimum_control_deps(outputs)):\n",
            "File \u001b[0;32m~/miniforge3/envs/tk-ML/lib/python3.9/site-packages/keras/engine/training.py:860\u001b[0m, in \u001b[0;36mModel.train_step\u001b[0;34m(self, data)\u001b[0m\n\u001b[1;32m    <a href='file:///Users/danielnguyen/miniforge3/envs/tk-ML/lib/python3.9/site-packages/keras/engine/training.py?line=857'>858</a>\u001b[0m \u001b[39mwith\u001b[39;00m tf\u001b[39m.\u001b[39mGradientTape() \u001b[39mas\u001b[39;00m tape:\n\u001b[1;32m    <a href='file:///Users/danielnguyen/miniforge3/envs/tk-ML/lib/python3.9/site-packages/keras/engine/training.py?line=858'>859</a>\u001b[0m   y_pred \u001b[39m=\u001b[39m \u001b[39mself\u001b[39m(x, training\u001b[39m=\u001b[39m\u001b[39mTrue\u001b[39;00m)\n\u001b[0;32m--> <a href='file:///Users/danielnguyen/miniforge3/envs/tk-ML/lib/python3.9/site-packages/keras/engine/training.py?line=859'>860</a>\u001b[0m   loss \u001b[39m=\u001b[39m \u001b[39mself\u001b[39;49m\u001b[39m.\u001b[39;49mcompute_loss(x, y, y_pred, sample_weight)\n\u001b[1;32m    <a href='file:///Users/danielnguyen/miniforge3/envs/tk-ML/lib/python3.9/site-packages/keras/engine/training.py?line=860'>861</a>\u001b[0m \u001b[39mself\u001b[39m\u001b[39m.\u001b[39m_validate_target_and_loss(y, loss)\n\u001b[1;32m    <a href='file:///Users/danielnguyen/miniforge3/envs/tk-ML/lib/python3.9/site-packages/keras/engine/training.py?line=861'>862</a>\u001b[0m \u001b[39m# Run backwards pass.\u001b[39;00m\n",
            "File \u001b[0;32m~/miniforge3/envs/tk-ML/lib/python3.9/site-packages/keras/engine/training.py:919\u001b[0m, in \u001b[0;36mModel.compute_loss\u001b[0;34m(***failed resolving arguments***)\u001b[0m\n\u001b[1;32m    <a href='file:///Users/danielnguyen/miniforge3/envs/tk-ML/lib/python3.9/site-packages/keras/engine/training.py?line=866'>867</a>\u001b[0m \u001b[39m\"\"\"Compute the total loss, validate it, and return it.\u001b[39;00m\n\u001b[1;32m    <a href='file:///Users/danielnguyen/miniforge3/envs/tk-ML/lib/python3.9/site-packages/keras/engine/training.py?line=867'>868</a>\u001b[0m \n\u001b[1;32m    <a href='file:///Users/danielnguyen/miniforge3/envs/tk-ML/lib/python3.9/site-packages/keras/engine/training.py?line=868'>869</a>\u001b[0m \u001b[39mSubclasses can optionally override this method to provide custom loss\u001b[39;00m\n\u001b[0;32m   (...)\u001b[0m\n\u001b[1;32m    <a href='file:///Users/danielnguyen/miniforge3/envs/tk-ML/lib/python3.9/site-packages/keras/engine/training.py?line=914'>915</a>\u001b[0m \u001b[39m  the case when called by `Model.test_step`).\u001b[39;00m\n\u001b[1;32m    <a href='file:///Users/danielnguyen/miniforge3/envs/tk-ML/lib/python3.9/site-packages/keras/engine/training.py?line=915'>916</a>\u001b[0m \u001b[39m\"\"\"\u001b[39;00m\n\u001b[1;32m    <a href='file:///Users/danielnguyen/miniforge3/envs/tk-ML/lib/python3.9/site-packages/keras/engine/training.py?line=916'>917</a>\u001b[0m \u001b[39mdel\u001b[39;00m x  \u001b[39m# The default implementation does not use `x`.\u001b[39;00m\n\u001b[1;32m    <a href='file:///Users/danielnguyen/miniforge3/envs/tk-ML/lib/python3.9/site-packages/keras/engine/training.py?line=917'>918</a>\u001b[0m \u001b[39mreturn\u001b[39;00m \u001b[39mself\u001b[39m\u001b[39m.\u001b[39mcompiled_loss(\n\u001b[0;32m--> <a href='file:///Users/danielnguyen/miniforge3/envs/tk-ML/lib/python3.9/site-packages/keras/engine/training.py?line=918'>919</a>\u001b[0m     y, y_pred, sample_weight, regularization_losses\u001b[39m=\u001b[39m\u001b[39mself\u001b[39;49m\u001b[39m.\u001b[39;49mlosses)\n",
            "File \u001b[0;32m~/miniforge3/envs/tk-ML/lib/python3.9/site-packages/keras/engine/base_layer.py:1472\u001b[0m, in \u001b[0;36mLayer.losses\u001b[0;34m(self)\u001b[0m\n\u001b[1;32m   <a href='file:///Users/danielnguyen/miniforge3/envs/tk-ML/lib/python3.9/site-packages/keras/engine/base_layer.py?line=1469'>1470</a>\u001b[0m   collected_losses\u001b[39m.\u001b[39mextend(layer\u001b[39m.\u001b[39m_losses)\n\u001b[1;32m   <a href='file:///Users/danielnguyen/miniforge3/envs/tk-ML/lib/python3.9/site-packages/keras/engine/base_layer.py?line=1470'>1471</a>\u001b[0m \u001b[39mfor\u001b[39;00m regularizer \u001b[39min\u001b[39;00m layer\u001b[39m.\u001b[39m_callable_losses:\n\u001b[0;32m-> <a href='file:///Users/danielnguyen/miniforge3/envs/tk-ML/lib/python3.9/site-packages/keras/engine/base_layer.py?line=1471'>1472</a>\u001b[0m   loss_tensor \u001b[39m=\u001b[39m regularizer()\n\u001b[1;32m   <a href='file:///Users/danielnguyen/miniforge3/envs/tk-ML/lib/python3.9/site-packages/keras/engine/base_layer.py?line=1472'>1473</a>\u001b[0m   \u001b[39mif\u001b[39;00m loss_tensor \u001b[39mis\u001b[39;00m \u001b[39mnot\u001b[39;00m \u001b[39mNone\u001b[39;00m:\n\u001b[1;32m   <a href='file:///Users/danielnguyen/miniforge3/envs/tk-ML/lib/python3.9/site-packages/keras/engine/base_layer.py?line=1473'>1474</a>\u001b[0m     collected_losses\u001b[39m.\u001b[39mappend(loss_tensor)\n",
            "File \u001b[0;32m~/miniforge3/envs/tk-ML/lib/python3.9/site-packages/keras/engine/base_layer.py:1548\u001b[0m, in \u001b[0;36mLayer.add_loss.<locals>._tag_callable\u001b[0;34m(loss)\u001b[0m\n\u001b[1;32m   <a href='file:///Users/danielnguyen/miniforge3/envs/tk-ML/lib/python3.9/site-packages/keras/engine/base_layer.py?line=1543'>1544</a>\u001b[0m \u001b[39mif\u001b[39;00m callable(loss):\n\u001b[1;32m   <a href='file:///Users/danielnguyen/miniforge3/envs/tk-ML/lib/python3.9/site-packages/keras/engine/base_layer.py?line=1544'>1545</a>\u001b[0m   \u001b[39m# We run the loss without autocasting, as regularizers are often\u001b[39;00m\n\u001b[1;32m   <a href='file:///Users/danielnguyen/miniforge3/envs/tk-ML/lib/python3.9/site-packages/keras/engine/base_layer.py?line=1545'>1546</a>\u001b[0m   \u001b[39m# numerically unstable in float16.\u001b[39;00m\n\u001b[1;32m   <a href='file:///Users/danielnguyen/miniforge3/envs/tk-ML/lib/python3.9/site-packages/keras/engine/base_layer.py?line=1546'>1547</a>\u001b[0m   \u001b[39mwith\u001b[39;00m autocast_variable\u001b[39m.\u001b[39menable_auto_cast_variables(\u001b[39mNone\u001b[39;00m):\n\u001b[0;32m-> <a href='file:///Users/danielnguyen/miniforge3/envs/tk-ML/lib/python3.9/site-packages/keras/engine/base_layer.py?line=1547'>1548</a>\u001b[0m     loss \u001b[39m=\u001b[39m loss()\n\u001b[1;32m   <a href='file:///Users/danielnguyen/miniforge3/envs/tk-ML/lib/python3.9/site-packages/keras/engine/base_layer.py?line=1548'>1549</a>\u001b[0m \u001b[39mif\u001b[39;00m loss \u001b[39mis\u001b[39;00m \u001b[39mNone\u001b[39;00m:\n\u001b[1;32m   <a href='file:///Users/danielnguyen/miniforge3/envs/tk-ML/lib/python3.9/site-packages/keras/engine/base_layer.py?line=1549'>1550</a>\u001b[0m   \u001b[39mreturn\u001b[39;00m \u001b[39mNone\u001b[39;00m  \u001b[39m# Will be filtered out when computing the .losses property\u001b[39;00m\n",
            "File \u001b[0;32m~/miniforge3/envs/tk-ML/lib/python3.9/site-packages/keras/engine/base_layer.py:2532\u001b[0m, in \u001b[0;36mLayer._handle_weight_regularization.<locals>._loss_for_variable\u001b[0;34m(v)\u001b[0m\n\u001b[1;32m   <a href='file:///Users/danielnguyen/miniforge3/envs/tk-ML/lib/python3.9/site-packages/keras/engine/base_layer.py?line=2529'>2530</a>\u001b[0m \u001b[39m\"\"\"Creates a regularization loss `Tensor` for variable `v`.\"\"\"\u001b[39;00m\n\u001b[1;32m   <a href='file:///Users/danielnguyen/miniforge3/envs/tk-ML/lib/python3.9/site-packages/keras/engine/base_layer.py?line=2530'>2531</a>\u001b[0m \u001b[39mwith\u001b[39;00m backend\u001b[39m.\u001b[39mname_scope(name \u001b[39m+\u001b[39m \u001b[39m'\u001b[39m\u001b[39m/Regularizer\u001b[39m\u001b[39m'\u001b[39m):\n\u001b[0;32m-> <a href='file:///Users/danielnguyen/miniforge3/envs/tk-ML/lib/python3.9/site-packages/keras/engine/base_layer.py?line=2531'>2532</a>\u001b[0m   regularization \u001b[39m=\u001b[39m regularizer(v)\n\u001b[1;32m   <a href='file:///Users/danielnguyen/miniforge3/envs/tk-ML/lib/python3.9/site-packages/keras/engine/base_layer.py?line=2532'>2533</a>\u001b[0m \u001b[39mreturn\u001b[39;00m regularization\n",
            "File \u001b[0;32m~/miniforge3/envs/tk-ML/lib/python3.9/site-packages/keras/regularizers.py:317\u001b[0m, in \u001b[0;36mL2.__call__\u001b[0;34m(self, x)\u001b[0m\n\u001b[1;32m    <a href='file:///Users/danielnguyen/miniforge3/envs/tk-ML/lib/python3.9/site-packages/keras/regularizers.py?line=315'>316</a>\u001b[0m \u001b[39mdef\u001b[39;00m \u001b[39m__call__\u001b[39m(\u001b[39mself\u001b[39m, x):\n\u001b[0;32m--> <a href='file:///Users/danielnguyen/miniforge3/envs/tk-ML/lib/python3.9/site-packages/keras/regularizers.py?line=316'>317</a>\u001b[0m   \u001b[39mreturn\u001b[39;00m \u001b[39mself\u001b[39m\u001b[39m.\u001b[39ml2 \u001b[39m*\u001b[39m tf\u001b[39m.\u001b[39;49mreduce_sum(tf\u001b[39m.\u001b[39;49msquare(x))\n",
            "File \u001b[0;32m~/miniforge3/envs/tk-ML/lib/python3.9/site-packages/tensorflow/python/util/traceback_utils.py:150\u001b[0m, in \u001b[0;36mfilter_traceback.<locals>.error_handler\u001b[0;34m(*args, **kwargs)\u001b[0m\n\u001b[1;32m    <a href='file:///Users/danielnguyen/miniforge3/envs/tk-ML/lib/python3.9/site-packages/tensorflow/python/util/traceback_utils.py?line=147'>148</a>\u001b[0m filtered_tb \u001b[39m=\u001b[39m \u001b[39mNone\u001b[39;00m\n\u001b[1;32m    <a href='file:///Users/danielnguyen/miniforge3/envs/tk-ML/lib/python3.9/site-packages/tensorflow/python/util/traceback_utils.py?line=148'>149</a>\u001b[0m \u001b[39mtry\u001b[39;00m:\n\u001b[0;32m--> <a href='file:///Users/danielnguyen/miniforge3/envs/tk-ML/lib/python3.9/site-packages/tensorflow/python/util/traceback_utils.py?line=149'>150</a>\u001b[0m   \u001b[39mreturn\u001b[39;00m fn(\u001b[39m*\u001b[39;49margs, \u001b[39m*\u001b[39;49m\u001b[39m*\u001b[39;49mkwargs)\n\u001b[1;32m    <a href='file:///Users/danielnguyen/miniforge3/envs/tk-ML/lib/python3.9/site-packages/tensorflow/python/util/traceback_utils.py?line=150'>151</a>\u001b[0m \u001b[39mexcept\u001b[39;00m \u001b[39mException\u001b[39;00m \u001b[39mas\u001b[39;00m e:\n\u001b[1;32m    <a href='file:///Users/danielnguyen/miniforge3/envs/tk-ML/lib/python3.9/site-packages/tensorflow/python/util/traceback_utils.py?line=151'>152</a>\u001b[0m   filtered_tb \u001b[39m=\u001b[39m _process_traceback_frames(e\u001b[39m.\u001b[39m__traceback__)\n",
            "File \u001b[0;32m~/miniforge3/envs/tk-ML/lib/python3.9/site-packages/tensorflow/python/util/dispatch.py:1082\u001b[0m, in \u001b[0;36madd_dispatch_support.<locals>.decorator.<locals>.op_dispatch_handler\u001b[0;34m(*args, **kwargs)\u001b[0m\n\u001b[1;32m   <a href='file:///Users/danielnguyen/miniforge3/envs/tk-ML/lib/python3.9/site-packages/tensorflow/python/util/dispatch.py?line=1079'>1080</a>\u001b[0m \u001b[39m# Fallback dispatch system (dispatch v1):\u001b[39;00m\n\u001b[1;32m   <a href='file:///Users/danielnguyen/miniforge3/envs/tk-ML/lib/python3.9/site-packages/tensorflow/python/util/dispatch.py?line=1080'>1081</a>\u001b[0m \u001b[39mtry\u001b[39;00m:\n\u001b[0;32m-> <a href='file:///Users/danielnguyen/miniforge3/envs/tk-ML/lib/python3.9/site-packages/tensorflow/python/util/dispatch.py?line=1081'>1082</a>\u001b[0m   \u001b[39mreturn\u001b[39;00m dispatch_target(\u001b[39m*\u001b[39;49margs, \u001b[39m*\u001b[39;49m\u001b[39m*\u001b[39;49mkwargs)\n\u001b[1;32m   <a href='file:///Users/danielnguyen/miniforge3/envs/tk-ML/lib/python3.9/site-packages/tensorflow/python/util/dispatch.py?line=1082'>1083</a>\u001b[0m \u001b[39mexcept\u001b[39;00m (\u001b[39mTypeError\u001b[39;00m, \u001b[39mValueError\u001b[39;00m):\n\u001b[1;32m   <a href='file:///Users/danielnguyen/miniforge3/envs/tk-ML/lib/python3.9/site-packages/tensorflow/python/util/dispatch.py?line=1083'>1084</a>\u001b[0m   \u001b[39m# Note: convert_to_eager_tensor currently raises a ValueError, not a\u001b[39;00m\n\u001b[1;32m   <a href='file:///Users/danielnguyen/miniforge3/envs/tk-ML/lib/python3.9/site-packages/tensorflow/python/util/dispatch.py?line=1084'>1085</a>\u001b[0m   \u001b[39m# TypeError, when given unexpected types.  So we need to catch both.\u001b[39;00m\n\u001b[1;32m   <a href='file:///Users/danielnguyen/miniforge3/envs/tk-ML/lib/python3.9/site-packages/tensorflow/python/util/dispatch.py?line=1085'>1086</a>\u001b[0m   result \u001b[39m=\u001b[39m dispatch(op_dispatch_handler, args, kwargs)\n",
            "File \u001b[0;32m~/miniforge3/envs/tk-ML/lib/python3.9/site-packages/tensorflow/python/ops/math_ops.py:2312\u001b[0m, in \u001b[0;36mreduce_sum\u001b[0;34m(input_tensor, axis, keepdims, name)\u001b[0m\n\u001b[1;32m   <a href='file:///Users/danielnguyen/miniforge3/envs/tk-ML/lib/python3.9/site-packages/tensorflow/python/ops/math_ops.py?line=2247'>2248</a>\u001b[0m \u001b[39m@tf_export\u001b[39m(\u001b[39m\"\u001b[39m\u001b[39mmath.reduce_sum\u001b[39m\u001b[39m\"\u001b[39m, \u001b[39m\"\u001b[39m\u001b[39mreduce_sum\u001b[39m\u001b[39m\"\u001b[39m, v1\u001b[39m=\u001b[39m[])\n\u001b[1;32m   <a href='file:///Users/danielnguyen/miniforge3/envs/tk-ML/lib/python3.9/site-packages/tensorflow/python/ops/math_ops.py?line=2248'>2249</a>\u001b[0m \u001b[39m@dispatch\u001b[39m\u001b[39m.\u001b[39madd_dispatch_support\n\u001b[1;32m   <a href='file:///Users/danielnguyen/miniforge3/envs/tk-ML/lib/python3.9/site-packages/tensorflow/python/ops/math_ops.py?line=2249'>2250</a>\u001b[0m \u001b[39mdef\u001b[39;00m \u001b[39mreduce_sum\u001b[39m(input_tensor, axis\u001b[39m=\u001b[39m\u001b[39mNone\u001b[39;00m, keepdims\u001b[39m=\u001b[39m\u001b[39mFalse\u001b[39;00m, name\u001b[39m=\u001b[39m\u001b[39mNone\u001b[39;00m):\n\u001b[1;32m   <a href='file:///Users/danielnguyen/miniforge3/envs/tk-ML/lib/python3.9/site-packages/tensorflow/python/ops/math_ops.py?line=2250'>2251</a>\u001b[0m   \u001b[39m\"\"\"Computes the sum of elements across dimensions of a tensor.\u001b[39;00m\n\u001b[1;32m   <a href='file:///Users/danielnguyen/miniforge3/envs/tk-ML/lib/python3.9/site-packages/tensorflow/python/ops/math_ops.py?line=2251'>2252</a>\u001b[0m \n\u001b[1;32m   <a href='file:///Users/danielnguyen/miniforge3/envs/tk-ML/lib/python3.9/site-packages/tensorflow/python/ops/math_ops.py?line=2252'>2253</a>\u001b[0m \u001b[39m  This is the reduction operation for the elementwise `tf.math.add` op.\u001b[39;00m\n\u001b[0;32m   (...)\u001b[0m\n\u001b[1;32m   <a href='file:///Users/danielnguyen/miniforge3/envs/tk-ML/lib/python3.9/site-packages/tensorflow/python/ops/math_ops.py?line=2307'>2308</a>\u001b[0m \u001b[39m  @end_compatibility\u001b[39;00m\n\u001b[1;32m   <a href='file:///Users/danielnguyen/miniforge3/envs/tk-ML/lib/python3.9/site-packages/tensorflow/python/ops/math_ops.py?line=2308'>2309</a>\u001b[0m \u001b[39m  \"\"\"\u001b[39;00m\n\u001b[1;32m   <a href='file:///Users/danielnguyen/miniforge3/envs/tk-ML/lib/python3.9/site-packages/tensorflow/python/ops/math_ops.py?line=2310'>2311</a>\u001b[0m   \u001b[39mreturn\u001b[39;00m reduce_sum_with_dims(input_tensor, axis, keepdims, name,\n\u001b[0;32m-> <a href='file:///Users/danielnguyen/miniforge3/envs/tk-ML/lib/python3.9/site-packages/tensorflow/python/ops/math_ops.py?line=2311'>2312</a>\u001b[0m                               _ReductionDims(input_tensor, axis))\n",
            "File \u001b[0;32m~/miniforge3/envs/tk-ML/lib/python3.9/site-packages/tensorflow/python/ops/math_ops.py:2149\u001b[0m, in \u001b[0;36m_ReductionDims\u001b[0;34m(x, axis)\u001b[0m\n\u001b[1;32m   <a href='file:///Users/danielnguyen/miniforge3/envs/tk-ML/lib/python3.9/site-packages/tensorflow/python/ops/math_ops.py?line=2146'>2147</a>\u001b[0m \u001b[39m# Fast path: avoid creating Rank and Range ops if ndims is known.\u001b[39;00m\n\u001b[1;32m   <a href='file:///Users/danielnguyen/miniforge3/envs/tk-ML/lib/python3.9/site-packages/tensorflow/python/ops/math_ops.py?line=2147'>2148</a>\u001b[0m \u001b[39mif\u001b[39;00m x_rank:\n\u001b[0;32m-> <a href='file:///Users/danielnguyen/miniforge3/envs/tk-ML/lib/python3.9/site-packages/tensorflow/python/ops/math_ops.py?line=2148'>2149</a>\u001b[0m   \u001b[39mreturn\u001b[39;00m constant_op\u001b[39m.\u001b[39;49mconstant(np\u001b[39m.\u001b[39;49marange(x_rank, dtype\u001b[39m=\u001b[39;49mnp\u001b[39m.\u001b[39;49mint32))\n\u001b[1;32m   <a href='file:///Users/danielnguyen/miniforge3/envs/tk-ML/lib/python3.9/site-packages/tensorflow/python/ops/math_ops.py?line=2149'>2150</a>\u001b[0m \u001b[39melse\u001b[39;00m:\n\u001b[1;32m   <a href='file:///Users/danielnguyen/miniforge3/envs/tk-ML/lib/python3.9/site-packages/tensorflow/python/ops/math_ops.py?line=2150'>2151</a>\u001b[0m   \u001b[39m# Otherwise, we rely on Range and Rank to do the right thing at run-time.\u001b[39;00m\n\u001b[1;32m   <a href='file:///Users/danielnguyen/miniforge3/envs/tk-ML/lib/python3.9/site-packages/tensorflow/python/ops/math_ops.py?line=2151'>2152</a>\u001b[0m   \u001b[39mreturn\u001b[39;00m \u001b[39mrange\u001b[39m(\u001b[39m0\u001b[39m, array_ops\u001b[39m.\u001b[39mrank(x))\n",
            "File \u001b[0;32m~/miniforge3/envs/tk-ML/lib/python3.9/site-packages/tensorflow/python/framework/constant_op.py:267\u001b[0m, in \u001b[0;36mconstant\u001b[0;34m(value, dtype, shape, name)\u001b[0m\n\u001b[1;32m    <a href='file:///Users/danielnguyen/miniforge3/envs/tk-ML/lib/python3.9/site-packages/tensorflow/python/framework/constant_op.py?line=169'>170</a>\u001b[0m \u001b[39m@tf_export\u001b[39m(\u001b[39m\"\u001b[39m\u001b[39mconstant\u001b[39m\u001b[39m\"\u001b[39m, v1\u001b[39m=\u001b[39m[])\n\u001b[1;32m    <a href='file:///Users/danielnguyen/miniforge3/envs/tk-ML/lib/python3.9/site-packages/tensorflow/python/framework/constant_op.py?line=170'>171</a>\u001b[0m \u001b[39mdef\u001b[39;00m \u001b[39mconstant\u001b[39m(value, dtype\u001b[39m=\u001b[39m\u001b[39mNone\u001b[39;00m, shape\u001b[39m=\u001b[39m\u001b[39mNone\u001b[39;00m, name\u001b[39m=\u001b[39m\u001b[39m\"\u001b[39m\u001b[39mConst\u001b[39m\u001b[39m\"\u001b[39m):\n\u001b[1;32m    <a href='file:///Users/danielnguyen/miniforge3/envs/tk-ML/lib/python3.9/site-packages/tensorflow/python/framework/constant_op.py?line=171'>172</a>\u001b[0m   \u001b[39m\"\"\"Creates a constant tensor from a tensor-like object.\u001b[39;00m\n\u001b[1;32m    <a href='file:///Users/danielnguyen/miniforge3/envs/tk-ML/lib/python3.9/site-packages/tensorflow/python/framework/constant_op.py?line=172'>173</a>\u001b[0m \n\u001b[1;32m    <a href='file:///Users/danielnguyen/miniforge3/envs/tk-ML/lib/python3.9/site-packages/tensorflow/python/framework/constant_op.py?line=173'>174</a>\u001b[0m \u001b[39m  Note: All eager `tf.Tensor` values are immutable (in contrast to\u001b[39;00m\n\u001b[0;32m   (...)\u001b[0m\n\u001b[1;32m    <a href='file:///Users/danielnguyen/miniforge3/envs/tk-ML/lib/python3.9/site-packages/tensorflow/python/framework/constant_op.py?line=264'>265</a>\u001b[0m \u001b[39m    ValueError: if called on a symbolic tensor.\u001b[39;00m\n\u001b[1;32m    <a href='file:///Users/danielnguyen/miniforge3/envs/tk-ML/lib/python3.9/site-packages/tensorflow/python/framework/constant_op.py?line=265'>266</a>\u001b[0m \u001b[39m  \"\"\"\u001b[39;00m\n\u001b[0;32m--> <a href='file:///Users/danielnguyen/miniforge3/envs/tk-ML/lib/python3.9/site-packages/tensorflow/python/framework/constant_op.py?line=266'>267</a>\u001b[0m   \u001b[39mreturn\u001b[39;00m _constant_impl(value, dtype, shape, name, verify_shape\u001b[39m=\u001b[39;49m\u001b[39mFalse\u001b[39;49;00m,\n\u001b[1;32m    <a href='file:///Users/danielnguyen/miniforge3/envs/tk-ML/lib/python3.9/site-packages/tensorflow/python/framework/constant_op.py?line=267'>268</a>\u001b[0m                         allow_broadcast\u001b[39m=\u001b[39;49m\u001b[39mTrue\u001b[39;49;00m)\n",
            "File \u001b[0;32m~/miniforge3/envs/tk-ML/lib/python3.9/site-packages/tensorflow/python/framework/constant_op.py:289\u001b[0m, in \u001b[0;36m_constant_impl\u001b[0;34m(value, dtype, shape, name, verify_shape, allow_broadcast)\u001b[0m\n\u001b[1;32m    <a href='file:///Users/danielnguyen/miniforge3/envs/tk-ML/lib/python3.9/site-packages/tensorflow/python/framework/constant_op.py?line=286'>287</a>\u001b[0m dtype_value \u001b[39m=\u001b[39m attr_value_pb2\u001b[39m.\u001b[39mAttrValue(\u001b[39mtype\u001b[39m\u001b[39m=\u001b[39mtensor_value\u001b[39m.\u001b[39mtensor\u001b[39m.\u001b[39mdtype)\n\u001b[1;32m    <a href='file:///Users/danielnguyen/miniforge3/envs/tk-ML/lib/python3.9/site-packages/tensorflow/python/framework/constant_op.py?line=287'>288</a>\u001b[0m attrs \u001b[39m=\u001b[39m {\u001b[39m\"\u001b[39m\u001b[39mvalue\u001b[39m\u001b[39m\"\u001b[39m: tensor_value, \u001b[39m\"\u001b[39m\u001b[39mdtype\u001b[39m\u001b[39m\"\u001b[39m: dtype_value}\n\u001b[0;32m--> <a href='file:///Users/danielnguyen/miniforge3/envs/tk-ML/lib/python3.9/site-packages/tensorflow/python/framework/constant_op.py?line=288'>289</a>\u001b[0m const_tensor \u001b[39m=\u001b[39m g\u001b[39m.\u001b[39;49m_create_op_internal(  \u001b[39m# pylint: disable=protected-access\u001b[39;49;00m\n\u001b[1;32m    <a href='file:///Users/danielnguyen/miniforge3/envs/tk-ML/lib/python3.9/site-packages/tensorflow/python/framework/constant_op.py?line=289'>290</a>\u001b[0m     \u001b[39m\"\u001b[39;49m\u001b[39mConst\u001b[39;49m\u001b[39m\"\u001b[39;49m, [], [dtype_value\u001b[39m.\u001b[39;49mtype], attrs\u001b[39m=\u001b[39;49mattrs, name\u001b[39m=\u001b[39;49mname)\u001b[39m.\u001b[39moutputs[\u001b[39m0\u001b[39m]\n\u001b[1;32m    <a href='file:///Users/danielnguyen/miniforge3/envs/tk-ML/lib/python3.9/site-packages/tensorflow/python/framework/constant_op.py?line=291'>292</a>\u001b[0m \u001b[39mif\u001b[39;00m op_callbacks\u001b[39m.\u001b[39mshould_invoke_op_callbacks():\n\u001b[1;32m    <a href='file:///Users/danielnguyen/miniforge3/envs/tk-ML/lib/python3.9/site-packages/tensorflow/python/framework/constant_op.py?line=292'>293</a>\u001b[0m   \u001b[39m# TODO(b/147670703): Once the special-op creation code paths\u001b[39;00m\n\u001b[1;32m    <a href='file:///Users/danielnguyen/miniforge3/envs/tk-ML/lib/python3.9/site-packages/tensorflow/python/framework/constant_op.py?line=293'>294</a>\u001b[0m   \u001b[39m# are unified. Remove this `if` block.\u001b[39;00m\n\u001b[1;32m    <a href='file:///Users/danielnguyen/miniforge3/envs/tk-ML/lib/python3.9/site-packages/tensorflow/python/framework/constant_op.py?line=294'>295</a>\u001b[0m   callback_outputs \u001b[39m=\u001b[39m op_callbacks\u001b[39m.\u001b[39minvoke_op_callbacks(\n\u001b[1;32m    <a href='file:///Users/danielnguyen/miniforge3/envs/tk-ML/lib/python3.9/site-packages/tensorflow/python/framework/constant_op.py?line=295'>296</a>\u001b[0m       \u001b[39m\"\u001b[39m\u001b[39mConst\u001b[39m\u001b[39m\"\u001b[39m, \u001b[39mtuple\u001b[39m(), attrs, (const_tensor,), op_name\u001b[39m=\u001b[39mname, graph\u001b[39m=\u001b[39mg)\n",
            "File \u001b[0;32m~/miniforge3/envs/tk-ML/lib/python3.9/site-packages/tensorflow/python/framework/func_graph.py:693\u001b[0m, in \u001b[0;36mFuncGraph._create_op_internal\u001b[0;34m(self, op_type, inputs, dtypes, input_types, name, attrs, op_def, compute_device)\u001b[0m\n\u001b[1;32m    <a href='file:///Users/danielnguyen/miniforge3/envs/tk-ML/lib/python3.9/site-packages/tensorflow/python/framework/func_graph.py?line=690'>691</a>\u001b[0m   inp \u001b[39m=\u001b[39m \u001b[39mself\u001b[39m\u001b[39m.\u001b[39mcapture(inp)\n\u001b[1;32m    <a href='file:///Users/danielnguyen/miniforge3/envs/tk-ML/lib/python3.9/site-packages/tensorflow/python/framework/func_graph.py?line=691'>692</a>\u001b[0m   captured_inputs\u001b[39m.\u001b[39mappend(inp)\n\u001b[0;32m--> <a href='file:///Users/danielnguyen/miniforge3/envs/tk-ML/lib/python3.9/site-packages/tensorflow/python/framework/func_graph.py?line=692'>693</a>\u001b[0m \u001b[39mreturn\u001b[39;00m \u001b[39msuper\u001b[39;49m(FuncGraph, \u001b[39mself\u001b[39;49m)\u001b[39m.\u001b[39;49m_create_op_internal(  \u001b[39m# pylint: disable=protected-access\u001b[39;49;00m\n\u001b[1;32m    <a href='file:///Users/danielnguyen/miniforge3/envs/tk-ML/lib/python3.9/site-packages/tensorflow/python/framework/func_graph.py?line=693'>694</a>\u001b[0m     op_type, captured_inputs, dtypes, input_types, name, attrs, op_def,\n\u001b[1;32m    <a href='file:///Users/danielnguyen/miniforge3/envs/tk-ML/lib/python3.9/site-packages/tensorflow/python/framework/func_graph.py?line=694'>695</a>\u001b[0m     compute_device)\n",
            "File \u001b[0;32m~/miniforge3/envs/tk-ML/lib/python3.9/site-packages/tensorflow/python/framework/ops.py:3785\u001b[0m, in \u001b[0;36mGraph._create_op_internal\u001b[0;34m(self, op_type, inputs, dtypes, input_types, name, attrs, op_def, compute_device)\u001b[0m\n\u001b[1;32m   <a href='file:///Users/danielnguyen/miniforge3/envs/tk-ML/lib/python3.9/site-packages/tensorflow/python/framework/ops.py?line=3774'>3775</a>\u001b[0m \u001b[39mwith\u001b[39;00m \u001b[39mself\u001b[39m\u001b[39m.\u001b[39m_mutation_lock():\n\u001b[1;32m   <a href='file:///Users/danielnguyen/miniforge3/envs/tk-ML/lib/python3.9/site-packages/tensorflow/python/framework/ops.py?line=3775'>3776</a>\u001b[0m   ret \u001b[39m=\u001b[39m Operation(\n\u001b[1;32m   <a href='file:///Users/danielnguyen/miniforge3/envs/tk-ML/lib/python3.9/site-packages/tensorflow/python/framework/ops.py?line=3776'>3777</a>\u001b[0m       node_def,\n\u001b[1;32m   <a href='file:///Users/danielnguyen/miniforge3/envs/tk-ML/lib/python3.9/site-packages/tensorflow/python/framework/ops.py?line=3777'>3778</a>\u001b[0m       \u001b[39mself\u001b[39m,\n\u001b[0;32m   (...)\u001b[0m\n\u001b[1;32m   <a href='file:///Users/danielnguyen/miniforge3/envs/tk-ML/lib/python3.9/site-packages/tensorflow/python/framework/ops.py?line=3782'>3783</a>\u001b[0m       original_op\u001b[39m=\u001b[39m\u001b[39mself\u001b[39m\u001b[39m.\u001b[39m_default_original_op,\n\u001b[1;32m   <a href='file:///Users/danielnguyen/miniforge3/envs/tk-ML/lib/python3.9/site-packages/tensorflow/python/framework/ops.py?line=3783'>3784</a>\u001b[0m       op_def\u001b[39m=\u001b[39mop_def)\n\u001b[0;32m-> <a href='file:///Users/danielnguyen/miniforge3/envs/tk-ML/lib/python3.9/site-packages/tensorflow/python/framework/ops.py?line=3784'>3785</a>\u001b[0m   \u001b[39mself\u001b[39m\u001b[39m.\u001b[39m_create_op_helper(ret, compute_device\u001b[39m=\u001b[39mcompute_device)\n\u001b[1;32m   <a href='file:///Users/danielnguyen/miniforge3/envs/tk-ML/lib/python3.9/site-packages/tensorflow/python/framework/ops.py?line=3785'>3786</a>\u001b[0m \u001b[39mreturn\u001b[39;00m ret\n",
            "File \u001b[0;32m~/miniforge3/envs/tk-ML/lib/python3.9/site-packages/tensorflow/python/util/lock_util.py:130\u001b[0m, in \u001b[0;36mGroupLock._Context.__exit__\u001b[0;34m(***failed resolving arguments***)\u001b[0m\n\u001b[1;32m    <a href='file:///Users/danielnguyen/miniforge3/envs/tk-ML/lib/python3.9/site-packages/tensorflow/python/util/lock_util.py?line=127'>128</a>\u001b[0m \u001b[39mdef\u001b[39;00m \u001b[39m__exit__\u001b[39m(\u001b[39mself\u001b[39m, type_arg, value_arg, traceback_arg):\n\u001b[1;32m    <a href='file:///Users/danielnguyen/miniforge3/envs/tk-ML/lib/python3.9/site-packages/tensorflow/python/util/lock_util.py?line=128'>129</a>\u001b[0m   \u001b[39mdel\u001b[39;00m type_arg, value_arg, traceback_arg\n\u001b[0;32m--> <a href='file:///Users/danielnguyen/miniforge3/envs/tk-ML/lib/python3.9/site-packages/tensorflow/python/util/lock_util.py?line=129'>130</a>\u001b[0m   \u001b[39mself\u001b[39;49m\u001b[39m.\u001b[39;49m_lock\u001b[39m.\u001b[39;49mrelease(\u001b[39mself\u001b[39;49m\u001b[39m.\u001b[39;49m_group_id)\n",
            "File \u001b[0;32m~/miniforge3/envs/tk-ML/lib/python3.9/site-packages/tensorflow/python/util/lock_util.py:102\u001b[0m, in \u001b[0;36mGroupLock.release\u001b[0;34m(self, group_id)\u001b[0m\n\u001b[1;32m    <a href='file:///Users/danielnguyen/miniforge3/envs/tk-ML/lib/python3.9/site-packages/tensorflow/python/util/lock_util.py?line=99'>100</a>\u001b[0m \u001b[39mself\u001b[39m\u001b[39m.\u001b[39m_group_member_counts[group_id] \u001b[39m-\u001b[39m\u001b[39m=\u001b[39m \u001b[39m1\u001b[39m\n\u001b[1;32m    <a href='file:///Users/danielnguyen/miniforge3/envs/tk-ML/lib/python3.9/site-packages/tensorflow/python/util/lock_util.py?line=100'>101</a>\u001b[0m \u001b[39mif\u001b[39;00m \u001b[39mself\u001b[39m\u001b[39m.\u001b[39m_group_member_counts[group_id] \u001b[39m==\u001b[39m \u001b[39m0\u001b[39m:\n\u001b[0;32m--> <a href='file:///Users/danielnguyen/miniforge3/envs/tk-ML/lib/python3.9/site-packages/tensorflow/python/util/lock_util.py?line=101'>102</a>\u001b[0m   \u001b[39mself\u001b[39;49m\u001b[39m.\u001b[39;49m_ready\u001b[39m.\u001b[39;49mnotify_all()\n\u001b[1;32m    <a href='file:///Users/danielnguyen/miniforge3/envs/tk-ML/lib/python3.9/site-packages/tensorflow/python/util/lock_util.py?line=102'>103</a>\u001b[0m \u001b[39mself\u001b[39m\u001b[39m.\u001b[39m_ready\u001b[39m.\u001b[39mrelease()\n",
            "File \u001b[0;32m~/miniforge3/envs/tk-ML/lib/python3.9/threading.py:381\u001b[0m, in \u001b[0;36mCondition.notify_all\u001b[0;34m(self)\u001b[0m\n\u001b[1;32m    <a href='file:///Users/danielnguyen/miniforge3/envs/tk-ML/lib/python3.9/threading.py?line=373'>374</a>\u001b[0m \u001b[39mdef\u001b[39;00m \u001b[39mnotify_all\u001b[39m(\u001b[39mself\u001b[39m):\n\u001b[1;32m    <a href='file:///Users/danielnguyen/miniforge3/envs/tk-ML/lib/python3.9/threading.py?line=374'>375</a>\u001b[0m     \u001b[39m\"\"\"Wake up all threads waiting on this condition.\u001b[39;00m\n\u001b[1;32m    <a href='file:///Users/danielnguyen/miniforge3/envs/tk-ML/lib/python3.9/threading.py?line=375'>376</a>\u001b[0m \n\u001b[1;32m    <a href='file:///Users/danielnguyen/miniforge3/envs/tk-ML/lib/python3.9/threading.py?line=376'>377</a>\u001b[0m \u001b[39m    If the calling thread has not acquired the lock when this method\u001b[39;00m\n\u001b[1;32m    <a href='file:///Users/danielnguyen/miniforge3/envs/tk-ML/lib/python3.9/threading.py?line=377'>378</a>\u001b[0m \u001b[39m    is called, a RuntimeError is raised.\u001b[39;00m\n\u001b[1;32m    <a href='file:///Users/danielnguyen/miniforge3/envs/tk-ML/lib/python3.9/threading.py?line=378'>379</a>\u001b[0m \n\u001b[1;32m    <a href='file:///Users/danielnguyen/miniforge3/envs/tk-ML/lib/python3.9/threading.py?line=379'>380</a>\u001b[0m \u001b[39m    \"\"\"\u001b[39;00m\n\u001b[0;32m--> <a href='file:///Users/danielnguyen/miniforge3/envs/tk-ML/lib/python3.9/threading.py?line=380'>381</a>\u001b[0m     \u001b[39mself\u001b[39;49m\u001b[39m.\u001b[39;49mnotify(\u001b[39mlen\u001b[39;49m(\u001b[39mself\u001b[39;49m\u001b[39m.\u001b[39;49m_waiters))\n",
            "File \u001b[0;32m~/miniforge3/envs/tk-ML/lib/python3.9/threading.py:365\u001b[0m, in \u001b[0;36mCondition.notify\u001b[0;34m(self, n)\u001b[0m\n\u001b[1;32m    <a href='file:///Users/danielnguyen/miniforge3/envs/tk-ML/lib/python3.9/threading.py?line=362'>363</a>\u001b[0m all_waiters \u001b[39m=\u001b[39m \u001b[39mself\u001b[39m\u001b[39m.\u001b[39m_waiters\n\u001b[1;32m    <a href='file:///Users/danielnguyen/miniforge3/envs/tk-ML/lib/python3.9/threading.py?line=363'>364</a>\u001b[0m waiters_to_notify \u001b[39m=\u001b[39m _deque(_islice(all_waiters, n))\n\u001b[0;32m--> <a href='file:///Users/danielnguyen/miniforge3/envs/tk-ML/lib/python3.9/threading.py?line=364'>365</a>\u001b[0m \u001b[39mif\u001b[39;00m \u001b[39mnot\u001b[39;00m waiters_to_notify:\n\u001b[1;32m    <a href='file:///Users/danielnguyen/miniforge3/envs/tk-ML/lib/python3.9/threading.py?line=365'>366</a>\u001b[0m     \u001b[39mreturn\u001b[39;00m\n\u001b[1;32m    <a href='file:///Users/danielnguyen/miniforge3/envs/tk-ML/lib/python3.9/threading.py?line=366'>367</a>\u001b[0m \u001b[39mfor\u001b[39;00m waiter \u001b[39min\u001b[39;00m waiters_to_notify:\n",
            "\u001b[0;31mKeyboardInterrupt\u001b[0m: "
          ]
        }
      ],
      "source": [
        "with tf.device('/CPU:0'):\n",
        "    history = model.fit(train_ds, \n",
        "                epochs=350, \n",
        "                callbacks=[\n",
        "                    # EarlyStoppingOnMaxAccuracy(), \n",
        "                    # AdamToSGD(), \n",
        "                    model_checkpoint_callback], \n",
        "                validation_data=val_ds)"
      ]
    },
    {
      "cell_type": "markdown",
      "metadata": {},
      "source": [
        "# **Model evaluation**"
      ]
    },
    {
      "cell_type": "markdown",
      "metadata": {},
      "source": [
        "## Evaluate on the test set using the best model"
      ]
    },
    {
      "cell_type": "code",
      "execution_count": null,
      "metadata": {},
      "outputs": [],
      "source": [
        "model.load_weights(weights_save_path)\n",
        "\n",
        "model.evaluate(test_ds)"
      ]
    },
    {
      "cell_type": "markdown",
      "metadata": {},
      "source": [
        "## Evaluate based on training's metrics history"
      ]
    },
    {
      "cell_type": "markdown",
      "metadata": {},
      "source": [
        "### 1. Based on loss value"
      ]
    },
    {
      "cell_type": "code",
      "execution_count": null,
      "metadata": {},
      "outputs": [],
      "source": [
        "number_of_epochs = len(history.history['loss'])"
      ]
    },
    {
      "cell_type": "code",
      "execution_count": null,
      "metadata": {
        "id": "rwplY4tbcDpI"
      },
      "outputs": [],
      "source": [
        "plt.plot(history.history['loss'], color='red', label='Train loss')\n",
        "plt.plot(history.history['val_loss'], color='blue', label='Validation loss')\n",
        "\n",
        "plt.xticks(np.arange(number_of_epochs, step=4))\n",
        "plt.legend()\n",
        "plt.show()"
      ]
    },
    {
      "cell_type": "markdown",
      "metadata": {},
      "source": [
        "### 2. Based on accuracy"
      ]
    },
    {
      "cell_type": "code",
      "execution_count": null,
      "metadata": {},
      "outputs": [],
      "source": [
        "plt.plot(history.history['accuracy'], color='red', label='Training accuracy')\n",
        "plt.plot(history.history['val_accuracy'], color='blue', label='Validation accuracy')\n",
        "\n",
        "plt.xticks(np.arange(number_of_epochs, step=4))\n",
        "plt.legend()\n",
        "plt.show()"
      ]
    },
    {
      "cell_type": "markdown",
      "metadata": {},
      "source": [
        "## Evaluate with Confusion Matrix and Classification Report"
      ]
    },
    {
      "cell_type": "markdown",
      "metadata": {},
      "source": [
        "### Generate actual and predicted value"
      ]
    },
    {
      "cell_type": "code",
      "execution_count": null,
      "metadata": {},
      "outputs": [],
      "source": [
        "y_true = np.concatenate([y for _, y in test_ds], axis=0)\n",
        "\n",
        "Y_pred = model.predict(test_ds)\n",
        "y_pred = np.argmax(Y_pred, axis=1)"
      ]
    },
    {
      "cell_type": "markdown",
      "metadata": {},
      "source": [
        "### Plot Confusion matrix"
      ]
    },
    {
      "cell_type": "code",
      "execution_count": null,
      "metadata": {},
      "outputs": [],
      "source": [
        "ConfusionMatrixDisplay.from_predictions(y_true, y_pred,\n",
        "                                        display_labels=[class_name.capitalize() for class_name in class_names],\n",
        "                                        cmap='Blues')\n",
        "plt.xticks(rotation=60)\n",
        "plt.savefig(os.path.join(report_save_path, 'confusion_matrix.pdf'))\n",
        "plt.show()"
      ]
    },
    {
      "cell_type": "markdown",
      "metadata": {},
      "source": [
        "### Plot classification report"
      ]
    },
    {
      "cell_type": "code",
      "execution_count": null,
      "metadata": {},
      "outputs": [],
      "source": [
        "clf_rep = classification_report(y_true, y_pred, \n",
        "                                target_names=[class_name.capitalize() for class_name in class_names], \n",
        "                                output_dict=True)\n",
        "\n",
        "sn.heatmap(pd.DataFrame(clf_rep).iloc[:-1,:].T, annot=True)\n",
        "plt.savefig(os.path.join(report_save_path, 'report.pdf'))"
      ]
    }
  ],
  "metadata": {
    "accelerator": "GPU",
    "colab": {
      "name": "AI Series.ipynb",
      "provenance": []
    },
    "kernelspec": {
      "display_name": "Python 3",
      "name": "python3"
    },
    "language_info": {
      "codemirror_mode": {
        "name": "ipython",
        "version": 3
      },
      "file_extension": ".py",
      "mimetype": "text/x-python",
      "name": "python",
      "nbconvert_exporter": "python",
      "pygments_lexer": "ipython3",
      "version": "3.9.10"
    }
  },
  "nbformat": 4,
  "nbformat_minor": 0
}
