{
  "cells": [
    {
      "cell_type": "markdown",
      "metadata": {},
      "source": [
        "# Import libraries"
      ]
    },
    {
      "cell_type": "code",
      "execution_count": 1,
      "metadata": {
        "id": "94oYiPqBa6du"
      },
      "outputs": [],
      "source": [
        "import os\n",
        "import pathlib\n",
        "import shutil\n",
        "import tensorflow as tf\n",
        "from tensorflow import keras\n",
        "from keras import regularizers\n",
        "import numpy as np\n",
        "import pandas as pd\n",
        "import matplotlib.pyplot as plt"
      ]
    },
    {
      "cell_type": "markdown",
      "metadata": {},
      "source": [
        "# Prepare the dataset for loading"
      ]
    },
    {
      "cell_type": "markdown",
      "metadata": {},
      "source": [
        "## Helper functions"
      ]
    },
    {
      "cell_type": "code",
      "execution_count": 2,
      "metadata": {},
      "outputs": [],
      "source": [
        "def create_label_dir(df, dir='../gdsc-ai-challenge/train'):\n",
        "    \"\"\"Use Dataframe contains labels for each image and path to the directory\n",
        "\n",
        "    contains the unlabeled dataset to rebuild directory into labeled subdirectories.\n",
        "\n",
        "    Returns all the label and number of classes in the dataset.\n",
        "\n",
        "    Keyword arguments:\n",
        "\n",
        "    df -- The Dataframe contains images' names and labels.\n",
        "\n",
        "    dir -- Path to the main directory (default to ../gdsc-ai-challenge/train)\n",
        "    \"\"\"\n",
        "    class_names = np.sort(df['label'].unique())\n",
        "    number_of_classes = len(class_names)\n",
        "\n",
        "    if not os.path.exists(dir):\n",
        "        return class_names, number_of_classes\n",
        "\n",
        "    for class_name in class_names:\n",
        "        subdir = pathlib.Path(os.path.join(dir, class_name))\n",
        "        if subdir.exists():\n",
        "            continue\n",
        "        else:\n",
        "            subdir.mkdir()\n",
        "    \n",
        "    return class_names, number_of_classes\n",
        "\n",
        "def sort_data(df, dir='../gdsc-ai-challenge/train'):\n",
        "    \"\"\"Use Dataframe to move each unlabeled image to the correct label's subdirectory.\n",
        "\n",
        "    df -- The Dataframe contains images' names and labels.\n",
        "\n",
        "    dir -- Path to the main directory (default to ../gdsc-ai-challenge/train) \n",
        "    \"\"\"\n",
        "    if not os.path.exists(dir):\n",
        "        return\n",
        "    \n",
        "    unlabeled_dir = os.path.join(dir, 'train')\n",
        "\n",
        "    for image_dir in [str(img) for img in list(pathlib.Path(unlabeled_dir).glob('*.png'))]:\n",
        "        id = int(image_dir.removeprefix(unlabeled_dir).removesuffix('.png'))\n",
        "        label = df['label'][id - 1]\n",
        "        dest_path = os.path.join(dir, label, str(id) + '.png')\n",
        "        shutil.move(image_dir, dest_path)"
      ]
    },
    {
      "cell_type": "markdown",
      "metadata": {},
      "source": [
        "## Prepare the dataset"
      ]
    },
    {
      "cell_type": "code",
      "execution_count": 3,
      "metadata": {},
      "outputs": [],
      "source": [
        "label_df = pd.read_csv('../gdsc-ai-challenge/trainLabels.csv')\n",
        "\n",
        "class_names, number_of_classes = create_label_dir(label_df)\n",
        "sort_data(label_df)"
      ]
    },
    {
      "cell_type": "markdown",
      "metadata": {},
      "source": [
        "# Data preprocessing and augmentation"
      ]
    },
    {
      "cell_type": "markdown",
      "metadata": {},
      "source": [
        "## Helper functions"
      ]
    },
    {
      "cell_type": "code",
      "execution_count": 4,
      "metadata": {},
      "outputs": [],
      "source": [
        "def split_dataset(ds, ds_size, train_split=0.8, val_split=0.1, test_split=0.1):\n",
        "    \"\"\"Split the dataset into three subsets: train, validation (dev) and test set.\n",
        "\n",
        "    Returns three tuples, containing each subset with its size.\n",
        "\n",
        "    Keyword arguments:\n",
        "\n",
        "    ds -- tf.data.Dataset object\n",
        "\n",
        "    ds_size -- size of the dataset\n",
        "\n",
        "    train_split -- percentage to split into train set (default to 0.8)\n",
        "\n",
        "    val_split -- percentage to split into validation set (default to 0.1)\n",
        "\n",
        "    test_split -- percentage to split into test set (default to 0.1)\n",
        "    \"\"\"\n",
        "    assert (train_split + test_split + val_split) == 1\n",
        "    \n",
        "    train_size = int(train_split * ds_size)\n",
        "    val_size = int(val_split * ds_size)\n",
        "    \n",
        "    train_ds = ds.take(train_size)    \n",
        "    val_ds = ds.skip(train_size).take(val_size)\n",
        "    test_ds = ds.skip(train_size).skip(val_size)\n",
        "    \n",
        "    return (train_ds, train_size), (val_ds, val_size), (test_ds, ds_size - val_size - train_size)\n",
        "\n",
        "def configure(ds, ds_size, batch_size=32, shuffle=True, augment=False):\n",
        "    \"\"\"Configure the given dataset for better performance (by caching, prefetching and then batching the dataset)\n",
        "\n",
        "    and perform preprocessing to the images in the given dataset.\n",
        "\n",
        "    Returns the optimized dataset.\n",
        "\n",
        "    Keyword arguments:\n",
        "\n",
        "    ds -- tf.data.Dataset object\n",
        "\n",
        "    ds_size -- size of the dataset\n",
        "\n",
        "    batch_size -- size of each batch (default to 32)\n",
        "\n",
        "    shuffle -- whether to shuffle the dataset (default to True)\n",
        "\n",
        "    augment -- whether to perform data augmentation to the dataset (default to False)\n",
        "    \"\"\"\n",
        "\n",
        "    AUTOTUNE = tf.data.AUTOTUNE\n",
        "    rescale = keras.layers.Rescaling(1.0/255)\n",
        "    data_augmentation = keras.Sequential([\n",
        "        keras.layers.RandomFlip('horizontal'),\n",
        "        keras.layers.RandomRotation(0.05, fill_mode='nearest')\n",
        "    ])\n",
        "\n",
        "    ds = ds.map(lambda x, y: (rescale(x), y),\n",
        "                num_parallel_calls=AUTOTUNE)\n",
        "\n",
        "    ds = ds.cache()\n",
        "    if shuffle:\n",
        "        ds = ds.shuffle(buffer_size=int(ds_size * 0.6))\n",
        "    \n",
        "    ds = ds.batch(batch_size)\n",
        "\n",
        "    if augment:\n",
        "        with tf.device('/cpu:0'):\n",
        "            #only perform data augmentation on train set\n",
        "            ds = ds.map(lambda x, y: (data_augmentation(x, training=True), y),\n",
        "                                    num_parallel_calls=AUTOTUNE)\n",
        "    ds = ds.prefetch(buffer_size=AUTOTUNE)\n",
        "    return ds"
      ]
    },
    {
      "cell_type": "markdown",
      "metadata": {},
      "source": [
        "## Load the dataset using *image_dataset_from_directory()*"
      ]
    },
    {
      "cell_type": "code",
      "execution_count": 5,
      "metadata": {},
      "outputs": [
        {
          "name": "stdout",
          "output_type": "stream",
          "text": [
            "Found 50000 files belonging to 10 classes.\n",
            "Metal device set to: Apple M1\n",
            "\n",
            "systemMemory: 16.00 GB\n",
            "maxCacheSize: 5.33 GB\n",
            "\n"
          ]
        },
        {
          "name": "stderr",
          "output_type": "stream",
          "text": [
            "2022-03-15 01:58:18.787661: I tensorflow/core/common_runtime/pluggable_device/pluggable_device_factory.cc:305] Could not identify NUMA node of platform GPU ID 0, defaulting to 0. Your kernel may not have been built with NUMA support.\n",
            "2022-03-15 01:58:18.787773: I tensorflow/core/common_runtime/pluggable_device/pluggable_device_factory.cc:271] Created TensorFlow device (/job:localhost/replica:0/task:0/device:GPU:0 with 0 MB memory) -> physical PluggableDevice (device: 0, name: METAL, pci bus id: <undefined>)\n"
          ]
        }
      ],
      "source": [
        "ds = tf.keras.utils.image_dataset_from_directory(\n",
        "    '../gdsc-ai-challenge/train',\n",
        "    color_mode='grayscale',\n",
        "    batch_size=None,\n",
        "    image_size=(32,32),\n",
        "    seed=42\n",
        ")\n",
        "\n",
        "ds_size = ds.cardinality().numpy()"
      ]
    },
    {
      "cell_type": "markdown",
      "metadata": {},
      "source": [
        "## Split the dataset and Preprocess the dataset"
      ]
    },
    {
      "cell_type": "code",
      "execution_count": 6,
      "metadata": {},
      "outputs": [],
      "source": [
        "(train_ds, train_size), (val_ds, val_size), (test_ds, test_size) = split_dataset(ds, ds_size, train_split=0.7, val_split=0.2, test_split=0.1)\n",
        "\n",
        "train_ds = configure(train_ds, train_size, augment=True)\n",
        "val_ds = configure(val_ds, val_size)\n",
        "test_ds = configure(test_ds, test_size)"
      ]
    },
    {
      "cell_type": "markdown",
      "metadata": {},
      "source": [
        "# Build a model"
      ]
    },
    {
      "cell_type": "code",
      "execution_count": 7,
      "metadata": {
        "id": "WNxHjoEeb8TB"
      },
      "outputs": [],
      "source": [
        "model = keras.models.Sequential([\n",
        "    keras.layers.Input((32,32,1)),\n",
        "    keras.layers.Conv2D(32, (3,3), padding='same',\n",
        "                        kernel_regularizer=regularizers.l2(1e-3),\n",
        "                        activity_regularizer=regularizers.l2(1e-4),\n",
        "                        kernel_initializer='he_normal',\n",
        "                        activation='elu'),\n",
        "    keras.layers.BatchNormalization(),\n",
        "    keras.layers.Conv2D(32, (3,3), padding='same',\n",
        "                        kernel_regularizer=regularizers.l2(1e-3),\n",
        "                        activity_regularizer=regularizers.l2(1e-4),\n",
        "                        kernel_initializer='he_normal',\n",
        "                        activation='elu'),\n",
        "    keras.layers.BatchNormalization(),\n",
        "    keras.layers.MaxPooling2D(pool_size=(2,2)),\n",
        "\n",
        "    keras.layers.Conv2D(64, (3,3), padding='same',\n",
        "                        kernel_regularizer=regularizers.l2(1e-3),\n",
        "                        activity_regularizer=regularizers.l2(1e-4),\n",
        "                        kernel_initializer='he_normal',\n",
        "                        activation='elu'),\n",
        "    keras.layers.BatchNormalization(),\n",
        "    keras.layers.Conv2D(64, (3,3), padding='same',\n",
        "                        kernel_regularizer=regularizers.l2(1e-3),\n",
        "                        activity_regularizer=regularizers.l2(1e-4),\n",
        "                        kernel_initializer='he_normal',\n",
        "                        activation='elu'),\n",
        "    keras.layers.BatchNormalization(),\n",
        "    keras.layers.MaxPooling2D(pool_size=(2,2)),\n",
        "\n",
        "    keras.layers.Conv2D(128, (1,1), padding='same',\n",
        "                        kernel_regularizer=regularizers.l2(1e-3),\n",
        "                        activity_regularizer=regularizers.l2(1e-4),\n",
        "                        kernel_initializer='he_normal',\n",
        "                        activation='elu'),\n",
        "    keras.layers.BatchNormalization(),\n",
        "    keras.layers.Conv2D(128, (1,1), padding='same',\n",
        "                        kernel_regularizer=regularizers.l2(1e-3),\n",
        "                        activity_regularizer=regularizers.l2(1e-4),\n",
        "                        kernel_initializer='he_normal',\n",
        "                        activation='elu'),\n",
        "    keras.layers.BatchNormalization(),\n",
        "    keras.layers.MaxPooling2D(pool_size=(2,2)),\n",
        "    keras.layers.Dropout(0.2),\n",
        "\n",
        "    keras.layers.Flatten(),\n",
        "    keras.layers.Dense(64, activation='elu',\n",
        "                       kernel_regularizer=regularizers.l2(1e-3),\n",
        "                       activity_regularizer=regularizers.l2(1e-4)),\n",
        "    keras.layers.Dropout(0.3),\n",
        "    keras.layers.Dense(32, activation='elu',\n",
        "                       kernel_regularizer=regularizers.l2(1e-3),\n",
        "                       activity_regularizer=regularizers.l2(1e-4)),\n",
        "    keras.layers.Dense(number_of_classes, activation='softmax')\n",
        "])\n",
        "\n",
        "model.compile(optimizer=keras.optimizers.Adam(learning_rate=0.0003),\n",
        "                                              loss='sparse_categorical_crossentropy',\n",
        "                                              metrics=['accuracy'])"
      ]
    },
    {
      "cell_type": "code",
      "execution_count": 8,
      "metadata": {
        "colab": {
          "base_uri": "https://localhost:8080/"
        },
        "id": "bYXGttWEb89y",
        "outputId": "d5029a94-f07f-409d-d134-b0baa8cee9c3"
      },
      "outputs": [
        {
          "name": "stdout",
          "output_type": "stream",
          "text": [
            "Model: \"sequential_3\"\n",
            "_________________________________________________________________\n",
            " Layer (type)                Output Shape              Param #   \n",
            "=================================================================\n",
            " conv2d (Conv2D)             (None, 32, 32, 32)        832       \n",
            "                                                                 \n",
            " batch_normalization (BatchN  (None, 32, 32, 32)       128       \n",
            " ormalization)                                                   \n",
            "                                                                 \n",
            " conv2d_1 (Conv2D)           (None, 32, 32, 32)        25632     \n",
            "                                                                 \n",
            " batch_normalization_1 (Batc  (None, 32, 32, 32)       128       \n",
            " hNormalization)                                                 \n",
            "                                                                 \n",
            " max_pooling2d (MaxPooling2D  (None, 16, 16, 32)       0         \n",
            " )                                                               \n",
            "                                                                 \n",
            " conv2d_2 (Conv2D)           (None, 16, 16, 64)        18496     \n",
            "                                                                 \n",
            " batch_normalization_2 (Batc  (None, 16, 16, 64)       256       \n",
            " hNormalization)                                                 \n",
            "                                                                 \n",
            " conv2d_3 (Conv2D)           (None, 16, 16, 64)        36928     \n",
            "                                                                 \n",
            " batch_normalization_3 (Batc  (None, 16, 16, 64)       256       \n",
            " hNormalization)                                                 \n",
            "                                                                 \n",
            " max_pooling2d_1 (MaxPooling  (None, 8, 8, 64)         0         \n",
            " 2D)                                                             \n",
            "                                                                 \n",
            " conv2d_4 (Conv2D)           (None, 8, 8, 128)         73856     \n",
            "                                                                 \n",
            " batch_normalization_4 (Batc  (None, 8, 8, 128)        512       \n",
            " hNormalization)                                                 \n",
            "                                                                 \n",
            " conv2d_5 (Conv2D)           (None, 8, 8, 128)         147584    \n",
            "                                                                 \n",
            " batch_normalization_5 (Batc  (None, 8, 8, 128)        512       \n",
            " hNormalization)                                                 \n",
            "                                                                 \n",
            " max_pooling2d_2 (MaxPooling  (None, 4, 4, 128)        0         \n",
            " 2D)                                                             \n",
            "                                                                 \n",
            " dropout (Dropout)           (None, 4, 4, 128)         0         \n",
            "                                                                 \n",
            " flatten (Flatten)           (None, 2048)              0         \n",
            "                                                                 \n",
            " dense (Dense)               (None, 64)                131136    \n",
            "                                                                 \n",
            " dropout_1 (Dropout)         (None, 64)                0         \n",
            "                                                                 \n",
            " dense_1 (Dense)             (None, 32)                2080      \n",
            "                                                                 \n",
            " dense_2 (Dense)             (None, 10)                330       \n",
            "                                                                 \n",
            "=================================================================\n",
            "Total params: 438,666\n",
            "Trainable params: 437,770\n",
            "Non-trainable params: 896\n",
            "_________________________________________________________________\n"
          ]
        }
      ],
      "source": [
        "model.summary()"
      ]
    },
    {
      "cell_type": "markdown",
      "metadata": {},
      "source": [
        "# Training session"
      ]
    },
    {
      "cell_type": "markdown",
      "metadata": {},
      "source": [
        "## Design a callback to stop training"
      ]
    },
    {
      "cell_type": "code",
      "execution_count": 9,
      "metadata": {
        "id": "6V5szfyncBDI"
      },
      "outputs": [],
      "source": [
        "class stopCallback(keras.callbacks.Callback):\n",
        "    def on_epoch_end(self, epoch, logs={}) :\n",
        "        if (logs.get('accuracy') >= 0.999 and \n",
        "            logs.get('val_accuracy') >= 0.999) :\n",
        "            print('\\nReached 99.9% accuracy so stopping training')\n",
        "            self.model.stop_training = True\n",
        "\n",
        "callback = stopCallback()\n",
        "\n",
        "model_checkpoint_callback = tf.keras.callbacks.ModelCheckpoint(filepath='../Model/aiseries/version1.hdf5',\n",
        "                                                               monitor='val_loss',\n",
        "                                                               mode='min',\n",
        "                                                               save_best_only=True)"
      ]
    },
    {
      "cell_type": "code",
      "execution_count": 10,
      "metadata": {
        "colab": {
          "background_save": true,
          "base_uri": "https://localhost:8080/"
        },
        "id": "-vTAeSb1cBwn",
        "outputId": "42b83134-f833-4e5b-ee2b-90803624b22f"
      },
      "outputs": [
        {
          "name": "stdout",
          "output_type": "stream",
          "text": [
            "Epoch 1/100\n"
          ]
        },
        {
          "name": "stderr",
          "output_type": "stream",
          "text": [
            "2022-03-15 01:58:19.371598: W tensorflow/core/platform/profile_utils/cpu_utils.cc:128] Failed to get CPU frequency: 0 Hz\n",
            "2022-03-15 01:58:20.024941: I tensorflow/core/grappler/optimizers/custom_graph_optimizer_registry.cc:113] Plugin optimizer for device_type GPU is enabled.\n"
          ]
        },
        {
          "name": "stdout",
          "output_type": "stream",
          "text": [
            "1094/1094 [==============================] - ETA: 0s - loss: 6.1728 - accuracy: 0.3012"
          ]
        },
        {
          "name": "stderr",
          "output_type": "stream",
          "text": [
            "2022-03-15 01:59:26.761310: I tensorflow/core/grappler/optimizers/custom_graph_optimizer_registry.cc:113] Plugin optimizer for device_type GPU is enabled.\n"
          ]
        },
        {
          "name": "stdout",
          "output_type": "stream",
          "text": [
            "1094/1094 [==============================] - 77s 69ms/step - loss: 6.1728 - accuracy: 0.3012 - val_loss: 5.3009 - val_accuracy: 0.3319\n",
            "Epoch 2/100\n",
            "1094/1094 [==============================] - 89s 81ms/step - loss: 4.4326 - accuracy: 0.4025 - val_loss: 4.1635 - val_accuracy: 0.4581\n",
            "Epoch 3/100\n",
            "1094/1094 [==============================] - 93s 85ms/step - loss: 3.6374 - accuracy: 0.4598 - val_loss: 3.8115 - val_accuracy: 0.4189\n",
            "Epoch 4/100\n",
            "1094/1094 [==============================] - 92s 84ms/step - loss: 3.1111 - accuracy: 0.4958 - val_loss: 3.2188 - val_accuracy: 0.4880\n",
            "Epoch 5/100\n",
            "1094/1094 [==============================] - 92s 84ms/step - loss: 2.7296 - accuracy: 0.5229 - val_loss: 2.8234 - val_accuracy: 0.5343\n",
            "Epoch 6/100\n",
            "1094/1094 [==============================] - 93s 85ms/step - loss: 2.4583 - accuracy: 0.5493 - val_loss: 2.4807 - val_accuracy: 0.5808\n",
            "Epoch 7/100\n",
            "1094/1094 [==============================] - 92s 84ms/step - loss: 2.2427 - accuracy: 0.5680 - val_loss: 2.3745 - val_accuracy: 0.5776\n",
            "Epoch 8/100\n",
            "1094/1094 [==============================] - 93s 85ms/step - loss: 2.0704 - accuracy: 0.5876 - val_loss: 2.1556 - val_accuracy: 0.5982\n",
            "Epoch 9/100\n",
            "1094/1094 [==============================] - 92s 85ms/step - loss: 1.9374 - accuracy: 0.6067 - val_loss: 2.1449 - val_accuracy: 0.5869\n",
            "Epoch 10/100\n",
            "1094/1094 [==============================] - 93s 85ms/step - loss: 1.8317 - accuracy: 0.6152 - val_loss: 1.8328 - val_accuracy: 0.6434\n",
            "Epoch 11/100\n",
            "1094/1094 [==============================] - 94s 86ms/step - loss: 1.7313 - accuracy: 0.6271 - val_loss: 1.7366 - val_accuracy: 0.6619\n",
            "Epoch 12/100\n",
            "1094/1094 [==============================] - 94s 86ms/step - loss: 1.6508 - accuracy: 0.6389 - val_loss: 1.6551 - val_accuracy: 0.6545\n",
            "Epoch 13/100\n",
            "1094/1094 [==============================] - 94s 86ms/step - loss: 1.5744 - accuracy: 0.6509 - val_loss: 1.6386 - val_accuracy: 0.6553\n",
            "Epoch 14/100\n",
            "1094/1094 [==============================] - 95s 87ms/step - loss: 1.5186 - accuracy: 0.6548 - val_loss: 1.4799 - val_accuracy: 0.6876\n",
            "Epoch 15/100\n",
            "1094/1094 [==============================] - 93s 85ms/step - loss: 1.4649 - accuracy: 0.6588 - val_loss: 1.4561 - val_accuracy: 0.6800\n",
            "Epoch 16/100\n",
            "1094/1094 [==============================] - 89s 82ms/step - loss: 1.4149 - accuracy: 0.6674 - val_loss: 1.3656 - val_accuracy: 0.7008\n",
            "Epoch 17/100\n",
            "1094/1094 [==============================] - 90s 82ms/step - loss: 1.3688 - accuracy: 0.6737 - val_loss: 1.3783 - val_accuracy: 0.6840\n",
            "Epoch 18/100\n",
            "1094/1094 [==============================] - 90s 82ms/step - loss: 1.3299 - accuracy: 0.6777 - val_loss: 1.4614 - val_accuracy: 0.6589\n",
            "Epoch 19/100\n",
            "1094/1094 [==============================] - 89s 82ms/step - loss: 1.2914 - accuracy: 0.6854 - val_loss: 1.2690 - val_accuracy: 0.7079\n",
            "Epoch 20/100\n",
            "1094/1094 [==============================] - 89s 82ms/step - loss: 1.2631 - accuracy: 0.6891 - val_loss: 1.2946 - val_accuracy: 0.6916\n",
            "Epoch 21/100\n",
            "1094/1094 [==============================] - 90s 82ms/step - loss: 1.2343 - accuracy: 0.6915 - val_loss: 1.1851 - val_accuracy: 0.7218\n",
            "Epoch 22/100\n",
            "1094/1094 [==============================] - 90s 82ms/step - loss: 1.2135 - accuracy: 0.6941 - val_loss: 1.1930 - val_accuracy: 0.7187\n",
            "Epoch 23/100\n",
            "1094/1094 [==============================] - 89s 82ms/step - loss: 1.1851 - accuracy: 0.7054 - val_loss: 1.2845 - val_accuracy: 0.6874\n",
            "Epoch 24/100\n",
            "1094/1094 [==============================] - 90s 82ms/step - loss: 1.1692 - accuracy: 0.7050 - val_loss: 1.1601 - val_accuracy: 0.7140\n",
            "Epoch 25/100\n",
            "1094/1094 [==============================] - 90s 82ms/step - loss: 1.1488 - accuracy: 0.7069 - val_loss: 1.2248 - val_accuracy: 0.6988\n",
            "Epoch 26/100\n",
            "1094/1094 [==============================] - 91s 83ms/step - loss: 1.1365 - accuracy: 0.7139 - val_loss: 1.1691 - val_accuracy: 0.7135\n",
            "Epoch 27/100\n",
            "1094/1094 [==============================] - 89s 82ms/step - loss: 1.1187 - accuracy: 0.7141 - val_loss: 1.1295 - val_accuracy: 0.7257\n",
            "Epoch 28/100\n",
            "1094/1094 [==============================] - 90s 82ms/step - loss: 1.1072 - accuracy: 0.7151 - val_loss: 1.0958 - val_accuracy: 0.7320\n",
            "Epoch 29/100\n",
            "1094/1094 [==============================] - 90s 82ms/step - loss: 1.0935 - accuracy: 0.7185 - val_loss: 1.1166 - val_accuracy: 0.7238\n",
            "Epoch 30/100\n",
            "1094/1094 [==============================] - 90s 82ms/step - loss: 1.0834 - accuracy: 0.7194 - val_loss: 1.1223 - val_accuracy: 0.7135\n",
            "Epoch 31/100\n",
            "1094/1094 [==============================] - 90s 82ms/step - loss: 1.0758 - accuracy: 0.7226 - val_loss: 1.1305 - val_accuracy: 0.7207\n",
            "Epoch 32/100\n",
            "1094/1094 [==============================] - 90s 82ms/step - loss: 1.0554 - accuracy: 0.7260 - val_loss: 1.0339 - val_accuracy: 0.7410\n",
            "Epoch 33/100\n",
            "1094/1094 [==============================] - 90s 82ms/step - loss: 1.0484 - accuracy: 0.7288 - val_loss: 1.0771 - val_accuracy: 0.7283\n",
            "Epoch 34/100\n",
            "1094/1094 [==============================] - 90s 82ms/step - loss: 1.0425 - accuracy: 0.7300 - val_loss: 1.0079 - val_accuracy: 0.7485\n",
            "Epoch 35/100\n",
            "1094/1094 [==============================] - 89s 82ms/step - loss: 1.0335 - accuracy: 0.7311 - val_loss: 1.0567 - val_accuracy: 0.7321\n",
            "Epoch 36/100\n",
            "1094/1094 [==============================] - 89s 82ms/step - loss: 1.0228 - accuracy: 0.7333 - val_loss: 1.0244 - val_accuracy: 0.7434\n",
            "Epoch 37/100\n",
            "1094/1094 [==============================] - 89s 82ms/step - loss: 1.0167 - accuracy: 0.7357 - val_loss: 1.0144 - val_accuracy: 0.7420\n",
            "Epoch 38/100\n",
            "1094/1094 [==============================] - 90s 82ms/step - loss: 1.0081 - accuracy: 0.7341 - val_loss: 1.0843 - val_accuracy: 0.7206\n",
            "Epoch 39/100\n",
            "1094/1094 [==============================] - 89s 82ms/step - loss: 1.0010 - accuracy: 0.7362 - val_loss: 0.9786 - val_accuracy: 0.7530\n",
            "Epoch 40/100\n",
            "1094/1094 [==============================] - 89s 81ms/step - loss: 0.9958 - accuracy: 0.7408 - val_loss: 0.9794 - val_accuracy: 0.7547\n",
            "Epoch 41/100\n",
            "1094/1094 [==============================] - 90s 82ms/step - loss: 0.9884 - accuracy: 0.7407 - val_loss: 1.0136 - val_accuracy: 0.7442\n",
            "Epoch 42/100\n",
            "1094/1094 [==============================] - 89s 82ms/step - loss: 0.9839 - accuracy: 0.7431 - val_loss: 1.1144 - val_accuracy: 0.7024\n",
            "Epoch 43/100\n",
            "1094/1094 [==============================] - 89s 82ms/step - loss: 0.9800 - accuracy: 0.7416 - val_loss: 0.9765 - val_accuracy: 0.7532\n",
            "Epoch 44/100\n",
            "1094/1094 [==============================] - 89s 82ms/step - loss: 0.9729 - accuracy: 0.7454 - val_loss: 1.0267 - val_accuracy: 0.7326\n",
            "Epoch 45/100\n",
            "1094/1094 [==============================] - 89s 82ms/step - loss: 0.9698 - accuracy: 0.7436 - val_loss: 1.0094 - val_accuracy: 0.7438\n",
            "Epoch 46/100\n",
            "1094/1094 [==============================] - 89s 81ms/step - loss: 0.9683 - accuracy: 0.7439 - val_loss: 1.1478 - val_accuracy: 0.7045\n",
            "Epoch 47/100\n",
            "1094/1094 [==============================] - 89s 82ms/step - loss: 0.9628 - accuracy: 0.7460 - val_loss: 0.9884 - val_accuracy: 0.7522\n",
            "Epoch 48/100\n",
            "1094/1094 [==============================] - 89s 82ms/step - loss: 0.9512 - accuracy: 0.7519 - val_loss: 1.0368 - val_accuracy: 0.7259\n",
            "Epoch 49/100\n",
            "1094/1094 [==============================] - 90s 82ms/step - loss: 0.9529 - accuracy: 0.7508 - val_loss: 0.9541 - val_accuracy: 0.7588\n",
            "Epoch 50/100\n",
            "1094/1094 [==============================] - 89s 82ms/step - loss: 0.9477 - accuracy: 0.7517 - val_loss: 1.0296 - val_accuracy: 0.7274\n",
            "Epoch 51/100\n",
            "1094/1094 [==============================] - 89s 82ms/step - loss: 0.9472 - accuracy: 0.7527 - val_loss: 1.0892 - val_accuracy: 0.7194\n",
            "Epoch 52/100\n",
            "1094/1094 [==============================] - 89s 81ms/step - loss: 0.9418 - accuracy: 0.7522 - val_loss: 0.9282 - val_accuracy: 0.7674\n",
            "Epoch 53/100\n",
            "1094/1094 [==============================] - 89s 82ms/step - loss: 0.9393 - accuracy: 0.7543 - val_loss: 0.9601 - val_accuracy: 0.7501\n",
            "Epoch 54/100\n",
            "1094/1094 [==============================] - 89s 82ms/step - loss: 0.9376 - accuracy: 0.7531 - val_loss: 0.9338 - val_accuracy: 0.7613\n",
            "Epoch 55/100\n",
            "1094/1094 [==============================] - 89s 82ms/step - loss: 0.9355 - accuracy: 0.7557 - val_loss: 0.9805 - val_accuracy: 0.7492\n",
            "Epoch 56/100\n",
            "1094/1094 [==============================] - 89s 82ms/step - loss: 0.9261 - accuracy: 0.7562 - val_loss: 0.9146 - val_accuracy: 0.7646\n",
            "Epoch 57/100\n",
            "1094/1094 [==============================] - 89s 81ms/step - loss: 0.9311 - accuracy: 0.7557 - val_loss: 1.0496 - val_accuracy: 0.7300\n",
            "Epoch 58/100\n",
            "1094/1094 [==============================] - 90s 82ms/step - loss: 0.9233 - accuracy: 0.7565 - val_loss: 1.0276 - val_accuracy: 0.7314\n",
            "Epoch 59/100\n",
            "1094/1094 [==============================] - 89s 81ms/step - loss: 0.9254 - accuracy: 0.7573 - val_loss: 0.9459 - val_accuracy: 0.7561\n",
            "Epoch 60/100\n",
            "1094/1094 [==============================] - 89s 81ms/step - loss: 0.9216 - accuracy: 0.7584 - val_loss: 0.8916 - val_accuracy: 0.7705\n",
            "Epoch 61/100\n",
            "1094/1094 [==============================] - 89s 81ms/step - loss: 0.9182 - accuracy: 0.7595 - val_loss: 0.9435 - val_accuracy: 0.7554\n",
            "Epoch 62/100\n",
            "1094/1094 [==============================] - 89s 82ms/step - loss: 0.9201 - accuracy: 0.7606 - val_loss: 0.9021 - val_accuracy: 0.7694\n",
            "Epoch 63/100\n",
            "1094/1094 [==============================] - 89s 81ms/step - loss: 0.9153 - accuracy: 0.7601 - val_loss: 1.0134 - val_accuracy: 0.7367\n",
            "Epoch 64/100\n",
            "1094/1094 [==============================] - 89s 81ms/step - loss: 0.9106 - accuracy: 0.7599 - val_loss: 0.8966 - val_accuracy: 0.7736\n",
            "Epoch 65/100\n",
            "1094/1094 [==============================] - 89s 81ms/step - loss: 0.9092 - accuracy: 0.7631 - val_loss: 0.9259 - val_accuracy: 0.7614\n",
            "Epoch 66/100\n",
            "1094/1094 [==============================] - 90s 82ms/step - loss: 0.9118 - accuracy: 0.7632 - val_loss: 0.9763 - val_accuracy: 0.7472\n",
            "Epoch 67/100\n",
            "1094/1094 [==============================] - 89s 82ms/step - loss: 0.9074 - accuracy: 0.7612 - val_loss: 1.1123 - val_accuracy: 0.7110\n",
            "Epoch 68/100\n",
            "1094/1094 [==============================] - 89s 81ms/step - loss: 0.9100 - accuracy: 0.7629 - val_loss: 0.9073 - val_accuracy: 0.7687\n",
            "Epoch 69/100\n",
            "1094/1094 [==============================] - 89s 82ms/step - loss: 0.9133 - accuracy: 0.7623 - val_loss: 0.9674 - val_accuracy: 0.7502\n",
            "Epoch 70/100\n",
            "1094/1094 [==============================] - 89s 82ms/step - loss: 0.9024 - accuracy: 0.7643 - val_loss: 0.9517 - val_accuracy: 0.7522\n",
            "Epoch 71/100\n",
            "1094/1094 [==============================] - 89s 82ms/step - loss: 0.9042 - accuracy: 0.7638 - val_loss: 0.9038 - val_accuracy: 0.7717\n",
            "Epoch 72/100\n",
            "1094/1094 [==============================] - 90s 82ms/step - loss: 0.9024 - accuracy: 0.7653 - val_loss: 1.0369 - val_accuracy: 0.7278\n",
            "Epoch 73/100\n",
            "1094/1094 [==============================] - 89s 81ms/step - loss: 0.9014 - accuracy: 0.7659 - val_loss: 0.9498 - val_accuracy: 0.7557\n",
            "Epoch 74/100\n",
            "1094/1094 [==============================] - 89s 81ms/step - loss: 0.8973 - accuracy: 0.7629 - val_loss: 0.9494 - val_accuracy: 0.7570\n",
            "Epoch 75/100\n",
            "1094/1094 [==============================] - 89s 81ms/step - loss: 0.9008 - accuracy: 0.7662 - val_loss: 0.9423 - val_accuracy: 0.7601\n",
            "Epoch 76/100\n",
            "1094/1094 [==============================] - 89s 81ms/step - loss: 0.8979 - accuracy: 0.7696 - val_loss: 1.0409 - val_accuracy: 0.7295\n",
            "Epoch 77/100\n",
            "1094/1094 [==============================] - 89s 81ms/step - loss: 0.8916 - accuracy: 0.7677 - val_loss: 1.0160 - val_accuracy: 0.7406\n",
            "Epoch 78/100\n",
            "1094/1094 [==============================] - 89s 81ms/step - loss: 0.8998 - accuracy: 0.7649 - val_loss: 0.8868 - val_accuracy: 0.7768\n",
            "Epoch 79/100\n",
            "1094/1094 [==============================] - 89s 81ms/step - loss: 0.8940 - accuracy: 0.7657 - val_loss: 0.8871 - val_accuracy: 0.7800\n",
            "Epoch 80/100\n",
            "1094/1094 [==============================] - 88s 81ms/step - loss: 0.8957 - accuracy: 0.7667 - val_loss: 0.9271 - val_accuracy: 0.7645\n",
            "Epoch 81/100\n",
            "1094/1094 [==============================] - 89s 81ms/step - loss: 0.8893 - accuracy: 0.7689 - val_loss: 0.9223 - val_accuracy: 0.7669\n",
            "Epoch 82/100\n",
            "1094/1094 [==============================] - 89s 81ms/step - loss: 0.8973 - accuracy: 0.7676 - val_loss: 0.9305 - val_accuracy: 0.7606\n",
            "Epoch 83/100\n",
            "1094/1094 [==============================] - 89s 81ms/step - loss: 0.8907 - accuracy: 0.7692 - val_loss: 0.9365 - val_accuracy: 0.7635\n",
            "Epoch 84/100\n",
            "1094/1094 [==============================] - 89s 81ms/step - loss: 0.8933 - accuracy: 0.7673 - val_loss: 0.9866 - val_accuracy: 0.7498\n",
            "Epoch 85/100\n",
            "1094/1094 [==============================] - 89s 82ms/step - loss: 0.8921 - accuracy: 0.7679 - val_loss: 1.0391 - val_accuracy: 0.7378\n",
            "Epoch 86/100\n",
            "1094/1094 [==============================] - 89s 81ms/step - loss: 0.8907 - accuracy: 0.7668 - val_loss: 0.9215 - val_accuracy: 0.7612\n",
            "Epoch 87/100\n",
            "1094/1094 [==============================] - 89s 81ms/step - loss: 0.8889 - accuracy: 0.7694 - val_loss: 0.9106 - val_accuracy: 0.7665\n",
            "Epoch 88/100\n",
            "1094/1094 [==============================] - 89s 81ms/step - loss: 0.8866 - accuracy: 0.7714 - val_loss: 0.8992 - val_accuracy: 0.7705\n",
            "Epoch 89/100\n",
            "1094/1094 [==============================] - 89s 81ms/step - loss: 0.8882 - accuracy: 0.7683 - val_loss: 1.0001 - val_accuracy: 0.7490\n",
            "Epoch 90/100\n",
            "1094/1094 [==============================] - 89s 81ms/step - loss: 0.8901 - accuracy: 0.7689 - val_loss: 0.9434 - val_accuracy: 0.7577\n",
            "Epoch 91/100\n",
            "1094/1094 [==============================] - 89s 81ms/step - loss: 0.8856 - accuracy: 0.7696 - val_loss: 0.8730 - val_accuracy: 0.7805\n",
            "Epoch 92/100\n",
            "1094/1094 [==============================] - 90s 82ms/step - loss: 0.8824 - accuracy: 0.7714 - val_loss: 1.0008 - val_accuracy: 0.7437\n",
            "Epoch 93/100\n",
            "1094/1094 [==============================] - 89s 81ms/step - loss: 0.8871 - accuracy: 0.7697 - val_loss: 0.9354 - val_accuracy: 0.7586\n",
            "Epoch 94/100\n",
            "1094/1094 [==============================] - 89s 81ms/step - loss: 0.8835 - accuracy: 0.7702 - val_loss: 0.9704 - val_accuracy: 0.7519\n",
            "Epoch 95/100\n",
            "1094/1094 [==============================] - 88s 81ms/step - loss: 0.8809 - accuracy: 0.7721 - val_loss: 0.8774 - val_accuracy: 0.7787\n",
            "Epoch 96/100\n",
            "1094/1094 [==============================] - 89s 81ms/step - loss: 0.8812 - accuracy: 0.7723 - val_loss: 0.9219 - val_accuracy: 0.7662\n",
            "Epoch 97/100\n",
            "1094/1094 [==============================] - 89s 81ms/step - loss: 0.8787 - accuracy: 0.7722 - val_loss: 0.9464 - val_accuracy: 0.7600\n",
            "Epoch 98/100\n",
            "1094/1094 [==============================] - 89s 82ms/step - loss: 0.8834 - accuracy: 0.7742 - val_loss: 0.9429 - val_accuracy: 0.7591\n",
            "Epoch 99/100\n",
            "1094/1094 [==============================] - 90s 82ms/step - loss: 0.8814 - accuracy: 0.7698 - val_loss: 0.9542 - val_accuracy: 0.7502\n",
            "Epoch 100/100\n",
            "1094/1094 [==============================] - 89s 81ms/step - loss: 0.8770 - accuracy: 0.7733 - val_loss: 1.0070 - val_accuracy: 0.7422\n"
          ]
        }
      ],
      "source": [
        "history = model.fit(train_ds, \n",
        "                    epochs=100, \n",
        "                    callbacks=[callback, model_checkpoint_callback], \n",
        "                    validation_data=val_ds)"
      ]
    },
    {
      "cell_type": "markdown",
      "metadata": {},
      "source": [
        "## Evaluation session"
      ]
    },
    {
      "cell_type": "markdown",
      "metadata": {},
      "source": [
        "## Evaluate on the test set"
      ]
    },
    {
      "cell_type": "code",
      "execution_count": 11,
      "metadata": {},
      "outputs": [
        {
          "name": "stdout",
          "output_type": "stream",
          "text": [
            "157/157 [==============================] - 9s 39ms/step - loss: 1.0555 - accuracy: 0.7280\n"
          ]
        },
        {
          "data": {
            "text/plain": [
              "[1.0555343627929688, 0.7280000448226929]"
            ]
          },
          "execution_count": 11,
          "metadata": {},
          "output_type": "execute_result"
        }
      ],
      "source": [
        "model.evaluate(test_ds)"
      ]
    },
    {
      "cell_type": "markdown",
      "metadata": {},
      "source": [
        "## Evaluate based on training session"
      ]
    },
    {
      "cell_type": "code",
      "execution_count": 12,
      "metadata": {
        "id": "rwplY4tbcDpI"
      },
      "outputs": [
        {
          "data": {
            "image/png": "[encoded data removed]",
            "image/svg+xml": "<?xml version=\"1.0\" encoding=\"utf-8\" standalone=\"no\"?>\n<!DOCTYPE svg PUBLIC \"-//W3C//DTD SVG 1.1//EN\"\n  \"http://www.w3.org/Graphics/SVG/1.1/DTD/svg11.dtd\">\n<svg xmlns:xlink=\"http://www.w3.org/1999/xlink\" width=\"368.925pt\" height=\"252.317344pt\" viewBox=\"0 0 368.925 252.317344\" xmlns=\"http://www.w3.org/2000/svg\" version=\"1.1\">\n <metadata>\n  <rdf:RDF xmlns:dc=\"http://purl.org/dc/elements/1.1/\" xmlns:cc=\"http://creativecommons.org/ns#\" xmlns:rdf=\"http://www.w3.org/1999/02/22-rdf-syntax-ns#\">\n   <cc:Work>\n    <dc:type rdf:resource=\"http://purl.org/dc/dcmitype/StillImage\"/>\n    <dc:date>2022-03-15T04:27:56.174162</dc:date>\n    <dc:format>image/svg+xml</dc:format>\n    <dc:creator>\n     <cc:Agent>\n      <dc:title>Matplotlib v3.5.1, https://matplotlib.org/</dc:title>\n     </cc:Agent>\n    </dc:creator>\n   </cc:Work>\n  </rdf:RDF>\n </metadata>\n <defs>\n  <style type=\"text/css\">*{stroke-linejoin: round; stroke-linecap: butt}</style>\n </defs>\n <g id=\"figure_1\">\n  <g id=\"patch_1\">\n   <path d=\"M -0 252.317344 \nL 368.925 252.317344 \nL 368.925 0 \nL -0 0 \nL -0 252.317344 \nz\n\" style=\"fill: none\"/>\n  </g>\n  <g id=\"axes_1\">\n   <g id=\"patch_2\">\n    <path d=\"M 26.925 228.439219 \nL 361.725 228.439219 \nL 361.725 10.999219 \nL 26.925 10.999219 \nz\n\" style=\"fill: #ffffff\"/>\n   </g>\n   <g id=\"matplotlib.axis_1\">\n    <g id=\"xtick_1\">\n     <g id=\"line2d_1\">\n      <defs>\n       <path id=\"m2238e8c581\" d=\"M 0 0 \nL 0 3.5 \n\" style=\"stroke: #000000; stroke-width: 0.8\"/>\n      </defs>\n      <g>\n       <use xlink:href=\"#m2238e8c581\" x=\"42.143182\" y=\"228.439219\" style=\"stroke: #000000; stroke-width: 0.8\"/>\n      </g>\n     </g>\n     <g id=\"text_1\">\n      <!-- 0 -->\n      <g transform=\"translate(38.961932 243.037656)scale(0.1 -0.1)\">\n       <defs>\n        <path id=\"DejaVuSans-30\" d=\"M 2034 4250 \nQ 1547 4250 1301 3770 \nQ 1056 3291 1056 2328 \nQ 1056 1369 1301 889 \nQ 1547 409 2034 409 \nQ 2525 409 2770 889 \nQ 3016 1369 3016 2328 \nQ 3016 3291 2770 3770 \nQ 2525 4250 2034 4250 \nz\nM 2034 4750 \nQ 2819 4750 3233 4129 \nQ 3647 3509 3647 2328 \nQ 3647 1150 3233 529 \nQ 2819 -91 2034 -91 \nQ 1250 -91 836 529 \nQ 422 1150 422 2328 \nQ 422 3509 836 4129 \nQ 1250 4750 2034 4750 \nz\n\" transform=\"scale(0.015625)\"/>\n       </defs>\n       <use xlink:href=\"#DejaVuSans-30\"/>\n      </g>\n     </g>\n    </g>\n    <g id=\"xtick_2\">\n     <g id=\"line2d_2\">\n      <g>\n       <use xlink:href=\"#m2238e8c581\" x=\"103.630785\" y=\"228.439219\" style=\"stroke: #000000; stroke-width: 0.8\"/>\n      </g>\n     </g>\n     <g id=\"text_2\">\n      <!-- 20 -->\n      <g transform=\"translate(97.268285 243.037656)scale(0.1 -0.1)\">\n       <defs>\n        <path id=\"DejaVuSans-32\" d=\"M 1228 531 \nL 3431 531 \nL 3431 0 \nL 469 0 \nL 469 531 \nQ 828 903 1448 1529 \nQ 2069 2156 2228 2338 \nQ 2531 2678 2651 2914 \nQ 2772 3150 2772 3378 \nQ 2772 3750 2511 3984 \nQ 2250 4219 1831 4219 \nQ 1534 4219 1204 4116 \nQ 875 4013 500 3803 \nL 500 4441 \nQ 881 4594 1212 4672 \nQ 1544 4750 1819 4750 \nQ 2544 4750 2975 4387 \nQ 3406 4025 3406 3419 \nQ 3406 3131 3298 2873 \nQ 3191 2616 2906 2266 \nQ 2828 2175 2409 1742 \nQ 1991 1309 1228 531 \nz\n\" transform=\"scale(0.015625)\"/>\n       </defs>\n       <use xlink:href=\"#DejaVuSans-32\"/>\n       <use xlink:href=\"#DejaVuSans-30\" x=\"63.623047\"/>\n      </g>\n     </g>\n    </g>\n    <g id=\"xtick_3\">\n     <g id=\"line2d_3\">\n      <g>\n       <use xlink:href=\"#m2238e8c581\" x=\"165.118388\" y=\"228.439219\" style=\"stroke: #000000; stroke-width: 0.8\"/>\n      </g>\n     </g>\n     <g id=\"text_3\">\n      <!-- 40 -->\n      <g transform=\"translate(158.755888 243.037656)scale(0.1 -0.1)\">\n       <defs>\n        <path id=\"DejaVuSans-34\" d=\"M 2419 4116 \nL 825 1625 \nL 2419 1625 \nL 2419 4116 \nz\nM 2253 4666 \nL 3047 4666 \nL 3047 1625 \nL 3713 1625 \nL 3713 1100 \nL 3047 1100 \nL 3047 0 \nL 2419 0 \nL 2419 1100 \nL 313 1100 \nL 313 1709 \nL 2253 4666 \nz\n\" transform=\"scale(0.015625)\"/>\n       </defs>\n       <use xlink:href=\"#DejaVuSans-34\"/>\n       <use xlink:href=\"#DejaVuSans-30\" x=\"63.623047\"/>\n      </g>\n     </g>\n    </g>\n    <g id=\"xtick_4\">\n     <g id=\"line2d_4\">\n      <g>\n       <use xlink:href=\"#m2238e8c581\" x=\"226.605992\" y=\"228.439219\" style=\"stroke: #000000; stroke-width: 0.8\"/>\n      </g>\n     </g>\n     <g id=\"text_4\">\n      <!-- 60 -->\n      <g transform=\"translate(220.243492 243.037656)scale(0.1 -0.1)\">\n       <defs>\n        <path id=\"DejaVuSans-36\" d=\"M 2113 2584 \nQ 1688 2584 1439 2293 \nQ 1191 2003 1191 1497 \nQ 1191 994 1439 701 \nQ 1688 409 2113 409 \nQ 2538 409 2786 701 \nQ 3034 994 3034 1497 \nQ 3034 2003 2786 2293 \nQ 2538 2584 2113 2584 \nz\nM 3366 4563 \nL 3366 3988 \nQ 3128 4100 2886 4159 \nQ 2644 4219 2406 4219 \nQ 1781 4219 1451 3797 \nQ 1122 3375 1075 2522 \nQ 1259 2794 1537 2939 \nQ 1816 3084 2150 3084 \nQ 2853 3084 3261 2657 \nQ 3669 2231 3669 1497 \nQ 3669 778 3244 343 \nQ 2819 -91 2113 -91 \nQ 1303 -91 875 529 \nQ 447 1150 447 2328 \nQ 447 3434 972 4092 \nQ 1497 4750 2381 4750 \nQ 2619 4750 2861 4703 \nQ 3103 4656 3366 4563 \nz\n\" transform=\"scale(0.015625)\"/>\n       </defs>\n       <use xlink:href=\"#DejaVuSans-36\"/>\n       <use xlink:href=\"#DejaVuSans-30\" x=\"63.623047\"/>\n      </g>\n     </g>\n    </g>\n    <g id=\"xtick_5\">\n     <g id=\"line2d_5\">\n      <g>\n       <use xlink:href=\"#m2238e8c581\" x=\"288.093595\" y=\"228.439219\" style=\"stroke: #000000; stroke-width: 0.8\"/>\n      </g>\n     </g>\n     <g id=\"text_5\">\n      <!-- 80 -->\n      <g transform=\"translate(281.731095 243.037656)scale(0.1 -0.1)\">\n       <defs>\n        <path id=\"DejaVuSans-38\" d=\"M 2034 2216 \nQ 1584 2216 1326 1975 \nQ 1069 1734 1069 1313 \nQ 1069 891 1326 650 \nQ 1584 409 2034 409 \nQ 2484 409 2743 651 \nQ 3003 894 3003 1313 \nQ 3003 1734 2745 1975 \nQ 2488 2216 2034 2216 \nz\nM 1403 2484 \nQ 997 2584 770 2862 \nQ 544 3141 544 3541 \nQ 544 4100 942 4425 \nQ 1341 4750 2034 4750 \nQ 2731 4750 3128 4425 \nQ 3525 4100 3525 3541 \nQ 3525 3141 3298 2862 \nQ 3072 2584 2669 2484 \nQ 3125 2378 3379 2068 \nQ 3634 1759 3634 1313 \nQ 3634 634 3220 271 \nQ 2806 -91 2034 -91 \nQ 1263 -91 848 271 \nQ 434 634 434 1313 \nQ 434 1759 690 2068 \nQ 947 2378 1403 2484 \nz\nM 1172 3481 \nQ 1172 3119 1398 2916 \nQ 1625 2713 2034 2713 \nQ 2441 2713 2670 2916 \nQ 2900 3119 2900 3481 \nQ 2900 3844 2670 4047 \nQ 2441 4250 2034 4250 \nQ 1625 4250 1398 4047 \nQ 1172 3844 1172 3481 \nz\n\" transform=\"scale(0.015625)\"/>\n       </defs>\n       <use xlink:href=\"#DejaVuSans-38\"/>\n       <use xlink:href=\"#DejaVuSans-30\" x=\"63.623047\"/>\n      </g>\n     </g>\n    </g>\n    <g id=\"xtick_6\">\n     <g id=\"line2d_6\">\n      <g>\n       <use xlink:href=\"#m2238e8c581\" x=\"349.581198\" y=\"228.439219\" style=\"stroke: #000000; stroke-width: 0.8\"/>\n      </g>\n     </g>\n     <g id=\"text_6\">\n      <!-- 100 -->\n      <g transform=\"translate(340.037448 243.037656)scale(0.1 -0.1)\">\n       <defs>\n        <path id=\"DejaVuSans-31\" d=\"M 794 531 \nL 1825 531 \nL 1825 4091 \nL 703 3866 \nL 703 4441 \nL 1819 4666 \nL 2450 4666 \nL 2450 531 \nL 3481 531 \nL 3481 0 \nL 794 0 \nL 794 531 \nz\n\" transform=\"scale(0.015625)\"/>\n       </defs>\n       <use xlink:href=\"#DejaVuSans-31\"/>\n       <use xlink:href=\"#DejaVuSans-30\" x=\"63.623047\"/>\n       <use xlink:href=\"#DejaVuSans-30\" x=\"127.246094\"/>\n      </g>\n     </g>\n    </g>\n   </g>\n   <g id=\"matplotlib.axis_2\">\n    <g id=\"ytick_1\">\n     <g id=\"line2d_7\">\n      <defs>\n       <path id=\"m63143fa26d\" d=\"M 0 0 \nL -3.5 0 \n\" style=\"stroke: #000000; stroke-width: 0.8\"/>\n      </defs>\n      <g>\n       <use xlink:href=\"#m63143fa26d\" x=\"26.925\" y=\"228.439219\" style=\"stroke: #000000; stroke-width: 0.8\"/>\n      </g>\n     </g>\n     <g id=\"text_7\">\n      <!-- 0 -->\n      <g transform=\"translate(13.5625 232.238437)scale(0.1 -0.1)\">\n       <use xlink:href=\"#DejaVuSans-30\"/>\n      </g>\n     </g>\n    </g>\n    <g id=\"ytick_2\">\n     <g id=\"line2d_8\">\n      <g>\n       <use xlink:href=\"#m63143fa26d\" x=\"26.925\" y=\"184.951219\" style=\"stroke: #000000; stroke-width: 0.8\"/>\n      </g>\n     </g>\n     <g id=\"text_8\">\n      <!-- 2 -->\n      <g transform=\"translate(13.5625 188.750437)scale(0.1 -0.1)\">\n       <use xlink:href=\"#DejaVuSans-32\"/>\n      </g>\n     </g>\n    </g>\n    <g id=\"ytick_3\">\n     <g id=\"line2d_9\">\n      <g>\n       <use xlink:href=\"#m63143fa26d\" x=\"26.925\" y=\"141.463219\" style=\"stroke: #000000; stroke-width: 0.8\"/>\n      </g>\n     </g>\n     <g id=\"text_9\">\n      <!-- 4 -->\n      <g transform=\"translate(13.5625 145.262437)scale(0.1 -0.1)\">\n       <use xlink:href=\"#DejaVuSans-34\"/>\n      </g>\n     </g>\n    </g>\n    <g id=\"ytick_4\">\n     <g id=\"line2d_10\">\n      <g>\n       <use xlink:href=\"#m63143fa26d\" x=\"26.925\" y=\"97.975219\" style=\"stroke: #000000; stroke-width: 0.8\"/>\n      </g>\n     </g>\n     <g id=\"text_10\">\n      <!-- 6 -->\n      <g transform=\"translate(13.5625 101.774437)scale(0.1 -0.1)\">\n       <use xlink:href=\"#DejaVuSans-36\"/>\n      </g>\n     </g>\n    </g>\n    <g id=\"ytick_5\">\n     <g id=\"line2d_11\">\n      <g>\n       <use xlink:href=\"#m63143fa26d\" x=\"26.925\" y=\"54.487219\" style=\"stroke: #000000; stroke-width: 0.8\"/>\n      </g>\n     </g>\n     <g id=\"text_11\">\n      <!-- 8 -->\n      <g transform=\"translate(13.5625 58.286437)scale(0.1 -0.1)\">\n       <use xlink:href=\"#DejaVuSans-38\"/>\n      </g>\n     </g>\n    </g>\n    <g id=\"ytick_6\">\n     <g id=\"line2d_12\">\n      <g>\n       <use xlink:href=\"#m63143fa26d\" x=\"26.925\" y=\"10.999219\" style=\"stroke: #000000; stroke-width: 0.8\"/>\n      </g>\n     </g>\n     <g id=\"text_12\">\n      <!-- 10 -->\n      <g transform=\"translate(7.2 14.798437)scale(0.1 -0.1)\">\n       <use xlink:href=\"#DejaVuSans-31\"/>\n       <use xlink:href=\"#DejaVuSans-30\" x=\"63.623047\"/>\n      </g>\n     </g>\n    </g>\n   </g>\n   <g id=\"line2d_13\">\n    <path d=\"M 42.143182 94.217792 \nL 45.217562 132.057148 \nL 48.291942 149.346506 \nL 51.366322 160.791871 \nL 54.440702 169.086704 \nL 57.515083 174.985324 \nL 60.589463 179.673455 \nL 63.663843 183.421027 \nL 66.738223 186.312373 \nL 69.812603 188.610779 \nL 72.886983 190.792937 \nL 75.961364 192.544926 \nL 79.035744 194.206202 \nL 82.110124 195.418957 \nL 85.184504 196.586658 \nL 88.258884 197.674059 \nL 91.333264 198.675473 \nL 94.407645 199.521142 \nL 97.482025 200.358889 \nL 100.556405 200.973477 \nL 103.630785 201.601447 \nL 106.705165 202.053883 \nL 109.779545 202.67124 \nL 112.853926 203.015824 \nL 115.928306 203.460121 \nL 119.002686 203.728052 \nL 122.077066 204.11456 \nL 125.151446 204.363186 \nL 128.225826 204.661156 \nL 131.300207 204.880799 \nL 134.374587 205.047857 \nL 137.448967 205.490697 \nL 140.523347 205.641904 \nL 143.597727 205.770595 \nL 146.672107 205.967672 \nL 149.746488 206.199493 \nL 152.820868 206.332482 \nL 155.895248 206.518698 \nL 158.969628 206.672427 \nL 162.044008 206.786425 \nL 165.118388 206.947144 \nL 168.192769 207.04453 \nL 171.267149 207.129541 \nL 174.341529 207.285025 \nL 177.415909 207.352133 \nL 180.490289 207.384727 \nL 183.564669 207.503045 \nL 186.63905 207.755634 \nL 189.71343 207.719584 \nL 192.78781 207.832209 \nL 195.86219 207.844384 \nL 198.93657 207.961112 \nL 202.01095 208.014365 \nL 205.085331 208.052631 \nL 208.159711 208.096821 \nL 211.234091 208.301519 \nL 214.308471 208.192961 \nL 217.382851 208.363071 \nL 220.457231 208.317527 \nL 223.531612 208.400852 \nL 226.605992 208.474172 \nL 229.680372 208.433519 \nL 232.754752 208.536357 \nL 235.829132 208.639704 \nL 238.903512 208.668508 \nL 241.977893 208.613507 \nL 245.052273 208.708376 \nL 248.126653 208.652405 \nL 251.201033 208.580412 \nL 254.275413 208.816899 \nL 257.349793 208.779206 \nL 260.424174 208.81659 \nL 263.498554 208.838834 \nL 266.572934 208.927796 \nL 269.647314 208.851169 \nL 272.721694 208.915626 \nL 275.796074 209.052595 \nL 278.870455 208.873436 \nL 281.944835 208.99955 \nL 285.019215 208.963953 \nL 288.093595 209.102253 \nL 291.167975 208.927508 \nL 294.242355 209.07253 \nL 297.316736 209.015342 \nL 300.391116 209.042216 \nL 303.465496 209.071298 \nL 306.539876 209.110145 \nL 309.614256 209.160387 \nL 312.688636 209.126109 \nL 315.763017 209.084345 \nL 318.837397 209.183352 \nL 321.911777 209.251405 \nL 324.986157 209.150852 \nL 328.060537 209.229387 \nL 331.134917 209.284939 \nL 334.209298 209.277811 \nL 337.283678 209.33338 \nL 340.358058 209.229485 \nL 343.432438 209.274367 \nL 346.506818 209.368932 \n\" clip-path=\"url(#p4ad16bf0bf)\" style=\"fill: none; stroke: #ff0000; stroke-width: 1.5; stroke-linecap: square\"/>\n   </g>\n   <g id=\"line2d_14\">\n    <path d=\"M 42.143182 113.177383 \nL 45.217562 137.908037 \nL 48.291942 145.561329 \nL 51.366322 158.448749 \nL 54.440702 167.046384 \nL 57.515083 174.499018 \nL 60.589463 176.807629 \nL 63.663843 181.5684 \nL 66.738223 181.800003 \nL 69.812603 188.587414 \nL 72.886983 190.679407 \nL 75.961364 192.449921 \nL 79.035744 192.808751 \nL 82.110124 196.26046 \nL 85.184504 196.777555 \nL 88.258884 198.74455 \nL 91.333264 198.469667 \nL 94.407645 196.662583 \nL 97.482025 200.845265 \nL 100.556405 200.288915 \nL 103.630785 202.670211 \nL 106.705165 202.498026 \nL 109.779545 200.509038 \nL 112.853926 203.213269 \nL 115.928306 201.806559 \nL 119.002686 203.018186 \nL 122.077066 203.878489 \nL 125.151446 204.612158 \nL 128.225826 204.159756 \nL 131.300207 204.035245 \nL 134.374587 203.857602 \nL 137.448967 205.958659 \nL 140.523347 205.019502 \nL 143.597727 206.524346 \nL 146.672107 205.461453 \nL 149.746488 206.16459 \nL 152.820868 206.381965 \nL 155.895248 204.862038 \nL 158.969628 207.160973 \nL 162.044008 207.144232 \nL 165.118388 206.399218 \nL 168.192769 204.208772 \nL 171.267149 207.206631 \nL 174.341529 206.115418 \nL 177.415909 206.491167 \nL 180.490289 203.481464 \nL 183.564669 206.947588 \nL 186.63905 205.895117 \nL 189.71343 207.692257 \nL 192.78781 206.051884 \nL 195.86219 204.755835 \nL 198.93657 208.256522 \nL 202.01095 207.563738 \nL 205.085331 208.135731 \nL 208.159711 207.11944 \nL 211.234091 208.552217 \nL 214.308471 205.616071 \nL 217.382851 206.095573 \nL 220.457231 207.871246 \nL 223.531612 209.051616 \nL 226.605992 207.924197 \nL 229.680372 208.824289 \nL 232.754752 206.403814 \nL 235.829132 208.944159 \nL 238.903512 208.307387 \nL 241.977893 207.209506 \nL 245.052273 204.253864 \nL 248.126653 208.710683 \nL 251.201033 207.402987 \nL 254.275413 207.744672 \nL 257.349793 208.787484 \nL 260.424174 205.89339 \nL 263.498554 207.786349 \nL 266.572934 207.796239 \nL 269.647314 207.949505 \nL 272.721694 205.805119 \nL 275.796074 206.347742 \nL 278.870455 209.155885 \nL 281.944835 209.150605 \nL 285.019215 208.279623 \nL 288.093595 208.384777 \nL 291.167975 208.207021 \nL 294.242355 208.075684 \nL 297.316736 206.986205 \nL 300.391116 205.8446 \nL 303.465496 208.401234 \nL 306.539876 208.63894 \nL 309.614256 208.886503 \nL 312.688636 206.692728 \nL 315.763017 207.925892 \nL 318.837397 209.457547 \nL 321.911777 206.677243 \nL 324.986157 208.10087 \nL 328.060537 207.337827 \nL 331.134917 209.36209 \nL 334.209298 208.393424 \nL 337.283678 207.860382 \nL 340.358058 207.937028 \nL 343.432438 207.690488 \nL 346.506818 206.543766 \n\" clip-path=\"url(#p4ad16bf0bf)\" style=\"fill: none; stroke: #0000ff; stroke-width: 1.5; stroke-linecap: square\"/>\n   </g>\n   <g id=\"patch_3\">\n    <path d=\"M 26.925 228.439219 \nL 26.925 10.999219 \n\" style=\"fill: none; stroke: #000000; stroke-width: 0.8; stroke-linejoin: miter; stroke-linecap: square\"/>\n   </g>\n   <g id=\"patch_4\">\n    <path d=\"M 361.725 228.439219 \nL 361.725 10.999219 \n\" style=\"fill: none; stroke: #000000; stroke-width: 0.8; stroke-linejoin: miter; stroke-linecap: square\"/>\n   </g>\n   <g id=\"patch_5\">\n    <path d=\"M 26.925 228.439219 \nL 361.725 228.439219 \n\" style=\"fill: none; stroke: #000000; stroke-width: 0.8; stroke-linejoin: miter; stroke-linecap: square\"/>\n   </g>\n   <g id=\"patch_6\">\n    <path d=\"M 26.925 10.999219 \nL 361.725 10.999219 \n\" style=\"fill: none; stroke: #000000; stroke-width: 0.8; stroke-linejoin: miter; stroke-linecap: square\"/>\n   </g>\n   <g id=\"legend_1\">\n    <g id=\"patch_7\">\n     <path d=\"M 250.85 48.355469 \nL 354.725 48.355469 \nQ 356.725 48.355469 356.725 46.355469 \nL 356.725 17.999219 \nQ 356.725 15.999219 354.725 15.999219 \nL 250.85 15.999219 \nQ 248.85 15.999219 248.85 17.999219 \nL 248.85 46.355469 \nQ 248.85 48.355469 250.85 48.355469 \nz\n\" style=\"fill: #ffffff; opacity: 0.8; stroke: #cccccc; stroke-linejoin: miter\"/>\n    </g>\n    <g id=\"line2d_15\">\n     <path d=\"M 252.85 24.097656 \nL 262.85 24.097656 \nL 272.85 24.097656 \n\" style=\"fill: none; stroke: #ff0000; stroke-width: 1.5; stroke-linecap: square\"/>\n    </g>\n    <g id=\"text_13\">\n     <!-- Train loss -->\n     <g transform=\"translate(280.85 27.597656)scale(0.1 -0.1)\">\n      <defs>\n       <path id=\"DejaVuSans-54\" d=\"M -19 4666 \nL 3928 4666 \nL 3928 4134 \nL 2272 4134 \nL 2272 0 \nL 1638 0 \nL 1638 4134 \nL -19 4134 \nL -19 4666 \nz\n\" transform=\"scale(0.015625)\"/>\n       <path id=\"DejaVuSans-72\" d=\"M 2631 2963 \nQ 2534 3019 2420 3045 \nQ 2306 3072 2169 3072 \nQ 1681 3072 1420 2755 \nQ 1159 2438 1159 1844 \nL 1159 0 \nL 581 0 \nL 581 3500 \nL 1159 3500 \nL 1159 2956 \nQ 1341 3275 1631 3429 \nQ 1922 3584 2338 3584 \nQ 2397 3584 2469 3576 \nQ 2541 3569 2628 3553 \nL 2631 2963 \nz\n\" transform=\"scale(0.015625)\"/>\n       <path id=\"DejaVuSans-61\" d=\"M 2194 1759 \nQ 1497 1759 1228 1600 \nQ 959 1441 959 1056 \nQ 959 750 1161 570 \nQ 1363 391 1709 391 \nQ 2188 391 2477 730 \nQ 2766 1069 2766 1631 \nL 2766 1759 \nL 2194 1759 \nz\nM 3341 1997 \nL 3341 0 \nL 2766 0 \nL 2766 531 \nQ 2569 213 2275 61 \nQ 1981 -91 1556 -91 \nQ 1019 -91 701 211 \nQ 384 513 384 1019 \nQ 384 1609 779 1909 \nQ 1175 2209 1959 2209 \nL 2766 2209 \nL 2766 2266 \nQ 2766 2663 2505 2880 \nQ 2244 3097 1772 3097 \nQ 1472 3097 1187 3025 \nQ 903 2953 641 2809 \nL 641 3341 \nQ 956 3463 1253 3523 \nQ 1550 3584 1831 3584 \nQ 2591 3584 2966 3190 \nQ 3341 2797 3341 1997 \nz\n\" transform=\"scale(0.015625)\"/>\n       <path id=\"DejaVuSans-69\" d=\"M 603 3500 \nL 1178 3500 \nL 1178 0 \nL 603 0 \nL 603 3500 \nz\nM 603 4863 \nL 1178 4863 \nL 1178 4134 \nL 603 4134 \nL 603 4863 \nz\n\" transform=\"scale(0.015625)\"/>\n       <path id=\"DejaVuSans-6e\" d=\"M 3513 2113 \nL 3513 0 \nL 2938 0 \nL 2938 2094 \nQ 2938 2591 2744 2837 \nQ 2550 3084 2163 3084 \nQ 1697 3084 1428 2787 \nQ 1159 2491 1159 1978 \nL 1159 0 \nL 581 0 \nL 581 3500 \nL 1159 3500 \nL 1159 2956 \nQ 1366 3272 1645 3428 \nQ 1925 3584 2291 3584 \nQ 2894 3584 3203 3211 \nQ 3513 2838 3513 2113 \nz\n\" transform=\"scale(0.015625)\"/>\n       <path id=\"DejaVuSans-20\" transform=\"scale(0.015625)\"/>\n       <path id=\"DejaVuSans-6c\" d=\"M 603 4863 \nL 1178 4863 \nL 1178 0 \nL 603 0 \nL 603 4863 \nz\n\" transform=\"scale(0.015625)\"/>\n       <path id=\"DejaVuSans-6f\" d=\"M 1959 3097 \nQ 1497 3097 1228 2736 \nQ 959 2375 959 1747 \nQ 959 1119 1226 758 \nQ 1494 397 1959 397 \nQ 2419 397 2687 759 \nQ 2956 1122 2956 1747 \nQ 2956 2369 2687 2733 \nQ 2419 3097 1959 3097 \nz\nM 1959 3584 \nQ 2709 3584 3137 3096 \nQ 3566 2609 3566 1747 \nQ 3566 888 3137 398 \nQ 2709 -91 1959 -91 \nQ 1206 -91 779 398 \nQ 353 888 353 1747 \nQ 353 2609 779 3096 \nQ 1206 3584 1959 3584 \nz\n\" transform=\"scale(0.015625)\"/>\n       <path id=\"DejaVuSans-73\" d=\"M 2834 3397 \nL 2834 2853 \nQ 2591 2978 2328 3040 \nQ 2066 3103 1784 3103 \nQ 1356 3103 1142 2972 \nQ 928 2841 928 2578 \nQ 928 2378 1081 2264 \nQ 1234 2150 1697 2047 \nL 1894 2003 \nQ 2506 1872 2764 1633 \nQ 3022 1394 3022 966 \nQ 3022 478 2636 193 \nQ 2250 -91 1575 -91 \nQ 1294 -91 989 -36 \nQ 684 19 347 128 \nL 347 722 \nQ 666 556 975 473 \nQ 1284 391 1588 391 \nQ 1994 391 2212 530 \nQ 2431 669 2431 922 \nQ 2431 1156 2273 1281 \nQ 2116 1406 1581 1522 \nL 1381 1569 \nQ 847 1681 609 1914 \nQ 372 2147 372 2553 \nQ 372 3047 722 3315 \nQ 1072 3584 1716 3584 \nQ 2034 3584 2315 3537 \nQ 2597 3491 2834 3397 \nz\n\" transform=\"scale(0.015625)\"/>\n      </defs>\n      <use xlink:href=\"#DejaVuSans-54\"/>\n      <use xlink:href=\"#DejaVuSans-72\" x=\"46.333984\"/>\n      <use xlink:href=\"#DejaVuSans-61\" x=\"87.447266\"/>\n      <use xlink:href=\"#DejaVuSans-69\" x=\"148.726562\"/>\n      <use xlink:href=\"#DejaVuSans-6e\" x=\"176.509766\"/>\n      <use xlink:href=\"#DejaVuSans-20\" x=\"239.888672\"/>\n      <use xlink:href=\"#DejaVuSans-6c\" x=\"271.675781\"/>\n      <use xlink:href=\"#DejaVuSans-6f\" x=\"299.458984\"/>\n      <use xlink:href=\"#DejaVuSans-73\" x=\"360.640625\"/>\n      <use xlink:href=\"#DejaVuSans-73\" x=\"412.740234\"/>\n     </g>\n    </g>\n    <g id=\"line2d_16\">\n     <path d=\"M 252.85 38.775781 \nL 262.85 38.775781 \nL 272.85 38.775781 \n\" style=\"fill: none; stroke: #0000ff; stroke-width: 1.5; stroke-linecap: square\"/>\n    </g>\n    <g id=\"text_14\">\n     <!-- Validation loss -->\n     <g transform=\"translate(280.85 42.275781)scale(0.1 -0.1)\">\n      <defs>\n       <path id=\"DejaVuSans-56\" d=\"M 1831 0 \nL 50 4666 \nL 709 4666 \nL 2188 738 \nL 3669 4666 \nL 4325 4666 \nL 2547 0 \nL 1831 0 \nz\n\" transform=\"scale(0.015625)\"/>\n       <path id=\"DejaVuSans-64\" d=\"M 2906 2969 \nL 2906 4863 \nL 3481 4863 \nL 3481 0 \nL 2906 0 \nL 2906 525 \nQ 2725 213 2448 61 \nQ 2172 -91 1784 -91 \nQ 1150 -91 751 415 \nQ 353 922 353 1747 \nQ 353 2572 751 3078 \nQ 1150 3584 1784 3584 \nQ 2172 3584 2448 3432 \nQ 2725 3281 2906 2969 \nz\nM 947 1747 \nQ 947 1113 1208 752 \nQ 1469 391 1925 391 \nQ 2381 391 2643 752 \nQ 2906 1113 2906 1747 \nQ 2906 2381 2643 2742 \nQ 2381 3103 1925 3103 \nQ 1469 3103 1208 2742 \nQ 947 2381 947 1747 \nz\n\" transform=\"scale(0.015625)\"/>\n       <path id=\"DejaVuSans-74\" d=\"M 1172 4494 \nL 1172 3500 \nL 2356 3500 \nL 2356 3053 \nL 1172 3053 \nL 1172 1153 \nQ 1172 725 1289 603 \nQ 1406 481 1766 481 \nL 2356 481 \nL 2356 0 \nL 1766 0 \nQ 1100 0 847 248 \nQ 594 497 594 1153 \nL 594 3053 \nL 172 3053 \nL 172 3500 \nL 594 3500 \nL 594 4494 \nL 1172 4494 \nz\n\" transform=\"scale(0.015625)\"/>\n      </defs>\n      <use xlink:href=\"#DejaVuSans-56\"/>\n      <use xlink:href=\"#DejaVuSans-61\" x=\"60.658203\"/>\n      <use xlink:href=\"#DejaVuSans-6c\" x=\"121.9375\"/>\n      <use xlink:href=\"#DejaVuSans-69\" x=\"149.720703\"/>\n      <use xlink:href=\"#DejaVuSans-64\" x=\"177.503906\"/>\n      <use xlink:href=\"#DejaVuSans-61\" x=\"240.980469\"/>\n      <use xlink:href=\"#DejaVuSans-74\" x=\"302.259766\"/>\n      <use xlink:href=\"#DejaVuSans-69\" x=\"341.46875\"/>\n      <use xlink:href=\"#DejaVuSans-6f\" x=\"369.251953\"/>\n      <use xlink:href=\"#DejaVuSans-6e\" x=\"430.433594\"/>\n      <use xlink:href=\"#DejaVuSans-20\" x=\"493.8125\"/>\n      <use xlink:href=\"#DejaVuSans-6c\" x=\"525.599609\"/>\n      <use xlink:href=\"#DejaVuSans-6f\" x=\"553.382812\"/>\n      <use xlink:href=\"#DejaVuSans-73\" x=\"614.564453\"/>\n      <use xlink:href=\"#DejaVuSans-73\" x=\"666.664062\"/>\n     </g>\n    </g>\n   </g>\n  </g>\n </g>\n <defs>\n  <clipPath id=\"p4ad16bf0bf\">\n   <rect x=\"26.925\" y=\"10.999219\" width=\"334.8\" height=\"217.44\"/>\n  </clipPath>\n </defs>\n</svg>\n",
            "text/plain": [
              "<Figure size 432x288 with 1 Axes>"
            ]
          },
          "metadata": {
            "needs_background": "light"
          },
          "output_type": "display_data"
        }
      ],
      "source": [
        "plt.plot(history.history['loss'], color='red', label='Train loss')\n",
        "plt.plot(history.history['val_loss'], color='blue', label='Validation loss')\n",
        "plt.ylim((0, 10))\n",
        "plt.legend()\n",
        "plt.show()"
      ]
    }
  ],
  "metadata": {
    "accelerator": "GPU",
    "colab": {
      "name": "AI Series.ipynb",
      "provenance": []
    },
    "kernelspec": {
      "display_name": "Python 3",
      "name": "python3"
    },
    "language_info": {
      "codemirror_mode": {
        "name": "ipython",
        "version": 3
      },
      "file_extension": ".py",
      "mimetype": "text/x-python",
      "name": "python",
      "nbconvert_exporter": "python",
      "pygments_lexer": "ipython3",
      "version": "3.9.10"
    }
  },
  "nbformat": 4,
  "nbformat_minor": 0
}
