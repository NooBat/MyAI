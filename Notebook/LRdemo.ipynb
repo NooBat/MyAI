{
 "cells": [
  {
   "cell_type": "code",
   "execution_count": 20,
   "metadata": {},
   "outputs": [
    {
     "name": "stdout",
     "output_type": "stream",
     "text": [
      "[[1]\n",
      " [2]\n",
      " [3]]\n"
     ]
    }
   ],
   "source": [
    "import numpy as np\n",
    "import pandas as pd\n",
    "import matplotlib.pyplot as plt\n",
    "\n",
    "A = [[1, 2, 3]]\n",
    "\n",
    "arr = np.array(A)\n",
    "\n",
    "print(arr.T)"
   ]
  }
 ],
 "metadata": {
  "interpreter": {
   "hash": "993f3ff584d80b65848152c62deda0f46d24ecbd57ea74dc122db5b752f257c3"
  },
  "kernelspec": {
   "display_name": "Python 3.7.11 64-bit ('data': conda)",
   "language": "python",
   "name": "python3"
  },
  "language_info": {
   "codemirror_mode": {
    "name": "ipython",
    "version": 3
   },
   "file_extension": ".py",
   "mimetype": "text/x-python",
   "name": "python",
   "nbconvert_exporter": "python",
   "pygments_lexer": "ipython3",
   "version": "3.7.11"
  },
  "orig_nbformat": 4
 },
 "nbformat": 4,
 "nbformat_minor": 2
}
