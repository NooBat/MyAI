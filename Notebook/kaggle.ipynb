{
 "cells": [
  {
   "cell_type": "code",
   "execution_count": null,
   "metadata": {},
   "outputs": [],
   "source": [
    "import matplotlib.pyplot as plt\n",
    "import numpy as np\n",
    "import pandas as pd\n",
    "\n",
    "column_names = ['ID', 'Label']\n",
    "raw_data_set = pd.read_csv('/Users/danielnguyen/Repo/AI/gdsc-aiseries/trainLabels.csv', index_col = 0)\n",
    "\n",
    "data_set = raw_data_set.copy()\n",
    "data_set[\"label_length\"] = data_set[\"label\"].apply(len)\n",
    "\n",
    "print(data_set.tail())"
   ]
  }
 ],
 "metadata": {
  "interpreter": {
   "hash": "993f3ff584d80b65848152c62deda0f46d24ecbd57ea74dc122db5b752f257c3"
  },
  "kernelspec": {
   "display_name": "Python 3.7.11 64-bit ('data': conda)",
   "language": "python",
   "name": "python3"
  },
  "language_info": {
   "codemirror_mode": {
    "name": "ipython",
    "version": 3
   },
   "file_extension": ".py",
   "mimetype": "text/x-python",
   "name": "python",
   "nbconvert_exporter": "python",
   "pygments_lexer": "ipython3",
   "version": "3.7.11"
  },
  "orig_nbformat": 4
 },
 "nbformat": 4,
 "nbformat_minor": 2
}
