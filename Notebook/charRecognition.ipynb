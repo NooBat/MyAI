{
 "cells": [
  {
   "cell_type": "code",
   "execution_count": 1,
   "metadata": {},
   "outputs": [
    {
     "name": "stdout",
     "output_type": "stream",
     "text": [
      "Found 1729 images belonging to 32 classes.\n",
      "Found 417 images belonging to 32 classes.\n"
     ]
    }
   ],
   "source": [
    "import os\n",
    "import shutil\n",
    "import tensorflow as tf\n",
    "import numpy as np\n",
    "import matplotlib.pyplot as plt\n",
    "import matplotlib.image as mpimg\n",
    "from tensorflow import keras\n",
    "from keras_preprocessing import image\n",
    "from keras_preprocessing.image import ImageDataGenerator\n",
    "\n",
    "class_names = ['0', '1', '2', '3', \n",
    "               '4', '5', '6', '7', \n",
    "               '8', '9', 'A', 'B', \n",
    "               'C', 'D', 'E', 'F', \n",
    "               'G', 'H', 'K', 'L', \n",
    "               'M', 'N', 'O', 'P', \n",
    "               'R', 'S', 'T', 'U', \n",
    "               'V', 'X', 'Y', 'Z']\n",
    "\n",
    "datagen = ImageDataGenerator(\n",
    "    rescale=1.0/255, \n",
    "    validation_split=0.2,\n",
    ")\n",
    "\n",
    "train_generator = datagen.flow_from_directory(\n",
    "    \"../Training_set/charTrainset\", \n",
    "    target_size=(28,12), \n",
    "    batch_size=20,\n",
    "    subset='training',\n",
    "    class_mode='sparse'\n",
    ")\n",
    "\n",
    "validation_generator = datagen.flow_from_directory(\n",
    "    \"../Training_set/charTrainset\", \n",
    "    target_size=(28,12), \n",
    "    batch_size=20,\n",
    "    subset='validation',\n",
    "    class_mode='sparse'\n",
    ")"
   ]
  },
  {
   "cell_type": "code",
   "execution_count": 2,
   "metadata": {},
   "outputs": [
    {
     "name": "stderr",
     "output_type": "stream",
     "text": [
      "2022-01-06 21:33:18.217981: I tensorflow/core/platform/cpu_feature_guard.cc:145] This TensorFlow binary is optimized with Intel(R) MKL-DNN to use the following CPU instructions in performance critical operations:  SSE4.1 SSE4.2 AVX AVX2 FMA\n",
      "To enable them in non-MKL-DNN operations, rebuild TensorFlow with the appropriate compiler flags.\n",
      "2022-01-06 21:33:18.218624: I tensorflow/core/common_runtime/process_util.cc:115] Creating new thread pool with default inter op setting: 4. Tune using inter_op_parallelism_threads for best performance.\n"
     ]
    }
   ],
   "source": [
    "model = tf.keras.models.Sequential([\n",
    "    tf.keras.layers.Conv2D(64, (3,3), activation='relu', \n",
    "                           padding='same',\n",
    "                           input_shape=(28, 12, 3)),\n",
    "    tf.keras.layers.Conv2D(64, (3,3), activation='relu',\n",
    "                           padding='same'),\n",
    "    tf.keras.layers.MaxPooling2D(2, 2),\n",
    "    tf.keras.layers.Conv2D(128, (3,3), activation='relu', \n",
    "                           padding='same'),\n",
    "    tf.keras.layers.Conv2D(128, (3,3), activation='relu',\n",
    "                           padding='same'),\n",
    "    tf.keras.layers.MaxPooling2D(2, 2),\n",
    "    tf.keras.layers.Flatten(),\n",
    "    tf.keras.layers.Dense(256, activation='relu'),\n",
    "    tf.keras.layers.Dropout(0.3),\n",
    "    tf.keras.layers.Dense(512, activation='relu'),\n",
    "    tf.keras.layers.Dropout(0.3),\n",
    "    tf.keras.layers.Dense(32, activation='softmax')\n",
    "])"
   ]
  },
  {
   "cell_type": "code",
   "execution_count": 3,
   "metadata": {},
   "outputs": [
    {
     "name": "stdout",
     "output_type": "stream",
     "text": [
      "Model: \"sequential\"\n",
      "_________________________________________________________________\n",
      "Layer (type)                 Output Shape              Param #   \n",
      "=================================================================\n",
      "conv2d (Conv2D)              (None, 28, 12, 64)        1792      \n",
      "_________________________________________________________________\n",
      "conv2d_1 (Conv2D)            (None, 28, 12, 64)        36928     \n",
      "_________________________________________________________________\n",
      "max_pooling2d (MaxPooling2D) (None, 14, 6, 64)         0         \n",
      "_________________________________________________________________\n",
      "conv2d_2 (Conv2D)            (None, 14, 6, 128)        73856     \n",
      "_________________________________________________________________\n",
      "conv2d_3 (Conv2D)            (None, 14, 6, 128)        147584    \n",
      "_________________________________________________________________\n",
      "max_pooling2d_1 (MaxPooling2 (None, 7, 3, 128)         0         \n",
      "_________________________________________________________________\n",
      "flatten (Flatten)            (None, 2688)              0         \n",
      "_________________________________________________________________\n",
      "dense (Dense)                (None, 256)               688384    \n",
      "_________________________________________________________________\n",
      "dropout (Dropout)            (None, 256)               0         \n",
      "_________________________________________________________________\n",
      "dense_1 (Dense)              (None, 512)               131584    \n",
      "_________________________________________________________________\n",
      "dropout_1 (Dropout)          (None, 512)               0         \n",
      "_________________________________________________________________\n",
      "dense_2 (Dense)              (None, 32)                16416     \n",
      "=================================================================\n",
      "Total params: 1,096,544\n",
      "Trainable params: 1,096,544\n",
      "Non-trainable params: 0\n",
      "_________________________________________________________________\n"
     ]
    }
   ],
   "source": [
    "model.summary()"
   ]
  },
  {
   "cell_type": "code",
   "execution_count": 4,
   "metadata": {},
   "outputs": [],
   "source": [
    "model.compile(optimizer=tf.keras.optimizers.Adam(learning_rate=0.0001),\n",
    "              loss='sparse_categorical_crossentropy',\n",
    "              metrics=['accuracy'])"
   ]
  },
  {
   "cell_type": "code",
   "execution_count": 12,
   "metadata": {},
   "outputs": [],
   "source": [
    "class stopCallback(tf.keras.callbacks.Callback):\n",
    "    def on_epoch_end(self, epoch, logs={}) :\n",
    "        if (logs.get('accuracy') > 0.99) :\n",
    "            print('\\nReached 99% accuracy so stopping training')\n",
    "            self.model.stop_training = True"
   ]
  },
  {
   "cell_type": "code",
   "execution_count": 13,
   "metadata": {},
   "outputs": [
    {
     "name": "stdout",
     "output_type": "stream",
     "text": [
      "Train for 87 steps\n",
      "Epoch 1/200\n",
      "87/87 [==============================] - 15s 168ms/step - loss: 0.0506 - accuracy: 0.9850\n",
      "Epoch 2/200\n",
      "87/87 [==============================] - 14s 156ms/step - loss: 0.0458 - accuracy: 0.9855\n",
      "Epoch 3/200\n",
      "87/87 [==============================] - 15s 176ms/step - loss: 0.0448 - accuracy: 0.9844\n",
      "Epoch 4/200\n",
      "87/87 [==============================] - 15s 173ms/step - loss: 0.0362 - accuracy: 0.9861\n",
      "Epoch 5/200\n",
      "87/87 [==============================] - 14s 165ms/step - loss: 0.0534 - accuracy: 0.9832\n",
      "Epoch 6/200\n",
      "87/87 [==============================] - 15s 177ms/step - loss: 0.0316 - accuracy: 0.9873\n",
      "Epoch 7/200\n",
      "86/87 [============================>.] - ETA: 0s - loss: 0.0255 - accuracy: 0.9901\n",
      "Reached 99% accuracy so stopping training\n",
      "87/87 [==============================] - 15s 173ms/step - loss: 0.0252 - accuracy: 0.9902\n"
     ]
    },
    {
     "data": {
      "text/plain": [
       "<tensorflow.python.keras.callbacks.History at 0x7ff1ee029f50>"
      ]
     },
     "execution_count": 13,
     "metadata": {},
     "output_type": "execute_result"
    }
   ],
   "source": [
    "callback = stopCallback()\n",
    "model.fit(train_generator, epochs=200, callbacks=[callback])"
   ]
  },
  {
   "cell_type": "code",
   "execution_count": 14,
   "metadata": {},
   "outputs": [
    {
     "name": "stdout",
     "output_type": "stream",
     "text": [
      "21/21 [==============================] - 1s 58ms/step - loss: 0.1555 - accuracy: 0.9568\n"
     ]
    },
    {
     "data": {
      "text/plain": [
       "[0.15554114405642308, 0.95683455]"
      ]
     },
     "execution_count": 14,
     "metadata": {},
     "output_type": "execute_result"
    }
   ],
   "source": [
    "model.evaluate(validation_generator, verbose=1)"
   ]
  },
  {
   "cell_type": "code",
   "execution_count": 9,
   "metadata": {},
   "outputs": [],
   "source": [
    "path1 = \"../Testing_set/greenparkingchar\"\n",
    "path2 = \"../Testing_set/greenparking2char\"\n",
    "\n",
    "all_path = [path1, path2]\n",
    "\n",
    "final = \"../charLabel/\"\n",
    "\n",
    "i = 1\n",
    "\n",
    "for path in all_path:\n",
    "    for file in os.listdir(path) :\n",
    "        image_mp= mpimg.imread(path + '/' + file) / 255\n",
    "        image_mp = np.expand_dims(image_mp, axis=0)\n",
    "        shutil.copyfile(path + '/' + file, final + class_names[np.argmax(model.predict(image_mp))] + '/' + file)\n",
    "        i += 1\n",
    "        if i == 10:\n",
    "            break\n",
    "    if i == 10:\n",
    "        break"
   ]
  }
 ],
 "metadata": {
  "interpreter": {
   "hash": "f57fbe0b1856e2b4828360cd3b6d6681c33bcdd458e957abc38b45496cd84ba2"
  },
  "kernelspec": {
   "display_name": "Python 3.7.11 64-bit ('ds': conda)",
   "language": "python",
   "name": "python3"
  },
  "language_info": {
   "codemirror_mode": {
    "name": "ipython",
    "version": 3
   },
   "file_extension": ".py",
   "mimetype": "text/x-python",
   "name": "python",
   "nbconvert_exporter": "python",
   "pygments_lexer": "ipython3",
   "version": "3.7.11"
  },
  "orig_nbformat": 4
 },
 "nbformat": 4,
 "nbformat_minor": 2
}
