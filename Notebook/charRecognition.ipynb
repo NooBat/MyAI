{
 "cells": [
  {
   "cell_type": "code",
   "execution_count": null,
   "metadata": {},
   "outputs": [],
   "source": [
    "import os\n",
    "import shutil\n",
    "import tensorflow as tf\n",
    "import numpy as np\n",
    "import matplotlib.pyplot as plt\n",
    "import matplotlib.image as mpimg\n",
    "from tensorflow import keras\n",
    "from keras_preprocessing import image\n",
    "from keras_preprocessing.image import ImageDataGenerator\n",
    "\n",
    "class_names = ['0', '1', '2', '3', \n",
    "               '4', '5', '6', '7', \n",
    "               '8', '9', 'A', 'B', \n",
    "               'C', 'D', 'E', 'F', \n",
    "               'G', 'H', 'K', 'L', \n",
    "               'M', 'N', 'O', 'P', \n",
    "               'R', 'S', 'T', 'U', \n",
    "               'V', 'X', 'Y', 'Z']\n",
    "\n",
    "datagen = ImageDataGenerator(\n",
    "    rescale=1.0/255, \n",
    "    validation_split=0.2,\n",
    ")\n",
    "\n",
    "train_generator = datagen.flow_from_directory(\n",
    "    \"../Training_set/charTrainset\", \n",
    "    target_size=(28,12), \n",
    "    batch_size=20,\n",
    "    subset='training',\n",
    "    class_mode='sparse'\n",
    ")\n",
    "\n",
    "validation_generator = datagen.flow_from_directory(\n",
    "    \"../Training_set/charTrainset\", \n",
    "    target_size=(28,12), \n",
    "    batch_size=20,\n",
    "    subset='validation',\n",
    "    class_mode='sparse'\n",
    ")"
   ]
  },
  {
   "cell_type": "code",
   "execution_count": null,
   "metadata": {},
   "outputs": [],
   "source": [
    "# model = tf.keras.models.Sequential([\n",
    "#     tf.keras.layers.Conv2D(128, (5,5), activation='elu', \n",
    "#                            padding='same',\n",
    "#                            input_shape=(28, 12, 3)),\n",
    "#     tf.keras.layers.Conv2D(128, (5,5), activation='elu',\n",
    "#                            padding='same'),\n",
    "#     tf.keras.layers.MaxPooling2D(2, 2),\n",
    "#     tf.keras.layers.Conv2D(256, (3,3), activation='elu', \n",
    "#                            padding='same'),\n",
    "#     tf.keras.layers.Conv2D(256, (3,3), activation='elu',\n",
    "#                            padding='same'),\n",
    "#     tf.keras.layers.Conv2D(128, (3,3), activation='elu',\n",
    "#                            padding='same'),\n",
    "#     tf.keras.layers.MaxPooling2D(2, 2),\n",
    "#     tf.keras.layers.Flatten(),\n",
    "#     tf.keras.layers.Dense(64, activation='elu'),\n",
    "#     tf.keras.layers.Dropout(0.5),\n",
    "#     tf.keras.layers.Dense(128, activation='elu'),\n",
    "#     tf.keras.layers.Dropout(0.4),\n",
    "#     tf.keras.layers.Dense(32, activation='softmax')\n",
    "# ])\n",
    "model = tf.keras.models.load_model('../Model/Model2')"
   ]
  },
  {
   "cell_type": "code",
   "execution_count": null,
   "metadata": {},
   "outputs": [],
   "source": [
    "model.summary()"
   ]
  },
  {
   "cell_type": "code",
   "execution_count": null,
   "metadata": {},
   "outputs": [],
   "source": [
    "# model.compile(optimizer=tf.keras.optimizers.Adam(learning_rate=0.0001),\n",
    "#               loss='sparse_categorical_crossentropy',\n",
    "#               metrics=['accuracy'])"
   ]
  },
  {
   "cell_type": "code",
   "execution_count": null,
   "metadata": {},
   "outputs": [],
   "source": [
    "# class stopCallback(tf.keras.callbacks.Callback):\n",
    "#     def on_epoch_end(self, epoch, logs={}) :\n",
    "#         if (logs.get('accuracy') > 0.99) :\n",
    "#             print('\\nReached 99% accuracy so stopping training')\n",
    "#             self.model.stop_training = True"
   ]
  },
  {
   "cell_type": "code",
   "execution_count": null,
   "metadata": {},
   "outputs": [],
   "source": [
    "# callback = stopCallback()\n",
    "# model.fit(train_generator, epochs=100, callbacks=[callback])"
   ]
  },
  {
   "cell_type": "code",
   "execution_count": null,
   "metadata": {},
   "outputs": [],
   "source": [
    "# model.evaluate(validation_generator, verbose=1)"
   ]
  },
  {
   "cell_type": "code",
   "execution_count": null,
   "metadata": {},
   "outputs": [],
   "source": [
    "path1 = \"../Testing_set/greenparkingchar\"\n",
    "path2 = \"../Testing_set/greenparking2char\"\n",
    "\n",
    "all_path = [path1, path2]\n",
    "\n",
    "destination = \"../charLabel/\"\n",
    "trash = \"../charLabel/ZTrash\"\n",
    "\n",
    "for path in all_path:\n",
    "    for file in os.listdir(path) :\n",
    "        image_mp= mpimg.imread(path + '/' + file) / 255\n",
    "        image_mp = np.expand_dims(image_mp, axis=0)\n",
    "        prediction = model.predict(image_mp)\n",
    "        if (np.max(prediction) < 0.8) :\n",
    "            if (np.max(prediction) < 0.65) : \n",
    "                shutil.move(path + '/' + file, trash)\n",
    "                continue\n",
    "        else: \n",
    "            shutil.move(path + '/' + file, destination + class_names[np.argmax(prediction)] + '/' + file)"
   ]
  },
  {
   "cell_type": "code",
   "execution_count": null,
   "metadata": {},
   "outputs": [],
   "source": [
    "# model.save('../Model/Model2')"
   ]
  }
 ],
 "metadata": {
  "interpreter": {
   "hash": "f57fbe0b1856e2b4828360cd3b6d6681c33bcdd458e957abc38b45496cd84ba2"
  },
  "kernelspec": {
   "display_name": "Python 3.7.11 64-bit ('ds': conda)",
   "language": "python",
   "name": "python3"
  },
  "language_info": {
   "codemirror_mode": {
    "name": "ipython",
    "version": 3
   },
   "file_extension": ".py",
   "mimetype": "text/x-python",
   "name": "python",
   "nbconvert_exporter": "python",
   "pygments_lexer": "ipython3",
   "version": "3.7.11"
  },
  "orig_nbformat": 4
 },
 "nbformat": 4,
 "nbformat_minor": 2
}
