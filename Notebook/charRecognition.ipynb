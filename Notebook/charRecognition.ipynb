{
 "cells": [
  {
   "cell_type": "code",
   "execution_count": 1,
   "metadata": {},
   "outputs": [
    {
     "name": "stdout",
     "output_type": "stream",
     "text": [
      "Found 1729 images belonging to 32 classes.\n",
      "Found 417 images belonging to 32 classes.\n"
     ]
    }
   ],
   "source": [
    "import os\n",
    "import shutil\n",
    "import tensorflow as tf\n",
    "import numpy as np\n",
    "import matplotlib.pyplot as plt\n",
    "import matplotlib.image as mpimg\n",
    "from tensorflow import keras\n",
    "from keras_preprocessing import image\n",
    "from keras_preprocessing.image import ImageDataGenerator\n",
    "\n",
    "class_names = ['0', '1', '2', '3', \n",
    "               '4', '5', '6', '7', \n",
    "               '8', '9', 'A', 'B', \n",
    "               'C', 'D', 'E', 'F', \n",
    "               'G', 'H', 'K', 'L', \n",
    "               'M', 'N', 'O', 'P', \n",
    "               'R', 'S', 'T', 'U', \n",
    "               'V', 'X', 'Y', 'Z']\n",
    "\n",
    "datagen = ImageDataGenerator(\n",
    "    rescale=1.0/255, \n",
    "    validation_split=0.2,\n",
    ")\n",
    "\n",
    "train_generator = datagen.flow_from_directory(\n",
    "    \"../Training_set/charTrainset\", \n",
    "    target_size=(28,12), \n",
    "    batch_size=20,\n",
    "    subset='training',\n",
    "    class_mode='sparse'\n",
    ")\n",
    "\n",
    "validation_generator = datagen.flow_from_directory(\n",
    "    \"../Training_set/charTrainset\", \n",
    "    target_size=(28,12), \n",
    "    batch_size=20,\n",
    "    subset='validation',\n",
    "    class_mode='sparse'\n",
    ")"
   ]
  },
  {
   "cell_type": "code",
   "execution_count": 2,
   "metadata": {},
   "outputs": [
    {
     "name": "stderr",
     "output_type": "stream",
     "text": [
      "2022-01-07 11:48:58.331401: I tensorflow/core/platform/cpu_feature_guard.cc:145] This TensorFlow binary is optimized with Intel(R) MKL-DNN to use the following CPU instructions in performance critical operations:  SSE4.1 SSE4.2 AVX AVX2 FMA\n",
      "To enable them in non-MKL-DNN operations, rebuild TensorFlow with the appropriate compiler flags.\n",
      "2022-01-07 11:48:58.331889: I tensorflow/core/common_runtime/process_util.cc:115] Creating new thread pool with default inter op setting: 4. Tune using inter_op_parallelism_threads for best performance.\n"
     ]
    }
   ],
   "source": [
    "model = tf.keras.models.Sequential([\n",
    "    tf.keras.layers.Conv2D(128, (5,5), activation='elu', \n",
    "                           padding='same',\n",
    "                           input_shape=(28, 12, 3)),\n",
    "    tf.keras.layers.Conv2D(128, (5,5), activation='elu',\n",
    "                           padding='same'),\n",
    "    tf.keras.layers.MaxPooling2D(2, 2),\n",
    "    tf.keras.layers.Conv2D(256, (3,3), activation='elu', \n",
    "                           padding='same'),\n",
    "    tf.keras.layers.Conv2D(256, (3,3), activation='elu',\n",
    "                           padding='same'),\n",
    "    tf.keras.layers.Conv2D(128, (3,3), activation='elu',\n",
    "                           padding='same'),\n",
    "    tf.keras.layers.MaxPooling2D(2, 2),\n",
    "    tf.keras.layers.Flatten(),\n",
    "    tf.keras.layers.Dense(64, activation='elu'),\n",
    "    tf.keras.layers.Dropout(0.5),\n",
    "    tf.keras.layers.Dense(128, activation='elu'),\n",
    "    tf.keras.layers.Dropout(0.4),\n",
    "    tf.keras.layers.Dense(32, activation='softmax')\n",
    "])"
   ]
  },
  {
   "cell_type": "code",
   "execution_count": 3,
   "metadata": {},
   "outputs": [
    {
     "name": "stdout",
     "output_type": "stream",
     "text": [
      "Model: \"sequential\"\n",
      "_________________________________________________________________\n",
      "Layer (type)                 Output Shape              Param #   \n",
      "=================================================================\n",
      "conv2d (Conv2D)              (None, 28, 12, 128)       9728      \n",
      "_________________________________________________________________\n",
      "conv2d_1 (Conv2D)            (None, 28, 12, 128)       409728    \n",
      "_________________________________________________________________\n",
      "max_pooling2d (MaxPooling2D) (None, 14, 6, 128)        0         \n",
      "_________________________________________________________________\n",
      "conv2d_2 (Conv2D)            (None, 14, 6, 256)        295168    \n",
      "_________________________________________________________________\n",
      "conv2d_3 (Conv2D)            (None, 14, 6, 256)        590080    \n",
      "_________________________________________________________________\n",
      "conv2d_4 (Conv2D)            (None, 14, 6, 128)        295040    \n",
      "_________________________________________________________________\n",
      "max_pooling2d_1 (MaxPooling2 (None, 7, 3, 128)         0         \n",
      "_________________________________________________________________\n",
      "flatten (Flatten)            (None, 2688)              0         \n",
      "_________________________________________________________________\n",
      "dense (Dense)                (None, 64)                172096    \n",
      "_________________________________________________________________\n",
      "dropout (Dropout)            (None, 64)                0         \n",
      "_________________________________________________________________\n",
      "dense_1 (Dense)              (None, 128)               8320      \n",
      "_________________________________________________________________\n",
      "dropout_1 (Dropout)          (None, 128)               0         \n",
      "_________________________________________________________________\n",
      "dense_2 (Dense)              (None, 32)                4128      \n",
      "=================================================================\n",
      "Total params: 1,784,288\n",
      "Trainable params: 1,784,288\n",
      "Non-trainable params: 0\n",
      "_________________________________________________________________\n"
     ]
    }
   ],
   "source": [
    "model.summary()"
   ]
  },
  {
   "cell_type": "code",
   "execution_count": 4,
   "metadata": {},
   "outputs": [],
   "source": [
    "model.compile(optimizer=tf.keras.optimizers.Adam(learning_rate=0.0001),\n",
    "              loss='sparse_categorical_crossentropy',\n",
    "              metrics=['accuracy'])"
   ]
  },
  {
   "cell_type": "code",
   "execution_count": 5,
   "metadata": {},
   "outputs": [],
   "source": [
    "class stopCallback(tf.keras.callbacks.Callback):\n",
    "    def on_epoch_end(self, epoch, logs={}) :\n",
    "        if (logs.get('accuracy') > 0.98) :\n",
    "            print('\\nReached 98% accuracy so stopping training')\n",
    "            self.model.stop_training = True"
   ]
  },
  {
   "cell_type": "code",
   "execution_count": 6,
   "metadata": {},
   "outputs": [
    {
     "name": "stdout",
     "output_type": "stream",
     "text": [
      "Train for 87 steps\n",
      "Epoch 1/1000\n",
      "87/87 [==============================] - 80s 916ms/step - loss: 3.2085 - accuracy: 0.1209\n",
      "Epoch 2/1000\n",
      "87/87 [==============================] - 69s 794ms/step - loss: 2.0942 - accuracy: 0.4228\n",
      "Epoch 3/1000\n",
      "87/87 [==============================] - 68s 779ms/step - loss: 1.4659 - accuracy: 0.5951\n",
      "Epoch 4/1000\n",
      "87/87 [==============================] - 75s 857ms/step - loss: 1.1935 - accuracy: 0.6663\n",
      "Epoch 5/1000\n",
      "87/87 [==============================] - 76s 872ms/step - loss: 0.9818 - accuracy: 0.7154\n",
      "Epoch 6/1000\n",
      "87/87 [==============================] - 71s 819ms/step - loss: 0.8349 - accuracy: 0.7692\n",
      "Epoch 7/1000\n",
      "87/87 [==============================] - 51s 581ms/step - loss: 0.7524 - accuracy: 0.7872\n",
      "Epoch 8/1000\n",
      "87/87 [==============================] - 69s 789ms/step - loss: 0.6557 - accuracy: 0.8028\n",
      "Epoch 9/1000\n",
      "87/87 [==============================] - 46s 528ms/step - loss: 0.6446 - accuracy: 0.8051\n",
      "Epoch 10/1000\n",
      "87/87 [==============================] - 46s 524ms/step - loss: 0.5852 - accuracy: 0.8305\n",
      "Epoch 11/1000\n",
      "87/87 [==============================] - 46s 524ms/step - loss: 0.5238 - accuracy: 0.8531\n",
      "Epoch 12/1000\n",
      "87/87 [==============================] - 45s 523ms/step - loss: 0.4450 - accuracy: 0.8739\n",
      "Epoch 13/1000\n",
      "87/87 [==============================] - 46s 525ms/step - loss: 0.4631 - accuracy: 0.8571\n",
      "Epoch 14/1000\n",
      "87/87 [==============================] - 46s 530ms/step - loss: 0.4349 - accuracy: 0.8745\n",
      "Epoch 15/1000\n",
      "87/87 [==============================] - 45s 522ms/step - loss: 0.3925 - accuracy: 0.8849\n",
      "Epoch 16/1000\n",
      "87/87 [==============================] - 50s 576ms/step - loss: 0.4529 - accuracy: 0.8623\n",
      "Epoch 17/1000\n",
      "87/87 [==============================] - 41s 472ms/step - loss: 0.3370 - accuracy: 0.8942\n",
      "Epoch 18/1000\n",
      "87/87 [==============================] - 43s 499ms/step - loss: 0.3442 - accuracy: 0.8953\n",
      "Epoch 19/1000\n",
      "87/87 [==============================] - 45s 513ms/step - loss: 0.3232 - accuracy: 0.9063\n",
      "Epoch 20/1000\n",
      "87/87 [==============================] - 45s 521ms/step - loss: 0.3313 - accuracy: 0.9046\n",
      "Epoch 21/1000\n",
      "87/87 [==============================] - 45s 519ms/step - loss: 0.3062 - accuracy: 0.9098\n",
      "Epoch 22/1000\n",
      "87/87 [==============================] - 46s 524ms/step - loss: 0.3026 - accuracy: 0.9028\n",
      "Epoch 23/1000\n",
      "87/87 [==============================] - 45s 515ms/step - loss: 0.2362 - accuracy: 0.9289\n",
      "Epoch 24/1000\n",
      "87/87 [==============================] - 45s 523ms/step - loss: 0.2659 - accuracy: 0.9144\n",
      "Epoch 25/1000\n",
      "87/87 [==============================] - 45s 512ms/step - loss: 0.2338 - accuracy: 0.9306\n",
      "Epoch 26/1000\n",
      "87/87 [==============================] - 45s 519ms/step - loss: 0.2201 - accuracy: 0.9248\n",
      "Epoch 27/1000\n",
      "87/87 [==============================] - 45s 519ms/step - loss: 0.2327 - accuracy: 0.9323\n",
      "Epoch 28/1000\n",
      "87/87 [==============================] - 45s 516ms/step - loss: 0.2109 - accuracy: 0.9346\n",
      "Epoch 29/1000\n",
      "87/87 [==============================] - 45s 520ms/step - loss: 0.1968 - accuracy: 0.9364\n",
      "Epoch 30/1000\n",
      "87/87 [==============================] - 45s 515ms/step - loss: 0.1725 - accuracy: 0.9485\n",
      "Epoch 31/1000\n",
      "87/87 [==============================] - 44s 511ms/step - loss: 0.1719 - accuracy: 0.9468\n",
      "Epoch 32/1000\n",
      "87/87 [==============================] - 46s 526ms/step - loss: 0.1469 - accuracy: 0.9549\n",
      "Epoch 33/1000\n",
      "87/87 [==============================] - 45s 516ms/step - loss: 0.1495 - accuracy: 0.9584\n",
      "Epoch 34/1000\n",
      "87/87 [==============================] - 45s 521ms/step - loss: 0.1540 - accuracy: 0.9578\n",
      "Epoch 35/1000\n",
      "87/87 [==============================] - 45s 513ms/step - loss: 0.1529 - accuracy: 0.9503\n",
      "Epoch 36/1000\n",
      "87/87 [==============================] - 44s 509ms/step - loss: 0.1762 - accuracy: 0.9491\n",
      "Epoch 37/1000\n",
      "87/87 [==============================] - 46s 531ms/step - loss: 0.1594 - accuracy: 0.9520\n",
      "Epoch 38/1000\n",
      "87/87 [==============================] - 45s 512ms/step - loss: 0.1547 - accuracy: 0.9451\n",
      "Epoch 39/1000\n",
      "87/87 [==============================] - 43s 496ms/step - loss: 0.1371 - accuracy: 0.9589\n",
      "Epoch 40/1000\n",
      "87/87 [==============================] - 43s 498ms/step - loss: 0.1345 - accuracy: 0.9589\n",
      "Epoch 41/1000\n",
      "87/87 [==============================] - 43s 499ms/step - loss: 0.1361 - accuracy: 0.9589\n",
      "Epoch 42/1000\n",
      "87/87 [==============================] - 43s 499ms/step - loss: 0.1344 - accuracy: 0.9659\n",
      "Epoch 43/1000\n",
      "87/87 [==============================] - 49s 560ms/step - loss: 0.1435 - accuracy: 0.9584\n",
      "Epoch 44/1000\n",
      "87/87 [==============================] - 80s 914ms/step - loss: 0.1282 - accuracy: 0.9659\n",
      "Epoch 45/1000\n",
      "87/87 [==============================] - 77s 881ms/step - loss: 0.1230 - accuracy: 0.9653\n",
      "Epoch 46/1000\n",
      "87/87 [==============================] - 77s 885ms/step - loss: 0.1215 - accuracy: 0.9647\n",
      "Epoch 47/1000\n",
      "87/87 [==============================] - 78s 893ms/step - loss: 0.1142 - accuracy: 0.9676\n",
      "Epoch 48/1000\n",
      "87/87 [==============================] - 78s 899ms/step - loss: 0.1119 - accuracy: 0.9636\n",
      "Epoch 49/1000\n",
      "87/87 [==============================] - 78s 902ms/step - loss: 0.0944 - accuracy: 0.9757\n",
      "Epoch 50/1000\n",
      "87/87 [==============================] - 78s 893ms/step - loss: 0.1545 - accuracy: 0.9555\n",
      "Epoch 51/1000\n",
      "87/87 [==============================] - 79s 907ms/step - loss: 0.1477 - accuracy: 0.9566\n",
      "Epoch 52/1000\n",
      "87/87 [==============================] - 77s 880ms/step - loss: 0.0972 - accuracy: 0.9740\n",
      "Epoch 53/1000\n",
      "87/87 [==============================] - 78s 900ms/step - loss: 0.1130 - accuracy: 0.9670\n",
      "Epoch 54/1000\n",
      "87/87 [==============================] - 76s 876ms/step - loss: 0.0981 - accuracy: 0.9682\n",
      "Epoch 55/1000\n",
      "87/87 [==============================] - 78s 896ms/step - loss: 0.0816 - accuracy: 0.9774\n",
      "Epoch 56/1000\n",
      "87/87 [==============================] - 79s 909ms/step - loss: 0.1013 - accuracy: 0.9705\n",
      "Epoch 57/1000\n",
      "87/87 [==============================] - 79s 903ms/step - loss: 0.1001 - accuracy: 0.9647\n",
      "Epoch 58/1000\n",
      "87/87 [==============================] - 78s 898ms/step - loss: 0.0890 - accuracy: 0.9774\n",
      "Epoch 59/1000\n",
      "87/87 [==============================] - 77s 889ms/step - loss: 0.0802 - accuracy: 0.9774\n",
      "Epoch 60/1000\n",
      "87/87 [==============================] - 80s 916ms/step - loss: 0.0855 - accuracy: 0.9693\n",
      "Epoch 61/1000\n",
      "87/87 [==============================] - 78s 899ms/step - loss: 0.0840 - accuracy: 0.9734\n",
      "Epoch 62/1000\n",
      "87/87 [==============================] - 79s 906ms/step - loss: 0.0758 - accuracy: 0.9786\n",
      "Epoch 63/1000\n",
      "86/87 [============================>.] - ETA: 0s - loss: 0.0630 - accuracy: 0.9819\n",
      "Reached 98% accuracy so stopping training\n",
      "87/87 [==============================] - 80s 917ms/step - loss: 0.0626 - accuracy: 0.9821\n"
     ]
    },
    {
     "data": {
      "text/plain": [
       "<tensorflow.python.keras.callbacks.History at 0x7fc4d287ea90>"
      ]
     },
     "execution_count": 6,
     "metadata": {},
     "output_type": "execute_result"
    }
   ],
   "source": [
    "callback = stopCallback()\n",
    "model.fit(train_generator, epochs=1000, callbacks=[callback])"
   ]
  },
  {
   "cell_type": "code",
   "execution_count": 7,
   "metadata": {},
   "outputs": [
    {
     "name": "stdout",
     "output_type": "stream",
     "text": [
      "21/21 [==============================] - 10s 462ms/step - loss: 0.1081 - accuracy: 0.9664\n"
     ]
    },
    {
     "data": {
      "text/plain": [
       "[0.10805685957893729, 0.96642685]"
      ]
     },
     "execution_count": 7,
     "metadata": {},
     "output_type": "execute_result"
    }
   ],
   "source": [
    "model.evaluate(validation_generator, verbose=1)"
   ]
  },
  {
   "cell_type": "code",
   "execution_count": 8,
   "metadata": {},
   "outputs": [],
   "source": [
    "path1 = \"../Testing_set/greenparkingchar\"\n",
    "path2 = \"../Testing_set/greenparking2char\"\n",
    "\n",
    "all_path = [path1, path2]\n",
    "\n",
    "final = \"../charLabel/\"\n",
    "\n",
    "i = 1\n",
    "\n",
    "for path in all_path:\n",
    "    for file in os.listdir(path) :\n",
    "        image_mp= mpimg.imread(path + '/' + file) / 255\n",
    "        image_mp = np.expand_dims(image_mp, axis=0)\n",
    "        shutil.move(path + '/' + file, final + class_names[np.argmax(model.predict(image_mp))] + '/' + file)\n",
    "        i += 1\n",
    "        if i == 100:\n",
    "            break\n",
    "    if i == 100:\n",
    "        break"
   ]
  }
 ],
 "metadata": {
  "interpreter": {
   "hash": "f57fbe0b1856e2b4828360cd3b6d6681c33bcdd458e957abc38b45496cd84ba2"
  },
  "kernelspec": {
   "display_name": "Python 3.7.11 64-bit ('ds': conda)",
   "language": "python",
   "name": "python3"
  },
  "language_info": {
   "codemirror_mode": {
    "name": "ipython",
    "version": 3
   },
   "file_extension": ".py",
   "mimetype": "text/x-python",
   "name": "python",
   "nbconvert_exporter": "python",
   "pygments_lexer": "ipython3",
   "version": "3.7.11"
  },
  "orig_nbformat": 4
 },
 "nbformat": 4,
 "nbformat_minor": 2
}
