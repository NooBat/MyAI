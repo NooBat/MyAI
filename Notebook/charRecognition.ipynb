{
 "cells": [
  {
   "cell_type": "code",
   "execution_count": 1,
   "metadata": {},
   "outputs": [
    {
     "name": "stdout",
     "output_type": "stream",
     "text": [
      "Found 1729 images belonging to 32 classes.\n",
      "Found 417 images belonging to 32 classes.\n"
     ]
    }
   ],
   "source": [
    "import os\n",
    "import shutil\n",
    "import tensorflow as tf\n",
    "import numpy as np\n",
    "import matplotlib.pyplot as plt\n",
    "import matplotlib.image as mpimg\n",
    "from tensorflow import keras\n",
    "from keras_preprocessing import image\n",
    "from keras_preprocessing.image import ImageDataGenerator\n",
    "\n",
    "class_names = ['0', '1', '2', '3', \n",
    "               '4', '5', '6', '7', \n",
    "               '8', '9', 'A', 'B', \n",
    "               'C', 'D', 'E', 'F', \n",
    "               'G', 'H', 'K', 'L', \n",
    "               'M', 'N', 'O', 'P', \n",
    "               'R', 'S', 'T', 'U', \n",
    "               'V', 'X', 'Y', 'Z']\n",
    "\n",
    "datagen = ImageDataGenerator(\n",
    "    rescale=1.0/255, \n",
    "    validation_split=0.2,\n",
    ")\n",
    "\n",
    "train_generator = datagen.flow_from_directory(\n",
    "    \"../Training_set/charTrainset\", \n",
    "    target_size=(28,12), \n",
    "    batch_size=20,\n",
    "    subset='training',\n",
    "    class_mode='sparse'\n",
    ")\n",
    "\n",
    "validation_generator = datagen.flow_from_directory(\n",
    "    \"../Training_set/charTrainset\", \n",
    "    target_size=(28,12), \n",
    "    batch_size=20,\n",
    "    subset='validation',\n",
    "    class_mode='sparse'\n",
    ")"
   ]
  },
  {
   "cell_type": "code",
   "execution_count": 2,
   "metadata": {},
   "outputs": [
    {
     "name": "stderr",
     "output_type": "stream",
     "text": [
      "2022-01-08 08:22:21.710657: I tensorflow/core/platform/cpu_feature_guard.cc:145] This TensorFlow binary is optimized with Intel(R) MKL-DNN to use the following CPU instructions in performance critical operations:  SSE4.1 SSE4.2 AVX AVX2 FMA\n",
      "To enable them in non-MKL-DNN operations, rebuild TensorFlow with the appropriate compiler flags.\n",
      "2022-01-08 08:22:21.710943: I tensorflow/core/common_runtime/process_util.cc:115] Creating new thread pool with default inter op setting: 4. Tune using inter_op_parallelism_threads for best performance.\n",
      "2022-01-08 08:22:21.766185: W tensorflow/core/graph/graph_constructor.cc:761] Node 'StatefulPartitionedCall' has 1 outputs but the _output_shapes attribute specifies shapes for 5 outputs. Output shapes may be inaccurate.\n",
      "2022-01-08 08:22:21.778863: W tensorflow/core/graph/graph_constructor.cc:761] Node 'StatefulPartitionedCall' has 1 outputs but the _output_shapes attribute specifies shapes for 4 outputs. Output shapes may be inaccurate.\n",
      "2022-01-08 08:22:21.833826: W tensorflow/core/graph/graph_constructor.cc:761] Node 'StatefulPartitionedCall' has 1 outputs but the _output_shapes attribute specifies shapes for 4 outputs. Output shapes may be inaccurate.\n",
      "2022-01-08 08:22:21.856855: W tensorflow/core/graph/graph_constructor.cc:761] Node 'StatefulPartitionedCall' has 1 outputs but the _output_shapes attribute specifies shapes for 4 outputs. Output shapes may be inaccurate.\n",
      "2022-01-08 08:22:21.878203: W tensorflow/core/graph/graph_constructor.cc:761] Node 'StatefulPartitionedCall' has 1 outputs but the _output_shapes attribute specifies shapes for 4 outputs. Output shapes may be inaccurate.\n",
      "2022-01-08 08:22:21.983379: W tensorflow/core/graph/graph_constructor.cc:761] Node 'StatefulPartitionedCall' has 1 outputs but the _output_shapes attribute specifies shapes for 4 outputs. Output shapes may be inaccurate.\n",
      "2022-01-08 08:22:22.063639: W tensorflow/core/graph/graph_constructor.cc:761] Node 'StatefulPartitionedCall' has 1 outputs but the _output_shapes attribute specifies shapes for 4 outputs. Output shapes may be inaccurate.\n",
      "2022-01-08 08:22:22.071365: W tensorflow/core/graph/graph_constructor.cc:761] Node 'PartitionedCall' has 1 outputs but the _output_shapes attribute specifies shapes for 3 outputs. Output shapes may be inaccurate.\n",
      "2022-01-08 08:22:22.110682: W tensorflow/core/graph/graph_constructor.cc:761] Node 'PartitionedCall' has 1 outputs but the _output_shapes attribute specifies shapes for 3 outputs. Output shapes may be inaccurate.\n",
      "2022-01-08 08:22:22.130066: W tensorflow/core/graph/graph_constructor.cc:761] Node 'StatefulPartitionedCall' has 1 outputs but the _output_shapes attribute specifies shapes for 4 outputs. Output shapes may be inaccurate.\n",
      "2022-01-08 08:22:22.142215: W tensorflow/core/graph/graph_constructor.cc:761] Node 'StatefulPartitionedCall' has 1 outputs but the _output_shapes attribute specifies shapes for 5 outputs. Output shapes may be inaccurate.\n",
      "2022-01-08 08:22:22.195559: W tensorflow/core/graph/graph_constructor.cc:761] Node 'StatefulPartitionedCall' has 1 outputs but the _output_shapes attribute specifies shapes for 4 outputs. Output shapes may be inaccurate.\n"
     ]
    }
   ],
   "source": [
    "# model = tf.keras.models.Sequential([\n",
    "#     tf.keras.layers.Conv2D(128, (5,5), activation='elu', \n",
    "#                            padding='same',\n",
    "#                            input_shape=(28, 12, 3)),\n",
    "#     tf.keras.layers.Conv2D(128, (5,5), activation='elu',\n",
    "#                            padding='same'),\n",
    "#     tf.keras.layers.MaxPooling2D(2, 2),\n",
    "#     tf.keras.layers.Conv2D(256, (3,3), activation='elu', \n",
    "#                            padding='same'),\n",
    "#     tf.keras.layers.Conv2D(256, (3,3), activation='elu',\n",
    "#                            padding='same'),\n",
    "#     tf.keras.layers.Conv2D(128, (3,3), activation='elu',\n",
    "#                            padding='same'),\n",
    "#     tf.keras.layers.MaxPooling2D(2, 2),\n",
    "#     tf.keras.layers.Flatten(),\n",
    "#     tf.keras.layers.Dense(64, activation='elu'),\n",
    "#     tf.keras.layers.Dropout(0.5),\n",
    "#     tf.keras.layers.Dense(128, activation='elu'),\n",
    "#     tf.keras.layers.Dropout(0.4),\n",
    "#     tf.keras.layers.Dense(32, activation='softmax')\n",
    "# ])\n",
    "model = tf.keras.models.load_model('../Model/Model2')"
   ]
  },
  {
   "cell_type": "code",
   "execution_count": 3,
   "metadata": {},
   "outputs": [
    {
     "name": "stdout",
     "output_type": "stream",
     "text": [
      "Model: \"sequential\"\n",
      "_________________________________________________________________\n",
      "Layer (type)                 Output Shape              Param #   \n",
      "=================================================================\n",
      "conv2d (Conv2D)              (None, 28, 12, 128)       9728      \n",
      "_________________________________________________________________\n",
      "conv2d_1 (Conv2D)            (None, 28, 12, 128)       409728    \n",
      "_________________________________________________________________\n",
      "max_pooling2d (MaxPooling2D) (None, 14, 6, 128)        0         \n",
      "_________________________________________________________________\n",
      "conv2d_2 (Conv2D)            (None, 14, 6, 256)        295168    \n",
      "_________________________________________________________________\n",
      "conv2d_3 (Conv2D)            (None, 14, 6, 256)        590080    \n",
      "_________________________________________________________________\n",
      "conv2d_4 (Conv2D)            (None, 14, 6, 128)        295040    \n",
      "_________________________________________________________________\n",
      "max_pooling2d_1 (MaxPooling2 (None, 7, 3, 128)         0         \n",
      "_________________________________________________________________\n",
      "flatten (Flatten)            (None, 2688)              0         \n",
      "_________________________________________________________________\n",
      "dense (Dense)                (None, 64)                172096    \n",
      "_________________________________________________________________\n",
      "dropout (Dropout)            (None, 64)                0         \n",
      "_________________________________________________________________\n",
      "dense_1 (Dense)              (None, 128)               8320      \n",
      "_________________________________________________________________\n",
      "dropout_1 (Dropout)          (None, 128)               0         \n",
      "_________________________________________________________________\n",
      "dense_2 (Dense)              (None, 32)                4128      \n",
      "=================================================================\n",
      "Total params: 1,784,288\n",
      "Trainable params: 1,784,288\n",
      "Non-trainable params: 0\n",
      "_________________________________________________________________\n"
     ]
    }
   ],
   "source": [
    "model.summary()"
   ]
  },
  {
   "cell_type": "code",
   "execution_count": 4,
   "metadata": {},
   "outputs": [],
   "source": [
    "# model.compile(optimizer=tf.keras.optimizers.Adam(learning_rate=0.0001),\n",
    "#               loss='sparse_categorical_crossentropy',\n",
    "#               metrics=['accuracy'])"
   ]
  },
  {
   "cell_type": "code",
   "execution_count": 5,
   "metadata": {},
   "outputs": [],
   "source": [
    "# class stopCallback(tf.keras.callbacks.Callback):\n",
    "#     def on_epoch_end(self, epoch, logs={}) :\n",
    "#         if (logs.get('accuracy') > 0.99) :\n",
    "#             print('\\nReached 99% accuracy so stopping training')\n",
    "#             self.model.stop_training = True"
   ]
  },
  {
   "cell_type": "code",
   "execution_count": 6,
   "metadata": {},
   "outputs": [],
   "source": [
    "# callback = stopCallback()\n",
    "# model.fit(train_generator, epochs=100, callbacks=[callback])"
   ]
  },
  {
   "cell_type": "code",
   "execution_count": 7,
   "metadata": {},
   "outputs": [],
   "source": [
    "# model.evaluate(validation_generator, verbose=1)"
   ]
  },
  {
   "cell_type": "code",
   "execution_count": 12,
   "metadata": {},
   "outputs": [],
   "source": [
    "path1 = \"../Testing_set/greenparkingchar\"\n",
    "path2 = \"../Testing_set/greenparking2char\"\n",
    "\n",
    "all_path = [path1, path2]\n",
    "\n",
    "destination = \"../charLabel/\"\n",
    "trash = \"../charLabel/ZTrash\"\n",
    "\n",
    "for path in all_path:\n",
    "    for file in os.listdir(path) :\n",
    "        image_mp= mpimg.imread(path + '/' + file) / 255\n",
    "        image_mp = np.expand_dims(image_mp, axis=0)\n",
    "        prediction = model.predict(image_mp)\n",
    "        if (np.max(prediction) < 0.8) :\n",
    "            if (np.max(prediction) < 0.65) : \n",
    "                shutil.move(path + '/' + file, trash)\n",
    "                continue\n",
    "        shutil.move(path + '/' + file, destination + class_names[np.argmax(prediction)] + '/' + file)"
   ]
  },
  {
   "cell_type": "code",
   "execution_count": null,
   "metadata": {},
   "outputs": [],
   "source": [
    "# model.save('../Model/Model2')"
   ]
  }
 ],
 "metadata": {
  "interpreter": {
   "hash": "f57fbe0b1856e2b4828360cd3b6d6681c33bcdd458e957abc38b45496cd84ba2"
  },
  "kernelspec": {
   "display_name": "Python 3.7.11 64-bit ('ds': conda)",
   "language": "python",
   "name": "python3"
  },
  "language_info": {
   "codemirror_mode": {
    "name": "ipython",
    "version": 3
   },
   "file_extension": ".py",
   "mimetype": "text/x-python",
   "name": "python",
   "nbconvert_exporter": "python",
   "pygments_lexer": "ipython3",
   "version": "3.7.11"
  },
  "orig_nbformat": 4
 },
 "nbformat": 4,
 "nbformat_minor": 2
}
