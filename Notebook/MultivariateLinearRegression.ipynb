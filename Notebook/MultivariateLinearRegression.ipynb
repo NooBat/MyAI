{
 "cells": [
  {
   "cell_type": "markdown",
   "metadata": {},
   "source": [
    "# $$ Multivariate~~Linear~~Regression $$"
   ]
  },
  {
   "cell_type": "markdown",
   "metadata": {},
   "source": [
    "## Notation"
   ]
  },
  {
   "cell_type": "markdown",
   "metadata": {},
   "source": [
    "$x_j^{(i)}$ = value of feature $j^{th}$ in the $i^{th}$ training example.<br><br>\n",
    "  $x^{(i)}$ = the input (features) of the $i^{th}$ training example.<br>\n",
    "$~~$ m = the number of training examples.<br>\n",
    "$~~~$ n = the number of features.<br>\n",
    "\n",
    "For example:<br>\n",
    "$$ x_1~~x_2~~x_3 $$\n",
    "$$\\begin{bmatrix} 1 & 2 & 1 \\\\ 3 & 0 & 1 \\\\ 0 & 2 & 4 \\end{bmatrix}$$\n",
    "<br><br>\n",
    "\n",
    "With the matrix above, the rows indicate the number of training examples, the columns indicate the number of features.<br><br>\n",
    "If we say $x^{(2)}$, that means we are taking a row vector $\\begin{bmatrix} 3 & 0 & 1 \\end{bmatrix}$ which is the input of the second training example.<br><br>\n",
    "If we take $x_2^{(3)}$ that means we are referring to third row, second column which is 2."
   ]
  },
  {
   "cell_type": "markdown",
   "metadata": {},
   "source": [
    "# Hypothesis general function"
   ]
  }
 ],
 "metadata": {
  "language_info": {
   "name": "python"
  },
  "orig_nbformat": 4
 },
 "nbformat": 4,
 "nbformat_minor": 2
}
