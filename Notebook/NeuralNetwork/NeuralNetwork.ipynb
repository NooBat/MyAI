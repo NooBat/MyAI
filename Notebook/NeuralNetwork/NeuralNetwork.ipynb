{
 "cells": [
  {
   "cell_type": "markdown",
   "metadata": {},
   "source": [
    "# $$Neuron~~and~~Neural~~Networks$$"
   ]
  },
  {
   "cell_type": "markdown",
   "metadata": {},
   "source": [
    "# **Definition**"
   ]
  },
  {
   "cell_type": "markdown",
   "metadata": {},
   "source": [
    "## **Neuron**"
   ]
  },
  {
   "cell_type": "markdown",
   "metadata": {},
   "source": [
    "### **Defintion**"
   ]
  },
  {
   "cell_type": "markdown",
   "metadata": {},
   "source": [
    "Airplane mimics how birds fly, Shinkansen mimics the kingfisher's sleak beak; by mimicking the nature, humans have advanced the technology. is called biomimicry. In machine learning, since our goal is to make machines that can think like humans, we mimic neurons which are the building blocks for the brain and that is how **Neural Network** come along. \n",
    "\n",
    "But first, let's find out what are neurons and how they can be applied to machine learning (Click <a href=\"https://kite.com/wp-content/uploads/2019/05/image8.png\">here</a> to find out the structure of neurons).\n",
    "A neuron uses **dendrite** to take electricity pulses (called **spikes**), process in the nucleus to give the outputs (**axons**). \n",
    "\n",
    "Similarly, a neuron cell is basically computational units that takes input features $x_1, x_2, ..., x_n$ (dendrites) as electrical inputs that are channeled to outputs (axons). In this model, our $x_0$ input node and $a^{(i)}_0$ is sometimes called the **bias unit**, which is always equal to $1$. "
   ]
  },
  {
   "cell_type": "markdown",
   "metadata": {},
   "source": [
    "### **Usage in Neural Networks**"
   ]
  },
  {
   "cell_type": "markdown",
   "metadata": {},
   "source": [
    "In neural network, neurons are nodes containing numbers called **activation** between $0$ and $1$, sort of analogous to how neurons in the brain can be active or inactive. You can imagine them like <a href=\"https://www.3blue1brown.com/content/lessons/2017/neural-networks/activations.svg\">this</a>."
   ]
  },
  {
   "cell_type": "markdown",
   "metadata": {},
   "source": [
    "## **Neural Networks**"
   ]
  },
  {
   "cell_type": "markdown",
   "metadata": {},
   "source": [
    "### **Definition**"
   ]
  },
  {
   "cell_type": "markdown",
   "metadata": {},
   "source": [
    "A neural network are composed of many layers of neurons, hence the name multilayer perceptrons. <a href=\"https://victorzhou.com/media/nn-series/network.svg\">Here</a> is the illustration of a simple 4-layer neural network. This is the foundation for many other deep learning models like **Convolutional** and **Recurrent Neural Networks**.\n",
    "\n",
    "The first layer (layer $0$) is also called the **input layer**, which outputs will be given into another node in intermediate layers (layer $1, 2, 3, \\ldots, n - 1$) (called the **hidden layers**). Finally, the last layer outputs the hypothesis function, which is called the **output layer**. Since there are no cycles or loops in the network and the flow of information only goes forward from input layer, through hidden layers and to the output layer. This is called **Feedforward Network** or **Forward Propagation**.\n",
    "\n",
    "We label these intermediate layer nodes $a^{(2)}_0, a^{(2)}_1, ..., a^{(2)}_n$ and called them **activation units**, in which $a^{(2)}_0$ is also a **bias unit**.\n",
    "\n",
    "Some notation explained:\n",
    "$$a^{(i)}_j = \\text{\"activation\" of unit $j$ in layer $i$}.$$ \n",
    "$$\\Theta^{(i)} = \\text{matrix of weights controlling function mapping from layer $i$ to layer $i+1$}.$$\n",
    "$$\\theta^{(i)}_{jk} = \\text{the weight to map the $j^{th}$ unit in layer $i$ to the $k^{th}$ unit in the $i+1$ layer.}$$\n",
    "From this, we have some special cases:\n",
    "\n",
    "* $a^{(0)}$ is the input layer.\n",
    "\n",
    "* $a^{(i)}_0 = 1$ since this is the bias node.\n",
    "\n",
    "* $\\theta^{(i)}_{j0} = b^{(i)}_j$ ($b$ stands for **bias**)."
   ]
  },
  {
   "cell_type": "markdown",
   "metadata": {},
   "source": [
    "# **Forward Propagation**"
   ]
  },
  {
   "cell_type": "markdown",
   "metadata": {},
   "source": [
    "If we had only one hidden layer, it would look like this:\n",
    "$$[x_0x_1x_2x_3] \\rightarrow [a^{(1)}_1a^{(1)}_2a^{(1)}_3] \\rightarrow f_\\theta(x)$$\n",
    "For each **activation** nodes, the values are obtained as follows:\n",
    "$$a^{(1)}_1 = g(\\theta^{(0)}_{01}x_0 + \\theta^{(0)}_{11}x_1 + \\theta^{(0)}_{21}x_2 + \\theta^{(0)}_{31}x_3)$$\n",
    "$$a^{(1)}_2 = g(\\theta^{(0)}_{02}x_0 + \\theta^{(0)}_{12}x_1 + \\theta^{(0)}_{22}x_2 + \\theta^{(0)}_{32}x_3)$$\n",
    "$$a^{(1)}_3 = g(\\theta^{(0)}_{03}x_0 + \\theta^{(0)}_{13}x_1 + \\theta^{(0)}_{23}x_2 + \\theta^{(0)}_{33}x_3)$$\n",
    "The next and the last layer (layer $2$) will be the output:\n",
    "$$f_\\theta(x) = a^{(2)}_1 = g(\\theta^{(1)}_{01}x_0 + \\theta^{(1)}_{11}x_1 + \\theta^{(1)}_{21}x_2 + \\theta^{(1)}_{31}x_3)$$\n",
    "To sum up:\n",
    "$$z^{(i+1)}_j = \\sum_{k=0}^{n}{\\theta^{(i)}_{jk}x_k}$$\n",
    "$$a^{(i+1)}_j = g(z^{(i+1)}_j)$$\n",
    "$$a^{(i+1)}_j = g(\\theta^{(i)}_{0j}x_0 + \\theta^{(i)}_{1j}x_1 + \\theta^{(i)}_{2j}x_2 + ... + \\theta^{(i)}_{nj}x_n)$$\n",
    "In which $g(x)$ is the **activation** function."
   ]
  },
  {
   "cell_type": "markdown",
   "metadata": {},
   "source": [
    "We apply each row of the parameters to our inputs to obtain the value for one activation node. Our hypothesis output is the logistic function applied to the sum of the values of our activation nodes, which have been multiplied by yet another parameter matrix $\\theta^{(1)}$ containing the weights for our second layer of nodes."
   ]
  },
  {
   "cell_type": "markdown",
   "metadata": {},
   "source": [
    "In this example, we can see that from the first layer to the second layer, the $\\theta$ is a $3 \\times 4$ dimensions matrix, since there are $3$ nodes in the second layer and four $\\theta$ corresponding to $3$ input nodes and $1$ bias node. \n",
    "\n",
    "Generally speaking, to determine the dimensions of these matrices of weights, we will apply this formula: **if network has** $s_j$ **units in layer** $j$ **and** $s_{j+1}$ **units in layer** $j+1$**, then** $\\theta^{(j)}$ **will be of dimensions** \n",
    "$$s_{j+1} \\times (s_j + 1)$$ \n",
    "The $+1$ in $s_j + 1$ comes from the addition in $\\theta^{(i)}$ of the bias nodes: $x_0$ and $\\theta^{(i)}_0$. In other words, the output nodes will not include the bias nodes while the inputs will."
   ]
  },
  {
   "cell_type": "markdown",
   "metadata": {},
   "source": [
    "## **Vectorized Implementation**"
   ]
  },
  {
   "cell_type": "markdown",
   "metadata": {},
   "source": [
    "To implement this better, we can define a new variable $z^{(i)}_j$ that encompasses the parameters inside our activation function $g(x)$. So now our activation units will now be: \n",
    "$$a^{(1)}_1 = g(z^{(1)}_1)$$\n",
    "$$a^{(1)}_2 = g(z^{(1)}_2)$$\n",
    "$$a^{(1)}_3 = g(z^{(1)}_3)$$\n",
    "Generally:\n",
    "$$a^{(i)}_j = g(z^{(i)}_j)$$\n",
    "\n",
    "This means, for layer $i = 1$ and node $j$, the value $z$ is now replacing:\n",
    "$$z^{(1)}_j = \\theta^{(1)}_{0j}x_0 + \\theta^{(1)}_{1j}x_1 + \\theta^{(1)}_{2j}x_2 + \\ldots + \\theta^{(1)}_{nj}x_n$$\n",
    "\n",
    "The vector $x$ can be represents as:\n",
    "$$x = \n",
    "\\begin{bmatrix} \n",
    "x_0 \\\\ \n",
    "x_1 \\\\ \n",
    "x_2 \\\\ \n",
    "\\vdots \\\\ \n",
    "x_n \n",
    "\\end{bmatrix}$$\n",
    "\n",
    "but since the input $x$ can be considered as activation units of the first layer ($i=0$) $x = a^{(0)}$ so we can generalize all nodes in the neural network as:\n",
    "$$a^{(i)} = \n",
    "\\begin{bmatrix} \n",
    "a^{(i)}_0 \\\\ \n",
    "a^{(i)}_1 \\\\ \n",
    "a^{(i)}_2 \\\\ \n",
    "\\vdots \\\\ \n",
    "a^{(i)}_n \n",
    "\\end{bmatrix}$$\n",
    "\n",
    "Vectorizing $a^{(i)}$ and $z^{(i)}$ and annotate $n, m$ as the number of node in each layer, we obtain:\n",
    "$$a^{(i)} = \n",
    "\\begin{bmatrix} \n",
    "    a^{(i)}_0 \\\\ \n",
    "    a^{(i)}_1 \\\\ \n",
    "    a^{(i)}_2 \\\\ \n",
    "    \\vdots \\\\ \n",
    "    a^{(i)}_n \n",
    "\\end{bmatrix}~~~~\n",
    "z^{(i)} = \n",
    "\\begin{bmatrix} \n",
    "    z^{(i)}_1 \\\\ \n",
    "    z^{(i)}_2 \\\\ \n",
    "    \\vdots \\\\ \n",
    "    z^{(i)}_m \n",
    "\\end{bmatrix}~~~~\n",
    "\\Theta^{(i)} = \n",
    "\\begin{bmatrix} \n",
    "     \\theta^{(i)}_{01} & \\theta^{(i)}_{11} & \\theta^{(i)}_{21} & \\cdots & \\theta^{(i)}_{j1} & \\cdots & \\theta^{(i)}_{n1} \\\\\n",
    "     \\theta^{(i)}_{02} & \\theta^{(i)}_{12} & \\theta^{(i)}_{22} & \\cdots & \\theta^{(i)}_{j2} & \\cdots & \\theta^{(i)}_{n2} \\\\\n",
    "     \\vdots            & \\vdots            & \\vdots            & \\ddots & \\vdots            & \\cdots & \\vdots            \\\\\n",
    "     \\theta^{(i)}_{0k} & \\theta^{(i)}_{1k} & \\theta^{(i)}_{2k} & \\cdots & \\theta^{(i)}_{jk} & \\cdots & \\theta^{(i)}_{nk} \\\\\n",
    "     \\vdots            & \\vdots            & \\vdots            & \\ddots & \\vdots            & \\cdots & \\vdots            \\\\\n",
    "     \\theta^{(i)}_{0m} & \\theta^{(i)}_{1m} & \\theta^{(i)}_{2m} & \\cdots & \\theta^{(i)}_{mk} & \\cdots & \\theta^{(i)}_{nm}\n",
    "\\end{bmatrix}$$\n",
    "You can see that the $\\Theta^{(i)}$ matrix have $(n+1)$ columns and $m$ rows ($m \\times (n+1)$ dimensions), since $n$ is the number of nodes in the current layer $(t)$ and $m$ is the number of nodes in the next layer $(t+1)$ so this proves our formula from before. \n",
    "\n",
    "With these matrices, we can simplify the complex computation for $z^{(i)}$ as:\n",
    "$$z^{(i)} = \\Theta^{(i-1)}a^{(i-1)}$$\n",
    "\n",
    "We are multiplying our matrix $\\Theta^{(i-1)}$ with dimensions $m \\times (n+1)$ by our vector $a^{(i-1)}$ with dimensions $(n+1) \\times 1$. This gives us the vector $z^{(i)}$ with dimensions $m \\times 1$. Now we can obtain the vector of our activation nodes by applying the activation function for the $z$ vector layer $i$ as:\n",
    "$$a^{(i)} = g(z^{(i)})$$\n",
    "We can then add a bias unit (= 1) to layer $j$ after we have computated $a^{(i)}$. This will be element $a^{(i)}_0 = 1$. So our final hypothesis, let's compute another $z$ vector:\n",
    "$$z^{(i+1)} = \\Theta^{(i)}a^{(i)}$$\n",
    "Since we only have 1 node in this layer so the $\\Theta^{(i)}$ will only have $1 \\times (m + 1)$, then multiplied that by a column vector $a^{(i)}$ so our result is a single number. Then our final result is:\n",
    "$$f_\\theta(x) = a^{(i+1)} = g(z^{(i+1)})$$\n",
    "Notice that in this last step, between layer $i$ and layer $i+1$, we are doing exactly the same thing as we did in logistic regression. Adding all these intermediate layers in neural networks allows us to more elegantly produce interesting and more complex non-linear hypotheses."
   ]
  },
  {
   "cell_type": "markdown",
   "metadata": {},
   "source": [
    "## **Examples**"
   ]
  },
  {
   "cell_type": "markdown",
   "metadata": {},
   "source": [
    "### **AND Logical Operator**"
   ]
  },
  {
   "cell_type": "markdown",
   "metadata": {},
   "source": [
    "By applying neural networks, we can predict the result of $x_1$ AND $x_2$, which is only **TRUE** when both of $x_1$ and $x_2$ are $1$.\n",
    "\n",
    "|$x_1$|$x_2$|Output|\n",
    "|:---:|:---:|:----:|\n",
    "| $0$ | $0$ | $0$  |\n",
    "| $0$ | $1$ | $0$  |\n",
    "| $1$ | $0$ | $0$  |\n",
    "| $1$ | $1$ | $1$  |\n",
    "\n",
    "Since it is quite simple, we can use just $1$ layer of $3$ neurons.\n",
    "\n",
    "The graph of our functions will look like this:\n",
    "$$\\begin{bmatrix} x_0 \\\\ x_1 \\\\ x_2 \\end{bmatrix} \\rightarrow \\begin{bmatrix} g(z^{(1)}) \\end{bmatrix} = f_\\theta(x)$$\n",
    "with $x_0 = 1$ is our bias unit."
   ]
  },
  {
   "cell_type": "markdown",
   "metadata": {},
   "source": [
    "Since there are only 1 layer, we only need 1 row of $\\theta$, which is:\n",
    "$$\\Theta^{(0)} = \\begin{bmatrix} -30 & 20 & 20 \\end{bmatrix}$$\n",
    "So now our $z^{(1)} = \\Theta^{(0)}X = \\theta^{(0)}_{01}x_0 + \\theta^{(0)}_{11}x_1 + \\theta^{(0)}_{21}x_2$. Then our hypotheses will become:\n",
    "$$f_\\theta(x) = g(\\Theta^{(1)}X) = g(\\theta^{(0)}_{01}x_0 + \\theta^{(0)}_{11}x_1 + \\theta^{(0)}_{21}x_2)$$\n",
    "\n",
    "Now it is capable of predicting the result of the AND operator. For example:\n",
    "\n",
    "|$x_1$|$x_2$|Output|\n",
    "|:---:|:---:|:----:|\n",
    "| $0$ | $0$ | $g(-30) \\approx 0$ |\n",
    "| $0$ | $1$ | $g(-10) \\approx 0$ |\n",
    "| $1$ | $0$ | $g(-10) \\approx 0$ |\n",
    "| $1$ | $1$ | $g(10) \\approx 1$  |\n",
    "\n",
    "This perfectly correspond to the output of a normal AND logical operator."
   ]
  },
  {
   "cell_type": "markdown",
   "metadata": {},
   "source": [
    "### **OR Logical Operator**"
   ]
  },
  {
   "cell_type": "markdown",
   "metadata": {},
   "source": [
    "Similarly, we can predict the result of $x_1$ OR $x_2$, which is **TRUE** when at least $x_1$ or $x_2$ is $1$.\n",
    "\n",
    "|$x_1$|$x_2$|Output|\n",
    "|:---:|:---:|:----:|\n",
    "| $0$ | $0$ | $0$  |\n",
    "| $0$ | $1$ | $1$  |\n",
    "| $1$ | $0$ | $1$  |\n",
    "| $1$ | $1$ | $1$  |\n",
    "\n",
    "And we also use $1$ layer of $3$ neurons.\n",
    "\n",
    "Our $\\Theta$ matrix will now contains:\n",
    "$$\\Theta^{(0)} = \\begin{bmatrix} -10 & 20 & 20 \\end{bmatrix}$$\n",
    "And our hypotheses will become:\n",
    "$$f_\\theta(x) = g(\\Theta^{(0)}X) = g(\\theta^{(0)}_{01}x_0 + \\theta^{(0)}_{11}x_1 + \\theta^{(0)}_{21}x_2)$$\n",
    "\n",
    "|$x_1$|$x_2$|Output|\n",
    "|:---:|:---:|:---:|\n",
    "| $0$ | $0$ | $g(-10) \\approx 0$  |\n",
    "| $0$ | $1$ | $g(10) \\approx 1$   |\n",
    "| $1$ | $0$ | $g(10) \\approx 1$   |\n",
    "| $1$ | $1$ | $g(30) \\approx 1$   |\n"
   ]
  },
  {
   "cell_type": "markdown",
   "metadata": {
    "tags": []
   },
   "source": [
    "# **Cost Function**"
   ]
  },
  {
   "cell_type": "markdown",
   "metadata": {},
   "source": [
    "## **Definition**"
   ]
  },
  {
   "cell_type": "markdown",
   "metadata": {},
   "source": [
    "Since every neurons in neural networks is technically one **Logistic Regression** function, that's why the cost function of a neural network is quite complicated. But first, let's define some terms we will use later:\n",
    "* $L$ = total number of layers in the network\n",
    "\n",
    "* $s_l$ = number of units (not counting bias unit) in layer $l^{th}$\n",
    "\n",
    "* $K$ = number of output units/classes\n",
    "\n",
    "Let's start from **Logistic Regression**, recall that its **Regularized Cost Function** is defined as:\n",
    "$$J(\\theta) = \n",
    "-\\frac{1}{m} \\sum^{m}_{i=1}{[(y^{(i)}\\log{f_\\theta(x^{(i)})}) + (1 - y^{(i)})\\log{(1 - f_\\theta(x^{(i)}))}]} + \\frac{\\lambda}{2m} \\sum^{n}_{j=1}{\\theta^{2}_j}$$\n",
    "\n",
    "There are 2 main differences between **Neural Networks** and **Logistic Regression**:\n",
    "* Neural Networks usually classify multiple classes (require multiple nodes), while Logistic Regression usually classify two classes (require one node).\n",
    "\n",
    "* Neural Networks consist of multiple layers.\n",
    "\n",
    "For the first difference, I want to clarify something here: Neural Networks **does** used in Binary Classification problems, but since I am trying to generalize for other cases where it's the Multiclass Classification problem. Hence, in our Neural Networks' Cost Function, we have to include the \"error\" of the output nodes correspond to its respective classes. Now, our Cost Function for Neural Networks will be added another sum $\\sum$ for each class $k$:\n",
    "$$J(\\theta) = \n",
    "-\\frac{1}{m} \\sum^{m}_{i=1} \\sum^{K}_{k=1}{[(y^{(i)}\\log{(f_\\theta(x^{(i)}))_k}) + (1 - y^{(i)})\\log{(1 - (f_\\theta(x^{(i)}))_k)}]} + \n",
    "\\frac{\\lambda}{2m} \\sum^{n}_{j=1}{\\theta^{2}_j}$$\n",
    "\n",
    "In the function, $k$ denotes the node's index in the output nodes vector so $(f_\\theta(x^{(i)}))_k$ denotes the output value for each node. The double sum $\\sum \\sum$ simply adds up the **Logistic Regression** costs calculated for each node in the output layer.\n",
    "\n",
    "For our second difference, this mainly is used to understand the intuition for regularizing weights matrices in Neural Networks. Because there are multiple layers, each containing a matrix of weights $\\Theta^{(l)}$ so we have to dive deeper into each layer of the network. Moreover, each layer contains a certain amount of inputs $a^{(i)}$ and outputs $z^{(i)}$ so we can get all the weights' indices by using the number of units in each layer $s_l$. So now, our fully implemented Cost Function for Neural Networks will be:\n",
    "$$J(\\theta) = \n",
    "-\\frac{1}{m} \\sum^{m}_{i=1} \\sum^{K}_{k=1}{\\left[(y^{(i)}\\log{(f_\\theta(x^{(i)}))_k}) + (1 - y^{(i)})\\log{(1 - (f_\\theta(x^{(i)}))_k)}\\right]} + \n",
    "\\frac{\\lambda}{2m} \\sum^{L}_{l=0} \\sum^{s_l}_{b=1} \\sum^{s_l + 1}_{a=1} {(\\theta^{(l)}_{a,b})^2}$$\n",
    "\n",
    "In the regularizing part, $a$ stands for the index of the input units, while $b$ denotes the index of the output units. That's why we do not start $a$ at $0$ because we do not want to regularize our bias unit ($\\theta^{(i)}_{0k}$ is the bias' weights column vector of layer $i^{th}$). The triple sum $\\sum \\sum \\sum$ in this part simply adds up the squares of all the individual $\\theta$ in the entire network.\n",
    "\n",
    "In **Logistic Regression**, to minimize our Cost Function we use Gradient Descent. However, with the complexity of the Neural Networks, we cannot use the normal way to compute the gradient. Hence, we have to use another algorithm, called ***Backpropagation***."
   ]
  },
  {
   "cell_type": "markdown",
   "metadata": {},
   "source": [
    "# **Backpropagation**"
   ]
  },
  {
   "cell_type": "markdown",
   "metadata": {},
   "source": [
    "**Backpropagation** is Neural Network terminology for minimizing our **Cost Function**, just like what we were doing with gradient descent in **Logistic** and **Linear Regression**. Our goal is to compute $\\underset{\\Theta}{\\text{min}}~J(\\Theta)$ as always and to achieve that, we must come up with a way to compute the gradient \n",
    "$$\\frac{\\partial}{\\partial \\theta^{(l)}_{i,j}} J(\\Theta)$$ \n",
    "because it points to the minima of the Cost Function. However, as I said before, Neural Network cannot compute the gradient easily because of its complexity. That's why we come up with a new algorithm to minimize our cost. The algorithm is as follows:"
   ]
  },
  {
   "cell_type": "markdown",
   "metadata": {},
   "source": [
    "1. Given a training set $\\{(x^{(1)}, y^{(1)}), (x^{(2)}, y^{(2)}), \\ldots, (x^{(m)}, y^{(m)} )\\}$\n",
    "2. Set $\\Delta^{(l)}_{i,j} = 0$ (for all $l, i, j$)\n",
    "3. For i=1 to m\n",
    "> * Set $a^{(1)} = x^{(i)}$\n",
    "> * Perform forward propagation to calculate $a^{(l)}$ for $l = 2, 3, \\ldots, L$\n",
    "> * Use $y^{(i)}$, compute the error for the last layer $L$: $\\delta^{(L)} = a^{(L)} - y^{(i)}$\n",
    "> * Propagate backwards to calculate $\\delta^{(L-1)}, \\delta^{(L-2)}, \\ldots, \\delta^{(1)}$ using this formula: \n",
    "> $$\\delta^{(l)} = ((\\Theta^{(l)})^T\\delta^{(l+1)}) \\odot a^{(l)} \\odot (1 - a^{(l)})$$\n",
    "> Given that $g'(z^{(l)}) = a^{(l)} \\odot (1 - a^{(l)})$ ($\\odot$ denotes element - wise matrix multiplication) then the formula becomes:\n",
    "> $$\\delta^{(l)} = ((\\Theta^{(l)})^T\\delta^{(l+1)}) \\odot g'(z^{(l)})$$\n",
    "> * Calculate the new $\\Delta$ matrix using either $\\Delta^{(l)}_{i,j} = \\Delta^{(l)}_{i,j} + a^{(l)}_i \\delta^{(l+1)}_j$ or vectorized form: $\\Delta^{(l)} = \\Delta^{(l)} + \\delta^{(l+1)} (a^{(l)})^T$\n",
    "> * Using the newly calculated $\\Delta$ matrix, we can accumulate it and add it to our $D$ matrices, which will be used later to calculate the gradient $\\frac{\\partial}{\\partial \\theta^{(l)}_{i,j}} J(\\Theta)$.\n",
    "> $$D^{(l)}_{i,j} = \\frac{1}{m} \\left( \\Delta^{(l)}_{i,j} + \\lambda \\theta^{(l)}_{i,j} \\right)~~\\text{if $i \\neq 0$}$$\n",
    "> $$D^{(l)}_{0,j} = \\frac{1}{m} \\Delta^{(l)}_{0,j}$$\n",
    "> With $\\lambda$ is the regularizing constant, thus we only add it when the weights is not from the bias ($i \\neq 0$).\n",
    "4. The $D$ matrices we obtain is the gradient matrices:\n",
    "$$\\frac{\\partial}{\\partial \\theta^{(l)}_{ij}} J(\\Theta) = D^{(l)}_{ij}$$"
   ]
  },
  {
   "cell_type": "markdown",
   "metadata": {},
   "source": [
    "# **Demo**"
   ]
  },
  {
   "cell_type": "markdown",
   "metadata": {},
   "source": [
    "Nowadays, everyone uses machine learning libraries such as **Tensorflow**, **PyTorch**,... to skip the tedious tasks and complex algorithm when making a neural network model to have more time for the actual work. So for the demo, I am going to use Tensorflow to implement a simple Neural Network to classify the Fashion MNIST dataset. First let's import all necessary libraries."
   ]
  },
  {
   "cell_type": "code",
   "execution_count": null,
   "metadata": {},
   "outputs": [
    {
     "ename": "",
     "evalue": "",
     "output_type": "error",
     "traceback": [
      "\u001b[1;31mFailed to start the Kernel. \n",
      "Failed to start the Kernel 'tk-ML (Python 3.9.10)'. \n",
      "View Jupyter <a href='command:jupyter.viewOutput'>log</a> for further details. Kernel has not been started"
     ]
    }
   ],
   "source": [
    "# TensorFlow and tf.keras\n",
    "import tensorflow as tf\n",
    "\n",
    "# Helper libraries\n",
    "import numpy as np\n",
    "import matplotlib.pyplot as plt\n",
    "\n",
    "print(tf.__version__)"
   ]
  },
  {
   "cell_type": "markdown",
   "metadata": {},
   "source": [
    "## **Import the Fashion MNIST dataset**"
   ]
  },
  {
   "cell_type": "markdown",
   "metadata": {},
   "source": [
    "This guide uses the <a href=\"https://github.com/zalandoresearch/fashion-mnist\" target=_blank>Fashion MNIST</a> dataset which contains $70,000$ grayscale images in $10$ categories. The images show individual articles of clothing at low resolution ($28 \\times 28$ pixels)."
   ]
  },
  {
   "cell_type": "markdown",
   "metadata": {},
   "source": [
    "Fashion MNIST is intended as a drop-in replacement for the classic <a href=\"http://yann.lecun.com/exdb/mnist/\" target=_blank>MNIST</a> dataset—often used as the \"Hello, World\" of machine learning programs for computer vision. The MNIST dataset contains images of handwritten digits (0, 1, 2, etc.) in a format identical to that of the articles of clothing you'll use here.\n",
    "\n",
    "This guide uses Fashion MNIST for variety, and because it's a slightly more challenging problem than regular MNIST. Both datasets are relatively small and are used to verify that an algorithm works as expected. They're good starting points to test and debug code.\n",
    "\n",
    "Here, $60,000$ images are used to train the network and $10,000$ images to evaluate how accurately the network learned to classify images. You can access the Fashion MNIST directly from TensorFlow. Import and load the Fashion MNIST data directly from TensorFlow:"
   ]
  },
  {
   "cell_type": "code",
   "execution_count": null,
   "metadata": {},
   "outputs": [],
   "source": [
    "fashion_mnist = tf.keras.datasets.fashion_mnist\n",
    "\n",
    "(train_images, train_labels), (test_images, test_labels) = fashion_mnist.load_data()"
   ]
  },
  {
   "cell_type": "markdown",
   "metadata": {},
   "source": [
    "Loading the dataset returns four NumPy arrays:\n",
    "\n",
    "* The `train_images` and `train_labels` arrays are the *training set*—the data the model uses to learn.\n",
    "* The model is tested against the *test set*, the `test_images`, and `test_labels` arrays.\n",
    "\n",
    "The images are $28 \\times 28$ NumPy arrays, with pixel values ranging from $0$ to $255$. The *labels* are an array of integers, ranging from $0$ to $9$. These correspond to the *class* of clothing the image represents:\n",
    "\n",
    "<table>\n",
    "  <tr>\n",
    "    <th>Label</th>\n",
    "    <th>Class</th>\n",
    "  </tr>\n",
    "  <tr>\n",
    "    <td>0</td>\n",
    "    <td>T-shirt/top</td>\n",
    "  </tr>\n",
    "  <tr>\n",
    "    <td>1</td>\n",
    "    <td>Trouser</td>\n",
    "  </tr>\n",
    "    <tr>\n",
    "    <td>2</td>\n",
    "    <td>Pullover</td>\n",
    "  </tr>\n",
    "    <tr>\n",
    "    <td>3</td>\n",
    "    <td>Dress</td>\n",
    "  </tr>\n",
    "    <tr>\n",
    "    <td>4</td>\n",
    "    <td>Coat</td>\n",
    "  </tr>\n",
    "    <tr>\n",
    "    <td>5</td>\n",
    "    <td>Sandal</td>\n",
    "  </tr>\n",
    "    <tr>\n",
    "    <td>6</td>\n",
    "    <td>Shirt</td>\n",
    "  </tr>\n",
    "    <tr>\n",
    "    <td>7</td>\n",
    "    <td>Sneaker</td>\n",
    "  </tr>\n",
    "    <tr>\n",
    "    <td>8</td>\n",
    "    <td>Bag</td>\n",
    "  </tr>\n",
    "    <tr>\n",
    "    <td>9</td>\n",
    "    <td>Ankle boot</td>\n",
    "  </tr>\n",
    "</table>\n",
    "\n",
    "Each image is mapped to a single label. Since the *class names* are not included with the dataset, store them here to use later when plotting the images:"
   ]
  },
  {
   "cell_type": "code",
   "execution_count": null,
   "metadata": {},
   "outputs": [],
   "source": [
    "class_names = ['T-shirt/top', 'Trouser', 'Pullover', 'Dress', 'Coat',\n",
    "               'Sandal', 'Shirt', 'Sneaker', 'Bag', 'Ankle boot']"
   ]
  },
  {
   "cell_type": "markdown",
   "metadata": {},
   "source": [
    "## **Explore the data**"
   ]
  },
  {
   "cell_type": "markdown",
   "metadata": {},
   "source": [
    "Let's explore the format of the dataset before training the model. The following shows there are $60,000$ images in the training set, with each image represented as $28 \\times 28$ pixels:"
   ]
  },
  {
   "cell_type": "code",
   "execution_count": null,
   "metadata": {},
   "outputs": [],
   "source": [
    "train_images.shape"
   ]
  },
  {
   "cell_type": "markdown",
   "metadata": {},
   "source": [
    "Likewise, there are $60,000$ labels in the training set:"
   ]
  },
  {
   "cell_type": "code",
   "execution_count": null,
   "metadata": {},
   "outputs": [],
   "source": [
    "len(train_labels)"
   ]
  },
  {
   "cell_type": "markdown",
   "metadata": {},
   "source": [
    "Each label is an integer between $0$ and $9$:"
   ]
  },
  {
   "cell_type": "code",
   "execution_count": null,
   "metadata": {},
   "outputs": [],
   "source": [
    "train_labels"
   ]
  },
  {
   "cell_type": "markdown",
   "metadata": {},
   "source": [
    "There are $10,000$ images in the test set. Again, each image is represented as $28 \\times 28$ pixels:"
   ]
  },
  {
   "cell_type": "code",
   "execution_count": null,
   "metadata": {},
   "outputs": [],
   "source": [
    "test_images.shape"
   ]
  },
  {
   "cell_type": "markdown",
   "metadata": {},
   "source": [
    "And the test set contains $10,000$ images labels:"
   ]
  },
  {
   "cell_type": "code",
   "execution_count": null,
   "metadata": {},
   "outputs": [],
   "source": [
    "len(test_labels)"
   ]
  },
  {
   "cell_type": "markdown",
   "metadata": {},
   "source": [
    "## **Data Preprocessing**"
   ]
  },
  {
   "cell_type": "markdown",
   "metadata": {},
   "source": [
    "The data must be preprocessed before training the network. If you inspect the first image in the training set, you will see that the pixel values fall in the range of $0$ to $255$:"
   ]
  },
  {
   "cell_type": "code",
   "execution_count": null,
   "metadata": {},
   "outputs": [],
   "source": [
    "plt.figure()\n",
    "plt.imshow(train_images[0])\n",
    "plt.colorbar()\n",
    "plt.grid(False)\n",
    "plt.show()"
   ]
  },
  {
   "cell_type": "markdown",
   "metadata": {},
   "source": [
    "Scale these values to a range of $0$ to $1$ before feeding them to the neural network model. To do so, divide the values by $255$. It's important that the training set and the testing set be preprocessed in the same way:"
   ]
  },
  {
   "cell_type": "code",
   "execution_count": null,
   "metadata": {},
   "outputs": [],
   "source": [
    "train_images = train_images / 255.0\n",
    "\n",
    "test_images = test_images / 255.0"
   ]
  },
  {
   "cell_type": "markdown",
   "metadata": {},
   "source": [
    "To verify that the data is in the correct format and that you're ready to build and train the network, let's display the first $25$ images from the training set and display the class name below each image."
   ]
  },
  {
   "cell_type": "code",
   "execution_count": null,
   "metadata": {},
   "outputs": [],
   "source": [
    "plt.figure(figsize=(10,10))\n",
    "for i in range(25):\n",
    "    plt.subplot(5,5,i+1)\n",
    "    plt.xticks([])\n",
    "    plt.yticks([])\n",
    "    plt.grid(False)\n",
    "    plt.imshow(train_images[i], cmap=plt.cm.binary)\n",
    "    plt.xlabel(class_names[train_labels[i]])\n",
    "plt.show()"
   ]
  },
  {
   "cell_type": "markdown",
   "metadata": {},
   "source": [
    "## **Build the model**"
   ]
  },
  {
   "cell_type": "markdown",
   "metadata": {},
   "source": [
    "Building the neural network requires configuring the layers of the model, then compiling the model."
   ]
  },
  {
   "cell_type": "markdown",
   "metadata": {},
   "source": [
    "### **Set up the layers**"
   ]
  },
  {
   "cell_type": "markdown",
   "metadata": {},
   "source": [
    "The basic building block of a neural network is the [*layer*](https://www.tensorflow.org/api_docs/python/tf/keras/layers). Layers extract representations from the data fed into them. Hopefully, these representations are meaningful for the problem at hand.\n",
    "\n",
    "Most of deep learning consists of chaining together simple layers. Most layers, such as `tf.keras.layers.Dense`, have parameters that are learned during training."
   ]
  },
  {
   "cell_type": "code",
   "execution_count": null,
   "metadata": {},
   "outputs": [],
   "source": [
    "model = tf.keras.Sequential([\n",
    "    tf.keras.layers.Flatten(input_shape=(28, 28)),\n",
    "    tf.keras.layers.Dense(128, activation='relu'),\n",
    "    tf.keras.layers.Dense(10)\n",
    "])"
   ]
  },
  {
   "cell_type": "markdown",
   "metadata": {},
   "source": [
    "The first layer in this network, `tf.keras.layers.Flatten`, transforms the format of the images from a two-dimensional array (of $28 \\times 28$ pixels) to a one-dimensional array (of $28 \\times 28 = 784$ pixels). Think of this layer as unstacking rows of pixels in the image and lining them up. This layer has no parameters to learn; it only reformats the data.\n",
    "\n",
    "After the pixels are flattened, the network consists of a sequence of two `tf.keras.layers.Dense` layers. These are densely connected, or fully connected, neural layers. The first `Dense` layer has $128$ nodes (or neurons). The second (and last) layer returns a logits array with length of $10$. Each node contains a score that indicates the current image belongs to one of the $10$ classes."
   ]
  },
  {
   "cell_type": "markdown",
   "metadata": {},
   "source": [
    "### **Compile the model**"
   ]
  },
  {
   "cell_type": "markdown",
   "metadata": {},
   "source": [
    "Before the model is ready for training, it needs a few more settings. These are added during the model's [*compile*](https://www.tensorflow.org/api_docs/python/tf/keras/Model#compile) step:\n",
    "\n",
    "* [*Loss function*](https://www.tensorflow.org/api_docs/python/tf/keras/losses) —This measures how accurate the model is during training. You want to minimize this function to \"steer\" the model in the right direction.\n",
    "* [*Optimizer*](https://www.tensorflow.org/api_docs/python/tf/keras/optimizers) —This is how the model is updated based on the data it sees and its loss function.\n",
    "* [*Metrics*](https://www.tensorflow.org/api_docs/python/tf/keras/metrics) —Used to monitor the training and testing steps. The following example uses *accuracy*, the fraction of the images that are correctly classified."
   ]
  },
  {
   "cell_type": "code",
   "execution_count": null,
   "metadata": {},
   "outputs": [],
   "source": [
    "model.compile(optimizer='adam',\n",
    "              loss=tf.keras.losses.SparseCategoricalCrossentropy(from_logits=True),\n",
    "              metrics=['accuracy'])"
   ]
  },
  {
   "cell_type": "markdown",
   "metadata": {},
   "source": [
    "### **Train the model**"
   ]
  },
  {
   "cell_type": "markdown",
   "metadata": {},
   "source": [
    "Training the neural network model requires the following steps:\n",
    "\n",
    "1. Feed the training data to the model. In this example, the training data is in the `train_images` and `train_labels` arrays.\n",
    "2. The model learns to associate images and labels.\n",
    "3. You ask the model to make predictions about a test set—in this example, the `test_images` array.\n",
    "4. Verify that the predictions match the labels from the `test_labels` array."
   ]
  },
  {
   "cell_type": "markdown",
   "metadata": {},
   "source": [
    "### Feed the model"
   ]
  },
  {
   "cell_type": "markdown",
   "metadata": {},
   "source": [
    "To start training,  call the [`model.fit`](https://www.tensorflow.org/api_docs/python/tf/keras/Model#fit) method—so called because it \"fits\" the model to the training data:"
   ]
  },
  {
   "cell_type": "code",
   "execution_count": null,
   "metadata": {},
   "outputs": [],
   "source": [
    "model.fit(train_images, train_labels, epochs=10)"
   ]
  },
  {
   "cell_type": "markdown",
   "metadata": {},
   "source": [
    "As the model trains, the loss and accuracy metrics are displayed. This model reaches an accuracy of about $0.91$ (or $91\\%$) on the training data."
   ]
  },
  {
   "cell_type": "markdown",
   "metadata": {},
   "source": [
    "### **Evaluate accuracy**"
   ]
  },
  {
   "cell_type": "markdown",
   "metadata": {},
   "source": [
    "Next, compare how the model performs on the test dataset:"
   ]
  },
  {
   "cell_type": "code",
   "execution_count": null,
   "metadata": {},
   "outputs": [],
   "source": [
    "test_loss, test_acc = model.evaluate(test_images,  test_labels, verbose=2)\n",
    "\n",
    "print('\\nTest accuracy:', test_acc)"
   ]
  },
  {
   "cell_type": "markdown",
   "metadata": {},
   "source": [
    "It turns out that the accuracy on the test dataset is a little less than the accuracy on the training dataset. This gap between training accuracy and test accuracy represents *overfitting*. Overfitting happens when a machine learning model performs worse on new, previously unseen inputs than it does on the training data. An overfitted model \"memorizes\" the noise and details in the training dataset to a point where it negatively impacts the performance of the model on the new data. For more information, see the following:\n",
    "*   [Demonstrate overfitting](https://www.tensorflow.org/tutorials/keras/overfit_and_underfit#demonstrate_overfitting)\n",
    "*   [Strategies to prevent overfitting](https://www.tensorflow.org/tutorials/keras/overfit_and_underfit#strategies_to_prevent_overfitting)"
   ]
  },
  {
   "cell_type": "markdown",
   "metadata": {},
   "source": [
    "### **Make predictions**"
   ]
  },
  {
   "cell_type": "markdown",
   "metadata": {},
   "source": [
    "With the model trained, you can use it to make predictions about some images.\n",
    "Attach a softmax layer to convert the model's linear outputs—[logits](https://developers.google.com/machine-learning/glossary#logits)—to probabilities, which should be easier to interpret."
   ]
  },
  {
   "cell_type": "code",
   "execution_count": null,
   "metadata": {},
   "outputs": [],
   "source": [
    "probability_model = tf.keras.Sequential([model, \n",
    "                                         tf.keras.layers.Softmax()])"
   ]
  },
  {
   "cell_type": "code",
   "execution_count": null,
   "metadata": {},
   "outputs": [],
   "source": [
    "predictions = probability_model.predict(test_images)"
   ]
  },
  {
   "cell_type": "markdown",
   "metadata": {},
   "source": [
    "Here, the model has predicted the label for each image in the testing set. Let's take a look at the first prediction:"
   ]
  },
  {
   "cell_type": "code",
   "execution_count": 2,
   "metadata": {},
   "outputs": [
    {
     "ename": "NameError",
     "evalue": "name 'predictions' is not defined",
     "output_type": "error",
     "traceback": [
      "\u001b[0;31m---------------------------------------------------------------------------\u001b[0m",
      "\u001b[0;31mNameError\u001b[0m                                 Traceback (most recent call last)",
      "Input \u001b[0;32mIn [2]\u001b[0m, in \u001b[0;36m<cell line: 1>\u001b[0;34m()\u001b[0m\n\u001b[0;32m----> 1\u001b[0m \u001b[43mpredictions\u001b[49m[\u001b[38;5;241m0\u001b[39m]\n",
      "\u001b[0;31mNameError\u001b[0m: name 'predictions' is not defined"
     ]
    }
   ],
   "source": [
    "predictions[0]"
   ]
  },
  {
   "cell_type": "markdown",
   "metadata": {},
   "source": [
    "A prediction is an array of $10$ numbers. They represent the model's \"confidence\" that the image corresponds to each of the $10$ different articles of clothing. You can see which label has the highest confidence value:"
   ]
  },
  {
   "cell_type": "code",
   "execution_count": null,
   "metadata": {},
   "outputs": [],
   "source": [
    "np.argmax(predictions[0])"
   ]
  },
  {
   "cell_type": "markdown",
   "metadata": {},
   "source": [
    "So, the model is most confident that this image is an ankle boot, or `class_names[9]`. Examining the test label shows that this classification is correct:"
   ]
  },
  {
   "cell_type": "code",
   "execution_count": null,
   "metadata": {},
   "outputs": [],
   "source": [
    "test_labels[0]"
   ]
  },
  {
   "cell_type": "markdown",
   "metadata": {},
   "source": [
    "Graph this to look at the full set of 10 class predictions."
   ]
  },
  {
   "cell_type": "code",
   "execution_count": null,
   "metadata": {},
   "outputs": [],
   "source": [
    "def plot_image(i, predictions_array, true_label, img):\n",
    "  true_label, img = true_label[i], img[i]\n",
    "  plt.grid(False)\n",
    "  plt.xticks([])\n",
    "  plt.yticks([])\n",
    "\n",
    "  plt.imshow(img, cmap=plt.cm.binary)\n",
    "\n",
    "  predicted_label = np.argmax(predictions_array)\n",
    "  if predicted_label == true_label:\n",
    "    color = 'blue'\n",
    "  else:\n",
    "    color = 'red'\n",
    "\n",
    "  plt.xlabel(\"{} {:2.0f}% ({})\".format(class_names[predicted_label],\n",
    "                                100*np.max(predictions_array),\n",
    "                                class_names[true_label]),\n",
    "                                color=color)\n",
    "\n",
    "def plot_value_array(i, predictions_array, true_label):\n",
    "  true_label = true_label[i]\n",
    "  plt.grid(False)\n",
    "  plt.xticks(range(10))\n",
    "  plt.yticks([])\n",
    "  thisplot = plt.bar(range(10), predictions_array, color=\"#777777\")\n",
    "  plt.ylim([0, 1])\n",
    "  predicted_label = np.argmax(predictions_array)\n",
    "\n",
    "  thisplot[predicted_label].set_color('red')\n",
    "  thisplot[true_label].set_color('blue')"
   ]
  },
  {
   "cell_type": "markdown",
   "metadata": {},
   "source": [
    "### **Verify predictions**"
   ]
  },
  {
   "cell_type": "markdown",
   "metadata": {},
   "source": [
    "With the model trained, you can use it to make predictions about some images.\n",
    "\n",
    "Let's look at the $0th$ image, predictions, and prediction array. Correct prediction labels are blue and incorrect prediction labels are red. The number gives the percentage (out of $100$) for the predicted label."
   ]
  },
  {
   "cell_type": "code",
   "execution_count": null,
   "metadata": {},
   "outputs": [],
   "source": [
    "i = 0\n",
    "plt.figure(figsize=(6,3))\n",
    "plt.subplot(1,2,1)\n",
    "plot_image(i, predictions[i], test_labels, test_images)\n",
    "plt.subplot(1,2,2)\n",
    "plot_value_array(i, predictions[i],  test_labels)\n",
    "plt.show()"
   ]
  },
  {
   "cell_type": "code",
   "execution_count": null,
   "metadata": {},
   "outputs": [],
   "source": [
    "i = 12\n",
    "plt.figure(figsize=(6,3))\n",
    "plt.subplot(1,2,1)\n",
    "plot_image(i, predictions[i], test_labels, test_images)\n",
    "plt.subplot(1,2,2)\n",
    "plot_value_array(i, predictions[i],  test_labels)\n",
    "plt.show()"
   ]
  },
  {
   "cell_type": "markdown",
   "metadata": {},
   "source": [
    "Let's plot several images with their predictions. Note that the model can be wrong even when very confident."
   ]
  },
  {
   "cell_type": "code",
   "execution_count": null,
   "metadata": {},
   "outputs": [],
   "source": [
    "# Plot the first X test images, their predicted labels, and the true labels.\n",
    "# Color correct predictions in blue and incorrect predictions in red.\n",
    "num_rows = 5\n",
    "num_cols = 3\n",
    "num_images = num_rows*num_cols\n",
    "plt.figure(figsize=(2*2*num_cols, 2*num_rows))\n",
    "for i in range(num_images):\n",
    "  plt.subplot(num_rows, 2*num_cols, 2*i+1)\n",
    "  plot_image(i, predictions[i], test_labels, test_images)\n",
    "  plt.subplot(num_rows, 2*num_cols, 2*i+2)\n",
    "  plot_value_array(i, predictions[i], test_labels)\n",
    "plt.tight_layout()\n",
    "plt.show()"
   ]
  },
  {
   "cell_type": "markdown",
   "metadata": {},
   "source": [
    "### **Use the trained model**"
   ]
  },
  {
   "cell_type": "markdown",
   "metadata": {},
   "source": [
    "Finally, use the trained model to make a prediction about a single image."
   ]
  },
  {
   "cell_type": "code",
   "execution_count": null,
   "metadata": {},
   "outputs": [],
   "source": [
    "# Grab an image from the test dataset.\n",
    "img = test_images[1]\n",
    "\n",
    "print(img.shape)"
   ]
  },
  {
   "cell_type": "markdown",
   "metadata": {},
   "source": [
    "`tf.keras` models are optimized to make predictions on a *batch*, or collection, of examples at once. Accordingly, even though you're using a single image, you need to add it to a list:"
   ]
  },
  {
   "cell_type": "code",
   "execution_count": null,
   "metadata": {},
   "outputs": [],
   "source": [
    "# Add the image to a batch where it's the only member.\n",
    "img = (np.expand_dims(img,0))\n",
    "\n",
    "print(img.shape)"
   ]
  },
  {
   "cell_type": "markdown",
   "metadata": {},
   "source": [
    "Now predict the correct label for this image:"
   ]
  },
  {
   "cell_type": "code",
   "execution_count": null,
   "metadata": {},
   "outputs": [],
   "source": [
    "predictions_single = probability_model.predict(img)\n",
    "\n",
    "print(predictions_single)"
   ]
  },
  {
   "cell_type": "code",
   "execution_count": null,
   "metadata": {},
   "outputs": [],
   "source": [
    "plot_value_array(1, predictions_single[0], test_labels)\n",
    "_ = plt.xticks(range(10), class_names, rotation=45)\n",
    "plt.show()"
   ]
  },
  {
   "cell_type": "markdown",
   "metadata": {},
   "source": [
    "`tf.keras.Model.predict` returns a list of lists—one list for each image in the batch of data. Grab the predictions for our (only) image in the batch:"
   ]
  },
  {
   "cell_type": "code",
   "execution_count": null,
   "metadata": {},
   "outputs": [],
   "source": [
    "np.argmax(predictions_single[0])"
   ]
  },
  {
   "cell_type": "markdown",
   "metadata": {},
   "source": [
    "And the model predicts a label as expected."
   ]
  }
 ],
 "metadata": {
  "kernelspec": {
   "display_name": "Python 3 (ipykernel)",
   "language": "python",
   "name": "python3"
  },
  "language_info": {
   "codemirror_mode": {
    "name": "ipython",
    "version": 3
   },
   "file_extension": ".py",
   "mimetype": "text/x-python",
   "name": "python",
   "nbconvert_exporter": "python",
   "pygments_lexer": "ipython3",
   "version": "3.9.10"
  }
 },
 "nbformat": 4,
 "nbformat_minor": 4
}
