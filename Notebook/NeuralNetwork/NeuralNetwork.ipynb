{
 "cells": [
  {
   "cell_type": "markdown",
   "metadata": {},
   "source": [
    "# $$Neuron~and~Neural~Network$$"
   ]
  },
  {
   "cell_type": "markdown",
   "metadata": {},
   "source": [
    "Airplane mimics how birds fly, Shinkansen mimics the kingfisher's sleak beak; by mimicking the nature, humans have advanced the technology. is called biomimicry. In machine learning, since our goal is to make machines that can think like humans, we mimic neurons which are the building blocks for the brain and that is how Neural Network come along. \n",
    "\n",
    "But first, let's find out what neurons are and how they can be applied to machine learning (Click <a href=\"https://kite.com/wp-content/uploads/2019/05/image8.png\">here</a> to find out the structure of neurons).\n",
    "A neuron uses **dendrite** to take electricity pulses (called \"spikes\"), process in the nucleus to give the outputs (**axons**). \n",
    "\n",
    "Similarly, a neuron cell is basically computational units that takes input features $x_1, x_2, ..., x_n$ (dendrites) as electrical inputs that are channeled to outputs (axons). In this model, our $x_0$ input node is sometimes called the \"bias unit\", which is always equal to $1$. In neural networks, we use the same logistic function as in classification, $\\frac{1}{1 + e^{-\\theta^{T}x}}$, which is sometimes called sigmoid (logistic) **activation** function. In this situation, $\\theta$ parameters are sometimes called \"weights\"."
   ]
  },
  {
   "cell_type": "markdown",
   "metadata": {},
   "source": []
  }
 ],
 "metadata": {
  "kernelspec": {
   "display_name": "Python 3 (ipykernel)",
   "language": "python",
   "name": "python3"
  },
  "language_info": {
   "codemirror_mode": {
    "name": "ipython",
    "version": 3
   },
   "file_extension": ".py",
   "mimetype": "text/x-python",
   "name": "python",
   "nbconvert_exporter": "python",
   "pygments_lexer": "ipython3",
   "version": "3.9.7"
  }
 },
 "nbformat": 4,
 "nbformat_minor": 4
}
