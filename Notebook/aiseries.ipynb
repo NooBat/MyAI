{
 "cells": [
  {
   "cell_type": "code",
   "execution_count": 1,
   "metadata": {},
   "outputs": [],
   "source": [
    "import tensorflow as tf\n",
    "from keras_preprocessing.image import ImageDataGenerator\n",
    "import matplotlib.pyplot as plt\n",
    "import numpy as np\n",
    "import pandas as pd\n",
    "\n",
    "column_names = ['ID', 'Label']\n",
    "raw_dataset = pd.read_csv('../TrainingSet/gdsc-aiseries/trainLabels.csv')\n",
    "raw_dataset.columns = column_names\n",
    "\n",
    "class_names = np.sort(raw_dataset['Label'].unique())\n",
    "number_of_classes = len(class_names)"
   ]
  },
  {
   "cell_type": "code",
   "execution_count": 2,
   "metadata": {},
   "outputs": [
    {
     "name": "stdout",
     "output_type": "stream",
     "text": [
      "Found 40000 images belonging to 10 classes.\n"
     ]
    }
   ],
   "source": [
    "datagen = ImageDataGenerator(\n",
    "    validation_split=0.2,\n",
    "    horizontal_flip=True,\n",
    "    vertical_flip=True,\n",
    "    rescale=1.0/255,\n",
    ")\n",
    "\n",
    "train_generator = datagen.flow_from_directory(\n",
    "    '../TrainingSet/gdsc-aiseries/train',\n",
    "    target_size=(32,32),\n",
    "    batch_size=100,\n",
    "    subset='training',\n",
    "    class_mode='sparse'\n",
    ")\n",
    "\n",
    "validation_generator = datagen.flow_from_directory(\n",
    "    '../TrainingSet/gdsc-aiseries/train',\n",
    "    target_size=(32,32),\n",
    "    batch_size=100,\n",
    "    subset='validation',\n",
    "    class_mode='sparse'\n",
    ")"
   ]
  },
  {
   "cell_type": "code",
   "execution_count": null,
   "metadata": {},
   "outputs": [],
   "source": [
    "model = tf.keras.models.Sequential([\n",
    "    tf.keras.layers.Conv2D(128, (3,3), activation='elu', \n",
    "                           padding='same',\n",
    "                           input_shape=(32, 32, 3)),\n",
    "    tf.keras.layers.BatchNormalization(),\n",
    "    tf.keras.layers.Conv2D(128, (3,3), activation='elu',\n",
    "                           padding='same'),\n",
    "    tf.keras.layers.BatchNormalization(),\n",
    "    tf.keras.layers.MaxPooling2D(2, 2),\n",
    "    tf.keras.Dropout(0.),\n",
    "    tf.keras.layers.Conv2D(256, (3,3), activation='elu', \n",
    "                           padding='same'),\n",
    "    tf.keras.layers.Conv2D(256, (3,3), activation='elu',\n",
    "                           padding='same'),\n",
    "    tf.keras.layers.Conv2D(256, (3,3), activation='elu',\n",
    "                           padding='same'),\n",
    "    tf.keras.layers.MaxPooling2D(2, 2),\n",
    "    tf.keras.layers.Flatten(),\n",
    "    tf.keras.layers.Dense(64, activation='elu'),\n",
    "    tf.keras.layers.Dropout(0.5),\n",
    "    tf.keras.layers.Dense(128, activation='elu'),\n",
    "    tf.keras.layers.Dropout(0.4),\n",
    "    tf.keras.layers.Dense(32, activation='softmax')\n",
    "])"
   ]
  }
 ],
 "metadata": {
  "interpreter": {
   "hash": "993f3ff584d80b65848152c62deda0f46d24ecbd57ea74dc122db5b752f257c3"
  },
  "kernelspec": {
   "display_name": "Python 3.7.11 64-bit ('data': conda)",
   "language": "python",
   "name": "python3"
  },
  "language_info": {
   "codemirror_mode": {
    "name": "ipython",
    "version": 3
   },
   "file_extension": ".py",
   "mimetype": "text/x-python",
   "name": "python",
   "nbconvert_exporter": "python",
   "pygments_lexer": "ipython3",
   "version": "3.8.12"
  },
  "orig_nbformat": 4
 },
 "nbformat": 4,
 "nbformat_minor": 2
}
