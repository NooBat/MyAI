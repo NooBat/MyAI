{
 "cells": [
  {
   "cell_type": "code",
   "execution_count": 9,
   "metadata": {},
   "outputs": [],
   "source": [
    "import tensorflow as tf\n",
    "from keras_preprocessing.image import ImageDataGenerator\n",
    "import matplotlib.pyplot as plt\n",
    "import numpy as np\n",
    "import pandas as pd\n",
    "\n",
    "column_names = ['ID', 'Label']\n",
    "raw_dataset = pd.read_csv('../Training_set/gdsc-aiseries/trainLabels.csv')\n",
    "raw_dataset.columns = column_names\n",
    "\n",
    "class_names = np.sort(raw_dataset['Label'].unique())\n",
    "number_of_classes = len(class_names)"
   ]
  },
  {
   "cell_type": "code",
   "execution_count": null,
   "metadata": {},
   "outputs": [],
   "source": [
    "datagen = ImageDataGenerator(\n",
    "    validation_split=0.2,\n",
    "    horizontal_flip=True,\n",
    "    vertical_flip=True,\n",
    "    rescale=1.0/255,\n",
    ")\n",
    "\n",
    "train_generator = datagen.flow_from_directory(\n",
    "    '../Training_set/gdsc-aiseries/train/train',\n",
    "    target_size=(32,32),\n",
    "    batch_size=100,\n",
    "    subset='training',\n",
    "    class_mode='sparse'\n",
    ")"
   ]
  }
 ],
 "metadata": {
  "interpreter": {
   "hash": "993f3ff584d80b65848152c62deda0f46d24ecbd57ea74dc122db5b752f257c3"
  },
  "kernelspec": {
   "display_name": "Python 3.7.11 64-bit ('data': conda)",
   "language": "python",
   "name": "python3"
  },
  "language_info": {
   "codemirror_mode": {
    "name": "ipython",
    "version": 3
   },
   "file_extension": ".py",
   "mimetype": "text/x-python",
   "name": "python",
   "nbconvert_exporter": "python",
   "pygments_lexer": "ipython3",
   "version": "3.7.11"
  },
  "orig_nbformat": 4
 },
 "nbformat": 4,
 "nbformat_minor": 2
}
