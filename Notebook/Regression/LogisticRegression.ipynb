{
 "cells": [
  {
   "cell_type": "markdown",
   "metadata": {},
   "source": [
    "# $$Logistic~~Regression$$\n"
   ]
  },
  {
   "cell_type": "markdown",
   "metadata": {},
   "source": [
    "Though this is called Regression, it falls under another category of **Supervised Learning** which is **Classification**.\n"
   ]
  },
  {
   "cell_type": "markdown",
   "metadata": {},
   "source": [
    "# **Classification**\n"
   ]
  },
  {
   "cell_type": "markdown",
   "metadata": {},
   "source": [
    "**Classification** is a process of categorizing a given set of data into **classes**. It can be performed on both structured or unstructured data. The process starts with predicting the class of given data points. The classes are often referred to as **targets**, **labels** or **categories**.\n",
    "\n",
    "The classification predictive modeling is the task of approximating the mapping function from input variables to discrete output variables. The main goal is to identify which **class**/**category** the new data will fall into.\n",
    "\n",
    "For example:\n",
    "\n",
    "- Given the size of the cancer tumour, we can predict whether this is a benign or malignant tumour.\n",
    "- Given the annual income of an individual, banks can predict whether that individual is capable of paying the debt.\n"
   ]
  },
  {
   "cell_type": "markdown",
   "metadata": {},
   "source": [
    "As we can see here, the label that we want to predict take on a small number of discrete values. For **Binary Classification**, the label $y$ only take on two values: $0$ (malignant, cannot pay debt) and $1$ (benign, can pay debt) .\n"
   ]
  },
  {
   "cell_type": "markdown",
   "metadata": {},
   "source": [
    "We can attempt to use linear regression and map all predictions greater than $0.5$ as $1$ and all less than $0.5$ as $0$ . But this doesn't work well because classification is not actually a linear function.\n"
   ]
  },
  {
   "cell_type": "markdown",
   "metadata": {},
   "source": [
    "# **Multiclass Classification**"
   ]
  },
  {
   "cell_type": "markdown",
   "metadata": {},
   "source": [
    "**Multiclass Classification** occurs when the data set has more than two categories. So instead of $y \\in \\{0, 1\\}$ we will expand it so that $y \\in \\{0, 1, 2, ..., n\\}.$\n",
    "\n",
    "Since we have $n + 1$ discrete categories, we can divide our problems into $n + 1$ **Binary Classification** problems; in each one, we predict the corresponding $y.$ This approach is called **One-vs-All**.\n",
    "\n",
    "$$y \\in \\{0, 1, 2, ..., n\\}$$\n",
    "We perform **Logistic regression** for each category $y$ to get:\n",
    "$$f_\\theta^{(0)} = P(y=0|x;\\theta)$$\n",
    "$$f_\\theta^{(1)} = P(y=1|x;\\theta)$$\n",
    "$$f_\\theta^{(2)} = P(y=2|x;\\theta)$$\n",
    "$$...$$\n",
    "$$f_\\theta^{(n)} = P(y=n|x;\\theta)$$\n",
    "And then the prediction will be the best probability in all categories $\\underset{i}{\\text{max}}(f_\\theta^{(i)}(x))$\n",
    "\n",
    "Simply speaking, we are choosing one class and lumping all the others into a single second class. By repeating this process and apply binary logistic regression to each cases, and then use the hypothesis function that returned the highest value as our prediction (since with the given value $x,$ the higher the odd, the more likely it is correct)."
   ]
  },
  {
   "cell_type": "markdown",
   "metadata": {},
   "source": [
    "# Definition\n"
   ]
  },
  {
   "cell_type": "markdown",
   "metadata": {},
   "source": [
    "## **General formula**\n"
   ]
  },
  {
   "cell_type": "markdown",
   "metadata": {},
   "source": [
    "Since we want our hypothesis function to give certain discrete values ( $0 \\leqslant f_\\theta(x) \\leqslant 1 $ ), which cannot be achieved with normal linear function $f_\\theta(x) = \\theta^{T} x$ . That is why we are using something called the **Sigmoid function**:\n",
    "$$g(z) = \\frac{1}{1 + e^{-z}}$$\n",
    "$$\\Rightarrow f_\\theta(x) = g(\\theta_{T}x) = \\frac{1}{1 + e^{-\\theta_{T}x}}$$\n",
    "This is the reason why **Logistic function** can be used interchangeably with **Sigmoid function**.\n",
    "\n",
    "Here is how the Sigmoid function look like:\n",
    "\n",
    "![Sigmoid function illustration](https://d3c33hcgiwev3.cloudfront.net/imageAssetProxy.v1/1WFqZHntEead-BJkoDOYOw_2413fbec8ff9fa1f19aaf78265b8a33b_Logistic_function.png?expiry=1638662400000&hmac=8EA0eH0xwVK5nkS2SMV-L8FDqmb3Sc_vHJ-PG5r-gz0)\n"
   ]
  },
  {
   "cell_type": "markdown",
   "metadata": {},
   "source": [
    "## **Usage**\n"
   ]
  },
  {
   "cell_type": "markdown",
   "metadata": {},
   "source": [
    "This can be used to predict the probability that the label $y = 1$ on input $x$ .\n",
    "For example, if:\n",
    "$$x = \\begin{bmatrix} x_0 \\\\ x_1 \\end{bmatrix} = \\begin{bmatrix} 1 \\\\ \\text{Tumor Size} \\end{bmatrix} $$\n",
    "$$\\Rightarrow f_\\theta(x) = 0.7 $$\n",
    "Then this tells that there is a 70% chance that the patient's tumor is malignant.\n",
    "\n",
    "Statistically, this could be written as: \n",
    "$$f_\\theta(x) = P(y = 1 | x; \\theta)~~\\text{Meaning: Probability that $y = 1$, given $x$, parameterized by $\\theta$}$$\n",
    "Since there are only two possible outcomes then\n",
    "$$P(y = 0 | x; \\theta) + P(y = 1 | x; \\theta) = 1$$\n"
   ]
  },
  {
   "cell_type": "markdown",
   "metadata": {},
   "source": [
    "# Decision Boundary\n"
   ]
  },
  {
   "cell_type": "markdown",
   "metadata": {},
   "source": [
    "## **Definition**"
   ]
  },
  {
   "cell_type": "markdown",
   "metadata": {},
   "source": [
    "To get our discrete $0$ and $1$ , we can translate the output of the hypthesis function as follows:\n",
    "$$y = \\begin{cases} 1, & \\text{if $f_\\theta(x) \\geqslant 0.5$} \\\\\n",
    "                    0, & \\text{if $f_\\theta(x) < 0.5$    } \\end{cases}$$\n",
    "\n",
    "We already know that if $z \\geqslant 0$ then our logistic function $g(z) \\geqslant 0.5.$\n",
    "\n",
    "So by assigning $z = \\theta^{T}X,$ we can conclude that $f_\\theta(x) = g(\\theta^{T}X) \\geqslant 0.5$ with $\\theta^{T}x \\geqslant 0$ .\n",
    "\n",
    "To sum up:\n",
    "$$y = \\begin{cases} 1, & \\text{if $\\theta^{T}X \\geqslant 0$} \\\\\n",
    "                    0, & \\text{if $\\theta^{T}X < 0$    } \\end{cases}$$\n",
    "\n",
    "The **decision boundary** is the line that separates the area where $y = 0$ and where $y = 1.$ It is created by our hypothesis function $f_\\theta(x).$ "
   ]
  },
  {
   "cell_type": "markdown",
   "metadata": {},
   "source": [
    "For example:\n",
    "$$\\theta = \\begin{bmatrix} 5 \\\\ -1 \\\\ 0 \\end{bmatrix}~~~~~X = \\begin{bmatrix} 1 \\\\ x_1 \\\\ x_2 \\end{bmatrix}$$\n",
    "$$\\text{So $\\theta^{T}x = 5 + (-1)x_1 + 0x_2$}$$\n",
    "$$\\text{And because $y = 1$ if $\\theta^{T}X \\geqslant 0$}$$\n",
    "$$\\text{Then $5 - x_1 \\geqslant 0$}$$\n",
    "$$\\Rightarrow x_1 \\leqslant 5$$\n",
    "\n",
    "In this case, our decision boundary is a straight vertical line where $x_1 = 5$ , and everything to the left of that denotes $y = 1,$ while everything to the right denotes $y = 0.$"
   ]
  },
  {
   "cell_type": "markdown",
   "metadata": {},
   "source": [
    "**One important note:** The input to the sigmoid function $g(z)$ **does not** need to be linear. You can use polynomial features to fit the model better.\n",
    "\n",
    "For example, it could be a function describe a circle $z = \\theta_0 + \\theta_1x_1^{2} + \\theta_2x_2^{2}$"
   ]
  },
  {
   "cell_type": "markdown",
   "metadata": {},
   "source": [
    "# Cost Function"
   ]
  },
  {
   "cell_type": "markdown",
   "metadata": {},
   "source": [
    "## **Definition**"
   ]
  },
  {
   "cell_type": "markdown",
   "metadata": {},
   "source": [
    "We cannot use the same cost function that we use for **Linear Regression** because the **Logistic Function** will cause the graph of the **Cost Function** to be wavy, resulting in many local optimas. In other words, it will not be a convex function. This is why we have to come up with another way to define the **Cost Function**.\n",
    "\n",
    "The **Cost Function** for **Logistic Regression** looks like this:\n",
    "$$J(\\theta) = \\frac{1}{m} \\sum_{i=1}^{m}{\\text{Cost}(f_\\theta(x^{(i)}),  y^{(i)})}$$\n",
    "With: \n",
    "$$\\text{Cost}(f_\\theta(x^{(i)}),  y^{(i)}) = \\begin{cases} -\\log(f_\\theta(x)) & \\text{if $y = 1$} \\\\\n",
    "                                                           -\\log(1 - f_\\theta(x)) & \\text{if $y = 0$} \\end{cases}$$\n",
    "Here I omitted the superscript $^{(i)}$ to simplify it since it is the same for all training example.\n",
    "\n",
    "From the given definition, we can conclude that:\n",
    "$$\\text{Cost$(f_\\theta(x, y)) = 0$ if $f_\\theta(x)$ = 0}$$\n",
    "$$\\text{Cost$(f_\\theta(x, y)) \\to \\infty$ if $y = 0$ and $f_\\theta(x) \\to 1$}$$\n",
    "$$\\text{Cost$(f_\\theta(x, y)) \\to \\infty$ if $y = 1$ and $f_\\theta(x) \\to 0$}$$\n",
    "\n",
    "The last two equations captures intuition that when the predicted label $f_\\theta(x)$ is wrong (oppose to $y$ ), we will penalize the learning algorithm by a very large cost. \n",
    "\n",
    "**For example**, if a patient with a malignant tumor was predicted as a benign one, the consequence would have been very large.\n",
    "\n",
    "**By writing the Cost Function this way guarantees that $J(\\theta)$ is convex for Logistic Regression**."
   ]
  },
  {
   "cell_type": "markdown",
   "metadata": {},
   "source": [
    "## **Simplifying the Cost Function**"
   ]
  },
  {
   "cell_type": "markdown",
   "metadata": {},
   "source": [
    "In reality, this **Cost Function** is too complicated since there are $2$ cases. However, since $y$ has strictly $2$ discrete values: $0$ and $1$ so it can be simplified to this:\n",
    "$$\\text{Cost}(f_\\theta(x, y)) = -y\\log(f_\\theta(x)) - (1 - y)\\log(1 - f_\\theta(x))$$\n",
    "All right, it might look intimidating for you. But if you examine it closely, you will see that:\n",
    "* If $y = 0$ then $\\text{Cost}(f_\\theta(x, y))$ = $-\\log(f_\\theta(x))$\n",
    "* If $y = 1$ then $\\text{Cost}(f_\\theta(x, y))$ = $-\\log(1 - f_\\theta(x))$\n",
    "\n",
    "It's that simple!"
   ]
  },
  {
   "cell_type": "markdown",
   "metadata": {},
   "source": [
    "So now since we have the simplified $\\text{Cost}(f_\\theta(x, y)).$ We can now plug it back into $J(\\theta):$\n",
    "\n",
    "$$J(\\theta) = \\frac{1}{m} \\sum_{i=1}^{m}{\\text{Cost}(f_\\theta(x^{(i)}),  y^{(i)})}\n",
    "          = -\\frac{1}{m} \\sum_{i=1}^{m}{\\left[y^{(i)}\\log(f_\\theta(x^{(i)})) + (1 - y^{(i)})\\log(1 - f_\\theta(x^{(i)})\\right]}$$\n",
    "This function has another name: **Binary Cross-Entropy Loss**.\n",
    "\n",
    "The reason behind this **Cost Function** is that it can be derived from statistics using the **the Principle of Maximum Likelihood Estimation**, which is an idea in statistics for how to efficiently find parameters' data for different model. And it also has a nice property that it is **Convex**."
   ]
  },
  {
   "cell_type": "markdown",
   "metadata": {},
   "source": [
    "To fit the parameters $\\theta,$ we have to find the minimized **Cost Function** $\\underset{\\theta}{\\text{min }}J(\\theta).$ After minimized this, we will get the optimized parameters $\\theta,$ which could be put into the hypothesis function $f_\\theta(x)$ to make a prediction given a new $x.$\n",
    "\n",
    "To achieve the optimal $\\theta,$ we will use some optimization algorithm. But for simplicity, we will use **Gradient Descent**."
   ]
  },
  {
   "cell_type": "markdown",
   "metadata": {},
   "source": [
    "## **Vectorized Implementation**"
   ]
  },
  {
   "cell_type": "markdown",
   "metadata": {},
   "source": [
    "$$h = g(\\theta X)$$\n",
    "$$J = \\frac{1}{m} \\cdot \\left( -y^{T}\\log(h) - (1 - y)^{T}\\log(1 - h) \\right) $$\n",
    "\n",
    "With: \n",
    "* $\\theta$ is a vector with a dimension of $n \\times 1$ contains $\\theta_0, \\theta_1, ..., \\theta_n.$\n",
    "* $X$ is a matrix with a dimension of $m \\times n$ contains every training examples on each row.\n",
    "* $y$ is a vector with a dimension of $n \\times 1$ contains every training label on each row."
   ]
  },
  {
   "cell_type": "markdown",
   "metadata": {},
   "source": [
    "# Gradient Descent"
   ]
  },
  {
   "cell_type": "markdown",
   "metadata": {},
   "source": [
    "## **Definition**"
   ]
  },
  {
   "cell_type": "markdown",
   "metadata": {},
   "source": [
    "The algorithm is still the same:\n",
    "\n",
    "$\\text{repeat until convergence:}$ $$\\theta_j = \\theta_j - \\alpha \\frac{\\partial}{\\partial \\theta_j} J(\\theta)~~\\text{(simutaneously update all $\\theta_j$)}$$\n",
    "\n",
    "Since $$J(\\theta) = -\\frac{1}{m} \\sum_{i=1}^{m}{[y^{(i)}\\log(f_\\theta(x^{(i)})) + (1 - y^{(i)})\\log(1 - f_\\theta(x^{(i)})]}$$\n",
    "\n",
    "In which $f_\\theta(x) = g(\\theta_0 + \\theta_1x_1 + \\theta_2x_2 + ... + \\theta_nx_n)$\n",
    "\n",
    "The derivative now will be:\n",
    "$$\\frac{\\partial}{\\partial \\theta_j} J(\\theta) = \\frac{1}{m} \\sum_{i=1}^{m}{\\left[(f_\\theta(x^{(i)}) - y^{(i)})x^{(i)}_j\\right]}$$\n",
    "\n",
    "I won't prove since it is very long and confusing, but if you understand Calculus then you could prove it yourself.\n",
    "\n",
    "So the **Gradient Descent** algorithm will become:\n",
    "\n",
    "$\\text{repeat until convergence:}$ $$\\theta_j = \\theta_j - \\frac{\\alpha}{m} \\sum_{i=1}^{m}{\\left[(f_\\theta(x^{(i)}) - y^{(i)})x^{(i)}_j\\right]}~~\\text{(simutaneously update all $\\theta_j$)}$$\n",
    "\n",
    "If you take a closer look, you will see that the algorithm looks identical to **Linear Regression**!!! But it is not the same since the hypothesis in **Logistic Regression** is different from **Linear Regression**.\n",
    "\n",
    "So even though the $\\theta~-$ updating rule looks identical, it is not the same as the Gradient Descent for **Linear Regression** because the definition of the hypothesis function has changed."
   ]
  },
  {
   "cell_type": "markdown",
   "metadata": {},
   "source": [
    "## **Vectorized Implementation**"
   ]
  },
  {
   "cell_type": "markdown",
   "metadata": {},
   "source": [
    "$$\\theta = \\theta - \\frac{\\alpha}{m} X^{T} \\left( g(X\\theta) - y \\right)$$"
   ]
  },
  {
   "cell_type": "markdown",
   "metadata": {},
   "source": [
    "## **Regularized Gradient Descent for Logistic Regression**"
   ]
  },
  {
   "cell_type": "markdown",
   "metadata": {},
   "source": [
    "The principle is the same as before: add a regularizing term to the original **Cost Function** to penalize $\\theta$ parameters, and of course, we have to exclude the bias term $\\theta_0.$\n",
    "$$J(\\theta) = -\\frac{1}{m} \\sum_{i=1}^{m}{\\left[ y^{(i)}\\log(f_\\theta(x^{(i)})) + (1 - y^{(i)})\\log(1 - f_\\theta(x^{(i)})) \\right]} + \\frac{\\lambda}{2m} \\sum_{j=1}^{n}{\\theta_j^2}$$\n",
    "\n",
    "By taking partial derivative for each $\\theta_j$ and update $\\theta_0$ separately we have the regularized algorithm:\n",
    "\n",
    "$\\text{Repeat until convergence:}$\n",
    "$$\\theta_0 = \\theta_0 - \\alpha \\cdot \\frac{1}{m} \\sum_{i=1}^{n}{\\left[ (f_\\theta(x^{(i)}) - y^{(i)})x_0^{(i)} \\right]}$$\n",
    "$$\\theta_j = \\theta_j - \\alpha \\cdot \\left\\{ \\frac{1}{m} \\sum_{i=1}^{n}{\\left[ (f_\\theta(x^{(i)}) - y^{(i)})x_0^{(i)} \\right] +\\frac{\\lambda}{m} \\theta_j} \\right\\}$$"
   ]
  },
  {
   "cell_type": "markdown",
   "metadata": {},
   "source": [
    "# Other Optimization Algorithms"
   ]
  },
  {
   "cell_type": "markdown",
   "metadata": {},
   "source": [
    "Aside from **Gradient Descent**, we have other more advanced algorithms such as: **Conjugate Gradient**, **BFGS**, **L-BFGS**. One of their advantages is that it does not need to manually choose the learning rate $\\alpha.$ But these are very complex algorithms to implement. So we should use predefined function from libraries."
   ]
  },
  {
   "cell_type": "markdown",
   "metadata": {},
   "source": [
    "# Demo Model"
   ]
  },
  {
   "cell_type": "markdown",
   "metadata": {},
   "source": [
    "## **Data Preprocessing**"
   ]
  },
  {
   "cell_type": "markdown",
   "metadata": {},
   "source": [
    "### **Read input, build DataFrame and plot data points.**"
   ]
  },
  {
   "cell_type": "code",
   "execution_count": 1,
   "metadata": {},
   "outputs": [
    {
     "data": {
      "text/html": [
       "<div>\n",
       "<style scoped>\n",
       "    .dataframe tbody tr th:only-of-type {\n",
       "        vertical-align: middle;\n",
       "    }\n",
       "\n",
       "    .dataframe tbody tr th {\n",
       "        vertical-align: top;\n",
       "    }\n",
       "\n",
       "    .dataframe thead th {\n",
       "        text-align: right;\n",
       "    }\n",
       "</style>\n",
       "<table border=\"1\" class=\"dataframe\">\n",
       "  <thead>\n",
       "    <tr style=\"text-align: right;\">\n",
       "      <th></th>\n",
       "      <th>Years of Experience</th>\n",
       "      <th>Salary</th>\n",
       "      <th>Loan</th>\n",
       "    </tr>\n",
       "  </thead>\n",
       "  <tbody>\n",
       "    <tr>\n",
       "      <th>0</th>\n",
       "      <td>6.3</td>\n",
       "      <td>10702</td>\n",
       "      <td>0</td>\n",
       "    </tr>\n",
       "    <tr>\n",
       "      <th>1</th>\n",
       "      <td>4.2</td>\n",
       "      <td>11180</td>\n",
       "      <td>0</td>\n",
       "    </tr>\n",
       "    <tr>\n",
       "      <th>2</th>\n",
       "      <td>6.1</td>\n",
       "      <td>11566</td>\n",
       "      <td>0</td>\n",
       "    </tr>\n",
       "    <tr>\n",
       "      <th>3</th>\n",
       "      <td>3.3</td>\n",
       "      <td>12669</td>\n",
       "      <td>0</td>\n",
       "    </tr>\n",
       "    <tr>\n",
       "      <th>4</th>\n",
       "      <td>5.1</td>\n",
       "      <td>13055</td>\n",
       "      <td>0</td>\n",
       "    </tr>\n",
       "  </tbody>\n",
       "</table>\n",
       "</div>"
      ],
      "text/plain": [
       "   Years of Experience  Salary  Loan\n",
       "0                  6.3   10702     0\n",
       "1                  4.2   11180     0\n",
       "2                  6.1   11566     0\n",
       "3                  3.3   12669     0\n",
       "4                  5.1   13055     0"
      ]
     },
     "execution_count": 1,
     "metadata": {},
     "output_type": "execute_result"
    }
   ],
   "source": [
    "import numpy as np\n",
    "import matplotlib.pyplot as plt\n",
    "import pandas as pd         \n",
    "\n",
    "plt.rcParams[\"figure.figsize\"] = (10, 8)\n",
    "\n",
    "header_names = ['Years of Experience', 'Salary', 'Loan']\n",
    "\n",
    "df = pd.read_csv('../../Training_set/loan_salary_data.csv', names=header_names, header=0)\n",
    "\n",
    "m = len(df)\n",
    "n = len(df.columns)\n",
    "\n",
    "df.head()"
   ]
  },
  {
   "cell_type": "markdown",
   "metadata": {},
   "source": [
    "Now we implement $\\theta$ as a $3 \\times 1$ dimensions matrix, $X$ as a $m \\times 3$ dimensions matrix by adding a bias term with all $1$ and $Y$ as a $m \\times 1$ dimensions matrix."
   ]
  },
  {
   "cell_type": "code",
   "execution_count": 2,
   "metadata": {},
   "outputs": [
    {
     "name": "stdout",
     "output_type": "stream",
     "text": [
      "[[0.]\n",
      " [0.]\n",
      " [0.]]\n",
      "[[1.0000e+00 6.3000e+00 1.0702e+04]\n",
      " [1.0000e+00 4.2000e+00 1.1180e+04]\n",
      " [1.0000e+00 6.1000e+00 1.1566e+04]\n",
      " [1.0000e+00 3.3000e+00 1.2669e+04]\n",
      " [1.0000e+00 5.1000e+00 1.3055e+04]]\n",
      "[[0]\n",
      " [0]\n",
      " [0]\n",
      " [0]\n",
      " [0]]\n"
     ]
    }
   ],
   "source": [
    "data = np.array(df)\n",
    "\n",
    "X = np.array(df.iloc[:, 0:2])\n",
    "X = np.hstack((np.ones((m, 1)), X))\n",
    "y = np.array(df.iloc[:, [2]])\n",
    "\n",
    "theta = np.zeros((3, 1))\n",
    "\n",
    "print(theta)\n",
    "print(X[:5])\n",
    "print(y[:5])"
   ]
  },
  {
   "cell_type": "markdown",
   "metadata": {},
   "source": [
    "We will plot the data points onto a plot to have a better visualization."
   ]
  },
  {
   "cell_type": "code",
   "execution_count": 3,
   "metadata": {},
   "outputs": [],
   "source": [
    "def plotData(X, y): \n",
    "    positive = np.where(y == 1)\n",
    "    negative = np.where(y == 0)\n",
    "\n",
    "    plt.scatter(X[positive, -2], X[positive, -1], s=60, c='green', marker='+', )\n",
    "    plt.scatter(X[negative, -2], X[negative, -1], s=60, c='yellow', marker='o', edgecolors='black')\n",
    "    plt.xlabel('Years of Experience')\n",
    "    plt.ylabel('Salary')\n",
    "    plt.legend(['Can pay loan', 'Cannot pay loan'])"
   ]
  },
  {
   "cell_type": "code",
   "execution_count": 4,
   "metadata": {},
   "outputs": [
    {
     "data": {
      "image/png": "[encoded data removed]",
      "text/plain": [
       "<Figure size 720x576 with 1 Axes>"
      ]
     },
     "metadata": {
      "needs_background": "light"
     },
     "output_type": "display_data"
    }
   ],
   "source": [
    "plotData(X, y)"
   ]
  },
  {
   "cell_type": "markdown",
   "metadata": {},
   "source": [
    "### **Hypthesis, Sigmoid Function and Cost Function**"
   ]
  },
  {
   "cell_type": "markdown",
   "metadata": {},
   "source": [
    "### Sigmoid Function"
   ]
  },
  {
   "cell_type": "markdown",
   "metadata": {},
   "source": [
    "Recall that the hypothesis is defined as: $$f_\\theta(x) = g(\\theta^{T}X)$$\n",
    "where function $g$ is the Sigmoid Function. The Sigmoid Function is defined as:\n",
    "$$g(z) = \\frac{1}{1 + e^{-z}}$$\n",
    "So first we implement the Sigmoid Function:"
   ]
  },
  {
   "cell_type": "code",
   "execution_count": 5,
   "metadata": {},
   "outputs": [],
   "source": [
    "def sigmoid(z) :\n",
    "    return 1 / (1 + np.exp(-z))"
   ]
  },
  {
   "cell_type": "markdown",
   "metadata": {},
   "source": [
    "### Cost Function and Gradient"
   ]
  },
  {
   "cell_type": "markdown",
   "metadata": {},
   "source": [
    "Now we implement the Cost Function and Gradient for the Logistic Regression. Recall that the cost function in logistic function is:\n",
    "$$J(\\theta) = -\\frac{1}{m} \\sum_{i=1}^{m}{\\left[ y^{(i)}\\log(f_\\theta(x^{(i)})) + (1 - y^{(i)})\\log(1 - f_\\theta(x^{(i)})) \\right]},$$\n",
    "and the Gradient of the cost is a vector of the same length as $\\theta$ where $j^{th}$ (for $j \\in [0, 1, ..., n]$) is defined as:\n",
    "$$\\frac{\\partial}{\\partial \\theta_j}J(\\theta) = \\frac{1}{m} \\sum_{i=1}^{m}{\\left( f_\\theta(x^{(i)}) - y^{(i)} \\right)x^{(i)}}$$\n",
    "\n",
    "So we will define a function that return the result of the Cost Function and the matrix contains the Gradient of each $\\theta.$"
   ]
  },
  {
   "cell_type": "code",
   "execution_count": 6,
   "metadata": {},
   "outputs": [],
   "source": [
    "def costFunction(theta, X, y) :\n",
    "    m = len(y)\n",
    "    z = np.dot(X, theta)\n",
    "\n",
    "    J = np.dot(y.T, np.log(sigmoid(z)) + np.dot((1 - y).T, np.log(1 - sigmoid(z)))) / -m\n",
    "\n",
    "    grad = np.dot(X.T, sigmoid(z) - y) / m\n",
    "\n",
    "    return J, grad"
   ]
  },
  {
   "cell_type": "code",
   "execution_count": 7,
   "metadata": {},
   "outputs": [
    {
     "name": "stdout",
     "output_type": "stream",
     "text": [
      "Cost at the initial theta (zeros): 14.15753116293688\n"
     ]
    }
   ],
   "source": [
    "cost, grad = costFunction(theta, X, y)\n",
    "print('Cost at the initial theta (zeros):', cost[0][0])"
   ]
  },
  {
   "cell_type": "code",
   "execution_count": 8,
   "metadata": {},
   "outputs": [
    {
     "name": "stdout",
     "output_type": "stream",
     "text": [
      "Gradient of the initial theta: [[-3.7500000e-02]\n",
      " [-5.6375000e-01]\n",
      " [-1.0819175e+04]]\n"
     ]
    }
   ],
   "source": [
    "print('Gradient of the initial theta:', grad)"
   ]
  },
  {
   "cell_type": "markdown",
   "metadata": {},
   "source": [
    "### **Gradient Descent for Logistic Regression**"
   ]
  },
  {
   "cell_type": "markdown",
   "metadata": {},
   "source": [
    "Now we can try and use our data to plot a Decision Boundary."
   ]
  },
  {
   "cell_type": "code",
   "execution_count": 9,
   "metadata": {},
   "outputs": [],
   "source": [
    "def plotDecisionBoundary(theta, X, y) :\n",
    "    plotData(X, y)\n",
    "\n",
    "    plotX = np.array(X[:, -2].min(), X[:, -2].max())\n",
    "    plotY = \n",
    "\n",
    "    plt.plot(plotX, plotY, c='red', markersize=10)"
   ]
  },
  {
   "cell_type": "code",
   "execution_count": null,
   "metadata": {},
   "outputs": [],
   "source": [
    "plotDecisionBoundary(theta, X, y)"
   ]
  },
  {
   "cell_type": "code",
   "execution_count": 10,
   "metadata": {},
   "outputs": [],
   "source": [
    "def gradientDescent(theta, X, y, max_iterations=500, learning_rate=0.001, threshold=1e-3):\n",
    "    J_history, grad = costFunction(theta, X, y)\n",
    "\n",
    "    diff = 1e10\n",
    "    i = 0\n",
    "\n",
    "    while i < max_iterations and diff > threshold:\n",
    "        theta = theta - learning_rate * grad\n",
    "\n",
    "        J, grad = costFunction(theta, X, y)\n",
    "\n",
    "        J_history = np.hstack(J_history, J)\n",
    "\n",
    "        diff = J_history[-2] - J_history[-1]\n",
    "        i += 1\n",
    "\n",
    "    return theta, J_history"
   ]
  }
 ],
 "metadata": {
  "interpreter": {
   "hash": "f57fbe0b1856e2b4828360cd3b6d6681c33bcdd458e957abc38b45496cd84ba2"
  },
  "kernelspec": {
   "display_name": "Python 3.7.11 64-bit ('ds': conda)",
   "language": "python",
   "name": "python3"
  },
  "language_info": {
   "codemirror_mode": {
    "name": "ipython",
    "version": 3
   },
   "file_extension": ".py",
   "mimetype": "text/x-python",
   "name": "python",
   "nbconvert_exporter": "python",
   "pygments_lexer": "ipython3",
   "version": "3.7.11"
  },
  "orig_nbformat": 4
 },
 "nbformat": 4,
 "nbformat_minor": 2
}
